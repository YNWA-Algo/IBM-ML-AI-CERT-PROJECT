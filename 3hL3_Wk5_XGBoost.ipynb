{
  "cells": [
    {
      "cell_type": "markdown",
      "metadata": {
        "id": "view-in-github",
        "colab_type": "text"
      },
      "source": [
        "<a href=\"https://colab.research.google.com/github/YNWA-Algo/IBM-ML-AI-CERT-PROJECT/blob/main/3hL3_Wk5_XGBoost.ipynb\" target=\"_parent\"><img src=\"https://colab.research.google.com/assets/colab-badge.svg\" alt=\"Open In Colab\"/></a>"
      ]
    },
    {
      "cell_type": "markdown",
      "metadata": {
        "id": "215f4244-e806-4d3f-9379-3497effb2175"
      },
      "source": [
        "<center>\n",
        "    <img src=\"https://cf-courses-data.s3.us.cloud-object-storage.appdomain.cloud/IBMDeveloperSkillsNetwork-ML0101EN-SkillsNetwork/labs/Module%203/images/IDSNlogo.png\" width=\"300\" alt=\"cognitiveclass.ai logo\">\n",
        "</center>\n",
        "\n",
        "# Gradient Boosting  for classification with Python\n",
        "\n",
        "Estimated time needed: **1.45** hours\n"
      ]
    },
    {
      "cell_type": "markdown",
      "metadata": {
        "id": "1bbf98e5-15b7-464f-ae32-f1bb2ecb8e18"
      },
      "source": [
        "In this notebook, you will learn Gradient Boosting for classification; AdaBoost is a particular case of Gradient Boosting and an additive model where we add weak learners to minimize the loss function. This lab will focus on <a href=\"https://xgboost.readthedocs.io/en/stable/?utm_medium=Exinfluencer&utm_source=Exinfluencer&utm_content=000026UJ&utm_term=10006555&utm_id=NA-SkillsNetwork-Channel-SkillsNetworkCoursesIBMML241ENSkillsNetwork31576874-2022-01-01\">XGBoost</a>, an open-source software library that provides a regularizing gradient boosting framework.  XGBoost can use different types of weak learners called boosters for classification and regression. We will focus on trees for classification.\n"
      ]
    },
    {
      "cell_type": "markdown",
      "metadata": {
        "id": "9068e878-1cd6-46fc-aa02-7051e7d42406"
      },
      "source": [
        "Unlike Bagging and Random Forest, Gradient Boosting can cause overfitting. As a result, Gradient Boosting requires Hyperparameter tuning, taking more time to train. One advantage of Gradient Boosting is that each classifier is smaller, so predictions are faster in Gradient Boosting.\n",
        "AdaBoost is a subclass of Gradient Boosting; one weakness of AdaBoost is that misclassified samples cause overfitting; Gradient Boosting uses different loss functions, reducing this effect.\n",
        "The following table show's the Average accuracy and standard deviation for the Random Forest (RF), gradient boosting (GB) and XGBoost, both using the default (D) and (T) tuned parameter settings, we see that XGBoost does best, followed by GB outperforming the other methods.\n"
      ]
    },
    {
      "cell_type": "markdown",
      "metadata": {
        "id": "bf144b04-7318-4f27-a6ed-d981da966566"
      },
      "source": [
        "<html xmlns:v=\"urn:schemas-microsoft-com:vml\"\n",
        "xmlns:o=\"urn:schemas-microsoft-com:office:office\"\n",
        "xmlns:w=\"urn:schemas-microsoft-com:office:word\"\n",
        "xmlns:x=\"urn:schemas-microsoft-com:office:excel\"\n",
        "xmlns:m=\"http://schemas.microsoft.com/office/2004/12/omml\"\n",
        "xmlns=\"http://www.w3.org/TR/REC-html40\">\n",
        "\n",
        "<head>\n",
        "<meta http-equiv=Content-Type content=\"text/html; charset=utf-8\">\n",
        "<meta name=ProgId content=Word.Document>\n",
        "<meta name=Generator content=\"Microsoft Word 15\">\n",
        "<meta name=Originator content=\"Microsoft Word 15\">\n",
        "<link rel=File-List href=\"Dataset.fld/filelist.xml\">\n",
        "<!--[if gte mso 9]><xml>\n",
        " <o:DocumentProperties>\n",
        "  <o:Author>Joseph Santarcangelo</o:Author>\n",
        "  <o:LastAuthor>Joseph Santarcangelo</o:LastAuthor>\n",
        "  <o:Revision>1</o:Revision>\n",
        "  <o:TotalTime>5</o:TotalTime>\n",
        "  <o:Created>2022-03-13T04:19:00Z</o:Created>\n",
        "  <o:LastSaved>2022-03-13T22:02:00Z</o:LastSaved>\n",
        "  <o:Pages>1</o:Pages>\n",
        "  <o:Words>347</o:Words>\n",
        "  <o:Characters>1984</o:Characters>\n",
        "  <o:Lines>16</o:Lines>\n",
        "  <o:Paragraphs>4</o:Paragraphs>\n",
        "  <o:CharactersWithSpaces>2327</o:CharactersWithSpaces>\n",
        "  <o:Version>16.00</o:Version>\n",
        " </o:DocumentProperties>\n",
        " <o:OfficeDocumentSettings>\n",
        "  <o:AllowPNG/>\n",
        " </o:OfficeDocumentSettings>\n",
        "</xml><![endif]-->\n",
        "<link rel=themeData href=\"Dataset.fld/themedata.thmx\">\n",
        "<link rel=colorSchemeMapping href=\"Dataset.fld/colorschememapping.xml\">\n",
        "<!--[if gte mso 9]><xml>\n",
        " <w:WordDocument>\n",
        "  <w:SpellingState>Clean</w:SpellingState>\n",
        "  <w:GrammarState>Clean</w:GrammarState>\n",
        "  <w:TrackMoves>false</w:TrackMoves>\n",
        "  <w:TrackFormatting/>\n",
        "  <w:PunctuationKerning/>\n",
        "  <w:ValidateAgainstSchemas/>\n",
        "  <w:SaveIfXMLInvalid>false</w:SaveIfXMLInvalid>\n",
        "  <w:IgnoreMixedContent>false</w:IgnoreMixedContent>\n",
        "  <w:AlwaysShowPlaceholderText>false</w:AlwaysShowPlaceholderText>\n",
        "  <w:DoNotPromoteQF/>\n",
        "  <w:LidThemeOther>EN-CA</w:LidThemeOther>\n",
        "  <w:LidThemeAsian>X-NONE</w:LidThemeAsian>\n",
        "  <w:LidThemeComplexScript>X-NONE</w:LidThemeComplexScript>\n",
        "  <w:Compatibility>\n",
        "   <w:BreakWrappedTables/>\n",
        "   <w:SnapToGridInCell/>\n",
        "   <w:WrapTextWithPunct/>\n",
        "   <w:UseAsianBreakRules/>\n",
        "   <w:DontGrowAutofit/>\n",
        "   <w:SplitPgBreakAndParaMark/>\n",
        "   <w:EnableOpenTypeKerning/>\n",
        "   <w:DontFlipMirrorIndents/>\n",
        "   <w:OverrideTableStyleHps/>\n",
        "  </w:Compatibility>\n",
        "  <m:mathPr>\n",
        "   <m:mathFont m:val=\"Cambria Math\"/>\n",
        "   <m:brkBin m:val=\"before\"/>\n",
        "   <m:brkBinSub m:val=\"&#45;-\"/>\n",
        "   <m:smallFrac m:val=\"off\"/>\n",
        "   <m:dispDef/>\n",
        "   <m:lMargin m:val=\"0\"/>\n",
        "   <m:rMargin m:val=\"0\"/>\n",
        "   <m:defJc m:val=\"centerGroup\"/>\n",
        "   <m:wrapIndent m:val=\"1440\"/>\n",
        "   <m:intLim m:val=\"subSup\"/>\n",
        "   <m:naryLim m:val=\"undOvr\"/>\n",
        "  </m:mathPr></w:WordDocument>\n",
        "</xml><![endif]--><!--[if gte mso 9]><xml>\n",
        " <w:LatentStyles DefLockedState=\"false\" DefUnhideWhenUsed=\"false\"\n",
        "  DefSemiHidden=\"false\" DefQFormat=\"false\" DefPriority=\"99\"\n",
        "  LatentStyleCount=\"376\">\n",
        "  <w:LsdException Locked=\"false\" Priority=\"0\" QFormat=\"true\" Name=\"Normal\"/>\n",
        "  <w:LsdException Locked=\"false\" Priority=\"9\" QFormat=\"true\" Name=\"heading 1\"/>\n",
        "  <w:LsdException Locked=\"false\" Priority=\"9\" SemiHidden=\"true\"\n",
        "   UnhideWhenUsed=\"true\" QFormat=\"true\" Name=\"heading 2\"/>\n",
        "  <w:LsdException Locked=\"false\" Priority=\"9\" SemiHidden=\"true\"\n",
        "   UnhideWhenUsed=\"true\" QFormat=\"true\" Name=\"heading 3\"/>\n",
        "  <w:LsdException Locked=\"false\" Priority=\"9\" SemiHidden=\"true\"\n",
        "   UnhideWhenUsed=\"true\" QFormat=\"true\" Name=\"heading 4\"/>\n",
        "  <w:LsdException Locked=\"false\" Priority=\"9\" SemiHidden=\"true\"\n",
        "   UnhideWhenUsed=\"true\" QFormat=\"true\" Name=\"heading 5\"/>\n",
        "  <w:LsdException Locked=\"false\" Priority=\"9\" SemiHidden=\"true\"\n",
        "   UnhideWhenUsed=\"true\" QFormat=\"true\" Name=\"heading 6\"/>\n",
        "  <w:LsdException Locked=\"false\" Priority=\"9\" SemiHidden=\"true\"\n",
        "   UnhideWhenUsed=\"true\" QFormat=\"true\" Name=\"heading 7\"/>\n",
        "  <w:LsdException Locked=\"false\" Priority=\"9\" SemiHidden=\"true\"\n",
        "   UnhideWhenUsed=\"true\" QFormat=\"true\" Name=\"heading 8\"/>\n",
        "  <w:LsdException Locked=\"false\" Priority=\"9\" SemiHidden=\"true\"\n",
        "   UnhideWhenUsed=\"true\" QFormat=\"true\" Name=\"heading 9\"/>\n",
        "  <w:LsdException Locked=\"false\" SemiHidden=\"true\" UnhideWhenUsed=\"true\"\n",
        "   Name=\"index 1\"/>\n",
        "  <w:LsdException Locked=\"false\" SemiHidden=\"true\" UnhideWhenUsed=\"true\"\n",
        "   Name=\"index 2\"/>\n",
        "  <w:LsdException Locked=\"false\" SemiHidden=\"true\" UnhideWhenUsed=\"true\"\n",
        "   Name=\"index 3\"/>\n",
        "  <w:LsdException Locked=\"false\" SemiHidden=\"true\" UnhideWhenUsed=\"true\"\n",
        "   Name=\"index 4\"/>\n",
        "  <w:LsdException Locked=\"false\" SemiHidden=\"true\" UnhideWhenUsed=\"true\"\n",
        "   Name=\"index 5\"/>\n",
        "  <w:LsdException Locked=\"false\" SemiHidden=\"true\" UnhideWhenUsed=\"true\"\n",
        "   Name=\"index 6\"/>\n",
        "  <w:LsdException Locked=\"false\" SemiHidden=\"true\" UnhideWhenUsed=\"true\"\n",
        "   Name=\"index 7\"/>\n",
        "  <w:LsdException Locked=\"false\" SemiHidden=\"true\" UnhideWhenUsed=\"true\"\n",
        "   Name=\"index 8\"/>\n",
        "  <w:LsdException Locked=\"false\" SemiHidden=\"true\" UnhideWhenUsed=\"true\"\n",
        "   Name=\"index 9\"/>\n",
        "  <w:LsdException Locked=\"false\" Priority=\"39\" SemiHidden=\"true\"\n",
        "   UnhideWhenUsed=\"true\" Name=\"toc 1\"/>\n",
        "  <w:LsdException Locked=\"false\" Priority=\"39\" SemiHidden=\"true\"\n",
        "   UnhideWhenUsed=\"true\" Name=\"toc 2\"/>\n",
        "  <w:LsdException Locked=\"false\" Priority=\"39\" SemiHidden=\"true\"\n",
        "   UnhideWhenUsed=\"true\" Name=\"toc 3\"/>\n",
        "  <w:LsdException Locked=\"false\" Priority=\"39\" SemiHidden=\"true\"\n",
        "   UnhideWhenUsed=\"true\" Name=\"toc 4\"/>\n",
        "  <w:LsdException Locked=\"false\" Priority=\"39\" SemiHidden=\"true\"\n",
        "   UnhideWhenUsed=\"true\" Name=\"toc 5\"/>\n",
        "  <w:LsdException Locked=\"false\" Priority=\"39\" SemiHidden=\"true\"\n",
        "   UnhideWhenUsed=\"true\" Name=\"toc 6\"/>\n",
        "  <w:LsdException Locked=\"false\" Priority=\"39\" SemiHidden=\"true\"\n",
        "   UnhideWhenUsed=\"true\" Name=\"toc 7\"/>\n",
        "  <w:LsdException Locked=\"false\" Priority=\"39\" SemiHidden=\"true\"\n",
        "   UnhideWhenUsed=\"true\" Name=\"toc 8\"/>\n",
        "  <w:LsdException Locked=\"false\" Priority=\"39\" SemiHidden=\"true\"\n",
        "   UnhideWhenUsed=\"true\" Name=\"toc 9\"/>\n",
        "  <w:LsdException Locked=\"false\" SemiHidden=\"true\" UnhideWhenUsed=\"true\"\n",
        "   Name=\"Normal Indent\"/>\n",
        "  <w:LsdException Locked=\"false\" SemiHidden=\"true\" UnhideWhenUsed=\"true\"\n",
        "   Name=\"footnote text\"/>\n",
        "  <w:LsdException Locked=\"false\" SemiHidden=\"true\" UnhideWhenUsed=\"true\"\n",
        "   Name=\"annotation text\"/>\n",
        "  <w:LsdException Locked=\"false\" SemiHidden=\"true\" UnhideWhenUsed=\"true\"\n",
        "   Name=\"header\"/>\n",
        "  <w:LsdException Locked=\"false\" SemiHidden=\"true\" UnhideWhenUsed=\"true\"\n",
        "   Name=\"footer\"/>\n",
        "  <w:LsdException Locked=\"false\" SemiHidden=\"true\" UnhideWhenUsed=\"true\"\n",
        "   Name=\"index heading\"/>\n",
        "  <w:LsdException Locked=\"false\" Priority=\"35\" SemiHidden=\"true\"\n",
        "   UnhideWhenUsed=\"true\" QFormat=\"true\" Name=\"caption\"/>\n",
        "  <w:LsdException Locked=\"false\" SemiHidden=\"true\" UnhideWhenUsed=\"true\"\n",
        "   Name=\"table of figures\"/>\n",
        "  <w:LsdException Locked=\"false\" SemiHidden=\"true\" UnhideWhenUsed=\"true\"\n",
        "   Name=\"envelope address\"/>\n",
        "  <w:LsdException Locked=\"false\" SemiHidden=\"true\" UnhideWhenUsed=\"true\"\n",
        "   Name=\"envelope return\"/>\n",
        "  <w:LsdException Locked=\"false\" SemiHidden=\"true\" UnhideWhenUsed=\"true\"\n",
        "   Name=\"footnote reference\"/>\n",
        "  <w:LsdException Locked=\"false\" SemiHidden=\"true\" UnhideWhenUsed=\"true\"\n",
        "   Name=\"annotation reference\"/>\n",
        "  <w:LsdException Locked=\"false\" SemiHidden=\"true\" UnhideWhenUsed=\"true\"\n",
        "   Name=\"line number\"/>\n",
        "  <w:LsdException Locked=\"false\" SemiHidden=\"true\" UnhideWhenUsed=\"true\"\n",
        "   Name=\"page number\"/>\n",
        "  <w:LsdException Locked=\"false\" SemiHidden=\"true\" UnhideWhenUsed=\"true\"\n",
        "   Name=\"endnote reference\"/>\n",
        "  <w:LsdException Locked=\"false\" SemiHidden=\"true\" UnhideWhenUsed=\"true\"\n",
        "   Name=\"endnote text\"/>\n",
        "  <w:LsdException Locked=\"false\" SemiHidden=\"true\" UnhideWhenUsed=\"true\"\n",
        "   Name=\"table of authorities\"/>\n",
        "  <w:LsdException Locked=\"false\" SemiHidden=\"true\" UnhideWhenUsed=\"true\"\n",
        "   Name=\"macro\"/>\n",
        "  <w:LsdException Locked=\"false\" SemiHidden=\"true\" UnhideWhenUsed=\"true\"\n",
        "   Name=\"toa heading\"/>\n",
        "  <w:LsdException Locked=\"false\" SemiHidden=\"true\" UnhideWhenUsed=\"true\"\n",
        "   Name=\"List\"/>\n",
        "  <w:LsdException Locked=\"false\" SemiHidden=\"true\" UnhideWhenUsed=\"true\"\n",
        "   Name=\"List Bullet\"/>\n",
        "  <w:LsdException Locked=\"false\" SemiHidden=\"true\" UnhideWhenUsed=\"true\"\n",
        "   Name=\"List Number\"/>\n",
        "  <w:LsdException Locked=\"false\" SemiHidden=\"true\" UnhideWhenUsed=\"true\"\n",
        "   Name=\"List 2\"/>\n",
        "  <w:LsdException Locked=\"false\" SemiHidden=\"true\" UnhideWhenUsed=\"true\"\n",
        "   Name=\"List 3\"/>\n",
        "  <w:LsdException Locked=\"false\" SemiHidden=\"true\" UnhideWhenUsed=\"true\"\n",
        "   Name=\"List 4\"/>\n",
        "  <w:LsdException Locked=\"false\" SemiHidden=\"true\" UnhideWhenUsed=\"true\"\n",
        "   Name=\"List 5\"/>\n",
        "  <w:LsdException Locked=\"false\" SemiHidden=\"true\" UnhideWhenUsed=\"true\"\n",
        "   Name=\"List Bullet 2\"/>\n",
        "  <w:LsdException Locked=\"false\" SemiHidden=\"true\" UnhideWhenUsed=\"true\"\n",
        "   Name=\"List Bullet 3\"/>\n",
        "  <w:LsdException Locked=\"false\" SemiHidden=\"true\" UnhideWhenUsed=\"true\"\n",
        "   Name=\"List Bullet 4\"/>\n",
        "  <w:LsdException Locked=\"false\" SemiHidden=\"true\" UnhideWhenUsed=\"true\"\n",
        "   Name=\"List Bullet 5\"/>\n",
        "  <w:LsdException Locked=\"false\" SemiHidden=\"true\" UnhideWhenUsed=\"true\"\n",
        "   Name=\"List Number 2\"/>\n",
        "  <w:LsdException Locked=\"false\" SemiHidden=\"true\" UnhideWhenUsed=\"true\"\n",
        "   Name=\"List Number 3\"/>\n",
        "  <w:LsdException Locked=\"false\" SemiHidden=\"true\" UnhideWhenUsed=\"true\"\n",
        "   Name=\"List Number 4\"/>\n",
        "  <w:LsdException Locked=\"false\" SemiHidden=\"true\" UnhideWhenUsed=\"true\"\n",
        "   Name=\"List Number 5\"/>\n",
        "  <w:LsdException Locked=\"false\" Priority=\"10\" QFormat=\"true\" Name=\"Title\"/>\n",
        "  <w:LsdException Locked=\"false\" SemiHidden=\"true\" UnhideWhenUsed=\"true\"\n",
        "   Name=\"Closing\"/>\n",
        "  <w:LsdException Locked=\"false\" SemiHidden=\"true\" UnhideWhenUsed=\"true\"\n",
        "   Name=\"Signature\"/>\n",
        "  <w:LsdException Locked=\"false\" Priority=\"1\" SemiHidden=\"true\"\n",
        "   UnhideWhenUsed=\"true\" Name=\"Default Paragraph Font\"/>\n",
        "  <w:LsdException Locked=\"false\" SemiHidden=\"true\" UnhideWhenUsed=\"true\"\n",
        "   Name=\"Body Text\"/>\n",
        "  <w:LsdException Locked=\"false\" SemiHidden=\"true\" UnhideWhenUsed=\"true\"\n",
        "   Name=\"Body Text Indent\"/>\n",
        "  <w:LsdException Locked=\"false\" SemiHidden=\"true\" UnhideWhenUsed=\"true\"\n",
        "   Name=\"List Continue\"/>\n",
        "  <w:LsdException Locked=\"false\" SemiHidden=\"true\" UnhideWhenUsed=\"true\"\n",
        "   Name=\"List Continue 2\"/>\n",
        "  <w:LsdException Locked=\"false\" SemiHidden=\"true\" UnhideWhenUsed=\"true\"\n",
        "   Name=\"List Continue 3\"/>\n",
        "  <w:LsdException Locked=\"false\" SemiHidden=\"true\" UnhideWhenUsed=\"true\"\n",
        "   Name=\"List Continue 4\"/>\n",
        "  <w:LsdException Locked=\"false\" SemiHidden=\"true\" UnhideWhenUsed=\"true\"\n",
        "   Name=\"List Continue 5\"/>\n",
        "  <w:LsdException Locked=\"false\" SemiHidden=\"true\" UnhideWhenUsed=\"true\"\n",
        "   Name=\"Message Header\"/>\n",
        "  <w:LsdException Locked=\"false\" Priority=\"11\" QFormat=\"true\" Name=\"Subtitle\"/>\n",
        "  <w:LsdException Locked=\"false\" SemiHidden=\"true\" UnhideWhenUsed=\"true\"\n",
        "   Name=\"Salutation\"/>\n",
        "  <w:LsdException Locked=\"false\" SemiHidden=\"true\" UnhideWhenUsed=\"true\"\n",
        "   Name=\"Date\"/>\n",
        "  <w:LsdException Locked=\"false\" SemiHidden=\"true\" UnhideWhenUsed=\"true\"\n",
        "   Name=\"Body Text First Indent\"/>\n",
        "  <w:LsdException Locked=\"false\" SemiHidden=\"true\" UnhideWhenUsed=\"true\"\n",
        "   Name=\"Body Text First Indent 2\"/>\n",
        "  <w:LsdException Locked=\"false\" SemiHidden=\"true\" UnhideWhenUsed=\"true\"\n",
        "   Name=\"Note Heading\"/>\n",
        "  <w:LsdException Locked=\"false\" SemiHidden=\"true\" UnhideWhenUsed=\"true\"\n",
        "   Name=\"Body Text 2\"/>\n",
        "  <w:LsdException Locked=\"false\" SemiHidden=\"true\" UnhideWhenUsed=\"true\"\n",
        "   Name=\"Body Text 3\"/>\n",
        "  <w:LsdException Locked=\"false\" SemiHidden=\"true\" UnhideWhenUsed=\"true\"\n",
        "   Name=\"Body Text Indent 2\"/>\n",
        "  <w:LsdException Locked=\"false\" SemiHidden=\"true\" UnhideWhenUsed=\"true\"\n",
        "   Name=\"Body Text Indent 3\"/>\n",
        "  <w:LsdException Locked=\"false\" SemiHidden=\"true\" UnhideWhenUsed=\"true\"\n",
        "   Name=\"Block Text\"/>\n",
        "  <w:LsdException Locked=\"false\" SemiHidden=\"true\" UnhideWhenUsed=\"true\"\n",
        "   Name=\"Hyperlink\"/>\n",
        "  <w:LsdException Locked=\"false\" SemiHidden=\"true\" UnhideWhenUsed=\"true\"\n",
        "   Name=\"FollowedHyperlink\"/>\n",
        "  <w:LsdException Locked=\"false\" Priority=\"22\" QFormat=\"true\" Name=\"Strong\"/>\n",
        "  <w:LsdException Locked=\"false\" Priority=\"20\" QFormat=\"true\" Name=\"Emphasis\"/>\n",
        "  <w:LsdException Locked=\"false\" SemiHidden=\"true\" UnhideWhenUsed=\"true\"\n",
        "   Name=\"Document Map\"/>\n",
        "  <w:LsdException Locked=\"false\" SemiHidden=\"true\" UnhideWhenUsed=\"true\"\n",
        "   Name=\"Plain Text\"/>\n",
        "  <w:LsdException Locked=\"false\" SemiHidden=\"true\" UnhideWhenUsed=\"true\"\n",
        "   Name=\"E-mail Signature\"/>\n",
        "  <w:LsdException Locked=\"false\" SemiHidden=\"true\" UnhideWhenUsed=\"true\"\n",
        "   Name=\"HTML Top of Form\"/>\n",
        "  <w:LsdException Locked=\"false\" SemiHidden=\"true\" UnhideWhenUsed=\"true\"\n",
        "   Name=\"HTML Bottom of Form\"/>\n",
        "  <w:LsdException Locked=\"false\" SemiHidden=\"true\" UnhideWhenUsed=\"true\"\n",
        "   Name=\"Normal (Web)\"/>\n",
        "  <w:LsdException Locked=\"false\" SemiHidden=\"true\" UnhideWhenUsed=\"true\"\n",
        "   Name=\"HTML Acronym\"/>\n",
        "  <w:LsdException Locked=\"false\" SemiHidden=\"true\" UnhideWhenUsed=\"true\"\n",
        "   Name=\"HTML Address\"/>\n",
        "  <w:LsdException Locked=\"false\" SemiHidden=\"true\" UnhideWhenUsed=\"true\"\n",
        "   Name=\"HTML Cite\"/>\n",
        "  <w:LsdException Locked=\"false\" SemiHidden=\"true\" UnhideWhenUsed=\"true\"\n",
        "   Name=\"HTML Code\"/>\n",
        "  <w:LsdException Locked=\"false\" SemiHidden=\"true\" UnhideWhenUsed=\"true\"\n",
        "   Name=\"HTML Definition\"/>\n",
        "  <w:LsdException Locked=\"false\" SemiHidden=\"true\" UnhideWhenUsed=\"true\"\n",
        "   Name=\"HTML Keyboard\"/>\n",
        "  <w:LsdException Locked=\"false\" SemiHidden=\"true\" UnhideWhenUsed=\"true\"\n",
        "   Name=\"HTML Preformatted\"/>\n",
        "  <w:LsdException Locked=\"false\" SemiHidden=\"true\" UnhideWhenUsed=\"true\"\n",
        "   Name=\"HTML Sample\"/>\n",
        "  <w:LsdException Locked=\"false\" SemiHidden=\"true\" UnhideWhenUsed=\"true\"\n",
        "   Name=\"HTML Typewriter\"/>\n",
        "  <w:LsdException Locked=\"false\" SemiHidden=\"true\" UnhideWhenUsed=\"true\"\n",
        "   Name=\"HTML Variable\"/>\n",
        "  <w:LsdException Locked=\"false\" SemiHidden=\"true\" UnhideWhenUsed=\"true\"\n",
        "   Name=\"Normal Table\"/>\n",
        "  <w:LsdException Locked=\"false\" SemiHidden=\"true\" UnhideWhenUsed=\"true\"\n",
        "   Name=\"annotation subject\"/>\n",
        "  <w:LsdException Locked=\"false\" SemiHidden=\"true\" UnhideWhenUsed=\"true\"\n",
        "   Name=\"No List\"/>\n",
        "  <w:LsdException Locked=\"false\" SemiHidden=\"true\" UnhideWhenUsed=\"true\"\n",
        "   Name=\"Outline List 1\"/>\n",
        "  <w:LsdException Locked=\"false\" SemiHidden=\"true\" UnhideWhenUsed=\"true\"\n",
        "   Name=\"Outline List 2\"/>\n",
        "  <w:LsdException Locked=\"false\" SemiHidden=\"true\" UnhideWhenUsed=\"true\"\n",
        "   Name=\"Outline List 3\"/>\n",
        "  <w:LsdException Locked=\"false\" SemiHidden=\"true\" UnhideWhenUsed=\"true\"\n",
        "   Name=\"Table Simple 1\"/>\n",
        "  <w:LsdException Locked=\"false\" SemiHidden=\"true\" UnhideWhenUsed=\"true\"\n",
        "   Name=\"Table Simple 2\"/>\n",
        "  <w:LsdException Locked=\"false\" SemiHidden=\"true\" UnhideWhenUsed=\"true\"\n",
        "   Name=\"Table Simple 3\"/>\n",
        "  <w:LsdException Locked=\"false\" SemiHidden=\"true\" UnhideWhenUsed=\"true\"\n",
        "   Name=\"Table Classic 1\"/>\n",
        "  <w:LsdException Locked=\"false\" SemiHidden=\"true\" UnhideWhenUsed=\"true\"\n",
        "   Name=\"Table Classic 2\"/>\n",
        "  <w:LsdException Locked=\"false\" SemiHidden=\"true\" UnhideWhenUsed=\"true\"\n",
        "   Name=\"Table Classic 3\"/>\n",
        "  <w:LsdException Locked=\"false\" SemiHidden=\"true\" UnhideWhenUsed=\"true\"\n",
        "   Name=\"Table Classic 4\"/>\n",
        "  <w:LsdException Locked=\"false\" SemiHidden=\"true\" UnhideWhenUsed=\"true\"\n",
        "   Name=\"Table Colorful 1\"/>\n",
        "  <w:LsdException Locked=\"false\" SemiHidden=\"true\" UnhideWhenUsed=\"true\"\n",
        "   Name=\"Table Colorful 2\"/>\n",
        "  <w:LsdException Locked=\"false\" SemiHidden=\"true\" UnhideWhenUsed=\"true\"\n",
        "   Name=\"Table Colorful 3\"/>\n",
        "  <w:LsdException Locked=\"false\" SemiHidden=\"true\" UnhideWhenUsed=\"true\"\n",
        "   Name=\"Table Columns 1\"/>\n",
        "  <w:LsdException Locked=\"false\" SemiHidden=\"true\" UnhideWhenUsed=\"true\"\n",
        "   Name=\"Table Columns 2\"/>\n",
        "  <w:LsdException Locked=\"false\" SemiHidden=\"true\" UnhideWhenUsed=\"true\"\n",
        "   Name=\"Table Columns 3\"/>\n",
        "  <w:LsdException Locked=\"false\" SemiHidden=\"true\" UnhideWhenUsed=\"true\"\n",
        "   Name=\"Table Columns 4\"/>\n",
        "  <w:LsdException Locked=\"false\" SemiHidden=\"true\" UnhideWhenUsed=\"true\"\n",
        "   Name=\"Table Columns 5\"/>\n",
        "  <w:LsdException Locked=\"false\" SemiHidden=\"true\" UnhideWhenUsed=\"true\"\n",
        "   Name=\"Table Grid 1\"/>\n",
        "  <w:LsdException Locked=\"false\" SemiHidden=\"true\" UnhideWhenUsed=\"true\"\n",
        "   Name=\"Table Grid 2\"/>\n",
        "  <w:LsdException Locked=\"false\" SemiHidden=\"true\" UnhideWhenUsed=\"true\"\n",
        "   Name=\"Table Grid 3\"/>\n",
        "  <w:LsdException Locked=\"false\" SemiHidden=\"true\" UnhideWhenUsed=\"true\"\n",
        "   Name=\"Table Grid 4\"/>\n",
        "  <w:LsdException Locked=\"false\" SemiHidden=\"true\" UnhideWhenUsed=\"true\"\n",
        "   Name=\"Table Grid 5\"/>\n",
        "  <w:LsdException Locked=\"false\" SemiHidden=\"true\" UnhideWhenUsed=\"true\"\n",
        "   Name=\"Table Grid 6\"/>\n",
        "  <w:LsdException Locked=\"false\" SemiHidden=\"true\" UnhideWhenUsed=\"true\"\n",
        "   Name=\"Table Grid 7\"/>\n",
        "  <w:LsdException Locked=\"false\" SemiHidden=\"true\" UnhideWhenUsed=\"true\"\n",
        "   Name=\"Table Grid 8\"/>\n",
        "  <w:LsdException Locked=\"false\" SemiHidden=\"true\" UnhideWhenUsed=\"true\"\n",
        "   Name=\"Table List 1\"/>\n",
        "  <w:LsdException Locked=\"false\" SemiHidden=\"true\" UnhideWhenUsed=\"true\"\n",
        "   Name=\"Table List 2\"/>\n",
        "  <w:LsdException Locked=\"false\" SemiHidden=\"true\" UnhideWhenUsed=\"true\"\n",
        "   Name=\"Table List 3\"/>\n",
        "  <w:LsdException Locked=\"false\" SemiHidden=\"true\" UnhideWhenUsed=\"true\"\n",
        "   Name=\"Table List 4\"/>\n",
        "  <w:LsdException Locked=\"false\" SemiHidden=\"true\" UnhideWhenUsed=\"true\"\n",
        "   Name=\"Table List 5\"/>\n",
        "  <w:LsdException Locked=\"false\" SemiHidden=\"true\" UnhideWhenUsed=\"true\"\n",
        "   Name=\"Table List 6\"/>\n",
        "  <w:LsdException Locked=\"false\" SemiHidden=\"true\" UnhideWhenUsed=\"true\"\n",
        "   Name=\"Table List 7\"/>\n",
        "  <w:LsdException Locked=\"false\" SemiHidden=\"true\" UnhideWhenUsed=\"true\"\n",
        "   Name=\"Table List 8\"/>\n",
        "  <w:LsdException Locked=\"false\" SemiHidden=\"true\" UnhideWhenUsed=\"true\"\n",
        "   Name=\"Table 3D effects 1\"/>\n",
        "  <w:LsdException Locked=\"false\" SemiHidden=\"true\" UnhideWhenUsed=\"true\"\n",
        "   Name=\"Table 3D effects 2\"/>\n",
        "  <w:LsdException Locked=\"false\" SemiHidden=\"true\" UnhideWhenUsed=\"true\"\n",
        "   Name=\"Table 3D effects 3\"/>\n",
        "  <w:LsdException Locked=\"false\" SemiHidden=\"true\" UnhideWhenUsed=\"true\"\n",
        "   Name=\"Table Contemporary\"/>\n",
        "  <w:LsdException Locked=\"false\" SemiHidden=\"true\" UnhideWhenUsed=\"true\"\n",
        "   Name=\"Table Elegant\"/>\n",
        "  <w:LsdException Locked=\"false\" SemiHidden=\"true\" UnhideWhenUsed=\"true\"\n",
        "   Name=\"Table Professional\"/>\n",
        "  <w:LsdException Locked=\"false\" SemiHidden=\"true\" UnhideWhenUsed=\"true\"\n",
        "   Name=\"Table Subtle 1\"/>\n",
        "  <w:LsdException Locked=\"false\" SemiHidden=\"true\" UnhideWhenUsed=\"true\"\n",
        "   Name=\"Table Subtle 2\"/>\n",
        "  <w:LsdException Locked=\"false\" SemiHidden=\"true\" UnhideWhenUsed=\"true\"\n",
        "   Name=\"Table Web 1\"/>\n",
        "  <w:LsdException Locked=\"false\" SemiHidden=\"true\" UnhideWhenUsed=\"true\"\n",
        "   Name=\"Table Web 2\"/>\n",
        "  <w:LsdException Locked=\"false\" SemiHidden=\"true\" UnhideWhenUsed=\"true\"\n",
        "   Name=\"Table Web 3\"/>\n",
        "  <w:LsdException Locked=\"false\" SemiHidden=\"true\" UnhideWhenUsed=\"true\"\n",
        "   Name=\"Balloon Text\"/>\n",
        "  <w:LsdException Locked=\"false\" Priority=\"39\" Name=\"Table Grid\"/>\n",
        "  <w:LsdException Locked=\"false\" SemiHidden=\"true\" UnhideWhenUsed=\"true\"\n",
        "   Name=\"Table Theme\"/>\n",
        "  <w:LsdException Locked=\"false\" SemiHidden=\"true\" Name=\"Placeholder Text\"/>\n",
        "  <w:LsdException Locked=\"false\" Priority=\"1\" QFormat=\"true\" Name=\"No Spacing\"/>\n",
        "  <w:LsdException Locked=\"false\" Priority=\"60\" Name=\"Light Shading\"/>\n",
        "  <w:LsdException Locked=\"false\" Priority=\"61\" Name=\"Light List\"/>\n",
        "  <w:LsdException Locked=\"false\" Priority=\"62\" Name=\"Light Grid\"/>\n",
        "  <w:LsdException Locked=\"false\" Priority=\"63\" Name=\"Medium Shading 1\"/>\n",
        "  <w:LsdException Locked=\"false\" Priority=\"64\" Name=\"Medium Shading 2\"/>\n",
        "  <w:LsdException Locked=\"false\" Priority=\"65\" Name=\"Medium List 1\"/>\n",
        "  <w:LsdException Locked=\"false\" Priority=\"66\" Name=\"Medium List 2\"/>\n",
        "  <w:LsdException Locked=\"false\" Priority=\"67\" Name=\"Medium Grid 1\"/>\n",
        "  <w:LsdException Locked=\"false\" Priority=\"68\" Name=\"Medium Grid 2\"/>\n",
        "  <w:LsdException Locked=\"false\" Priority=\"69\" Name=\"Medium Grid 3\"/>\n",
        "  <w:LsdException Locked=\"false\" Priority=\"70\" Name=\"Dark List\"/>\n",
        "  <w:LsdException Locked=\"false\" Priority=\"71\" Name=\"Colorful Shading\"/>\n",
        "  <w:LsdException Locked=\"false\" Priority=\"72\" Name=\"Colorful List\"/>\n",
        "  <w:LsdException Locked=\"false\" Priority=\"73\" Name=\"Colorful Grid\"/>\n",
        "  <w:LsdException Locked=\"false\" Priority=\"60\" Name=\"Light Shading Accent 1\"/>\n",
        "  <w:LsdException Locked=\"false\" Priority=\"61\" Name=\"Light List Accent 1\"/>\n",
        "  <w:LsdException Locked=\"false\" Priority=\"62\" Name=\"Light Grid Accent 1\"/>\n",
        "  <w:LsdException Locked=\"false\" Priority=\"63\" Name=\"Medium Shading 1 Accent 1\"/>\n",
        "  <w:LsdException Locked=\"false\" Priority=\"64\" Name=\"Medium Shading 2 Accent 1\"/>\n",
        "  <w:LsdException Locked=\"false\" Priority=\"65\" Name=\"Medium List 1 Accent 1\"/>\n",
        "  <w:LsdException Locked=\"false\" SemiHidden=\"true\" Name=\"Revision\"/>\n",
        "  <w:LsdException Locked=\"false\" Priority=\"34\" QFormat=\"true\"\n",
        "   Name=\"List Paragraph\"/>\n",
        "  <w:LsdException Locked=\"false\" Priority=\"29\" QFormat=\"true\" Name=\"Quote\"/>\n",
        "  <w:LsdException Locked=\"false\" Priority=\"30\" QFormat=\"true\"\n",
        "   Name=\"Intense Quote\"/>\n",
        "  <w:LsdException Locked=\"false\" Priority=\"66\" Name=\"Medium List 2 Accent 1\"/>\n",
        "  <w:LsdException Locked=\"false\" Priority=\"67\" Name=\"Medium Grid 1 Accent 1\"/>\n",
        "  <w:LsdException Locked=\"false\" Priority=\"68\" Name=\"Medium Grid 2 Accent 1\"/>\n",
        "  <w:LsdException Locked=\"false\" Priority=\"69\" Name=\"Medium Grid 3 Accent 1\"/>\n",
        "  <w:LsdException Locked=\"false\" Priority=\"70\" Name=\"Dark List Accent 1\"/>\n",
        "  <w:LsdException Locked=\"false\" Priority=\"71\" Name=\"Colorful Shading Accent 1\"/>\n",
        "  <w:LsdException Locked=\"false\" Priority=\"72\" Name=\"Colorful List Accent 1\"/>\n",
        "  <w:LsdException Locked=\"false\" Priority=\"73\" Name=\"Colorful Grid Accent 1\"/>\n",
        "  <w:LsdException Locked=\"false\" Priority=\"60\" Name=\"Light Shading Accent 2\"/>\n",
        "  <w:LsdException Locked=\"false\" Priority=\"61\" Name=\"Light List Accent 2\"/>\n",
        "  <w:LsdException Locked=\"false\" Priority=\"62\" Name=\"Light Grid Accent 2\"/>\n",
        "  <w:LsdException Locked=\"false\" Priority=\"63\" Name=\"Medium Shading 1 Accent 2\"/>\n",
        "  <w:LsdException Locked=\"false\" Priority=\"64\" Name=\"Medium Shading 2 Accent 2\"/>\n",
        "  <w:LsdException Locked=\"false\" Priority=\"65\" Name=\"Medium List 1 Accent 2\"/>\n",
        "  <w:LsdException Locked=\"false\" Priority=\"66\" Name=\"Medium List 2 Accent 2\"/>\n",
        "  <w:LsdException Locked=\"false\" Priority=\"67\" Name=\"Medium Grid 1 Accent 2\"/>\n",
        "  <w:LsdException Locked=\"false\" Priority=\"68\" Name=\"Medium Grid 2 Accent 2\"/>\n",
        "  <w:LsdException Locked=\"false\" Priority=\"69\" Name=\"Medium Grid 3 Accent 2\"/>\n",
        "  <w:LsdException Locked=\"false\" Priority=\"70\" Name=\"Dark List Accent 2\"/>\n",
        "  <w:LsdException Locked=\"false\" Priority=\"71\" Name=\"Colorful Shading Accent 2\"/>\n",
        "  <w:LsdException Locked=\"false\" Priority=\"72\" Name=\"Colorful List Accent 2\"/>\n",
        "  <w:LsdException Locked=\"false\" Priority=\"73\" Name=\"Colorful Grid Accent 2\"/>\n",
        "  <w:LsdException Locked=\"false\" Priority=\"60\" Name=\"Light Shading Accent 3\"/>\n",
        "  <w:LsdException Locked=\"false\" Priority=\"61\" Name=\"Light List Accent 3\"/>\n",
        "  <w:LsdException Locked=\"false\" Priority=\"62\" Name=\"Light Grid Accent 3\"/>\n",
        "  <w:LsdException Locked=\"false\" Priority=\"63\" Name=\"Medium Shading 1 Accent 3\"/>\n",
        "  <w:LsdException Locked=\"false\" Priority=\"64\" Name=\"Medium Shading 2 Accent 3\"/>\n",
        "  <w:LsdException Locked=\"false\" Priority=\"65\" Name=\"Medium List 1 Accent 3\"/>\n",
        "  <w:LsdException Locked=\"false\" Priority=\"66\" Name=\"Medium List 2 Accent 3\"/>\n",
        "  <w:LsdException Locked=\"false\" Priority=\"67\" Name=\"Medium Grid 1 Accent 3\"/>\n",
        "  <w:LsdException Locked=\"false\" Priority=\"68\" Name=\"Medium Grid 2 Accent 3\"/>\n",
        "  <w:LsdException Locked=\"false\" Priority=\"69\" Name=\"Medium Grid 3 Accent 3\"/>\n",
        "  <w:LsdException Locked=\"false\" Priority=\"70\" Name=\"Dark List Accent 3\"/>\n",
        "  <w:LsdException Locked=\"false\" Priority=\"71\" Name=\"Colorful Shading Accent 3\"/>\n",
        "  <w:LsdException Locked=\"false\" Priority=\"72\" Name=\"Colorful List Accent 3\"/>\n",
        "  <w:LsdException Locked=\"false\" Priority=\"73\" Name=\"Colorful Grid Accent 3\"/>\n",
        "  <w:LsdException Locked=\"false\" Priority=\"60\" Name=\"Light Shading Accent 4\"/>\n",
        "  <w:LsdException Locked=\"false\" Priority=\"61\" Name=\"Light List Accent 4\"/>\n",
        "  <w:LsdException Locked=\"false\" Priority=\"62\" Name=\"Light Grid Accent 4\"/>\n",
        "  <w:LsdException Locked=\"false\" Priority=\"63\" Name=\"Medium Shading 1 Accent 4\"/>\n",
        "  <w:LsdException Locked=\"false\" Priority=\"64\" Name=\"Medium Shading 2 Accent 4\"/>\n",
        "  <w:LsdException Locked=\"false\" Priority=\"65\" Name=\"Medium List 1 Accent 4\"/>\n",
        "  <w:LsdException Locked=\"false\" Priority=\"66\" Name=\"Medium List 2 Accent 4\"/>\n",
        "  <w:LsdException Locked=\"false\" Priority=\"67\" Name=\"Medium Grid 1 Accent 4\"/>\n",
        "  <w:LsdException Locked=\"false\" Priority=\"68\" Name=\"Medium Grid 2 Accent 4\"/>\n",
        "  <w:LsdException Locked=\"false\" Priority=\"69\" Name=\"Medium Grid 3 Accent 4\"/>\n",
        "  <w:LsdException Locked=\"false\" Priority=\"70\" Name=\"Dark List Accent 4\"/>\n",
        "  <w:LsdException Locked=\"false\" Priority=\"71\" Name=\"Colorful Shading Accent 4\"/>\n",
        "  <w:LsdException Locked=\"false\" Priority=\"72\" Name=\"Colorful List Accent 4\"/>\n",
        "  <w:LsdException Locked=\"false\" Priority=\"73\" Name=\"Colorful Grid Accent 4\"/>\n",
        "  <w:LsdException Locked=\"false\" Priority=\"60\" Name=\"Light Shading Accent 5\"/>\n",
        "  <w:LsdException Locked=\"false\" Priority=\"61\" Name=\"Light List Accent 5\"/>\n",
        "  <w:LsdException Locked=\"false\" Priority=\"62\" Name=\"Light Grid Accent 5\"/>\n",
        "  <w:LsdException Locked=\"false\" Priority=\"63\" Name=\"Medium Shading 1 Accent 5\"/>\n",
        "  <w:LsdException Locked=\"false\" Priority=\"64\" Name=\"Medium Shading 2 Accent 5\"/>\n",
        "  <w:LsdException Locked=\"false\" Priority=\"65\" Name=\"Medium List 1 Accent 5\"/>\n",
        "  <w:LsdException Locked=\"false\" Priority=\"66\" Name=\"Medium List 2 Accent 5\"/>\n",
        "  <w:LsdException Locked=\"false\" Priority=\"67\" Name=\"Medium Grid 1 Accent 5\"/>\n",
        "  <w:LsdException Locked=\"false\" Priority=\"68\" Name=\"Medium Grid 2 Accent 5\"/>\n",
        "  <w:LsdException Locked=\"false\" Priority=\"69\" Name=\"Medium Grid 3 Accent 5\"/>\n",
        "  <w:LsdException Locked=\"false\" Priority=\"70\" Name=\"Dark List Accent 5\"/>\n",
        "  <w:LsdException Locked=\"false\" Priority=\"71\" Name=\"Colorful Shading Accent 5\"/>\n",
        "  <w:LsdException Locked=\"false\" Priority=\"72\" Name=\"Colorful List Accent 5\"/>\n",
        "  <w:LsdException Locked=\"false\" Priority=\"73\" Name=\"Colorful Grid Accent 5\"/>\n",
        "  <w:LsdException Locked=\"false\" Priority=\"60\" Name=\"Light Shading Accent 6\"/>\n",
        "  <w:LsdException Locked=\"false\" Priority=\"61\" Name=\"Light List Accent 6\"/>\n",
        "  <w:LsdException Locked=\"false\" Priority=\"62\" Name=\"Light Grid Accent 6\"/>\n",
        "  <w:LsdException Locked=\"false\" Priority=\"63\" Name=\"Medium Shading 1 Accent 6\"/>\n",
        "  <w:LsdException Locked=\"false\" Priority=\"64\" Name=\"Medium Shading 2 Accent 6\"/>\n",
        "  <w:LsdException Locked=\"false\" Priority=\"65\" Name=\"Medium List 1 Accent 6\"/>\n",
        "  <w:LsdException Locked=\"false\" Priority=\"66\" Name=\"Medium List 2 Accent 6\"/>\n",
        "  <w:LsdException Locked=\"false\" Priority=\"67\" Name=\"Medium Grid 1 Accent 6\"/>\n",
        "  <w:LsdException Locked=\"false\" Priority=\"68\" Name=\"Medium Grid 2 Accent 6\"/>\n",
        "  <w:LsdException Locked=\"false\" Priority=\"69\" Name=\"Medium Grid 3 Accent 6\"/>\n",
        "  <w:LsdException Locked=\"false\" Priority=\"70\" Name=\"Dark List Accent 6\"/>\n",
        "  <w:LsdException Locked=\"false\" Priority=\"71\" Name=\"Colorful Shading Accent 6\"/>\n",
        "  <w:LsdException Locked=\"false\" Priority=\"72\" Name=\"Colorful List Accent 6\"/>\n",
        "  <w:LsdException Locked=\"false\" Priority=\"73\" Name=\"Colorful Grid Accent 6\"/>\n",
        "  <w:LsdException Locked=\"false\" Priority=\"19\" QFormat=\"true\"\n",
        "   Name=\"Subtle Emphasis\"/>\n",
        "  <w:LsdException Locked=\"false\" Priority=\"21\" QFormat=\"true\"\n",
        "   Name=\"Intense Emphasis\"/>\n",
        "  <w:LsdException Locked=\"false\" Priority=\"31\" QFormat=\"true\"\n",
        "   Name=\"Subtle Reference\"/>\n",
        "  <w:LsdException Locked=\"false\" Priority=\"32\" QFormat=\"true\"\n",
        "   Name=\"Intense Reference\"/>\n",
        "  <w:LsdException Locked=\"false\" Priority=\"33\" QFormat=\"true\" Name=\"Book Title\"/>\n",
        "  <w:LsdException Locked=\"false\" Priority=\"37\" SemiHidden=\"true\"\n",
        "   UnhideWhenUsed=\"true\" Name=\"Bibliography\"/>\n",
        "  <w:LsdException Locked=\"false\" Priority=\"39\" SemiHidden=\"true\"\n",
        "   UnhideWhenUsed=\"true\" QFormat=\"true\" Name=\"TOC Heading\"/>\n",
        "  <w:LsdException Locked=\"false\" Priority=\"41\" Name=\"Plain Table 1\"/>\n",
        "  <w:LsdException Locked=\"false\" Priority=\"42\" Name=\"Plain Table 2\"/>\n",
        "  <w:LsdException Locked=\"false\" Priority=\"43\" Name=\"Plain Table 3\"/>\n",
        "  <w:LsdException Locked=\"false\" Priority=\"44\" Name=\"Plain Table 4\"/>\n",
        "  <w:LsdException Locked=\"false\" Priority=\"45\" Name=\"Plain Table 5\"/>\n",
        "  <w:LsdException Locked=\"false\" Priority=\"40\" Name=\"Grid Table Light\"/>\n",
        "  <w:LsdException Locked=\"false\" Priority=\"46\" Name=\"Grid Table 1 Light\"/>\n",
        "  <w:LsdException Locked=\"false\" Priority=\"47\" Name=\"Grid Table 2\"/>\n",
        "  <w:LsdException Locked=\"false\" Priority=\"48\" Name=\"Grid Table 3\"/>\n",
        "  <w:LsdException Locked=\"false\" Priority=\"49\" Name=\"Grid Table 4\"/>\n",
        "  <w:LsdException Locked=\"false\" Priority=\"50\" Name=\"Grid Table 5 Dark\"/>\n",
        "  <w:LsdException Locked=\"false\" Priority=\"51\" Name=\"Grid Table 6 Colorful\"/>\n",
        "  <w:LsdException Locked=\"false\" Priority=\"52\" Name=\"Grid Table 7 Colorful\"/>\n",
        "  <w:LsdException Locked=\"false\" Priority=\"46\"\n",
        "   Name=\"Grid Table 1 Light Accent 1\"/>\n",
        "  <w:LsdException Locked=\"false\" Priority=\"47\" Name=\"Grid Table 2 Accent 1\"/>\n",
        "  <w:LsdException Locked=\"false\" Priority=\"48\" Name=\"Grid Table 3 Accent 1\"/>\n",
        "  <w:LsdException Locked=\"false\" Priority=\"49\" Name=\"Grid Table 4 Accent 1\"/>\n",
        "  <w:LsdException Locked=\"false\" Priority=\"50\" Name=\"Grid Table 5 Dark Accent 1\"/>\n",
        "  <w:LsdException Locked=\"false\" Priority=\"51\"\n",
        "   Name=\"Grid Table 6 Colorful Accent 1\"/>\n",
        "  <w:LsdException Locked=\"false\" Priority=\"52\"\n",
        "   Name=\"Grid Table 7 Colorful Accent 1\"/>\n",
        "  <w:LsdException Locked=\"false\" Priority=\"46\"\n",
        "   Name=\"Grid Table 1 Light Accent 2\"/>\n",
        "  <w:LsdException Locked=\"false\" Priority=\"47\" Name=\"Grid Table 2 Accent 2\"/>\n",
        "  <w:LsdException Locked=\"false\" Priority=\"48\" Name=\"Grid Table 3 Accent 2\"/>\n",
        "  <w:LsdException Locked=\"false\" Priority=\"49\" Name=\"Grid Table 4 Accent 2\"/>\n",
        "  <w:LsdException Locked=\"false\" Priority=\"50\" Name=\"Grid Table 5 Dark Accent 2\"/>\n",
        "  <w:LsdException Locked=\"false\" Priority=\"51\"\n",
        "   Name=\"Grid Table 6 Colorful Accent 2\"/>\n",
        "  <w:LsdException Locked=\"false\" Priority=\"52\"\n",
        "   Name=\"Grid Table 7 Colorful Accent 2\"/>\n",
        "  <w:LsdException Locked=\"false\" Priority=\"46\"\n",
        "   Name=\"Grid Table 1 Light Accent 3\"/>\n",
        "  <w:LsdException Locked=\"false\" Priority=\"47\" Name=\"Grid Table 2 Accent 3\"/>\n",
        "  <w:LsdException Locked=\"false\" Priority=\"48\" Name=\"Grid Table 3 Accent 3\"/>\n",
        "  <w:LsdException Locked=\"false\" Priority=\"49\" Name=\"Grid Table 4 Accent 3\"/>\n",
        "  <w:LsdException Locked=\"false\" Priority=\"50\" Name=\"Grid Table 5 Dark Accent 3\"/>\n",
        "  <w:LsdException Locked=\"false\" Priority=\"51\"\n",
        "   Name=\"Grid Table 6 Colorful Accent 3\"/>\n",
        "  <w:LsdException Locked=\"false\" Priority=\"52\"\n",
        "   Name=\"Grid Table 7 Colorful Accent 3\"/>\n",
        "  <w:LsdException Locked=\"false\" Priority=\"46\"\n",
        "   Name=\"Grid Table 1 Light Accent 4\"/>\n",
        "  <w:LsdException Locked=\"false\" Priority=\"47\" Name=\"Grid Table 2 Accent 4\"/>\n",
        "  <w:LsdException Locked=\"false\" Priority=\"48\" Name=\"Grid Table 3 Accent 4\"/>\n",
        "  <w:LsdException Locked=\"false\" Priority=\"49\" Name=\"Grid Table 4 Accent 4\"/>\n",
        "  <w:LsdException Locked=\"false\" Priority=\"50\" Name=\"Grid Table 5 Dark Accent 4\"/>\n",
        "  <w:LsdException Locked=\"false\" Priority=\"51\"\n",
        "   Name=\"Grid Table 6 Colorful Accent 4\"/>\n",
        "  <w:LsdException Locked=\"false\" Priority=\"52\"\n",
        "   Name=\"Grid Table 7 Colorful Accent 4\"/>\n",
        "  <w:LsdException Locked=\"false\" Priority=\"46\"\n",
        "   Name=\"Grid Table 1 Light Accent 5\"/>\n",
        "  <w:LsdException Locked=\"false\" Priority=\"47\" Name=\"Grid Table 2 Accent 5\"/>\n",
        "  <w:LsdException Locked=\"false\" Priority=\"48\" Name=\"Grid Table 3 Accent 5\"/>\n",
        "  <w:LsdException Locked=\"false\" Priority=\"49\" Name=\"Grid Table 4 Accent 5\"/>\n",
        "  <w:LsdException Locked=\"false\" Priority=\"50\" Name=\"Grid Table 5 Dark Accent 5\"/>\n",
        "  <w:LsdException Locked=\"false\" Priority=\"51\"\n",
        "   Name=\"Grid Table 6 Colorful Accent 5\"/>\n",
        "  <w:LsdException Locked=\"false\" Priority=\"52\"\n",
        "   Name=\"Grid Table 7 Colorful Accent 5\"/>\n",
        "  <w:LsdException Locked=\"false\" Priority=\"46\"\n",
        "   Name=\"Grid Table 1 Light Accent 6\"/>\n",
        "  <w:LsdException Locked=\"false\" Priority=\"47\" Name=\"Grid Table 2 Accent 6\"/>\n",
        "  <w:LsdException Locked=\"false\" Priority=\"48\" Name=\"Grid Table 3 Accent 6\"/>\n",
        "  <w:LsdException Locked=\"false\" Priority=\"49\" Name=\"Grid Table 4 Accent 6\"/>\n",
        "  <w:LsdException Locked=\"false\" Priority=\"50\" Name=\"Grid Table 5 Dark Accent 6\"/>\n",
        "  <w:LsdException Locked=\"false\" Priority=\"51\"\n",
        "   Name=\"Grid Table 6 Colorful Accent 6\"/>\n",
        "  <w:LsdException Locked=\"false\" Priority=\"52\"\n",
        "   Name=\"Grid Table 7 Colorful Accent 6\"/>\n",
        "  <w:LsdException Locked=\"false\" Priority=\"46\" Name=\"List Table 1 Light\"/>\n",
        "  <w:LsdException Locked=\"false\" Priority=\"47\" Name=\"List Table 2\"/>\n",
        "  <w:LsdException Locked=\"false\" Priority=\"48\" Name=\"List Table 3\"/>\n",
        "  <w:LsdException Locked=\"false\" Priority=\"49\" Name=\"List Table 4\"/>\n",
        "  <w:LsdException Locked=\"false\" Priority=\"50\" Name=\"List Table 5 Dark\"/>\n",
        "  <w:LsdException Locked=\"false\" Priority=\"51\" Name=\"List Table 6 Colorful\"/>\n",
        "  <w:LsdException Locked=\"false\" Priority=\"52\" Name=\"List Table 7 Colorful\"/>\n",
        "  <w:LsdException Locked=\"false\" Priority=\"46\"\n",
        "   Name=\"List Table 1 Light Accent 1\"/>\n",
        "  <w:LsdException Locked=\"false\" Priority=\"47\" Name=\"List Table 2 Accent 1\"/>\n",
        "  <w:LsdException Locked=\"false\" Priority=\"48\" Name=\"List Table 3 Accent 1\"/>\n",
        "  <w:LsdException Locked=\"false\" Priority=\"49\" Name=\"List Table 4 Accent 1\"/>\n",
        "  <w:LsdException Locked=\"false\" Priority=\"50\" Name=\"List Table 5 Dark Accent 1\"/>\n",
        "  <w:LsdException Locked=\"false\" Priority=\"51\"\n",
        "   Name=\"List Table 6 Colorful Accent 1\"/>\n",
        "  <w:LsdException Locked=\"false\" Priority=\"52\"\n",
        "   Name=\"List Table 7 Colorful Accent 1\"/>\n",
        "  <w:LsdException Locked=\"false\" Priority=\"46\"\n",
        "   Name=\"List Table 1 Light Accent 2\"/>\n",
        "  <w:LsdException Locked=\"false\" Priority=\"47\" Name=\"List Table 2 Accent 2\"/>\n",
        "  <w:LsdException Locked=\"false\" Priority=\"48\" Name=\"List Table 3 Accent 2\"/>\n",
        "  <w:LsdException Locked=\"false\" Priority=\"49\" Name=\"List Table 4 Accent 2\"/>\n",
        "  <w:LsdException Locked=\"false\" Priority=\"50\" Name=\"List Table 5 Dark Accent 2\"/>\n",
        "  <w:LsdException Locked=\"false\" Priority=\"51\"\n",
        "   Name=\"List Table 6 Colorful Accent 2\"/>\n",
        "  <w:LsdException Locked=\"false\" Priority=\"52\"\n",
        "   Name=\"List Table 7 Colorful Accent 2\"/>\n",
        "  <w:LsdException Locked=\"false\" Priority=\"46\"\n",
        "   Name=\"List Table 1 Light Accent 3\"/>\n",
        "  <w:LsdException Locked=\"false\" Priority=\"47\" Name=\"List Table 2 Accent 3\"/>\n",
        "  <w:LsdException Locked=\"false\" Priority=\"48\" Name=\"List Table 3 Accent 3\"/>\n",
        "  <w:LsdException Locked=\"false\" Priority=\"49\" Name=\"List Table 4 Accent 3\"/>\n",
        "  <w:LsdException Locked=\"false\" Priority=\"50\" Name=\"List Table 5 Dark Accent 3\"/>\n",
        "  <w:LsdException Locked=\"false\" Priority=\"51\"\n",
        "   Name=\"List Table 6 Colorful Accent 3\"/>\n",
        "  <w:LsdException Locked=\"false\" Priority=\"52\"\n",
        "   Name=\"List Table 7 Colorful Accent 3\"/>\n",
        "  <w:LsdException Locked=\"false\" Priority=\"46\"\n",
        "   Name=\"List Table 1 Light Accent 4\"/>\n",
        "  <w:LsdException Locked=\"false\" Priority=\"47\" Name=\"List Table 2 Accent 4\"/>\n",
        "  <w:LsdException Locked=\"false\" Priority=\"48\" Name=\"List Table 3 Accent 4\"/>\n",
        "  <w:LsdException Locked=\"false\" Priority=\"49\" Name=\"List Table 4 Accent 4\"/>\n",
        "  <w:LsdException Locked=\"false\" Priority=\"50\" Name=\"List Table 5 Dark Accent 4\"/>\n",
        "  <w:LsdException Locked=\"false\" Priority=\"51\"\n",
        "   Name=\"List Table 6 Colorful Accent 4\"/>\n",
        "  <w:LsdException Locked=\"false\" Priority=\"52\"\n",
        "   Name=\"List Table 7 Colorful Accent 4\"/>\n",
        "  <w:LsdException Locked=\"false\" Priority=\"46\"\n",
        "   Name=\"List Table 1 Light Accent 5\"/>\n",
        "  <w:LsdException Locked=\"false\" Priority=\"47\" Name=\"List Table 2 Accent 5\"/>\n",
        "  <w:LsdException Locked=\"false\" Priority=\"48\" Name=\"List Table 3 Accent 5\"/>\n",
        "  <w:LsdException Locked=\"false\" Priority=\"49\" Name=\"List Table 4 Accent 5\"/>\n",
        "  <w:LsdException Locked=\"false\" Priority=\"50\" Name=\"List Table 5 Dark Accent 5\"/>\n",
        "  <w:LsdException Locked=\"false\" Priority=\"51\"\n",
        "   Name=\"List Table 6 Colorful Accent 5\"/>\n",
        "  <w:LsdException Locked=\"false\" Priority=\"52\"\n",
        "   Name=\"List Table 7 Colorful Accent 5\"/>\n",
        "  <w:LsdException Locked=\"false\" Priority=\"46\"\n",
        "   Name=\"List Table 1 Light Accent 6\"/>\n",
        "  <w:LsdException Locked=\"false\" Priority=\"47\" Name=\"List Table 2 Accent 6\"/>\n",
        "  <w:LsdException Locked=\"false\" Priority=\"48\" Name=\"List Table 3 Accent 6\"/>\n",
        "  <w:LsdException Locked=\"false\" Priority=\"49\" Name=\"List Table 4 Accent 6\"/>\n",
        "  <w:LsdException Locked=\"false\" Priority=\"50\" Name=\"List Table 5 Dark Accent 6\"/>\n",
        "  <w:LsdException Locked=\"false\" Priority=\"51\"\n",
        "   Name=\"List Table 6 Colorful Accent 6\"/>\n",
        "  <w:LsdException Locked=\"false\" Priority=\"52\"\n",
        "   Name=\"List Table 7 Colorful Accent 6\"/>\n",
        "  <w:LsdException Locked=\"false\" SemiHidden=\"true\" UnhideWhenUsed=\"true\"\n",
        "   Name=\"Mention\"/>\n",
        "  <w:LsdException Locked=\"false\" SemiHidden=\"true\" UnhideWhenUsed=\"true\"\n",
        "   Name=\"Smart Hyperlink\"/>\n",
        "  <w:LsdException Locked=\"false\" SemiHidden=\"true\" UnhideWhenUsed=\"true\"\n",
        "   Name=\"Hashtag\"/>\n",
        "  <w:LsdException Locked=\"false\" SemiHidden=\"true\" UnhideWhenUsed=\"true\"\n",
        "   Name=\"Unresolved Mention\"/>\n",
        "  <w:LsdException Locked=\"false\" SemiHidden=\"true\" UnhideWhenUsed=\"true\"\n",
        "   Name=\"Smart Link\"/>\n",
        " </w:LatentStyles>\n",
        "</xml><![endif]-->\n",
        "<style>\n",
        "<!--\n",
        " /* Font Definitions */\n",
        " @font-face\n",
        "\t{font-family:\"Cambria Math\";\n",
        "\tpanose-1:2 4 5 3 5 4 6 3 2 4;\n",
        "\tmso-font-charset:0;\n",
        "\tmso-generic-font-family:roman;\n",
        "\tmso-font-pitch:variable;\n",
        "\tmso-font-signature:-536870145 1107305727 0 0 415 0;}\n",
        "@font-face\n",
        "\t{font-family:Calibri;\n",
        "\tpanose-1:2 15 5 2 2 2 4 3 2 4;\n",
        "\tmso-font-charset:0;\n",
        "\tmso-generic-font-family:swiss;\n",
        "\tmso-font-pitch:variable;\n",
        "\tmso-font-signature:-536859905 -1073732485 9 0 511 0;}\n",
        " /* Style Definitions */\n",
        " p.MsoNormal, li.MsoNormal, div.MsoNormal\n",
        "\t{mso-style-unhide:no;\n",
        "\tmso-style-qformat:yes;\n",
        "\tmso-style-parent:\"\";\n",
        "\tmargin:0cm;\n",
        "\tmso-pagination:widow-orphan;\n",
        "\tfont-size:12.0pt;\n",
        "\tfont-family:\"Calibri\",sans-serif;\n",
        "\tmso-ascii-font-family:Calibri;\n",
        "\tmso-ascii-theme-font:minor-latin;\n",
        "\tmso-fareast-font-family:Calibri;\n",
        "\tmso-fareast-theme-font:minor-latin;\n",
        "\tmso-hansi-font-family:Calibri;\n",
        "\tmso-hansi-theme-font:minor-latin;\n",
        "\tmso-bidi-font-family:\"Times New Roman\";\n",
        "\tmso-bidi-theme-font:minor-bidi;}\n",
        "span.SpellE\n",
        "\t{mso-style-name:\"\";\n",
        "\tmso-spl-e:yes;}\n",
        "span.GramE\n",
        "\t{mso-style-name:\"\";\n",
        "\tmso-gram-e:yes;}\n",
        ".MsoChpDefault\n",
        "\t{mso-style-type:export-only;\n",
        "\tmso-default-props:yes;\n",
        "\tfont-family:\"Calibri\",sans-serif;\n",
        "\tmso-ascii-font-family:Calibri;\n",
        "\tmso-ascii-theme-font:minor-latin;\n",
        "\tmso-fareast-font-family:Calibri;\n",
        "\tmso-fareast-theme-font:minor-latin;\n",
        "\tmso-hansi-font-family:Calibri;\n",
        "\tmso-hansi-theme-font:minor-latin;\n",
        "\tmso-bidi-font-family:\"Times New Roman\";\n",
        "\tmso-bidi-theme-font:minor-bidi;}\n",
        "@page WordSection1\n",
        "\t{size:612.0pt 792.0pt;\n",
        "\tmargin:72.0pt 72.0pt 72.0pt 72.0pt;\n",
        "\tmso-header-margin:35.4pt;\n",
        "\tmso-footer-margin:35.4pt;\n",
        "\tmso-paper-source:0;}\n",
        "div.WordSection1\n",
        "\t{page:WordSection1;}\n",
        "-->\n",
        "</style>\n",
        "<!--[if gte mso 10]>\n",
        "<style>\n",
        " /* Style Definitions */\n",
        " table.MsoNormalTable\n",
        "\t{mso-style-name:\"Table Normal\";\n",
        "\tmso-tstyle-rowband-size:0;\n",
        "\tmso-tstyle-colband-size:0;\n",
        "\tmso-style-noshow:yes;\n",
        "\tmso-style-priority:99;\n",
        "\tmso-style-parent:\"\";\n",
        "\tmso-padding-alt:0cm 5.4pt 0cm 5.4pt;\n",
        "\tmso-para-margin:0cm;\n",
        "\tmso-pagination:widow-orphan;\n",
        "\tfont-size:12.0pt;\n",
        "\tfont-family:\"Calibri\",sans-serif;\n",
        "\tmso-ascii-font-family:Calibri;\n",
        "\tmso-ascii-theme-font:minor-latin;\n",
        "\tmso-hansi-font-family:Calibri;\n",
        "\tmso-hansi-theme-font:minor-latin;\n",
        "\tmso-bidi-font-family:\"Times New Roman\";\n",
        "\tmso-bidi-theme-font:minor-bidi;}\n",
        "</style>\n",
        "<![endif]-->\n",
        "</head>\n",
        "\n",
        "<body lang=EN-CA style='tab-interval:36.0pt;word-wrap:break-word'>\n",
        "\n",
        "<div class=WordSection1>\n",
        "\n",
        "<table class=MsoNormalTable border=0 cellspacing=0 cellpadding=0 width=1288\n",
        " style='width:966.0pt;border-collapse:collapse;mso-yfti-tbllook:1184;\n",
        " mso-padding-alt:0cm 5.4pt 0cm 5.4pt'>\n",
        " <tr style='mso-yfti-irow:0;mso-yfti-firstrow:yes;height:20.0pt'>\n",
        "  <td width=177 valign=top style='width:133.0pt;border:solid #282828 1.0pt;\n",
        "  border-top:none;mso-border-left-alt:solid #282828 .5pt;mso-border-bottom-alt:\n",
        "  solid #282828 .5pt;mso-border-right-alt:solid #282828 .5pt;padding:0cm 5.4pt 0cm 5.4pt;\n",
        "  height:20.0pt'>\n",
        "  <p class=MsoNormal><span style='font-size:19.0pt;font-family:\"Courier New\";\n",
        "  mso-fareast-font-family:\"Times New Roman\";color:#343433'>Dataset</span><span\n",
        "  style='font-size:19.0pt;font-family:\"Courier New\";mso-fareast-font-family:\n",
        "  \"Times New Roman\"'><o:p></o:p></span></p>\n",
        "  </td>\n",
        "  <td width=169 valign=top style='width:127.0pt;border-top:none;border-left:\n",
        "  none;border-bottom:solid #282828 1.0pt;border-right:solid #282828 1.0pt;\n",
        "  mso-border-bottom-alt:solid #282828 .5pt;mso-border-right-alt:solid #282828 .5pt;\n",
        "  padding:0cm 5.4pt 0cm 5.4pt;height:20.0pt'>\n",
        "  <p class=MsoNormal><span style='font-size:19.0pt;font-family:\"Courier New\";\n",
        "  mso-fareast-font-family:\"Times New Roman\";color:#343433'>D.XGB</span><span\n",
        "  style='font-size:19.0pt;font-family:\"Courier New\";mso-fareast-font-family:\n",
        "  \"Times New Roman\"'><o:p></o:p></span></p>\n",
        "  </td>\n",
        "  <td width=187 valign=top style='width:140.0pt;border-top:none;border-left:\n",
        "  none;border-bottom:solid #282828 1.0pt;border-right:solid #282828 1.0pt;\n",
        "  mso-border-bottom-alt:solid #282828 .5pt;mso-border-right-alt:solid #282828 .5pt;\n",
        "  padding:0cm 5.4pt 0cm 5.4pt;height:20.0pt'>\n",
        "  <p class=MsoNormal><span style='font-size:19.0pt;font-family:\"Courier New\";\n",
        "  mso-fareast-font-family:\"Times New Roman\";color:#343433'>T.XGB</span><span\n",
        "  style='font-size:19.0pt;font-family:\"Courier New\";mso-fareast-font-family:\n",
        "  \"Times New Roman\"'><o:p></o:p></span></p>\n",
        "  </td>\n",
        "  <td width=187 valign=top style='width:140.0pt;border-top:none;border-left:\n",
        "  none;border-bottom:solid #282828 1.0pt;border-right:solid #282828 1.0pt;\n",
        "  mso-border-bottom-alt:solid #282828 .5pt;mso-border-right-alt:solid #282828 .5pt;\n",
        "  padding:0cm 5.4pt 0cm 5.4pt;height:20.0pt'>\n",
        "  <p class=MsoNormal><span style='font-size:19.0pt;font-family:\"Courier New\";\n",
        "  mso-fareast-font-family:\"Times New Roman\";color:#343433'>D.RF</span><span\n",
        "  style='font-size:19.0pt;font-family:\"Courier New\";mso-fareast-font-family:\n",
        "  \"Times New Roman\"'><o:p></o:p></span></p>\n",
        "  </td>\n",
        "  <td width=187 valign=top style='width:140.0pt;border-top:none;border-left:\n",
        "  none;border-bottom:solid #282828 1.0pt;border-right:solid #282828 1.0pt;\n",
        "  mso-border-bottom-alt:solid #282828 .5pt;mso-border-right-alt:solid #282828 .5pt;\n",
        "  padding:0cm 5.4pt 0cm 5.4pt;height:20.0pt'>\n",
        "  <p class=MsoNormal><span class=GramE><span style='font-size:19.0pt;\n",
        "  font-family:\"Courier New\";mso-fareast-font-family:\"Times New Roman\";\n",
        "  color:#343433'>T.RF</span></span><span style='font-size:19.0pt;font-family:\n",
        "  \"Courier New\";mso-fareast-font-family:\"Times New Roman\"'><o:p></o:p></span></p>\n",
        "  </td>\n",
        "  <td width=187 valign=top style='width:140.0pt;border-top:none;border-left:\n",
        "  none;border-bottom:solid #282828 1.0pt;border-right:solid #282828 1.0pt;\n",
        "  mso-border-bottom-alt:solid #282828 .5pt;mso-border-right-alt:solid #282828 .5pt;\n",
        "  padding:0cm 5.4pt 0cm 5.4pt;height:20.0pt'>\n",
        "  <p class=MsoNormal><span style='font-size:19.0pt;font-family:\"Courier New\";\n",
        "  mso-fareast-font-family:\"Times New Roman\";color:#343433'>D.GB</span><span\n",
        "  style='font-size:19.0pt;font-family:\"Courier New\";mso-fareast-font-family:\n",
        "  \"Times New Roman\"'><o:p></o:p></span></p>\n",
        "  </td>\n",
        "  <td width=195 valign=top style='width:146.0pt;border-top:none;border-left:\n",
        "  none;border-bottom:solid #282828 1.0pt;border-right:solid #282828 1.0pt;\n",
        "  mso-border-bottom-alt:solid #282828 .5pt;mso-border-right-alt:solid #282828 .5pt;\n",
        "  padding:0cm 5.4pt 0cm 5.4pt;height:20.0pt'>\n",
        "  <p class=MsoNormal><span style='font-size:19.0pt;font-family:\"Courier New\";\n",
        "  mso-fareast-font-family:\"Times New Roman\";color:#343433'>T.GB</span><span\n",
        "  style='font-size:19.0pt;font-family:\"Courier New\";mso-fareast-font-family:\n",
        "  \"Times New Roman\"'><o:p></o:p></span></p>\n",
        "  </td>\n",
        " </tr>\n",
        " <tr style='mso-yfti-irow:1;height:20.0pt'>\n",
        "  <td width=177 valign=top style='width:133.0pt;border:solid #282828 1.0pt;\n",
        "  border-top:none;mso-border-left-alt:solid #282828 .5pt;mso-border-bottom-alt:\n",
        "  solid #282828 .5pt;mso-border-right-alt:solid #282828 .5pt;padding:0cm 5.4pt 0cm 5.4pt;\n",
        "  height:20.0pt'>\n",
        "  <p class=MsoNormal><span style='font-size:17.0pt;font-family:\"Times New Roman\",serif;\n",
        "  mso-fareast-font-family:\"Times New Roman\";color:#343433'>Australian</span><span\n",
        "  style='font-size:17.0pt;font-family:\"Times New Roman\",serif;mso-fareast-font-family:\n",
        "  \"Times New Roman\"'><o:p></o:p></span></p>\n",
        "  </td>\n",
        "  <td width=169 valign=top style='width:127.0pt;border-top:none;border-left:\n",
        "  none;border-bottom:solid #282828 1.0pt;border-right:solid #282828 1.0pt;\n",
        "  mso-border-bottom-alt:solid #282828 .5pt;mso-border-right-alt:solid #282828 .5pt;\n",
        "  padding:0cm 5.4pt 0cm 5.4pt;height:20.0pt'>\n",
        "  <p class=MsoNormal><span style='font-size:17.0pt;font-family:\"Times New Roman\",serif;\n",
        "  mso-fareast-font-family:\"Times New Roman\";color:#343433'>86.94%±2.73</span><span\n",
        "  style='font-size:17.0pt;font-family:\"Times New Roman\",serif;mso-fareast-font-family:\n",
        "  \"Times New Roman\"'><o:p></o:p></span></p>\n",
        "  </td>\n",
        "  <td width=187 valign=top style='width:140.0pt;border-top:none;border-left:\n",
        "  none;border-bottom:solid #282828 1.0pt;border-right:solid #282828 1.0pt;\n",
        "  mso-border-bottom-alt:solid #282828 .5pt;mso-border-right-alt:solid #282828 .5pt;\n",
        "  padding:0cm 5.4pt 0cm 5.4pt;height:20.0pt'>\n",
        "  <p class=MsoNormal><span style='font-size:17.0pt;font-family:\"Times New Roman\",serif;\n",
        "  mso-fareast-font-family:\"Times New Roman\";color:#343433'>87.53%±3.47</span><span\n",
        "  style='font-size:17.0pt;font-family:\"Times New Roman\",serif;mso-fareast-font-family:\n",
        "  \"Times New Roman\"'><o:p></o:p></span></p>\n",
        "  </td>\n",
        "  <td width=187 valign=top style='width:140.0pt;border-top:none;border-left:\n",
        "  none;border-bottom:solid #282828 1.0pt;border-right:solid #282828 1.0pt;\n",
        "  mso-border-bottom-alt:solid #282828 .5pt;mso-border-right-alt:solid #282828 .5pt;\n",
        "  padding:0cm 5.4pt 0cm 5.4pt;height:20.0pt'>\n",
        "  <p class=MsoNormal><span style='font-size:17.0pt;font-family:\"Times New Roman\",serif;\n",
        "  mso-fareast-font-family:\"Times New Roman\";color:#343433'>87.26%±3.83</span><span\n",
        "  style='font-size:17.0pt;font-family:\"Times New Roman\",serif;mso-fareast-font-family:\n",
        "  \"Times New Roman\"'><o:p></o:p></span></p>\n",
        "  </td>\n",
        "  <td width=187 valign=top style='width:140.0pt;border-top:none;border-left:\n",
        "  none;border-bottom:solid #282828 1.0pt;border-right:solid #282828 1.0pt;\n",
        "  mso-border-top-alt:solid #282828 .5pt;mso-border-top-alt:solid #282828 .5pt;\n",
        "  mso-border-bottom-alt:solid #282828 .5pt;mso-border-right-alt:solid #282828 .5pt;\n",
        "  padding:0cm 5.4pt 0cm 5.4pt;height:20.0pt'>\n",
        "  <p class=MsoNormal><span style='font-size:17.0pt;font-family:\"Times New Roman\",serif;\n",
        "  mso-fareast-font-family:\"Times New Roman\";color:#343433'>86.08%±3.42</span><span\n",
        "  style='font-size:17.0pt;font-family:\"Times New Roman\",serif;mso-fareast-font-family:\n",
        "  \"Times New Roman\"'><o:p></o:p></span></p>\n",
        "  </td>\n",
        "  <td width=187 valign=top style='width:140.0pt;border-top:none;border-left:\n",
        "  none;border-bottom:solid #282828 1.0pt;border-right:solid #282828 1.0pt;\n",
        "  mso-border-bottom-alt:solid #282828 .5pt;mso-border-right-alt:solid #282828 .5pt;\n",
        "  padding:0cm 5.4pt 0cm 5.4pt;height:20.0pt'>\n",
        "  <p class=MsoNormal><span style='font-size:17.0pt;font-family:\"Times New Roman\",serif;\n",
        "  mso-fareast-font-family:\"Times New Roman\";color:#343433'>86.23%±3.41</span><span\n",
        "  style='font-size:17.0pt;font-family:\"Times New Roman\",serif;mso-fareast-font-family:\n",
        "  \"Times New Roman\"'><o:p></o:p></span></p>\n",
        "  </td>\n",
        "  <td width=195 valign=top style='width:146.0pt;border-top:none;border-left:\n",
        "  none;border-bottom:solid #282828 1.0pt;border-right:solid #282828 1.0pt;\n",
        "  mso-border-bottom-alt:solid #282828 .5pt;mso-border-right-alt:solid #282828 .5pt;\n",
        "  padding:0cm 5.4pt 0cm 5.4pt;height:20.0pt'>\n",
        "  <p class=MsoNormal><span style='font-size:17.0pt;font-family:\"Times New Roman\",serif;\n",
        "  mso-fareast-font-family:\"Times New Roman\";color:#343433'>86.38%±3.39</span><span\n",
        "  style='font-size:17.0pt;font-family:\"Times New Roman\",serif;mso-fareast-font-family:\n",
        "  \"Times New Roman\"'><o:p></o:p></span></p>\n",
        "  </td>\n",
        " </tr>\n",
        " <tr style='mso-yfti-irow:2;height:20.0pt'>\n",
        "  <td width=177 valign=top style='width:133.0pt;border:solid #282828 1.0pt;\n",
        "  border-top:none;mso-border-left-alt:solid #282828 .5pt;mso-border-bottom-alt:\n",
        "  solid #282828 .5pt;mso-border-right-alt:solid #282828 .5pt;padding:0cm 5.4pt 0cm 5.4pt;\n",
        "  height:20.0pt'>\n",
        "  <p class=MsoNormal><span style='font-size:17.0pt;font-family:\"Times New Roman\",serif;\n",
        "  mso-fareast-font-family:\"Times New Roman\";color:#343433'>Banknote</span><span\n",
        "  style='font-size:17.0pt;font-family:\"Times New Roman\",serif;mso-fareast-font-family:\n",
        "  \"Times New Roman\"'><o:p></o:p></span></p>\n",
        "  </td>\n",
        "  <td width=169 valign=top style='width:127.0pt;border-top:none;border-left:\n",
        "  none;border-bottom:solid #282828 1.0pt;border-right:solid #282828 1.0pt;\n",
        "  mso-border-bottom-alt:solid #282828 .5pt;mso-border-right-alt:solid #282828 .5pt;\n",
        "  padding:0cm 5.4pt 0cm 5.4pt;height:20.0pt'>\n",
        "  <p class=MsoNormal><span style='font-size:17.0pt;font-family:\"Times New Roman\",serif;\n",
        "  mso-fareast-font-family:\"Times New Roman\";color:#343433'>99.64%±0.59</span><span\n",
        "  style='font-size:17.0pt;font-family:\"Times New Roman\",serif;mso-fareast-font-family:\n",
        "  \"Times New Roman\"'><o:p></o:p></span></p>\n",
        "  </td>\n",
        "  <td width=187 valign=top style='width:140.0pt;border-top:none;border-left:\n",
        "  none;border-bottom:solid #282828 1.0pt;border-right:solid #282828 1.0pt;\n",
        "  mso-border-bottom-alt:solid #282828 .5pt;mso-border-right-alt:solid #282828 .5pt;\n",
        "  padding:0cm 5.4pt 0cm 5.4pt;height:20.0pt'>\n",
        "  <p class=MsoNormal><span style='font-size:17.0pt;font-family:\"Times New Roman\",serif;\n",
        "  mso-fareast-font-family:\"Times New Roman\";color:#343433'>99.64%±0.49</span><span\n",
        "  style='font-size:17.0pt;font-family:\"Times New Roman\",serif;mso-fareast-font-family:\n",
        "  \"Times New Roman\"'><o:p></o:p></span></p>\n",
        "  </td>\n",
        "  <td width=187 valign=top style='width:140.0pt;border-top:none;border-left:\n",
        "  none;border-bottom:solid #282828 1.0pt;border-right:solid #282828 1.0pt;\n",
        "  mso-border-bottom-alt:solid #282828 .5pt;mso-border-right-alt:solid #282828 .5pt;\n",
        "  padding:0cm 5.4pt 0cm 5.4pt;height:20.0pt'>\n",
        "  <p class=MsoNormal><span style='font-size:17.0pt;font-family:\"Times New Roman\",serif;\n",
        "  mso-fareast-font-family:\"Times New Roman\";color:#343433'>99.34%±0.60</span><span\n",
        "  style='font-size:17.0pt;font-family:\"Times New Roman\",serif;mso-fareast-font-family:\n",
        "  \"Times New Roman\"'><o:p></o:p></span></p>\n",
        "  </td>\n",
        "  <td width=187 valign=top style='width:140.0pt;border-top:none;border-left:\n",
        "  none;border-bottom:solid #282828 1.0pt;border-right:solid #282828 1.0pt;\n",
        "  mso-border-top-alt:solid #282828 .5pt;mso-border-top-alt:solid #282828 .5pt;\n",
        "  mso-border-bottom-alt:solid #282828 .5pt;mso-border-right-alt:solid #282828 .5pt;\n",
        "  padding:0cm 5.4pt 0cm 5.4pt;height:20.0pt'>\n",
        "  <p class=MsoNormal><span style='font-size:17.0pt;font-family:\"Times New Roman\",serif;\n",
        "  mso-fareast-font-family:\"Times New Roman\";color:#343433'>99.13%±0.71</span><span\n",
        "  style='font-size:17.0pt;font-family:\"Times New Roman\",serif;mso-fareast-font-family:\n",
        "  \"Times New Roman\"'><o:p></o:p></span></p>\n",
        "  </td>\n",
        "  <td width=187 valign=top style='width:140.0pt;border-top:none;border-left:\n",
        "  none;border-bottom:solid #282828 1.0pt;border-right:solid #282828 1.0pt;\n",
        "  mso-border-bottom-alt:solid #282828 .5pt;mso-border-right-alt:solid #282828 .5pt;\n",
        "  padding:0cm 5.4pt 0cm 5.4pt;height:20.0pt'>\n",
        "  <p class=MsoNormal><span style='font-size:17.0pt;font-family:\"Times New Roman\",serif;\n",
        "  mso-fareast-font-family:\"Times New Roman\";color:#343433'>99.71%±0.48</span><span\n",
        "  style='font-size:17.0pt;font-family:\"Times New Roman\",serif;mso-fareast-font-family:\n",
        "  \"Times New Roman\"'><o:p></o:p></span></p>\n",
        "  </td>\n",
        "  <td width=195 valign=top style='width:146.0pt;border-top:none;border-left:\n",
        "  none;border-bottom:solid #282828 1.0pt;border-right:solid #282828 1.0pt;\n",
        "  mso-border-bottom-alt:solid #282828 .5pt;mso-border-right-alt:solid #282828 .5pt;\n",
        "  padding:0cm 5.4pt 0cm 5.4pt;height:20.0pt'>\n",
        "  <p class=MsoNormal><span style='font-size:17.0pt;font-family:\"Times New Roman\",serif;\n",
        "  mso-fareast-font-family:\"Times New Roman\";color:#343433'>99.78%±0.33</span><span\n",
        "  style='font-size:17.0pt;font-family:\"Times New Roman\",serif;mso-fareast-font-family:\n",
        "  \"Times New Roman\"'><o:p></o:p></span></p>\n",
        "  </td>\n",
        " </tr>\n",
        " <tr style='mso-yfti-irow:3;height:20.0pt'>\n",
        "  <td width=177 valign=top style='width:133.0pt;border:solid #282828 1.0pt;\n",
        "  border-top:none;mso-border-left-alt:solid #282828 .5pt;mso-border-bottom-alt:\n",
        "  solid #282828 .5pt;mso-border-right-alt:solid #282828 .5pt;padding:0cm 5.4pt 0cm 5.4pt;\n",
        "  height:20.0pt'>\n",
        "  <p class=MsoNormal><span style='font-size:17.0pt;font-family:\"Times New Roman\",serif;\n",
        "  mso-fareast-font-family:\"Times New Roman\";color:#343433'>Breast</span><span\n",
        "  style='font-size:17.0pt;font-family:\"Times New Roman\",serif;mso-fareast-font-family:\n",
        "  \"Times New Roman\"'><o:p></o:p></span></p>\n",
        "  </td>\n",
        "  <td width=169 valign=top style='width:127.0pt;border-top:none;border-left:\n",
        "  none;border-bottom:solid #282828 1.0pt;border-right:solid #282828 1.0pt;\n",
        "  mso-border-bottom-alt:solid #282828 .5pt;mso-border-right-alt:solid #282828 .5pt;\n",
        "  padding:0cm 5.4pt 0cm 5.4pt;height:20.0pt'>\n",
        "  <p class=MsoNormal><span style='font-size:17.0pt;font-family:\"Times New Roman\",serif;\n",
        "  mso-fareast-font-family:\"Times New Roman\";color:#343433'>96.28%±1.15</span><span\n",
        "  style='font-size:17.0pt;font-family:\"Times New Roman\",serif;mso-fareast-font-family:\n",
        "  \"Times New Roman\"'><o:p></o:p></span></p>\n",
        "  </td>\n",
        "  <td width=187 valign=top style='width:140.0pt;border-top:none;border-left:\n",
        "  none;border-bottom:solid #282828 1.0pt;border-right:solid #282828 1.0pt;\n",
        "  mso-border-bottom-alt:solid #282828 .5pt;mso-border-right-alt:solid #282828 .5pt;\n",
        "  padding:0cm 5.4pt 0cm 5.4pt;height:20.0pt'>\n",
        "  <p class=MsoNormal><span style='font-size:17.0pt;font-family:\"Times New Roman\",serif;\n",
        "  mso-fareast-font-family:\"Times New Roman\";color:#343433'>95.99%±1.68</span><span\n",
        "  style='font-size:17.0pt;font-family:\"Times New Roman\",serif;mso-fareast-font-family:\n",
        "  \"Times New Roman\"'><o:p></o:p></span></p>\n",
        "  </td>\n",
        "  <td width=187 valign=top style='width:140.0pt;border-top:none;border-left:\n",
        "  none;border-bottom:solid #282828 1.0pt;border-right:solid #282828 1.0pt;\n",
        "  mso-border-bottom-alt:solid #282828 .5pt;mso-border-right-alt:solid #282828 .5pt;\n",
        "  padding:0cm 5.4pt 0cm 5.4pt;height:20.0pt'>\n",
        "  <p class=MsoNormal><span style='font-size:17.0pt;font-family:\"Times New Roman\",serif;\n",
        "  mso-fareast-font-family:\"Times New Roman\";color:#343433'>96.99%±1.36</span><span\n",
        "  style='font-size:17.0pt;font-family:\"Times New Roman\",serif;mso-fareast-font-family:\n",
        "  \"Times New Roman\"'><o:p></o:p></span></p>\n",
        "  </td>\n",
        "  <td width=187 valign=top style='width:140.0pt;border-top:none;border-left:\n",
        "  none;border-bottom:solid #282828 1.0pt;border-right:solid #282828 1.0pt;\n",
        "  mso-border-top-alt:solid #282828 .5pt;mso-border-top-alt:solid #282828 .5pt;\n",
        "  mso-border-bottom-alt:solid #282828 .5pt;mso-border-right-alt:solid #282828 .5pt;\n",
        "  padding:0cm 5.4pt 0cm 5.4pt;height:20.0pt'>\n",
        "  <p class=MsoNormal><span style='font-size:17.0pt;font-family:\"Times New Roman\",serif;\n",
        "  mso-fareast-font-family:\"Times New Roman\";color:#343433'>96.85%±1.26</span><span\n",
        "  style='font-size:17.0pt;font-family:\"Times New Roman\",serif;mso-fareast-font-family:\n",
        "  \"Times New Roman\"'><o:p></o:p></span></p>\n",
        "  </td>\n",
        "  <td width=187 valign=top style='width:140.0pt;border-top:none;border-left:\n",
        "  none;border-bottom:solid #282828 1.0pt;border-right:solid #282828 1.0pt;\n",
        "  mso-border-bottom-alt:solid #282828 .5pt;mso-border-right-alt:solid #282828 .5pt;\n",
        "  padding:0cm 5.4pt 0cm 5.4pt;height:20.0pt'>\n",
        "  <p class=MsoNormal><span style='font-size:17.0pt;font-family:\"Times New Roman\",serif;\n",
        "  mso-fareast-font-family:\"Times New Roman\";color:#343433'>96.71%±1.58</span><span\n",
        "  style='font-size:17.0pt;font-family:\"Times New Roman\",serif;mso-fareast-font-family:\n",
        "  \"Times New Roman\"'><o:p></o:p></span></p>\n",
        "  </td>\n",
        "  <td width=195 valign=top style='width:146.0pt;border-top:none;border-left:\n",
        "  none;border-bottom:solid #282828 1.0pt;border-right:solid #282828 1.0pt;\n",
        "  mso-border-bottom-alt:solid #282828 .5pt;mso-border-right-alt:solid #282828 .5pt;\n",
        "  padding:0cm 5.4pt 0cm 5.4pt;height:20.0pt'>\n",
        "  <p class=MsoNormal><span style='font-size:17.0pt;font-family:\"Times New Roman\",serif;\n",
        "  mso-fareast-font-family:\"Times New Roman\";color:#343433'>96.42%±1.61</span><span\n",
        "  style='font-size:17.0pt;font-family:\"Times New Roman\",serif;mso-fareast-font-family:\n",
        "  \"Times New Roman\"'><o:p></o:p></span></p>\n",
        "  </td>\n",
        " </tr>\n",
        " <tr style='mso-yfti-irow:4;height:19.0pt'>\n",
        "  <td width=177 valign=top style='width:133.0pt;border:solid #282828 1.0pt;\n",
        "  border-top:none;mso-border-left-alt:solid #282828 .5pt;mso-border-bottom-alt:\n",
        "  solid #282828 .5pt;mso-border-right-alt:solid #282828 .5pt;padding:0cm 5.4pt 0cm 5.4pt;\n",
        "  height:19.0pt'>\n",
        "  <p class=MsoNormal><span style='font-size:17.0pt;font-family:\"Times New Roman\",serif;\n",
        "  mso-fareast-font-family:\"Times New Roman\";color:#343433'>Cleveland</span><span\n",
        "  style='font-size:17.0pt;font-family:\"Times New Roman\",serif;mso-fareast-font-family:\n",
        "  \"Times New Roman\"'><o:p></o:p></span></p>\n",
        "  </td>\n",
        "  <td width=169 valign=top style='width:127.0pt;border-top:none;border-left:\n",
        "  none;border-bottom:solid #282828 1.0pt;border-right:solid #282828 1.0pt;\n",
        "  mso-border-bottom-alt:solid #282828 .5pt;mso-border-right-alt:solid #282828 .5pt;\n",
        "  padding:0cm 5.4pt 0cm 5.4pt;height:19.0pt'>\n",
        "  <p class=MsoNormal><span style='font-size:17.0pt;font-family:\"Times New Roman\",serif;\n",
        "  mso-fareast-font-family:\"Times New Roman\";color:#343433'>81.14%±7.25</span><span\n",
        "  style='font-size:17.0pt;font-family:\"Times New Roman\",serif;mso-fareast-font-family:\n",
        "  \"Times New Roman\"'><o:p></o:p></span></p>\n",
        "  </td>\n",
        "  <td width=187 valign=top style='width:140.0pt;border-top:none;border-left:\n",
        "  none;border-bottom:solid #282828 1.0pt;border-right:solid #282828 1.0pt;\n",
        "  mso-border-bottom-alt:solid #282828 .5pt;mso-border-right-alt:solid #282828 .5pt;\n",
        "  padding:0cm 5.4pt 0cm 5.4pt;height:19.0pt'>\n",
        "  <p class=MsoNormal><span style='font-size:17.0pt;font-family:\"Times New Roman\",serif;\n",
        "  mso-fareast-font-family:\"Times New Roman\";color:#343433'>83.16%±7.94</span><span\n",
        "  style='font-size:17.0pt;font-family:\"Times New Roman\",serif;mso-fareast-font-family:\n",
        "  \"Times New Roman\"'><o:p></o:p></span></p>\n",
        "  </td>\n",
        "  <td width=187 valign=top style='width:140.0pt;border-top:none;border-left:\n",
        "  none;border-bottom:solid #282828 1.0pt;border-right:solid #282828 1.0pt;\n",
        "  mso-border-bottom-alt:solid #282828 .5pt;mso-border-right-alt:solid #282828 .5pt;\n",
        "  padding:0cm 5.4pt 0cm 5.4pt;height:19.0pt'>\n",
        "  <p class=MsoNormal><span style='font-size:17.0pt;font-family:\"Times New Roman\",serif;\n",
        "  mso-fareast-font-family:\"Times New Roman\";color:#343433'>82.46%±6.77</span><span\n",
        "  style='font-size:17.0pt;font-family:\"Times New Roman\",serif;mso-fareast-font-family:\n",
        "  \"Times New Roman\"'><o:p></o:p></span></p>\n",
        "  </td>\n",
        "  <td width=187 valign=top style='width:140.0pt;border-top:none;border-left:\n",
        "  none;border-bottom:solid #282828 1.0pt;border-right:solid #282828 1.0pt;\n",
        "  mso-border-top-alt:solid #282828 .5pt;mso-border-top-alt:solid #282828 .5pt;\n",
        "  mso-border-bottom-alt:solid #282828 .5pt;mso-border-right-alt:solid #282828 .5pt;\n",
        "  padding:0cm 5.4pt 0cm 5.4pt;height:19.0pt'>\n",
        "  <p class=MsoNormal><span style='font-size:17.0pt;font-family:\"Times New Roman\",serif;\n",
        "  mso-fareast-font-family:\"Times New Roman\";color:#343433'>82.46%±8.03</span><span\n",
        "  style='font-size:17.0pt;font-family:\"Times New Roman\",serif;mso-fareast-font-family:\n",
        "  \"Times New Roman\"'><o:p></o:p></span></p>\n",
        "  </td>\n",
        "  <td width=187 valign=top style='width:140.0pt;border-top:none;border-left:\n",
        "  none;border-bottom:solid #282828 1.0pt;border-right:solid #282828 1.0pt;\n",
        "  mso-border-bottom-alt:solid #282828 .5pt;mso-border-right-alt:solid #282828 .5pt;\n",
        "  padding:0cm 5.4pt 0cm 5.4pt;height:19.0pt'>\n",
        "  <p class=MsoNormal><span style='font-size:17.0pt;font-family:\"Times New Roman\",serif;\n",
        "  mso-fareast-font-family:\"Times New Roman\";color:#343433'>83.78%±6.48</span><span\n",
        "  style='font-size:17.0pt;font-family:\"Times New Roman\",serif;mso-fareast-font-family:\n",
        "  \"Times New Roman\"'><o:p></o:p></span></p>\n",
        "  </td>\n",
        "  <td width=195 valign=top style='width:146.0pt;border-top:none;border-left:\n",
        "  none;border-bottom:solid #282828 1.0pt;border-right:solid #282828 1.0pt;\n",
        "  mso-border-bottom-alt:solid #282828 .5pt;mso-border-right-alt:solid #282828 .5pt;\n",
        "  padding:0cm 5.4pt 0cm 5.4pt;height:19.0pt'>\n",
        "  <p class=MsoNormal><span style='font-size:17.0pt;font-family:\"Times New Roman\",serif;\n",
        "  mso-fareast-font-family:\"Times New Roman\";color:#343433'>82.16%±8.35</span><span\n",
        "  style='font-size:17.0pt;font-family:\"Times New Roman\",serif;mso-fareast-font-family:\n",
        "  \"Times New Roman\"'><o:p></o:p></span></p>\n",
        "  </td>\n",
        " </tr>\n",
        " <tr style='mso-yfti-irow:5;height:20.0pt'>\n",
        "  <td width=177 valign=top style='width:133.0pt;border:solid #282828 1.0pt;\n",
        "  border-top:none;mso-border-left-alt:solid #282828 .5pt;mso-border-bottom-alt:\n",
        "  solid #282828 .5pt;mso-border-right-alt:solid #282828 .5pt;padding:0cm 5.4pt 0cm 5.4pt;\n",
        "  height:20.0pt'>\n",
        "  <p class=MsoNormal><span style='font-size:17.0pt;font-family:\"Times New Roman\",serif;\n",
        "  mso-fareast-font-family:\"Times New Roman\";color:#343433'>Dermatology</span><span\n",
        "  style='font-size:17.0pt;font-family:\"Times New Roman\",serif;mso-fareast-font-family:\n",
        "  \"Times New Roman\"'><o:p></o:p></span></p>\n",
        "  </td>\n",
        "  <td width=169 valign=top style='width:127.0pt;border-top:none;border-left:\n",
        "  none;border-bottom:solid #282828 1.0pt;border-right:solid #282828 1.0pt;\n",
        "  mso-border-bottom-alt:solid #282828 .5pt;mso-border-right-alt:solid #282828 .5pt;\n",
        "  padding:0cm 5.4pt 0cm 5.4pt;height:20.0pt'>\n",
        "  <p class=MsoNormal><span style='font-size:17.0pt;font-family:\"Times New Roman\",serif;\n",
        "  mso-fareast-font-family:\"Times New Roman\";color:#343433'>96.74%±3.21</span><span\n",
        "  style='font-size:17.0pt;font-family:\"Times New Roman\",serif;mso-fareast-font-family:\n",
        "  \"Times New Roman\"'><o:p></o:p></span></p>\n",
        "  </td>\n",
        "  <td width=187 valign=top style='width:140.0pt;border-top:none;border-left:\n",
        "  none;border-bottom:solid #282828 1.0pt;border-right:solid #282828 1.0pt;\n",
        "  mso-border-bottom-alt:solid #282828 .5pt;mso-border-right-alt:solid #282828 .5pt;\n",
        "  padding:0cm 5.4pt 0cm 5.4pt;height:20.0pt'>\n",
        "  <p class=MsoNormal><span style='font-size:17.0pt;font-family:\"Times New Roman\",serif;\n",
        "  mso-fareast-font-family:\"Times New Roman\";color:#343433'>97.27%±3.24</span><span\n",
        "  style='font-size:17.0pt;font-family:\"Times New Roman\",serif;mso-fareast-font-family:\n",
        "  \"Times New Roman\"'><o:p></o:p></span></p>\n",
        "  </td>\n",
        "  <td width=187 valign=top style='width:140.0pt;border-top:none;border-left:\n",
        "  none;border-bottom:solid #282828 1.0pt;border-right:solid #282828 1.0pt;\n",
        "  mso-border-bottom-alt:solid #282828 .5pt;mso-border-right-alt:solid #282828 .5pt;\n",
        "  padding:0cm 5.4pt 0cm 5.4pt;height:20.0pt'>\n",
        "  <p class=MsoNormal><span style='font-size:17.0pt;font-family:\"Times New Roman\",serif;\n",
        "  mso-fareast-font-family:\"Times New Roman\";color:#343433'>97.27%±3.29</span><span\n",
        "  style='font-size:17.0pt;font-family:\"Times New Roman\",serif;mso-fareast-font-family:\n",
        "  \"Times New Roman\"'><o:p></o:p></span></p>\n",
        "  </td>\n",
        "  <td width=187 valign=top style='width:140.0pt;border-top:none;border-left:\n",
        "  none;border-bottom:solid #282828 1.0pt;border-right:solid #282828 1.0pt;\n",
        "  mso-border-top-alt:solid #282828 .5pt;mso-border-top-alt:solid #282828 .5pt;\n",
        "  mso-border-bottom-alt:solid #282828 .5pt;mso-border-right-alt:solid #282828 .5pt;\n",
        "  padding:0cm 5.4pt 0cm 5.4pt;height:20.0pt'>\n",
        "  <p class=MsoNormal><span style='font-size:17.0pt;font-family:\"Times New Roman\",serif;\n",
        "  mso-fareast-font-family:\"Times New Roman\";color:#343433'>97.30%±3.24</span><span\n",
        "  style='font-size:17.0pt;font-family:\"Times New Roman\",serif;mso-fareast-font-family:\n",
        "  \"Times New Roman\"'><o:p></o:p></span></p>\n",
        "  </td>\n",
        "  <td width=187 valign=top style='width:140.0pt;border-top:none;border-left:\n",
        "  none;border-bottom:solid #282828 1.0pt;border-right:solid #282828 1.0pt;\n",
        "  mso-border-bottom-alt:solid #282828 .5pt;mso-border-right-alt:solid #282828 .5pt;\n",
        "  padding:0cm 5.4pt 0cm 5.4pt;height:20.0pt'>\n",
        "  <p class=MsoNormal><span style='font-size:17.0pt;font-family:\"Times New Roman\",serif;\n",
        "  mso-fareast-font-family:\"Times New Roman\";color:#343433'>96.47%±3.28</span><span\n",
        "  style='font-size:17.0pt;font-family:\"Times New Roman\",serif;mso-fareast-font-family:\n",
        "  \"Times New Roman\"'><o:p></o:p></span></p>\n",
        "  </td>\n",
        "  <td width=195 valign=top style='width:146.0pt;border-top:none;border-left:\n",
        "  none;border-bottom:solid #282828 1.0pt;border-right:solid #282828 1.0pt;\n",
        "  mso-border-bottom-alt:solid #282828 .5pt;mso-border-right-alt:solid #282828 .5pt;\n",
        "  padding:0cm 5.4pt 0cm 5.4pt;height:20.0pt'>\n",
        "  <p class=MsoNormal><span style='font-size:17.0pt;font-family:\"Times New Roman\",serif;\n",
        "  mso-fareast-font-family:\"Times New Roman\";color:#343433'>96.18%±2.81</span><span\n",
        "  style='font-size:17.0pt;font-family:\"Times New Roman\",serif;mso-fareast-font-family:\n",
        "  \"Times New Roman\"'><o:p></o:p></span></p>\n",
        "  </td>\n",
        " </tr>\n",
        " <tr style='mso-yfti-irow:6;height:20.0pt'>\n",
        "  <td width=177 valign=top style='width:133.0pt;border:solid #282828 1.0pt;\n",
        "  border-top:none;mso-border-left-alt:solid #282828 .5pt;mso-border-bottom-alt:\n",
        "  solid #282828 .5pt;mso-border-right-alt:solid #282828 .5pt;padding:0cm 5.4pt 0cm 5.4pt;\n",
        "  height:20.0pt'>\n",
        "  <p class=MsoNormal><span style='font-size:17.0pt;font-family:\"Times New Roman\",serif;\n",
        "  mso-fareast-font-family:\"Times New Roman\";color:#343433'>Diabetes</span><span\n",
        "  style='font-size:17.0pt;font-family:\"Times New Roman\",serif;mso-fareast-font-family:\n",
        "  \"Times New Roman\"'><o:p></o:p></span></p>\n",
        "  </td>\n",
        "  <td width=169 valign=top style='width:127.0pt;border-top:none;border-left:\n",
        "  none;border-bottom:solid #282828 1.0pt;border-right:solid #282828 1.0pt;\n",
        "  mso-border-bottom-alt:solid #282828 .5pt;mso-border-right-alt:solid #282828 .5pt;\n",
        "  padding:0cm 5.4pt 0cm 5.4pt;height:20.0pt'>\n",
        "  <p class=MsoNormal><span style='font-size:17.0pt;font-family:\"Times New Roman\",serif;\n",
        "  mso-fareast-font-family:\"Times New Roman\";color:#343433'>75.65%±5.11</span><span\n",
        "  style='font-size:17.0pt;font-family:\"Times New Roman\",serif;mso-fareast-font-family:\n",
        "  \"Times New Roman\"'><o:p></o:p></span></p>\n",
        "  </td>\n",
        "  <td width=187 valign=top style='width:140.0pt;border-top:none;border-left:\n",
        "  none;border-bottom:solid #282828 1.0pt;border-right:solid #282828 1.0pt;\n",
        "  mso-border-bottom-alt:solid #282828 .5pt;mso-border-right-alt:solid #282828 .5pt;\n",
        "  padding:0cm 5.4pt 0cm 5.4pt;height:20.0pt'>\n",
        "  <p class=MsoNormal><span style='font-size:17.0pt;font-family:\"Times New Roman\",serif;\n",
        "  mso-fareast-font-family:\"Times New Roman\";color:#343433'>76.56%±4.50</span><span\n",
        "  style='font-size:17.0pt;font-family:\"Times New Roman\",serif;mso-fareast-font-family:\n",
        "  \"Times New Roman\"'><o:p></o:p></span></p>\n",
        "  </td>\n",
        "  <td width=187 valign=top style='width:140.0pt;border-top:none;border-left:\n",
        "  none;border-bottom:solid #282828 1.0pt;border-right:solid #282828 1.0pt;\n",
        "  mso-border-bottom-alt:solid #282828 .5pt;mso-border-right-alt:solid #282828 .5pt;\n",
        "  padding:0cm 5.4pt 0cm 5.4pt;height:20.0pt'>\n",
        "  <p class=MsoNormal><span style='font-size:17.0pt;font-family:\"Times New Roman\",serif;\n",
        "  mso-fareast-font-family:\"Times New Roman\";color:#343433'>76.69%±3.45</span><span\n",
        "  style='font-size:17.0pt;font-family:\"Times New Roman\",serif;mso-fareast-font-family:\n",
        "  \"Times New Roman\"'><o:p></o:p></span></p>\n",
        "  </td>\n",
        "  <td width=187 valign=top style='width:140.0pt;border-top:none;border-left:\n",
        "  none;border-bottom:solid #282828 1.0pt;border-right:solid #282828 1.0pt;\n",
        "  mso-border-top-alt:solid #282828 .5pt;mso-border-top-alt:solid #282828 .5pt;\n",
        "  mso-border-bottom-alt:solid #282828 .5pt;mso-border-right-alt:solid #282828 .5pt;\n",
        "  padding:0cm 5.4pt 0cm 5.4pt;height:20.0pt'>\n",
        "  <p class=MsoNormal><span style='font-size:17.0pt;font-family:\"Times New Roman\",serif;\n",
        "  mso-fareast-font-family:\"Times New Roman\";color:#343433'>76.69%±4.89</span><span\n",
        "  style='font-size:17.0pt;font-family:\"Times New Roman\",serif;mso-fareast-font-family:\n",
        "  \"Times New Roman\"'><o:p></o:p></span></p>\n",
        "  </td>\n",
        "  <td width=187 valign=top style='width:140.0pt;border-top:none;border-left:\n",
        "  none;border-bottom:solid #282828 1.0pt;border-right:solid #282828 1.0pt;\n",
        "  mso-border-bottom-alt:solid #282828 .5pt;mso-border-right-alt:solid #282828 .5pt;\n",
        "  padding:0cm 5.4pt 0cm 5.4pt;height:20.0pt'>\n",
        "  <p class=MsoNormal><span style='font-size:17.0pt;font-family:\"Times New Roman\",serif;\n",
        "  mso-fareast-font-family:\"Times New Roman\";color:#343433'>76.81%±4.43</span><span\n",
        "  style='font-size:17.0pt;font-family:\"Times New Roman\",serif;mso-fareast-font-family:\n",
        "  \"Times New Roman\"'><o:p></o:p></span></p>\n",
        "  </td>\n",
        "  <td width=195 valign=top style='width:146.0pt;border-top:none;border-left:\n",
        "  none;border-bottom:solid #282828 1.0pt;border-right:solid #282828 1.0pt;\n",
        "  mso-border-bottom-alt:solid #282828 .5pt;mso-border-right-alt:solid #282828 .5pt;\n",
        "  padding:0cm 5.4pt 0cm 5.4pt;height:20.0pt'>\n",
        "  <p class=MsoNormal><span style='font-size:17.0pt;font-family:\"Times New Roman\",serif;\n",
        "  mso-fareast-font-family:\"Times New Roman\";color:#343433'>76.30%±3.74</span><span\n",
        "  style='font-size:17.0pt;font-family:\"Times New Roman\",serif;mso-fareast-font-family:\n",
        "  \"Times New Roman\"'><o:p></o:p></span></p>\n",
        "  </td>\n",
        " </tr>\n",
        " <tr style='mso-yfti-irow:7;height:20.0pt'>\n",
        "  <td width=177 valign=top style='width:133.0pt;border:solid #282828 1.0pt;\n",
        "  border-top:none;mso-border-left-alt:solid #282828 .5pt;mso-border-bottom-alt:\n",
        "  solid #282828 .5pt;mso-border-right-alt:solid #282828 .5pt;padding:0cm 5.4pt 0cm 5.4pt;\n",
        "  height:20.0pt'>\n",
        "  <p class=MsoNormal align=center style='text-align:center'><span\n",
        "  style='font-size:17.0pt;font-family:\"Times New Roman\",serif;mso-fareast-font-family:\n",
        "  \"Times New Roman\";color:#343433'>Echo</span><span style='font-size:17.0pt;\n",
        "  font-family:\"Times New Roman\",serif;mso-fareast-font-family:\"Times New Roman\"'><o:p></o:p></span></p>\n",
        "  </td>\n",
        "  <td width=169 valign=top style='width:127.0pt;border-top:none;border-left:\n",
        "  none;border-bottom:solid #282828 1.0pt;border-right:solid #282828 1.0pt;\n",
        "  mso-border-bottom-alt:solid #282828 .5pt;mso-border-right-alt:solid #282828 .5pt;\n",
        "  padding:0cm 5.4pt 0cm 5.4pt;height:20.0pt'>\n",
        "  <p class=MsoNormal><span style='font-size:17.0pt;font-family:\"Times New Roman\",serif;\n",
        "  mso-fareast-font-family:\"Times New Roman\";color:#343433'>94.46%±6.80</span><span\n",
        "  style='font-size:17.0pt;font-family:\"Times New Roman\",serif;mso-fareast-font-family:\n",
        "  \"Times New Roman\"'><o:p></o:p></span></p>\n",
        "  </td>\n",
        "  <td width=187 valign=top style='width:140.0pt;border-top:none;border-left:\n",
        "  none;border-bottom:solid #282828 1.0pt;border-right:solid #282828 1.0pt;\n",
        "  mso-border-bottom-alt:solid #282828 .5pt;mso-border-right-alt:solid #282828 .5pt;\n",
        "  padding:0cm 5.4pt 0cm 5.4pt;height:20.0pt'>\n",
        "  <p class=MsoNormal><span style='font-size:17.0pt;font-family:\"Times New Roman\",serif;\n",
        "  mso-fareast-font-family:\"Times New Roman\";color:#343433'>98.75%±3.75</span><span\n",
        "  style='font-size:17.0pt;font-family:\"Times New Roman\",serif;mso-fareast-font-family:\n",
        "  \"Times New Roman\"'><o:p></o:p></span></p>\n",
        "  </td>\n",
        "  <td width=187 valign=top style='width:140.0pt;border-top:none;border-left:\n",
        "  none;border-bottom:solid #282828 1.0pt;border-right:solid #282828 1.0pt;\n",
        "  mso-border-bottom-alt:solid #282828 .5pt;mso-border-right-alt:solid #282828 .5pt;\n",
        "  padding:0cm 5.4pt 0cm 5.4pt;height:20.0pt'>\n",
        "  <p class=MsoNormal><span style='font-size:17.0pt;font-family:\"Times New Roman\",serif;\n",
        "  mso-fareast-font-family:\"Times New Roman\";color:#343433'>98.75%±3.75</span><span\n",
        "  style='font-size:17.0pt;font-family:\"Times New Roman\",serif;mso-fareast-font-family:\n",
        "  \"Times New Roman\"'><o:p></o:p></span></p>\n",
        "  </td>\n",
        "  <td width=187 valign=top style='width:140.0pt;border-top:none;border-left:\n",
        "  none;border-bottom:solid #282828 1.0pt;border-right:solid #282828 1.0pt;\n",
        "  mso-border-top-alt:solid #282828 .5pt;mso-border-top-alt:solid #282828 .5pt;\n",
        "  mso-border-bottom-alt:solid #282828 .5pt;mso-border-right-alt:solid #282828 .5pt;\n",
        "  padding:0cm 5.4pt 0cm 5.4pt;height:20.0pt'>\n",
        "  <p class=MsoNormal><span style='font-size:17.0pt;font-family:\"Times New Roman\",serif;\n",
        "  mso-fareast-font-family:\"Times New Roman\";color:#343433'>97.32%±5.37</span><span\n",
        "  style='font-size:17.0pt;font-family:\"Times New Roman\",serif;mso-fareast-font-family:\n",
        "  \"Times New Roman\"'><o:p></o:p></span></p>\n",
        "  </td>\n",
        "  <td width=187 valign=top style='width:140.0pt;border-top:none;border-left:\n",
        "  none;border-bottom:solid #282828 1.0pt;border-right:solid #282828 1.0pt;\n",
        "  mso-border-bottom-alt:solid #282828 .5pt;mso-border-right-alt:solid #282828 .5pt;\n",
        "  padding:0cm 5.4pt 0cm 5.4pt;height:20.0pt'>\n",
        "  <p class=MsoNormal><span style='font-size:17.0pt;font-family:\"Times New Roman\",serif;\n",
        "  mso-fareast-font-family:\"Times New Roman\";color:#343433'>97.32%±5.37</span><span\n",
        "  style='font-size:17.0pt;font-family:\"Times New Roman\",serif;mso-fareast-font-family:\n",
        "  \"Times New Roman\"'><o:p></o:p></span></p>\n",
        "  </td>\n",
        "  <td width=195 valign=top style='width:146.0pt;border-top:none;border-left:\n",
        "  none;border-bottom:solid #282828 1.0pt;border-right:solid #282828 1.0pt;\n",
        "  mso-border-bottom-alt:solid #282828 .5pt;mso-border-right-alt:solid #282828 .5pt;\n",
        "  padding:0cm 5.4pt 0cm 5.4pt;height:20.0pt'>\n",
        "  <p class=MsoNormal><span style='font-size:17.0pt;font-family:\"Times New Roman\",serif;\n",
        "  mso-fareast-font-family:\"Times New Roman\";color:#343433'>95.89%±6.29</span><span\n",
        "  style='font-size:17.0pt;font-family:\"Times New Roman\",serif;mso-fareast-font-family:\n",
        "  \"Times New Roman\"'><o:p></o:p></span></p>\n",
        "  </td>\n",
        " </tr>\n",
        " <tr style='mso-yfti-irow:8;height:20.0pt'>\n",
        "  <td width=177 valign=top style='width:133.0pt;border:solid #282828 1.0pt;\n",
        "  border-top:none;mso-border-left-alt:solid #282828 .5pt;mso-border-bottom-alt:\n",
        "  solid #282828 .5pt;mso-border-right-alt:solid #282828 .5pt;padding:0cm 5.4pt 0cm 5.4pt;\n",
        "  height:20.0pt'>\n",
        "  <p class=MsoNormal align=center style='text-align:center'><span class=SpellE><span\n",
        "  style='font-size:17.0pt;font-family:\"Times New Roman\",serif;mso-fareast-font-family:\n",
        "  \"Times New Roman\";color:#343433'>Ecoli</span></span><span style='font-size:\n",
        "  17.0pt;font-family:\"Times New Roman\",serif;mso-fareast-font-family:\"Times New Roman\"'><o:p></o:p></span></p>\n",
        "  </td>\n",
        "  <td width=169 valign=top style='width:127.0pt;border-top:none;border-left:\n",
        "  none;border-bottom:solid #282828 1.0pt;border-right:solid #282828 1.0pt;\n",
        "  mso-border-bottom-alt:solid #282828 .5pt;mso-border-right-alt:solid #282828 .5pt;\n",
        "  padding:0cm 5.4pt 0cm 5.4pt;height:20.0pt'>\n",
        "  <p class=MsoNormal><span style='font-size:17.0pt;font-family:\"Times New Roman\",serif;\n",
        "  mso-fareast-font-family:\"Times New Roman\";color:#343433'>86.87%±5.31</span><span\n",
        "  style='font-size:17.0pt;font-family:\"Times New Roman\",serif;mso-fareast-font-family:\n",
        "  \"Times New Roman\"'><o:p></o:p></span></p>\n",
        "  </td>\n",
        "  <td width=187 valign=top style='width:140.0pt;border-top:none;border-left:\n",
        "  none;border-bottom:solid #282828 1.0pt;border-right:solid #282828 1.0pt;\n",
        "  mso-border-bottom-alt:solid #282828 .5pt;mso-border-right-alt:solid #282828 .5pt;\n",
        "  padding:0cm 5.4pt 0cm 5.4pt;height:20.0pt'>\n",
        "  <p class=MsoNormal><span style='font-size:17.0pt;font-family:\"Times New Roman\",serif;\n",
        "  mso-fareast-font-family:\"Times New Roman\";color:#343433'>89.05%±4.12</span><span\n",
        "  style='font-size:17.0pt;font-family:\"Times New Roman\",serif;mso-fareast-font-family:\n",
        "  \"Times New Roman\"'><o:p></o:p></span></p>\n",
        "  </td>\n",
        "  <td width=187 valign=top style='width:140.0pt;border-top:none;border-left:\n",
        "  none;border-bottom:solid #282828 1.0pt;border-right:solid #282828 1.0pt;\n",
        "  mso-border-bottom-alt:solid #282828 .5pt;mso-border-right-alt:solid #282828 .5pt;\n",
        "  padding:0cm 5.4pt 0cm 5.4pt;height:20.0pt'>\n",
        "  <p class=MsoNormal><span style='font-size:17.0pt;font-family:\"Times New Roman\",serif;\n",
        "  mso-fareast-font-family:\"Times New Roman\";color:#343433'>89.07%±5.00</span><span\n",
        "  style='font-size:17.0pt;font-family:\"Times New Roman\",serif;mso-fareast-font-family:\n",
        "  \"Times New Roman\"'><o:p></o:p></span></p>\n",
        "  </td>\n",
        "  <td width=187 valign=top style='width:140.0pt;border-top:none;border-left:\n",
        "  none;border-bottom:solid #282828 1.0pt;border-right:solid #282828 1.0pt;\n",
        "  mso-border-top-alt:solid #282828 .5pt;mso-border-top-alt:solid #282828 .5pt;\n",
        "  mso-border-bottom-alt:solid #282828 .5pt;mso-border-right-alt:solid #282828 .5pt;\n",
        "  padding:0cm 5.4pt 0cm 5.4pt;height:20.0pt'>\n",
        "  <p class=MsoNormal><span style='font-size:17.0pt;font-family:\"Times New Roman\",serif;\n",
        "  mso-fareast-font-family:\"Times New Roman\";color:#343433'>89.11%±4.71</span><span\n",
        "  style='font-size:17.0pt;font-family:\"Times New Roman\",serif;mso-fareast-font-family:\n",
        "  \"Times New Roman\"'><o:p></o:p></span></p>\n",
        "  </td>\n",
        "  <td width=187 valign=top style='width:140.0pt;border-top:none;border-left:\n",
        "  none;border-bottom:solid #282828 1.0pt;border-right:solid #282828 1.0pt;\n",
        "  mso-border-bottom-alt:solid #282828 .5pt;mso-border-right-alt:solid #282828 .5pt;\n",
        "  padding:0cm 5.4pt 0cm 5.4pt;height:20.0pt'>\n",
        "  <p class=MsoNormal><span style='font-size:17.0pt;font-family:\"Times New Roman\",serif;\n",
        "  mso-fareast-font-family:\"Times New Roman\";color:#343433'>87.25%±6.88</span><span\n",
        "  style='font-size:17.0pt;font-family:\"Times New Roman\",serif;mso-fareast-font-family:\n",
        "  \"Times New Roman\"'><o:p></o:p></span></p>\n",
        "  </td>\n",
        "  <td width=195 valign=top style='width:146.0pt;border-top:none;border-left:\n",
        "  none;border-bottom:solid #282828 1.0pt;border-right:solid #282828 1.0pt;\n",
        "  mso-border-bottom-alt:solid #282828 .5pt;mso-border-right-alt:solid #282828 .5pt;\n",
        "  padding:0cm 5.4pt 0cm 5.4pt;height:20.0pt'>\n",
        "  <p class=MsoNormal><span style='font-size:17.0pt;font-family:\"Times New Roman\",serif;\n",
        "  mso-fareast-font-family:\"Times New Roman\";color:#343433'>87.81%±4.77</span><span\n",
        "  style='font-size:17.0pt;font-family:\"Times New Roman\",serif;mso-fareast-font-family:\n",
        "  \"Times New Roman\"'><o:p></o:p></span></p>\n",
        "  </td>\n",
        " </tr>\n",
        " <tr style='mso-yfti-irow:9;height:20.0pt'>\n",
        "  <td width=177 valign=top style='width:133.0pt;border:solid #282828 1.0pt;\n",
        "  border-top:none;mso-border-left-alt:solid #282828 .5pt;mso-border-bottom-alt:\n",
        "  solid #282828 .5pt;mso-border-right-alt:solid #282828 .5pt;padding:0cm 5.4pt 0cm 5.4pt;\n",
        "  height:20.0pt'>\n",
        "  <p class=MsoNormal><span style='font-size:17.0pt;font-family:\"Times New Roman\",serif;\n",
        "  mso-fareast-font-family:\"Times New Roman\";color:#343433'>German</span><span\n",
        "  style='font-size:17.0pt;font-family:\"Times New Roman\",serif;mso-fareast-font-family:\n",
        "  \"Times New Roman\"'><o:p></o:p></span></p>\n",
        "  </td>\n",
        "  <td width=169 valign=top style='width:127.0pt;border-top:none;border-left:\n",
        "  none;border-bottom:solid #282828 1.0pt;border-right:solid #282828 1.0pt;\n",
        "  mso-border-bottom-alt:solid #282828 .5pt;mso-border-right-alt:solid #282828 .5pt;\n",
        "  padding:0cm 5.4pt 0cm 5.4pt;height:20.0pt'>\n",
        "  <p class=MsoNormal><span style='font-size:17.0pt;font-family:\"Times New Roman\",serif;\n",
        "  mso-fareast-font-family:\"Times New Roman\";color:#343433'>79.00%±4.22</span><span\n",
        "  style='font-size:17.0pt;font-family:\"Times New Roman\",serif;mso-fareast-font-family:\n",
        "  \"Times New Roman\"'><o:p></o:p></span></p>\n",
        "  </td>\n",
        "  <td width=187 valign=top style='width:140.0pt;border-top:none;border-left:\n",
        "  none;border-bottom:solid #282828 1.0pt;border-right:solid #282828 1.0pt;\n",
        "  mso-border-bottom-alt:solid #282828 .5pt;mso-border-right-alt:solid #282828 .5pt;\n",
        "  padding:0cm 5.4pt 0cm 5.4pt;height:20.0pt'>\n",
        "  <p class=MsoNormal><span style='font-size:17.0pt;font-family:\"Times New Roman\",serif;\n",
        "  mso-fareast-font-family:\"Times New Roman\";color:#343433'>77.40%±4. 13</span><span\n",
        "  style='font-size:17.0pt;font-family:\"Times New Roman\",serif;mso-fareast-font-family:\n",
        "  \"Times New Roman\"'><o:p></o:p></span></p>\n",
        "  </td>\n",
        "  <td width=187 valign=top style='width:140.0pt;border-top:none;border-left:\n",
        "  none;border-bottom:solid #282828 1.0pt;border-right:solid #282828 1.0pt;\n",
        "  mso-border-bottom-alt:solid #282828 .5pt;mso-border-right-alt:solid #282828 .5pt;\n",
        "  padding:0cm 5.4pt 0cm 5.4pt;height:20.0pt'>\n",
        "  <p class=MsoNormal><span style='font-size:17.0pt;font-family:\"Times New Roman\",serif;\n",
        "  mso-fareast-font-family:\"Times New Roman\";color:#343433'>76.40%±4.48</span><span\n",
        "  style='font-size:17.0pt;font-family:\"Times New Roman\",serif;mso-fareast-font-family:\n",
        "  \"Times New Roman\"'><o:p></o:p></span></p>\n",
        "  </td>\n",
        "  <td width=187 valign=top style='width:140.0pt;border-top:none;border-left:\n",
        "  none;border-bottom:solid #282828 1.0pt;border-right:solid #282828 1.0pt;\n",
        "  mso-border-top-alt:solid #282828 .5pt;mso-border-top-alt:solid #282828 .5pt;\n",
        "  mso-border-bottom-alt:solid #282828 .5pt;mso-border-right-alt:solid #282828 .5pt;\n",
        "  padding:0cm 5.4pt 0cm 5.4pt;height:20.0pt'>\n",
        "  <p class=MsoNormal><span style='font-size:17.0pt;font-family:\"Times New Roman\",serif;\n",
        "  mso-fareast-font-family:\"Times New Roman\";color:#343433'>75.80%±4.17</span><span\n",
        "  style='font-size:17.0pt;font-family:\"Times New Roman\",serif;mso-fareast-font-family:\n",
        "  \"Times New Roman\"'><o:p></o:p></span></p>\n",
        "  </td>\n",
        "  <td width=187 valign=top style='width:140.0pt;border-top:none;border-left:\n",
        "  none;border-bottom:solid #282828 1.0pt;border-right:solid #282828 1.0pt;\n",
        "  mso-border-bottom-alt:solid #282828 .5pt;mso-border-right-alt:solid #282828 .5pt;\n",
        "  padding:0cm 5.4pt 0cm 5.4pt;height:20.0pt'>\n",
        "  <p class=MsoNormal><span style='font-size:17.0pt;font-family:\"Times New Roman\",serif;\n",
        "  mso-fareast-font-family:\"Times New Roman\";color:#343433'>76.70%±5.12</span><span\n",
        "  style='font-size:17.0pt;font-family:\"Times New Roman\",serif;mso-fareast-font-family:\n",
        "  \"Times New Roman\"'><o:p></o:p></span></p>\n",
        "  </td>\n",
        "  <td width=195 valign=top style='width:146.0pt;border-top:none;border-left:\n",
        "  none;border-bottom:solid #282828 1.0pt;border-right:solid #282828 1.0pt;\n",
        "  mso-border-bottom-alt:solid #282828 .5pt;mso-border-right-alt:solid #282828 .5pt;\n",
        "  padding:0cm 5.4pt 0cm 5.4pt;height:20.0pt'>\n",
        "  <p class=MsoNormal><span style='font-size:17.0pt;font-family:\"Times New Roman\",serif;\n",
        "  mso-fareast-font-family:\"Times New Roman\";color:#343433'>77.20%±3.99</span><span\n",
        "  style='font-size:17.0pt;font-family:\"Times New Roman\",serif;mso-fareast-font-family:\n",
        "  \"Times New Roman\"'><o:p></o:p></span></p>\n",
        "  </td>\n",
        " </tr>\n",
        " <tr style='mso-yfti-irow:10;height:20.0pt'>\n",
        "  <td width=177 valign=top style='width:133.0pt;border:solid #282828 1.0pt;\n",
        "  border-top:none;mso-border-left-alt:solid #282828 .5pt;mso-border-bottom-alt:\n",
        "  solid #282828 .5pt;mso-border-right-alt:solid #282828 .5pt;padding:0cm 5.4pt 0cm 5.4pt;\n",
        "  height:20.0pt'>\n",
        "  <p class=MsoNormal><span style='font-size:17.0pt;font-family:\"Times New Roman\",serif;\n",
        "  mso-fareast-font-family:\"Times New Roman\";color:#343433'>Heart</span><span\n",
        "  style='font-size:17.0pt;font-family:\"Times New Roman\",serif;mso-fareast-font-family:\n",
        "  \"Times New Roman\"'><o:p></o:p></span></p>\n",
        "  </td>\n",
        "  <td width=169 valign=top style='width:127.0pt;border-top:none;border-left:\n",
        "  none;border-bottom:solid #282828 1.0pt;border-right:solid #282828 1.0pt;\n",
        "  mso-border-bottom-alt:solid #282828 .5pt;mso-border-right-alt:solid #282828 .5pt;\n",
        "  padding:0cm 5.4pt 0cm 5.4pt;height:20.0pt'>\n",
        "  <p class=MsoNormal><span style='font-size:17.0pt;font-family:\"Times New Roman\",serif;\n",
        "  mso-fareast-font-family:\"Times New Roman\";color:#343433'>79.26%±5.29</span><span\n",
        "  style='font-size:17.0pt;font-family:\"Times New Roman\",serif;mso-fareast-font-family:\n",
        "  \"Times New Roman\"'><o:p></o:p></span></p>\n",
        "  </td>\n",
        "  <td width=187 valign=top style='width:140.0pt;border-top:none;border-left:\n",
        "  none;border-bottom:solid #282828 1.0pt;border-right:solid #282828 1.0pt;\n",
        "  mso-border-bottom-alt:solid #282828 .5pt;mso-border-right-alt:solid #282828 .5pt;\n",
        "  padding:0cm 5.4pt 0cm 5.4pt;height:20.0pt'>\n",
        "  <p class=MsoNormal><span style='font-size:17.0pt;font-family:\"Times New Roman\",serif;\n",
        "  mso-fareast-font-family:\"Times New Roman\";color:#343433'>84.07%±5.98</span><span\n",
        "  style='font-size:17.0pt;font-family:\"Times New Roman\",serif;mso-fareast-font-family:\n",
        "  \"Times New Roman\"'><o:p></o:p></span></p>\n",
        "  </td>\n",
        "  <td width=187 valign=top style='width:140.0pt;border-top:none;border-left:\n",
        "  none;border-bottom:solid #282828 1.0pt;border-right:solid #282828 1.0pt;\n",
        "  mso-border-bottom-alt:solid #282828 .5pt;mso-border-right-alt:solid #282828 .5pt;\n",
        "  padding:0cm 5.4pt 0cm 5.4pt;height:20.0pt'>\n",
        "  <p class=MsoNormal><span style='font-size:17.0pt;font-family:\"Times New Roman\",serif;\n",
        "  mso-fareast-font-family:\"Times New Roman\";color:#343433'>83.33%±5.56</span><span\n",
        "  style='font-size:17.0pt;font-family:\"Times New Roman\",serif;mso-fareast-font-family:\n",
        "  \"Times New Roman\"'><o:p></o:p></span></p>\n",
        "  </td>\n",
        "  <td width=187 valign=top style='width:140.0pt;border-top:none;border-left:\n",
        "  none;border-bottom:solid #282828 1.0pt;border-right:solid #282828 1.0pt;\n",
        "  mso-border-top-alt:solid #282828 .5pt;mso-border-top-alt:solid #282828 .5pt;\n",
        "  mso-border-bottom-alt:solid #282828 .5pt;mso-border-right-alt:solid #282828 .5pt;\n",
        "  padding:0cm 5.4pt 0cm 5.4pt;height:20.0pt'>\n",
        "  <p class=MsoNormal><span style='font-size:17.0pt;font-family:\"Times New Roman\",serif;\n",
        "  mso-fareast-font-family:\"Times New Roman\";color:#343433'>84.44%±5 .19</span><span\n",
        "  style='font-size:17.0pt;font-family:\"Times New Roman\",serif;mso-fareast-font-family:\n",
        "  \"Times New Roman\"'><o:p></o:p></span></p>\n",
        "  </td>\n",
        "  <td width=187 valign=top style='width:140.0pt;border-top:none;border-left:\n",
        "  none;border-bottom:solid #282828 1.0pt;border-right:solid #282828 1.0pt;\n",
        "  mso-border-bottom-alt:solid #282828 .5pt;mso-border-right-alt:solid #282828 .5pt;\n",
        "  padding:0cm 5.4pt 0cm 5.4pt;height:20.0pt'>\n",
        "  <p class=MsoNormal><span style='font-size:17.0pt;font-family:\"Times New Roman\",serif;\n",
        "  mso-fareast-font-family:\"Times New Roman\";color:#343433'>81.85%±7.67</span><span\n",
        "  style='font-size:17.0pt;font-family:\"Times New Roman\",serif;mso-fareast-font-family:\n",
        "  \"Times New Roman\"'><o:p></o:p></span></p>\n",
        "  </td>\n",
        "  <td width=195 valign=top style='width:146.0pt;border-top:none;border-left:\n",
        "  none;border-bottom:solid #282828 1.0pt;border-right:solid #282828 1.0pt;\n",
        "  mso-border-bottom-alt:solid #282828 .5pt;mso-border-right-alt:solid #282828 .5pt;\n",
        "  padding:0cm 5.4pt 0cm 5.4pt;height:20.0pt'>\n",
        "  <p class=MsoNormal><span style='font-size:17.0pt;font-family:\"Times New Roman\",serif;\n",
        "  mso-fareast-font-family:\"Times New Roman\";color:#343433'>83.70%±5.29</span><span\n",
        "  style='font-size:17.0pt;font-family:\"Times New Roman\",serif;mso-fareast-font-family:\n",
        "  \"Times New Roman\"'><o:p></o:p></span></p>\n",
        "  </td>\n",
        " </tr>\n",
        " <tr style='mso-yfti-irow:11;height:20.0pt'>\n",
        "  <td width=177 valign=top style='width:133.0pt;border:solid #282828 1.0pt;\n",
        "  border-top:none;mso-border-left-alt:solid #282828 .5pt;mso-border-bottom-alt:\n",
        "  solid #282828 .5pt;mso-border-right-alt:solid #282828 .5pt;padding:0cm 5.4pt 0cm 5.4pt;\n",
        "  height:20.0pt'>\n",
        "  <p class=MsoNormal><span style='font-size:17.0pt;font-family:\"Times New Roman\",serif;\n",
        "  mso-fareast-font-family:\"Times New Roman\";color:#343433'>Hepatitis</span><span\n",
        "  style='font-size:17.0pt;font-family:\"Times New Roman\",serif;mso-fareast-font-family:\n",
        "  \"Times New Roman\"'><o:p></o:p></span></p>\n",
        "  </td>\n",
        "  <td width=169 valign=top style='width:127.0pt;border-top:none;border-left:\n",
        "  none;border-bottom:solid #282828 1.0pt;border-right:solid #282828 1.0pt;\n",
        "  mso-border-bottom-alt:solid #282828 .5pt;mso-border-right-alt:solid #282828 .5pt;\n",
        "  padding:0cm 5.4pt 0cm 5.4pt;height:20.0pt'>\n",
        "  <p class=MsoNormal><span style='font-size:17.0pt;font-family:\"Times New Roman\",serif;\n",
        "  mso-fareast-font-family:\"Times New Roman\";color:#343433'>59.21%±8.28</span><span\n",
        "  style='font-size:17.0pt;font-family:\"Times New Roman\",serif;mso-fareast-font-family:\n",
        "  \"Times New Roman\"'><o:p></o:p></span></p>\n",
        "  </td>\n",
        "  <td width=187 valign=top style='width:140.0pt;border-top:none;border-left:\n",
        "  none;border-bottom:solid #282828 1.0pt;border-right:solid #282828 1.0pt;\n",
        "  mso-border-bottom-alt:solid #282828 .5pt;mso-border-right-alt:solid #282828 .5pt;\n",
        "  padding:0cm 5.4pt 0cm 5.4pt;height:20.0pt'>\n",
        "  <p class=MsoNormal><span style='font-size:17.0pt;font-family:\"Times New Roman\",serif;\n",
        "  mso-fareast-font-family:\"Times New Roman\";color:#343433'>67.00%±6.56</span><span\n",
        "  style='font-size:17.0pt;font-family:\"Times New Roman\",serif;mso-fareast-font-family:\n",
        "  \"Times New Roman\"'><o:p></o:p></span></p>\n",
        "  </td>\n",
        "  <td width=187 valign=top style='width:140.0pt;border-top:none;border-left:\n",
        "  none;border-bottom:solid #282828 1.0pt;border-right:solid #282828 1.0pt;\n",
        "  mso-border-bottom-alt:solid #282828 .5pt;mso-border-right-alt:solid #282828 .5pt;\n",
        "  padding:0cm 5.4pt 0cm 5.4pt;height:20.0pt'>\n",
        "  <p class=MsoNormal><span style='font-size:17.0pt;font-family:\"Times New Roman\",serif;\n",
        "  mso-fareast-font-family:\"Times New Roman\";color:#343433'>65.54%±12.35</span><span\n",
        "  style='font-size:17.0pt;font-family:\"Times New Roman\",serif;mso-fareast-font-family:\n",
        "  \"Times New Roman\"'><o:p></o:p></span></p>\n",
        "  </td>\n",
        "  <td width=187 valign=top style='width:140.0pt;border-top:none;border-left:\n",
        "  none;border-bottom:solid #282828 1.0pt;border-right:solid #282828 1.0pt;\n",
        "  mso-border-top-alt:solid #282828 .5pt;mso-border-top-alt:solid #282828 .5pt;\n",
        "  mso-border-bottom-alt:solid #282828 .5pt;mso-border-right-alt:solid #282828 .5pt;\n",
        "  padding:0cm 5.4pt 0cm 5.4pt;height:20.0pt'>\n",
        "  <p class=MsoNormal><span style='font-size:17.0pt;font-family:\"Times New Roman\",serif;\n",
        "  mso-fareast-font-family:\"Times New Roman\";color:#343433'>61.83%±12.68</span><span\n",
        "  style='font-size:17.0pt;font-family:\"Times New Roman\",serif;mso-fareast-font-family:\n",
        "  \"Times New Roman\"'><o:p></o:p></span></p>\n",
        "  </td>\n",
        "  <td width=187 valign=top style='width:140.0pt;border-top:none;border-left:\n",
        "  none;border-bottom:solid #282828 1.0pt;border-right:solid #282828 1.0pt;\n",
        "  mso-border-bottom-alt:solid #282828 .5pt;mso-border-right-alt:solid #282828 .5pt;\n",
        "  padding:0cm 5.4pt 0cm 5.4pt;height:20.0pt'>\n",
        "  <p class=MsoNormal><span style='font-size:17.0pt;font-family:\"Times New Roman\",serif;\n",
        "  mso-fareast-font-family:\"Times New Roman\";color:#343433'>56.58%±11.90</span><span\n",
        "  style='font-size:17.0pt;font-family:\"Times New Roman\",serif;mso-fareast-font-family:\n",
        "  \"Times New Roman\"'><o:p></o:p></span></p>\n",
        "  </td>\n",
        "  <td width=195 valign=top style='width:146.0pt;border-top:none;border-left:\n",
        "  none;border-bottom:solid #282828 1.0pt;border-right:solid #282828 1.0pt;\n",
        "  mso-border-bottom-alt:solid #282828 .5pt;mso-border-right-alt:solid #282828 .5pt;\n",
        "  padding:0cm 5.4pt 0cm 5.4pt;height:20.0pt'>\n",
        "  <p class=MsoNormal><span style='font-size:17.0pt;font-family:\"Times New Roman\",serif;\n",
        "  mso-fareast-font-family:\"Times New Roman\";color:#343433'>64.96%±13.08</span><span\n",
        "  style='font-size:17.0pt;font-family:\"Times New Roman\",serif;mso-fareast-font-family:\n",
        "  \"Times New Roman\"'><o:p></o:p></span></p>\n",
        "  </td>\n",
        " </tr>\n",
        " <tr style='mso-yfti-irow:12;height:20.0pt'>\n",
        "  <td width=177 valign=top style='width:133.0pt;border:solid #282828 1.0pt;\n",
        "  border-top:none;mso-border-left-alt:solid #282828 .5pt;mso-border-bottom-alt:\n",
        "  solid #282828 .5pt;mso-border-right-alt:solid #282828 .5pt;padding:0cm 5.4pt 0cm 5.4pt;\n",
        "  height:20.0pt'>\n",
        "  <p class=MsoNormal><span style='font-size:17.0pt;font-family:\"Times New Roman\",serif;\n",
        "  mso-fareast-font-family:\"Times New Roman\";color:#343433'>Ionosphere</span><span\n",
        "  style='font-size:17.0pt;font-family:\"Times New Roman\",serif;mso-fareast-font-family:\n",
        "  \"Times New Roman\"'><o:p></o:p></span></p>\n",
        "  </td>\n",
        "  <td width=169 valign=top style='width:127.0pt;border-top:none;border-left:\n",
        "  none;border-bottom:solid #282828 1.0pt;border-right:solid #282828 1.0pt;\n",
        "  mso-border-bottom-alt:solid #282828 .5pt;mso-border-right-alt:solid #282828 .5pt;\n",
        "  padding:0cm 5.4pt 0cm 5.4pt;height:20.0pt'>\n",
        "  <p class=MsoNormal><span style='font-size:17.0pt;font-family:\"Times New Roman\",serif;\n",
        "  mso-fareast-font-family:\"Times New Roman\";color:#343433'>92.56%±2.69</span><span\n",
        "  style='font-size:17.0pt;font-family:\"Times New Roman\",serif;mso-fareast-font-family:\n",
        "  \"Times New Roman\"'><o:p></o:p></span></p>\n",
        "  </td>\n",
        "  <td width=187 valign=top style='width:140.0pt;border-top:none;border-left:\n",
        "  none;border-bottom:solid #282828 1.0pt;border-right:solid #282828 1.0pt;\n",
        "  mso-border-bottom-alt:solid #282828 .5pt;mso-border-right-alt:solid #282828 .5pt;\n",
        "  padding:0cm 5.4pt 0cm 5.4pt;height:20.0pt'>\n",
        "  <p class=MsoNormal><span style='font-size:17.0pt;font-family:\"Times New Roman\",serif;\n",
        "  mso-fareast-font-family:\"Times New Roman\";color:#343433'>92.59%±3.17</span><span\n",
        "  style='font-size:17.0pt;font-family:\"Times New Roman\",serif;mso-fareast-font-family:\n",
        "  \"Times New Roman\"'><o:p></o:p></span></p>\n",
        "  </td>\n",
        "  <td width=187 valign=top style='width:140.0pt;border-top:none;border-left:\n",
        "  none;border-bottom:solid #282828 1.0pt;border-right:solid #282828 1.0pt;\n",
        "  mso-border-bottom-alt:solid #282828 .5pt;mso-border-right-alt:solid #282828 .5pt;\n",
        "  padding:0cm 5.4pt 0cm 5.4pt;height:20.0pt'>\n",
        "  <p class=MsoNormal><span style='font-size:17.0pt;font-family:\"Times New Roman\",serif;\n",
        "  mso-fareast-font-family:\"Times New Roman\";color:#343433'>93.44%±2.88</span><span\n",
        "  style='font-size:17.0pt;font-family:\"Times New Roman\",serif;mso-fareast-font-family:\n",
        "  \"Times New Roman\"'><o:p></o:p></span></p>\n",
        "  </td>\n",
        "  <td width=187 valign=top style='width:140.0pt;border-top:none;border-left:\n",
        "  none;border-bottom:solid #282828 1.0pt;border-right:solid #282828 1.0pt;\n",
        "  mso-border-top-alt:solid #282828 .5pt;mso-border-top-alt:solid #282828 .5pt;\n",
        "  mso-border-bottom-alt:solid #282828 .5pt;mso-border-right-alt:solid #282828 .5pt;\n",
        "  padding:0cm 5.4pt 0cm 5.4pt;height:20.0pt'>\n",
        "  <p class=MsoNormal><span style='font-size:17.0pt;font-family:\"Times New Roman\",serif;\n",
        "  mso-fareast-font-family:\"Times New Roman\";color:#343433'>93.16%±2.91</span><span\n",
        "  style='font-size:17.0pt;font-family:\"Times New Roman\",serif;mso-fareast-font-family:\n",
        "  \"Times New Roman\"'><o:p></o:p></span></p>\n",
        "  </td>\n",
        "  <td width=187 valign=top style='width:140.0pt;border-top:none;border-left:\n",
        "  none;border-bottom:solid #282828 1.0pt;border-right:solid #282828 1.0pt;\n",
        "  mso-border-bottom-alt:solid #282828 .5pt;mso-border-right-alt:solid #282828 .5pt;\n",
        "  padding:0cm 5.4pt 0cm 5.4pt;height:20.0pt'>\n",
        "  <p class=MsoNormal><span style='font-size:17.0pt;font-family:\"Times New Roman\",serif;\n",
        "  mso-fareast-font-family:\"Times New Roman\";color:#343433'>93.72%±2.51</span><span\n",
        "  style='font-size:17.0pt;font-family:\"Times New Roman\",serif;mso-fareast-font-family:\n",
        "  \"Times New Roman\"'><o:p></o:p></span></p>\n",
        "  </td>\n",
        "  <td width=195 valign=top style='width:146.0pt;border-top:none;border-left:\n",
        "  none;border-bottom:solid #282828 1.0pt;border-right:solid #282828 1.0pt;\n",
        "  mso-border-bottom-alt:solid #282828 .5pt;mso-border-right-alt:solid #282828 .5pt;\n",
        "  padding:0cm 5.4pt 0cm 5.4pt;height:20.0pt'>\n",
        "  <p class=MsoNormal><span style='font-size:17.0pt;font-family:\"Times New Roman\",serif;\n",
        "  mso-fareast-font-family:\"Times New Roman\";color:#343433'>92.85%±3.02</span><span\n",
        "  style='font-size:17.0pt;font-family:\"Times New Roman\",serif;mso-fareast-font-family:\n",
        "  \"Times New Roman\"'><o:p></o:p></span></p>\n",
        "  </td>\n",
        " </tr>\n",
        " <tr style='mso-yfti-irow:13;height:20.0pt'>\n",
        "  <td width=177 valign=top style='width:133.0pt;border:solid #282828 1.0pt;\n",
        "  border-top:none;mso-border-left-alt:solid #282828 .5pt;mso-border-bottom-alt:\n",
        "  solid #282828 .5pt;mso-border-right-alt:solid #282828 .5pt;padding:0cm 5.4pt 0cm 5.4pt;\n",
        "  height:20.0pt'>\n",
        "  <p class=MsoNormal align=center style='text-align:center'><span\n",
        "  style='font-size:17.0pt;font-family:\"Times New Roman\",serif;mso-fareast-font-family:\n",
        "  \"Times New Roman\";color:#343433'>Iris</span><span style='font-size:17.0pt;\n",
        "  font-family:\"Times New Roman\",serif;mso-fareast-font-family:\"Times New Roman\"'><o:p></o:p></span></p>\n",
        "  </td>\n",
        "  <td width=169 valign=top style='width:127.0pt;border-top:none;border-left:\n",
        "  none;border-bottom:solid #282828 1.0pt;border-right:solid #282828 1.0pt;\n",
        "  mso-border-bottom-alt:solid #282828 .5pt;mso-border-right-alt:solid #282828 .5pt;\n",
        "  padding:0cm 5.4pt 0cm 5.4pt;height:20.0pt'>\n",
        "  <p class=MsoNormal><span style='font-size:17.0pt;font-family:\"Times New Roman\",serif;\n",
        "  mso-fareast-font-family:\"Times New Roman\";color:#343433'>92.67%±6.29</span><span\n",
        "  style='font-size:17.0pt;font-family:\"Times New Roman\",serif;mso-fareast-font-family:\n",
        "  \"Times New Roman\"'><o:p></o:p></span></p>\n",
        "  </td>\n",
        "  <td width=187 valign=top style='width:140.0pt;border-top:none;border-left:\n",
        "  none;border-bottom:solid #282828 1.0pt;border-right:solid #282828 1.0pt;\n",
        "  mso-border-bottom-alt:solid #282828 .5pt;mso-border-right-alt:solid #282828 .5pt;\n",
        "  padding:0cm 5.4pt 0cm 5.4pt;height:20.0pt'>\n",
        "  <p class=MsoNormal><span style='font-size:17.0pt;font-family:\"Times New Roman\",serif;\n",
        "  mso-fareast-font-family:\"Times New Roman\";color:#343433'>94.00%±4.67</span><span\n",
        "  style='font-size:17.0pt;font-family:\"Times New Roman\",serif;mso-fareast-font-family:\n",
        "  \"Times New Roman\"'><o:p></o:p></span></p>\n",
        "  </td>\n",
        "  <td width=187 valign=top style='width:140.0pt;border-top:none;border-left:\n",
        "  none;border-bottom:solid #282828 1.0pt;border-right:solid #282828 1.0pt;\n",
        "  mso-border-bottom-alt:solid #282828 .5pt;mso-border-right-alt:solid #282828 .5pt;\n",
        "  padding:0cm 5.4pt 0cm 5.4pt;height:20.0pt'>\n",
        "  <p class=MsoNormal><span style='font-size:17.0pt;font-family:\"Times New Roman\",serif;\n",
        "  mso-fareast-font-family:\"Times New Roman\";color:#343433'>94.67%±4.99</span><span\n",
        "  style='font-size:17.0pt;font-family:\"Times New Roman\",serif;mso-fareast-font-family:\n",
        "  \"Times New Roman\"'><o:p></o:p></span></p>\n",
        "  </td>\n",
        "  <td width=187 valign=top style='width:140.0pt;border-top:none;border-left:\n",
        "  none;border-bottom:solid #282828 1.0pt;border-right:solid #282828 1.0pt;\n",
        "  mso-border-top-alt:solid #282828 .5pt;mso-border-top-alt:solid #282828 .5pt;\n",
        "  mso-border-bottom-alt:solid #282828 .5pt;mso-border-right-alt:solid #282828 .5pt;\n",
        "  padding:0cm 5.4pt 0cm 5.4pt;height:20.0pt'>\n",
        "  <p class=MsoNormal><span style='font-size:17.0pt;font-family:\"Times New Roman\",serif;\n",
        "  mso-fareast-font-family:\"Times New Roman\";color:#343433'>92.67%±6.29</span><span\n",
        "  style='font-size:17.0pt;font-family:\"Times New Roman\",serif;mso-fareast-font-family:\n",
        "  \"Times New Roman\"'><o:p></o:p></span></p>\n",
        "  </td>\n",
        "  <td width=187 valign=top style='width:140.0pt;border-top:none;border-left:\n",
        "  none;border-bottom:solid #282828 1.0pt;border-right:solid #282828 1.0pt;\n",
        "  mso-border-bottom-alt:solid #282828 .5pt;mso-border-right-alt:solid #282828 .5pt;\n",
        "  padding:0cm 5.4pt 0cm 5.4pt;height:20.0pt'>\n",
        "  <p class=MsoNormal><span style='font-size:17.0pt;font-family:\"Times New Roman\",serif;\n",
        "  mso-fareast-font-family:\"Times New Roman\";color:#343433'>94.67%±4.99</span><span\n",
        "  style='font-size:17.0pt;font-family:\"Times New Roman\",serif;mso-fareast-font-family:\n",
        "  \"Times New Roman\"'><o:p></o:p></span></p>\n",
        "  </td>\n",
        "  <td width=195 valign=top style='width:146.0pt;border-top:none;border-left:\n",
        "  none;border-bottom:solid #282828 1.0pt;border-right:solid #282828 1.0pt;\n",
        "  mso-border-bottom-alt:solid #282828 .5pt;mso-border-right-alt:solid #282828 .5pt;\n",
        "  padding:0cm 5.4pt 0cm 5.4pt;height:20.0pt'>\n",
        "  <p class=MsoNormal><span style='font-size:17.0pt;font-family:\"Times New Roman\",serif;\n",
        "  mso-fareast-font-family:\"Times New Roman\";color:#343433'>94.67%±4.99</span><span\n",
        "  style='font-size:17.0pt;font-family:\"Times New Roman\",serif;mso-fareast-font-family:\n",
        "  \"Times New Roman\"'><o:p></o:p></span></p>\n",
        "  </td>\n",
        " </tr>\n",
        " <tr style='mso-yfti-irow:14;height:19.0pt'>\n",
        "  <td width=177 valign=top style='width:133.0pt;border:solid #282828 1.0pt;\n",
        "  border-top:none;mso-border-left-alt:solid #282828 .5pt;mso-border-bottom-alt:\n",
        "  solid #282828 .5pt;mso-border-right-alt:solid #282828 .5pt;padding:0cm 5.4pt 0cm 5.4pt;\n",
        "  height:19.0pt'>\n",
        "  <p class=MsoNormal align=center style='text-align:center'><span\n",
        "  style='font-size:17.0pt;font-family:\"Times New Roman\",serif;mso-fareast-font-family:\n",
        "  \"Times New Roman\";color:#343433'>Liver</span><span style='font-size:17.0pt;\n",
        "  font-family:\"Times New Roman\",serif;mso-fareast-font-family:\"Times New Roman\"'><o:p></o:p></span></p>\n",
        "  </td>\n",
        "  <td width=169 valign=top style='width:127.0pt;border-top:none;border-left:\n",
        "  none;border-bottom:solid #282828 1.0pt;border-right:solid #282828 1.0pt;\n",
        "  mso-border-bottom-alt:solid #282828 .5pt;mso-border-right-alt:solid #282828 .5pt;\n",
        "  padding:0cm 5.4pt 0cm 5.4pt;height:19.0pt'>\n",
        "  <p class=MsoNormal><span style='font-size:17.0pt;font-family:\"Times New Roman\",serif;\n",
        "  mso-fareast-font-family:\"Times New Roman\";color:#343433'>68.65%±4.69</span><span\n",
        "  style='font-size:17.0pt;font-family:\"Times New Roman\",serif;mso-fareast-font-family:\n",
        "  \"Times New Roman\"'><o:p></o:p></span></p>\n",
        "  </td>\n",
        "  <td width=187 valign=top style='width:140.0pt;border-top:none;border-left:\n",
        "  none;border-bottom:solid #282828 1.0pt;border-right:solid #282828 1.0pt;\n",
        "  mso-border-bottom-alt:solid #282828 .5pt;mso-border-right-alt:solid #282828 .5pt;\n",
        "  padding:0cm 5.4pt 0cm 5.4pt;height:19.0pt'>\n",
        "  <p class=MsoNormal><span style='font-size:17.0pt;font-family:\"Times New Roman\",serif;\n",
        "  mso-fareast-font-family:\"Times New Roman\";color:#343433'>68.11%±6.12</span><span\n",
        "  style='font-size:17.0pt;font-family:\"Times New Roman\",serif;mso-fareast-font-family:\n",
        "  \"Times New Roman\"'><o:p></o:p></span></p>\n",
        "  </td>\n",
        "  <td width=187 valign=top style='width:140.0pt;border-top:none;border-left:\n",
        "  none;border-bottom:solid #282828 1.0pt;border-right:solid #282828 1.0pt;\n",
        "  mso-border-bottom-alt:solid #282828 .5pt;mso-border-right-alt:solid #282828 .5pt;\n",
        "  padding:0cm 5.4pt 0cm 5.4pt;height:19.0pt'>\n",
        "  <p class=MsoNormal><span style='font-size:17.0pt;font-family:\"Times New Roman\",serif;\n",
        "  mso-fareast-font-family:\"Times New Roman\";color:#343433'>67.76%±5.03</span><span\n",
        "  style='font-size:17.0pt;font-family:\"Times New Roman\",serif;mso-fareast-font-family:\n",
        "  \"Times New Roman\"'><o:p></o:p></span></p>\n",
        "  </td>\n",
        "  <td width=187 valign=top style='width:140.0pt;border-top:none;border-left:\n",
        "  none;border-bottom:solid #282828 1.0pt;border-right:solid #282828 1.0pt;\n",
        "  mso-border-top-alt:solid #282828 .5pt;mso-border-top-alt:solid #282828 .5pt;\n",
        "  mso-border-bottom-alt:solid #282828 .5pt;mso-border-right-alt:solid #282828 .5pt;\n",
        "  padding:0cm 5.4pt 0cm 5.4pt;height:19.0pt'>\n",
        "  <p class=MsoNormal><span style='font-size:17.0pt;font-family:\"Times New Roman\",serif;\n",
        "  mso-fareast-font-family:\"Times New Roman\";color:#343433'>67.58%±4.07</span><span\n",
        "  style='font-size:17.0pt;font-family:\"Times New Roman\",serif;mso-fareast-font-family:\n",
        "  \"Times New Roman\"'><o:p></o:p></span></p>\n",
        "  </td>\n",
        "  <td width=187 valign=top style='width:140.0pt;border-top:none;border-left:\n",
        "  none;border-bottom:solid #282828 1.0pt;border-right:solid #282828 1.0pt;\n",
        "  mso-border-bottom-alt:solid #282828 .5pt;mso-border-right-alt:solid #282828 .5pt;\n",
        "  padding:0cm 5.4pt 0cm 5.4pt;height:19.0pt'>\n",
        "  <p class=MsoNormal><span style='font-size:17.0pt;font-family:\"Times New Roman\",serif;\n",
        "  mso-fareast-font-family:\"Times New Roman\";color:#343433'>69.33%±5.26</span><span\n",
        "  style='font-size:17.0pt;font-family:\"Times New Roman\",serif;mso-fareast-font-family:\n",
        "  \"Times New Roman\"'><o:p></o:p></span></p>\n",
        "  </td>\n",
        "  <td width=195 valign=top style='width:146.0pt;border-top:none;border-left:\n",
        "  none;border-bottom:solid #282828 1.0pt;border-right:solid #282828 1.0pt;\n",
        "  mso-border-bottom-alt:solid #282828 .5pt;mso-border-right-alt:solid #282828 .5pt;\n",
        "  padding:0cm 5.4pt 0cm 5.4pt;height:19.0pt'>\n",
        "  <p class=MsoNormal><span style='font-size:17.0pt;font-family:\"Times New Roman\",serif;\n",
        "  mso-fareast-font-family:\"Times New Roman\";color:#343433'>70.16%±4.42</span><span\n",
        "  style='font-size:17.0pt;font-family:\"Times New Roman\",serif;mso-fareast-font-family:\n",
        "  \"Times New Roman\"'><o:p></o:p></span></p>\n",
        "  </td>\n",
        " </tr>\n",
        " <tr style='mso-yfti-irow:15;height:20.0pt'>\n",
        "  <td width=177 valign=top style='width:133.0pt;border:solid #282828 1.0pt;\n",
        "  border-top:none;mso-border-left-alt:solid #282828 .5pt;mso-border-bottom-alt:\n",
        "  solid #282828 .5pt;mso-border-right-alt:solid #282828 .5pt;padding:0cm 5.4pt 0cm 5.4pt;\n",
        "  height:20.0pt'>\n",
        "  <p class=MsoNormal><span style='font-size:17.0pt;font-family:\"Times New Roman\",serif;\n",
        "  mso-fareast-font-family:\"Times New Roman\";color:#343433'>Magic04</span><span\n",
        "  style='font-size:17.0pt;font-family:\"Times New Roman\",serif;mso-fareast-font-family:\n",
        "  \"Times New Roman\"'><o:p></o:p></span></p>\n",
        "  </td>\n",
        "  <td width=169 valign=top style='width:127.0pt;border-top:none;border-left:\n",
        "  none;border-bottom:solid #282828 1.0pt;border-right:solid #282828 1.0pt;\n",
        "  mso-border-bottom-alt:solid #282828 .5pt;mso-border-right-alt:solid #282828 .5pt;\n",
        "  padding:0cm 5.4pt 0cm 5.4pt;height:20.0pt'>\n",
        "  <p class=MsoNormal><span style='font-size:17.0pt;font-family:\"Times New Roman\",serif;\n",
        "  mso-fareast-font-family:\"Times New Roman\";color:#343433'>87.47%±0.57</span><span\n",
        "  style='font-size:17.0pt;font-family:\"Times New Roman\",serif;mso-fareast-font-family:\n",
        "  \"Times New Roman\"'><o:p></o:p></span></p>\n",
        "  </td>\n",
        "  <td width=187 valign=top style='width:140.0pt;border-top:none;border-left:\n",
        "  none;border-bottom:solid #282828 1.0pt;border-right:solid #282828 1.0pt;\n",
        "  mso-border-bottom-alt:solid #282828 .5pt;mso-border-right-alt:solid #282828 .5pt;\n",
        "  padding:0cm 5.4pt 0cm 5.4pt;height:20.0pt'>\n",
        "  <p class=MsoNormal><span style='font-size:17.0pt;font-family:\"Times New Roman\",serif;\n",
        "  mso-fareast-font-family:\"Times New Roman\";color:#343433'>88.63%±0.48</span><span\n",
        "  style='font-size:17.0pt;font-family:\"Times New Roman\",serif;mso-fareast-font-family:\n",
        "  \"Times New Roman\"'><o:p></o:p></span></p>\n",
        "  </td>\n",
        "  <td width=187 valign=top style='width:140.0pt;border-top:none;border-left:\n",
        "  none;border-bottom:solid #282828 1.0pt;border-right:solid #282828 1.0pt;\n",
        "  mso-border-bottom-alt:solid #282828 .5pt;mso-border-right-alt:solid #282828 .5pt;\n",
        "  padding:0cm 5.4pt 0cm 5.4pt;height:20.0pt'>\n",
        "  <p class=MsoNormal><span style='font-size:17.0pt;font-family:\"Times New Roman\",serif;\n",
        "  mso-fareast-font-family:\"Times New Roman\";color:#343433'>88.19%±0.42</span><span\n",
        "  style='font-size:17.0pt;font-family:\"Times New Roman\",serif;mso-fareast-font-family:\n",
        "  \"Times New Roman\"'><o:p></o:p></span></p>\n",
        "  </td>\n",
        "  <td width=187 valign=top style='width:140.0pt;border-top:none;border-left:\n",
        "  none;border-bottom:solid #282828 1.0pt;border-right:solid #282828 1.0pt;\n",
        "  mso-border-top-alt:solid #282828 .5pt;mso-border-top-alt:solid #282828 .5pt;\n",
        "  mso-border-bottom-alt:solid #282828 .5pt;mso-border-right-alt:solid #282828 .5pt;\n",
        "  padding:0cm 5.4pt 0cm 5.4pt;height:20.0pt'>\n",
        "  <p class=MsoNormal><span style='font-size:17.0pt;font-family:\"Times New Roman\",serif;\n",
        "  mso-fareast-font-family:\"Times New Roman\";color:#343433'>88.18%±0.46</span><span\n",
        "  style='font-size:17.0pt;font-family:\"Times New Roman\",serif;mso-fareast-font-family:\n",
        "  \"Times New Roman\"'><o:p></o:p></span></p>\n",
        "  </td>\n",
        "  <td width=187 valign=top style='width:140.0pt;border-top:none;border-left:\n",
        "  none;border-bottom:solid #282828 1.0pt;border-right:solid #282828 1.0pt;\n",
        "  mso-border-bottom-alt:solid #282828 .5pt;mso-border-right-alt:solid #282828 .5pt;\n",
        "  padding:0cm 5.4pt 0cm 5.4pt;height:20.0pt'>\n",
        "  <p class=MsoNormal><span style='font-size:17.0pt;font-family:\"Times New Roman\",serif;\n",
        "  mso-fareast-font-family:\"Times New Roman\";color:#343433'>86.85%±0.37</span><span\n",
        "  style='font-size:17.0pt;font-family:\"Times New Roman\",serif;mso-fareast-font-family:\n",
        "  \"Times New Roman\"'><o:p></o:p></span></p>\n",
        "  </td>\n",
        "  <td width=195 valign=top style='width:146.0pt;border-top:none;border-left:\n",
        "  none;border-bottom:solid #282828 1.0pt;border-right:solid #282828 1.0pt;\n",
        "  mso-border-bottom-alt:solid #282828 .5pt;mso-border-right-alt:solid #282828 .5pt;\n",
        "  padding:0cm 5.4pt 0cm 5.4pt;height:20.0pt'>\n",
        "  <p class=MsoNormal><span style='font-size:17.0pt;font-family:\"Times New Roman\",serif;\n",
        "  mso-fareast-font-family:\"Times New Roman\";color:#343433'>88.83%±0.45</span><span\n",
        "  style='font-size:17.0pt;font-family:\"Times New Roman\",serif;mso-fareast-font-family:\n",
        "  \"Times New Roman\"'><o:p></o:p></span></p>\n",
        "  </td>\n",
        " </tr>\n",
        " <tr style='mso-yfti-irow:16;height:20.0pt'>\n",
        "  <td width=177 valign=top style='width:133.0pt;border:solid #282828 1.0pt;\n",
        "  border-top:none;mso-border-left-alt:solid #282828 .5pt;mso-border-bottom-alt:\n",
        "  solid #282828 .5pt;mso-border-right-alt:solid #282828 .5pt;padding:0cm 5.4pt 0cm 5.4pt;\n",
        "  height:20.0pt'>\n",
        "  <p class=MsoNormal><span class=GramE><span style='font-size:17.0pt;\n",
        "  font-family:\"Times New Roman\",serif;mso-fareast-font-family:\"Times New Roman\";\n",
        "  color:#343433'>New-thyroid</span></span><span style='font-size:17.0pt;\n",
        "  font-family:\"Times New Roman\",serif;mso-fareast-font-family:\"Times New Roman\"'><o:p></o:p></span></p>\n",
        "  </td>\n",
        "  <td width=169 valign=top style='width:127.0pt;border-top:none;border-left:\n",
        "  none;border-bottom:solid #282828 1.0pt;border-right:solid #282828 1.0pt;\n",
        "  mso-border-bottom-alt:solid #282828 .5pt;mso-border-right-alt:solid #282828 .5pt;\n",
        "  padding:0cm 5.4pt 0cm 5.4pt;height:20.0pt'>\n",
        "  <p class=MsoNormal><span style='font-size:17.0pt;font-family:\"Times New Roman\",serif;\n",
        "  mso-fareast-font-family:\"Times New Roman\";color:#343433'>95.80%±3.26</span><span\n",
        "  style='font-size:17.0pt;font-family:\"Times New Roman\",serif;mso-fareast-font-family:\n",
        "  \"Times New Roman\"'><o:p></o:p></span></p>\n",
        "  </td>\n",
        "  <td width=187 valign=top style='width:140.0pt;border-top:none;border-left:\n",
        "  none;border-bottom:solid #282828 1.0pt;border-right:solid #282828 1.0pt;\n",
        "  mso-border-bottom-alt:solid #282828 .5pt;mso-border-right-alt:solid #282828 .5pt;\n",
        "  padding:0cm 5.4pt 0cm 5.4pt;height:20.0pt'>\n",
        "  <p class=MsoNormal><span style='font-size:17.0pt;font-family:\"Times New Roman\",serif;\n",
        "  mso-fareast-font-family:\"Times New Roman\";color:#343433'>95.80%±3.26</span><span\n",
        "  style='font-size:17.0pt;font-family:\"Times New Roman\",serif;mso-fareast-font-family:\n",
        "  \"Times New Roman\"'><o:p></o:p></span></p>\n",
        "  </td>\n",
        "  <td width=187 valign=top style='width:140.0pt;border-top:none;border-left:\n",
        "  none;border-bottom:solid #282828 1.0pt;border-right:solid #282828 1.0pt;\n",
        "  mso-border-bottom-alt:solid #282828 .5pt;mso-border-right-alt:solid #282828 .5pt;\n",
        "  padding:0cm 5.4pt 0cm 5.4pt;height:20.0pt'>\n",
        "  <p class=MsoNormal><span style='font-size:17.0pt;font-family:\"Times New Roman\",serif;\n",
        "  mso-fareast-font-family:\"Times New Roman\";color:#343433'>96.75%±2.94</span><span\n",
        "  style='font-size:17.0pt;font-family:\"Times New Roman\",serif;mso-fareast-font-family:\n",
        "  \"Times New Roman\"'><o:p></o:p></span></p>\n",
        "  </td>\n",
        "  <td width=187 valign=top style='width:140.0pt;border-top:none;border-left:\n",
        "  none;border-bottom:solid #282828 1.0pt;border-right:solid #282828 1.0pt;\n",
        "  mso-border-top-alt:solid #282828 .5pt;mso-border-top-alt:solid #282828 .5pt;\n",
        "  mso-border-bottom-alt:solid #282828 .5pt;mso-border-right-alt:solid #282828 .5pt;\n",
        "  padding:0cm 5.4pt 0cm 5.4pt;height:20.0pt'>\n",
        "  <p class=MsoNormal><span style='font-size:17.0pt;font-family:\"Times New Roman\",serif;\n",
        "  mso-fareast-font-family:\"Times New Roman\";color:#343433'>96.28%±3.48</span><span\n",
        "  style='font-size:17.0pt;font-family:\"Times New Roman\",serif;mso-fareast-font-family:\n",
        "  \"Times New Roman\"'><o:p></o:p></span></p>\n",
        "  </td>\n",
        "  <td width=187 valign=top style='width:140.0pt;border-top:none;border-left:\n",
        "  none;border-bottom:solid #282828 1.0pt;border-right:solid #282828 1.0pt;\n",
        "  mso-border-bottom-alt:solid #282828 .5pt;mso-border-right-alt:solid #282828 .5pt;\n",
        "  padding:0cm 5.4pt 0cm 5.4pt;height:20.0pt'>\n",
        "  <p class=MsoNormal><span style='font-size:17.0pt;font-family:\"Times New Roman\",serif;\n",
        "  mso-fareast-font-family:\"Times New Roman\";color:#343433'>96.75%±2.94</span><span\n",
        "  style='font-size:17.0pt;font-family:\"Times New Roman\",serif;mso-fareast-font-family:\n",
        "  \"Times New Roman\"'><o:p></o:p></span></p>\n",
        "  </td>\n",
        "  <td width=195 valign=top style='width:146.0pt;border-top:none;border-left:\n",
        "  none;border-bottom:solid #282828 1.0pt;border-right:solid #282828 1.0pt;\n",
        "  mso-border-bottom-alt:solid #282828 .5pt;mso-border-right-alt:solid #282828 .5pt;\n",
        "  padding:0cm 5.4pt 0cm 5.4pt;height:20.0pt'>\n",
        "  <p class=MsoNormal><span style='font-size:17.0pt;font-family:\"Times New Roman\",serif;\n",
        "  mso-fareast-font-family:\"Times New Roman\";color:#343433'>96.28%±3.48</span><span\n",
        "  style='font-size:17.0pt;font-family:\"Times New Roman\",serif;mso-fareast-font-family:\n",
        "  \"Times New Roman\"'><o:p></o:p></span></p>\n",
        "  </td>\n",
        " </tr>\n",
        " <tr style='mso-yfti-irow:17;height:20.0pt'>\n",
        "  <td width=177 valign=top style='width:133.0pt;border:solid #282828 1.0pt;\n",
        "  border-top:none;mso-border-left-alt:solid #282828 .5pt;mso-border-bottom-alt:\n",
        "  solid #282828 .5pt;mso-border-right-alt:solid #282828 .5pt;padding:0cm 5.4pt 0cm 5.4pt;\n",
        "  height:20.0pt'>\n",
        "  <p class=MsoNormal><span class=SpellE><span style='font-size:17.0pt;\n",
        "  font-family:\"Times New Roman\",serif;mso-fareast-font-family:\"Times New Roman\";\n",
        "  color:#343433'>Parkinsons</span></span><span style='font-size:17.0pt;\n",
        "  font-family:\"Times New Roman\",serif;mso-fareast-font-family:\"Times New Roman\"'><o:p></o:p></span></p>\n",
        "  </td>\n",
        "  <td width=169 valign=top style='width:127.0pt;border-top:none;border-left:\n",
        "  none;border-bottom:solid #282828 1.0pt;border-right:solid #282828 1.0pt;\n",
        "  mso-border-bottom-alt:solid #282828 .5pt;mso-border-right-alt:solid #282828 .5pt;\n",
        "  padding:0cm 5.4pt 0cm 5.4pt;height:20.0pt'>\n",
        "  <p class=MsoNormal><span style='font-size:17.0pt;font-family:\"Times New Roman\",serif;\n",
        "  mso-fareast-font-family:\"Times New Roman\";color:#343433'>92.14%±5.72</span><span\n",
        "  style='font-size:17.0pt;font-family:\"Times New Roman\",serif;mso-fareast-font-family:\n",
        "  \"Times New Roman\"'><o:p></o:p></span></p>\n",
        "  </td>\n",
        "  <td width=187 valign=top style='width:140.0pt;border-top:none;border-left:\n",
        "  none;border-bottom:solid #282828 1.0pt;border-right:solid #282828 1.0pt;\n",
        "  mso-border-bottom-alt:solid #282828 .5pt;mso-border-right-alt:solid #282828 .5pt;\n",
        "  padding:0cm 5.4pt 0cm 5.4pt;height:20.0pt'>\n",
        "  <p class=MsoNormal><span style='font-size:17.0pt;font-family:\"Times New Roman\",serif;\n",
        "  mso-fareast-font-family:\"Times New Roman\";color:#343433'>90.14%±4.01</span><span\n",
        "  style='font-size:17.0pt;font-family:\"Times New Roman\",serif;mso-fareast-font-family:\n",
        "  \"Times New Roman\"'><o:p></o:p></span></p>\n",
        "  </td>\n",
        "  <td width=187 valign=top style='width:140.0pt;border-top:none;border-left:\n",
        "  none;border-bottom:solid #282828 1.0pt;border-right:solid #282828 1.0pt;\n",
        "  mso-border-bottom-alt:solid #282828 .5pt;mso-border-right-alt:solid #282828 .5pt;\n",
        "  padding:0cm 5.4pt 0cm 5.4pt;height:20.0pt'>\n",
        "  <p class=MsoNormal><span style='font-size:17.0pt;font-family:\"Times New Roman\",serif;\n",
        "  mso-fareast-font-family:\"Times New Roman\";color:#343433'>90.70%±5.60</span><span\n",
        "  style='font-size:17.0pt;font-family:\"Times New Roman\",serif;mso-fareast-font-family:\n",
        "  \"Times New Roman\"'><o:p></o:p></span></p>\n",
        "  </td>\n",
        "  <td width=187 valign=top style='width:140.0pt;border-top:none;border-left:\n",
        "  none;border-bottom:solid #282828 1.0pt;border-right:solid #282828 1.0pt;\n",
        "  mso-border-top-alt:solid #282828 .5pt;mso-border-top-alt:solid #282828 .5pt;\n",
        "  mso-border-bottom-alt:solid #282828 .5pt;mso-border-right-alt:solid #282828 .5pt;\n",
        "  padding:0cm 5.4pt 0cm 5.4pt;height:20.0pt'>\n",
        "  <p class=MsoNormal><span style='font-size:17.0pt;font-family:\"Times New Roman\",serif;\n",
        "  mso-fareast-font-family:\"Times New Roman\";color:#343433'>90.70%±4.62</span><span\n",
        "  style='font-size:17.0pt;font-family:\"Times New Roman\",serif;mso-fareast-font-family:\n",
        "  \"Times New Roman\"'><o:p></o:p></span></p>\n",
        "  </td>\n",
        "  <td width=187 valign=top style='width:140.0pt;border-top:none;border-left:\n",
        "  none;border-bottom:solid #282828 1.0pt;border-right:solid #282828 1.0pt;\n",
        "  mso-border-bottom-alt:solid #282828 .5pt;mso-border-right-alt:solid #282828 .5pt;\n",
        "  padding:0cm 5.4pt 0cm 5.4pt;height:20.0pt'>\n",
        "  <p class=MsoNormal><span style='font-size:17.0pt;font-family:\"Times New Roman\",serif;\n",
        "  mso-fareast-font-family:\"Times New Roman\";color:#343433'>91.14%±6.00</span><span\n",
        "  style='font-size:17.0pt;font-family:\"Times New Roman\",serif;mso-fareast-font-family:\n",
        "  \"Times New Roman\"'><o:p></o:p></span></p>\n",
        "  </td>\n",
        "  <td width=195 valign=top style='width:146.0pt;border-top:none;border-left:\n",
        "  none;border-bottom:solid #282828 1.0pt;border-right:solid #282828 1.0pt;\n",
        "  mso-border-bottom-alt:solid #282828 .5pt;mso-border-right-alt:solid #282828 .5pt;\n",
        "  padding:0cm 5.4pt 0cm 5.4pt;height:20.0pt'>\n",
        "  <p class=MsoNormal><span style='font-size:17.0pt;font-family:\"Times New Roman\",serif;\n",
        "  mso-fareast-font-family:\"Times New Roman\";color:#343433'>91.20%±4.23</span><span\n",
        "  style='font-size:17.0pt;font-family:\"Times New Roman\",serif;mso-fareast-font-family:\n",
        "  \"Times New Roman\"'><o:p></o:p></span></p>\n",
        "  </td>\n",
        " </tr>\n",
        " <tr style='mso-yfti-irow:18;height:20.0pt'>\n",
        "  <td width=177 valign=top style='width:133.0pt;border:solid #282828 1.0pt;\n",
        "  border-top:none;mso-border-left-alt:solid #282828 .5pt;mso-border-bottom-alt:\n",
        "  solid #282828 .5pt;mso-border-right-alt:solid #282828 .5pt;padding:0cm 5.4pt 0cm 5.4pt;\n",
        "  height:20.0pt'>\n",
        "  <p class=MsoNormal><span style='font-size:17.0pt;font-family:\"Times New Roman\",serif;\n",
        "  mso-fareast-font-family:\"Times New Roman\";color:#343433'>Phishing</span><span\n",
        "  style='font-size:17.0pt;font-family:\"Times New Roman\",serif;mso-fareast-font-family:\n",
        "  \"Times New Roman\"'><o:p></o:p></span></p>\n",
        "  </td>\n",
        "  <td width=169 valign=top style='width:127.0pt;border-top:none;border-left:\n",
        "  none;border-bottom:solid #282828 1.0pt;border-right:solid #282828 1.0pt;\n",
        "  mso-border-bottom-alt:solid #282828 .5pt;mso-border-right-alt:solid #282828 .5pt;\n",
        "  padding:0cm 5.4pt 0cm 5.4pt;height:20.0pt'>\n",
        "  <p class=MsoNormal><span style='font-size:17.0pt;font-family:\"Times New Roman\",serif;\n",
        "  mso-fareast-font-family:\"Times New Roman\";color:#343433'>89.65%±2.44</span><span\n",
        "  style='font-size:17.0pt;font-family:\"Times New Roman\",serif;mso-fareast-font-family:\n",
        "  \"Times New Roman\"'><o:p></o:p></span></p>\n",
        "  </td>\n",
        "  <td width=187 valign=top style='width:140.0pt;border-top:none;border-left:\n",
        "  none;border-bottom:solid #282828 1.0pt;border-right:solid #282828 1.0pt;\n",
        "  mso-border-bottom-alt:solid #282828 .5pt;mso-border-right-alt:solid #282828 .5pt;\n",
        "  padding:0cm 5.4pt 0cm 5.4pt;height:20.0pt'>\n",
        "  <p class=MsoNormal><span style='font-size:17.0pt;font-family:\"Times New Roman\",serif;\n",
        "  mso-fareast-font-family:\"Times New Roman\";color:#343433'>91.13%±1.30</span><span\n",
        "  style='font-size:17.0pt;font-family:\"Times New Roman\",serif;mso-fareast-font-family:\n",
        "  \"Times New Roman\"'><o:p></o:p></span></p>\n",
        "  </td>\n",
        "  <td width=187 valign=top style='width:140.0pt;border-top:none;border-left:\n",
        "  none;border-bottom:solid #282828 1.0pt;border-right:solid #282828 1.0pt;\n",
        "  mso-border-bottom-alt:solid #282828 .5pt;mso-border-right-alt:solid #282828 .5pt;\n",
        "  padding:0cm 5.4pt 0cm 5.4pt;height:20.0pt'>\n",
        "  <p class=MsoNormal><span style='font-size:17.0pt;font-family:\"Times New Roman\",serif;\n",
        "  mso-fareast-font-family:\"Times New Roman\";color:#343433'>88.63%±3.38</span><span\n",
        "  style='font-size:17.0pt;font-family:\"Times New Roman\",serif;mso-fareast-font-family:\n",
        "  \"Times New Roman\"'><o:p></o:p></span></p>\n",
        "  </td>\n",
        "  <td width=187 valign=top style='width:140.0pt;border-top:none;border-left:\n",
        "  none;border-bottom:solid #282828 1.0pt;border-right:solid #282828 1.0pt;\n",
        "  mso-border-top-alt:solid #282828 .5pt;mso-border-top-alt:solid #282828 .5pt;\n",
        "  mso-border-bottom-alt:solid #282828 .5pt;mso-border-right-alt:solid #282828 .5pt;\n",
        "  padding:0cm 5.4pt 0cm 5.4pt;height:20.0pt'>\n",
        "  <p class=MsoNormal><span style='font-size:17.0pt;font-family:\"Times New Roman\",serif;\n",
        "  mso-fareast-font-family:\"Times New Roman\";color:#343433'>89.51%±2.42</span><span\n",
        "  style='font-size:17.0pt;font-family:\"Times New Roman\",serif;mso-fareast-font-family:\n",
        "  \"Times New Roman\"'><o:p></o:p></span></p>\n",
        "  </td>\n",
        "  <td width=187 valign=top style='width:140.0pt;border-top:none;border-left:\n",
        "  none;border-bottom:solid #282828 1.0pt;border-right:solid #282828 1.0pt;\n",
        "  mso-border-bottom-alt:solid #282828 .5pt;mso-border-right-alt:solid #282828 .5pt;\n",
        "  padding:0cm 5.4pt 0cm 5.4pt;height:20.0pt'>\n",
        "  <p class=MsoNormal><span style='font-size:17.0pt;font-family:\"Times New Roman\",serif;\n",
        "  mso-fareast-font-family:\"Times New Roman\";color:#343433'>90.62%±1.76</span><span\n",
        "  style='font-size:17.0pt;font-family:\"Times New Roman\",serif;mso-fareast-font-family:\n",
        "  \"Times New Roman\"'><o:p></o:p></span></p>\n",
        "  </td>\n",
        "  <td width=195 valign=top style='width:146.0pt;border-top:none;border-left:\n",
        "  none;border-bottom:solid #282828 1.0pt;border-right:solid #282828 1.0pt;\n",
        "  mso-border-bottom-alt:solid #282828 .5pt;mso-border-right-alt:solid #282828 .5pt;\n",
        "  padding:0cm 5.4pt 0cm 5.4pt;height:20.0pt'>\n",
        "  <p class=MsoNormal><span style='font-size:17.0pt;font-family:\"Times New Roman\",serif;\n",
        "  mso-fareast-font-family:\"Times New Roman\";color:#343433'>90.25%±2.19</span><span\n",
        "  style='font-size:17.0pt;font-family:\"Times New Roman\",serif;mso-fareast-font-family:\n",
        "  \"Times New Roman\"'><o:p></o:p></span></p>\n",
        "  </td>\n",
        " </tr>\n",
        " <tr style='mso-yfti-irow:19;height:20.0pt'>\n",
        "  <td width=177 valign=top style='width:133.0pt;border:solid #282828 1.0pt;\n",
        "  border-top:none;mso-border-left-alt:solid #282828 .5pt;mso-border-bottom-alt:\n",
        "  solid #282828 .5pt;mso-border-right-alt:solid #282828 .5pt;padding:0cm 5.4pt 0cm 5.4pt;\n",
        "  height:20.0pt'>\n",
        "  <p class=MsoNormal><span style='font-size:17.0pt;font-family:\"Times New Roman\",serif;\n",
        "  mso-fareast-font-family:\"Times New Roman\";color:#343433'>Segment</span><span\n",
        "  style='font-size:17.0pt;font-family:\"Times New Roman\",serif;mso-fareast-font-family:\n",
        "  \"Times New Roman\"'><o:p></o:p></span></p>\n",
        "  </td>\n",
        "  <td width=169 valign=top style='width:127.0pt;border-top:none;border-left:\n",
        "  none;border-bottom:solid #282828 1.0pt;border-right:solid #282828 1.0pt;\n",
        "  mso-border-bottom-alt:solid #282828 .5pt;mso-border-right-alt:solid #282828 .5pt;\n",
        "  padding:0cm 5.4pt 0cm 5.4pt;height:20.0pt'>\n",
        "  <p class=MsoNormal><span style='font-size:17.0pt;font-family:\"Times New Roman\",serif;\n",
        "  mso-fareast-font-family:\"Times New Roman\";color:#343433'>98.48%±0.70</span><span\n",
        "  style='font-size:17.0pt;font-family:\"Times New Roman\",serif;mso-fareast-font-family:\n",
        "  \"Times New Roman\"'><o:p></o:p></span></p>\n",
        "  </td>\n",
        "  <td width=187 valign=top style='width:140.0pt;border-top:none;border-left:\n",
        "  none;border-bottom:solid #282828 1.0pt;border-right:solid #282828 1.0pt;\n",
        "  mso-border-bottom-alt:solid #282828 .5pt;mso-border-right-alt:solid #282828 .5pt;\n",
        "  padding:0cm 5.4pt 0cm 5.4pt;height:20.0pt'>\n",
        "  <p class=MsoNormal><span style='font-size:17.0pt;font-family:\"Times New Roman\",serif;\n",
        "  mso-fareast-font-family:\"Times New Roman\";color:#343433'>98.70%±0.77</span><span\n",
        "  style='font-size:17.0pt;font-family:\"Times New Roman\",serif;mso-fareast-font-family:\n",
        "  \"Times New Roman\"'><o:p></o:p></span></p>\n",
        "  </td>\n",
        "  <td width=187 valign=top style='width:140.0pt;border-top:none;border-left:\n",
        "  none;border-bottom:solid #282828 1.0pt;border-right:solid #282828 1.0pt;\n",
        "  mso-border-bottom-alt:solid #282828 .5pt;mso-border-right-alt:solid #282828 .5pt;\n",
        "  padding:0cm 5.4pt 0cm 5.4pt;height:20.0pt'>\n",
        "  <p class=MsoNormal><span style='font-size:17.0pt;font-family:\"Times New Roman\",serif;\n",
        "  mso-fareast-font-family:\"Times New Roman\";color:#343433'>98.01%±0.80</span><span\n",
        "  style='font-size:17.0pt;font-family:\"Times New Roman\",serif;mso-fareast-font-family:\n",
        "  \"Times New Roman\"'><o:p></o:p></span></p>\n",
        "  </td>\n",
        "  <td width=187 valign=top style='width:140.0pt;border-top:none;border-left:\n",
        "  none;border-bottom:solid #282828 1.0pt;border-right:solid #282828 1.0pt;\n",
        "  mso-border-top-alt:solid #282828 .5pt;mso-border-top-alt:solid #282828 .5pt;\n",
        "  mso-border-bottom-alt:solid #282828 .5pt;mso-border-right-alt:solid #282828 .5pt;\n",
        "  padding:0cm 5.4pt 0cm 5.4pt;height:20.0pt'>\n",
        "  <p class=MsoNormal><span style='font-size:17.0pt;font-family:\"Times New Roman\",serif;\n",
        "  mso-fareast-font-family:\"Times New Roman\";color:#343433'>98.18%±0.67</span><span\n",
        "  style='font-size:17.0pt;font-family:\"Times New Roman\",serif;mso-fareast-font-family:\n",
        "  \"Times New Roman\"'><o:p></o:p></span></p>\n",
        "  </td>\n",
        "  <td width=187 valign=top style='width:140.0pt;border-top:none;border-left:\n",
        "  none;border-bottom:solid #282828 1.0pt;border-right:solid #282828 1.0pt;\n",
        "  mso-border-bottom-alt:solid #282828 .5pt;mso-border-right-alt:solid #282828 .5pt;\n",
        "  padding:0cm 5.4pt 0cm 5.4pt;height:20.0pt'>\n",
        "  <p class=MsoNormal><span style='font-size:17.0pt;font-family:\"Times New Roman\",serif;\n",
        "  mso-fareast-font-family:\"Times New Roman\";color:#343433'>97.75%±0.74</span><span\n",
        "  style='font-size:17.0pt;font-family:\"Times New Roman\",serif;mso-fareast-font-family:\n",
        "  \"Times New Roman\"'><o:p></o:p></span></p>\n",
        "  </td>\n",
        "  <td width=195 valign=top style='width:146.0pt;border-top:none;border-left:\n",
        "  none;border-bottom:solid #282828 1.0pt;border-right:solid #282828 1.0pt;\n",
        "  mso-border-bottom-alt:solid #282828 .5pt;mso-border-right-alt:solid #282828 .5pt;\n",
        "  padding:0cm 5.4pt 0cm 5.4pt;height:20.0pt'>\n",
        "  <p class=MsoNormal><span style='font-size:17.0pt;font-family:\"Times New Roman\",serif;\n",
        "  mso-fareast-font-family:\"Times New Roman\";color:#343433'>98.35%±0.64</span><span\n",
        "  style='font-size:17.0pt;font-family:\"Times New Roman\",serif;mso-fareast-font-family:\n",
        "  \"Times New Roman\"'><o:p></o:p></span></p>\n",
        "  </td>\n",
        " </tr>\n",
        " <tr style='mso-yfti-irow:20;height:20.0pt'>\n",
        "  <td width=177 valign=top style='width:133.0pt;border:solid #282828 1.0pt;\n",
        "  border-top:none;mso-border-left-alt:solid #282828 .5pt;mso-border-bottom-alt:\n",
        "  solid #282828 .5pt;mso-border-right-alt:solid #282828 .5pt;padding:0cm 5.4pt 0cm 5.4pt;\n",
        "  height:20.0pt'>\n",
        "  <p class=MsoNormal><span style='font-size:17.0pt;font-family:\"Times New Roman\",serif;\n",
        "  mso-fareast-font-family:\"Times New Roman\";color:#343433'>Sonar</span><span\n",
        "  style='font-size:17.0pt;font-family:\"Times New Roman\",serif;mso-fareast-font-family:\n",
        "  \"Times New Roman\"'><o:p></o:p></span></p>\n",
        "  </td>\n",
        "  <td width=169 valign=top style='width:127.0pt;border-top:none;border-left:\n",
        "  none;border-bottom:solid #282828 1.0pt;border-right:solid #282828 1.0pt;\n",
        "  mso-border-bottom-alt:solid #282828 .5pt;mso-border-right-alt:solid #282828 .5pt;\n",
        "  padding:0cm 5.4pt 0cm 5.4pt;height:20.0pt'>\n",
        "  <p class=MsoNormal><span style='font-size:17.0pt;font-family:\"Times New Roman\",serif;\n",
        "  mso-fareast-font-family:\"Times New Roman\";color:#343433'>85.59%±6.44</span><span\n",
        "  style='font-size:17.0pt;font-family:\"Times New Roman\",serif;mso-fareast-font-family:\n",
        "  \"Times New Roman\"'><o:p></o:p></span></p>\n",
        "  </td>\n",
        "  <td width=187 valign=top style='width:140.0pt;border-top:none;border-left:\n",
        "  none;border-bottom:solid #282828 1.0pt;border-right:solid #282828 1.0pt;\n",
        "  mso-border-bottom-alt:solid #282828 .5pt;mso-border-right-alt:solid #282828 .5pt;\n",
        "  padding:0cm 5.4pt 0cm 5.4pt;height:20.0pt'>\n",
        "  <p class=MsoNormal><span style='font-size:17.0pt;font-family:\"Times New Roman\",serif;\n",
        "  mso-fareast-font-family:\"Times New Roman\";color:#343433'>86.97%±4.84</span><span\n",
        "  style='font-size:17.0pt;font-family:\"Times New Roman\",serif;mso-fareast-font-family:\n",
        "  \"Times New Roman\"'><o:p></o:p></span></p>\n",
        "  </td>\n",
        "  <td width=187 valign=top style='width:140.0pt;border-top:none;border-left:\n",
        "  none;border-bottom:solid #282828 1.0pt;border-right:solid #282828 1.0pt;\n",
        "  mso-border-bottom-alt:solid #282828 .5pt;mso-border-right-alt:solid #282828 .5pt;\n",
        "  padding:0cm 5.4pt 0cm 5.4pt;height:20.0pt'>\n",
        "  <p class=MsoNormal><span style='font-size:17.0pt;font-family:\"Times New Roman\",serif;\n",
        "  mso-fareast-font-family:\"Times New Roman\";color:#343433'>83.64%±3.87</span><span\n",
        "  style='font-size:17.0pt;font-family:\"Times New Roman\",serif;mso-fareast-font-family:\n",
        "  \"Times New Roman\"'><o:p></o:p></span></p>\n",
        "  </td>\n",
        "  <td width=187 valign=top style='width:140.0pt;border-top:none;border-left:\n",
        "  none;border-bottom:solid #282828 1.0pt;border-right:solid #282828 1.0pt;\n",
        "  mso-border-top-alt:solid #282828 .5pt;mso-border-top-alt:solid #282828 .5pt;\n",
        "  mso-border-bottom-alt:solid #282828 .5pt;mso-border-right-alt:solid #282828 .5pt;\n",
        "  padding:0cm 5.4pt 0cm 5.4pt;height:20.0pt'>\n",
        "  <p class=MsoNormal><span style='font-size:17.0pt;font-family:\"Times New Roman\",serif;\n",
        "  mso-fareast-font-family:\"Times New Roman\";color:#343433'>85.59%±4.83</span><span\n",
        "  style='font-size:17.0pt;font-family:\"Times New Roman\",serif;mso-fareast-font-family:\n",
        "  \"Times New Roman\"'><o:p></o:p></span></p>\n",
        "  </td>\n",
        "  <td width=187 valign=top style='width:140.0pt;border-top:none;border-left:\n",
        "  none;border-bottom:solid #282828 1.0pt;border-right:solid #282828 1.0pt;\n",
        "  mso-border-bottom-alt:solid #282828 .5pt;mso-border-right-alt:solid #282828 .5pt;\n",
        "  padding:0cm 5.4pt 0cm 5.4pt;height:20.0pt'>\n",
        "  <p class=MsoNormal><span style='font-size:17.0pt;font-family:\"Times New Roman\",serif;\n",
        "  mso-fareast-font-family:\"Times New Roman\";color:#343433'>84.66%±4.61</span><span\n",
        "  style='font-size:17.0pt;font-family:\"Times New Roman\",serif;mso-fareast-font-family:\n",
        "  \"Times New Roman\"'><o:p></o:p></span></p>\n",
        "  </td>\n",
        "  <td width=195 valign=top style='width:146.0pt;border-top:none;border-left:\n",
        "  none;border-bottom:solid #282828 1.0pt;border-right:solid #282828 1.0pt;\n",
        "  mso-border-bottom-alt:solid #282828 .5pt;mso-border-right-alt:solid #282828 .5pt;\n",
        "  padding:0cm 5.4pt 0cm 5.4pt;height:20.0pt'>\n",
        "  <p class=MsoNormal><span style='font-size:17.0pt;font-family:\"Times New Roman\",serif;\n",
        "  mso-fareast-font-family:\"Times New Roman\";color:#343433'>88.95%±4.32</span><span\n",
        "  style='font-size:17.0pt;font-family:\"Times New Roman\",serif;mso-fareast-font-family:\n",
        "  \"Times New Roman\"'><o:p></o:p></span></p>\n",
        "  </td>\n",
        " </tr>\n",
        " <tr style='mso-yfti-irow:21;height:20.0pt'>\n",
        "  <td width=177 valign=top style='width:133.0pt;border:solid #282828 1.0pt;\n",
        "  border-top:none;mso-border-left-alt:solid #282828 .5pt;mso-border-bottom-alt:\n",
        "  solid #282828 .5pt;mso-border-right-alt:solid #282828 .5pt;padding:0cm 5.4pt 0cm 5.4pt;\n",
        "  height:20.0pt'>\n",
        "  <p class=MsoNormal><span style='font-size:17.0pt;font-family:\"Times New Roman\",serif;\n",
        "  mso-fareast-font-family:\"Times New Roman\";color:#343433'>Soybean</span><span\n",
        "  style='font-size:17.0pt;font-family:\"Times New Roman\",serif;mso-fareast-font-family:\n",
        "  \"Times New Roman\"'><o:p></o:p></span></p>\n",
        "  </td>\n",
        "  <td width=169 valign=top style='width:127.0pt;border-top:none;border-left:\n",
        "  none;border-bottom:solid #282828 1.0pt;border-right:solid #282828 1.0pt;\n",
        "  mso-border-bottom-alt:solid #282828 .5pt;mso-border-right-alt:solid #282828 .5pt;\n",
        "  padding:0cm 5.4pt 0cm 5.4pt;height:20.0pt'>\n",
        "  <p class=MsoNormal><span style='font-size:17.0pt;font-family:\"Times New Roman\",serif;\n",
        "  mso-fareast-font-family:\"Times New Roman\";color:#343433'>94.80%±3.35</span><span\n",
        "  style='font-size:17.0pt;font-family:\"Times New Roman\",serif;mso-fareast-font-family:\n",
        "  \"Times New Roman\"'><o:p></o:p></span></p>\n",
        "  </td>\n",
        "  <td width=187 valign=top style='width:140.0pt;border-top:none;border-left:\n",
        "  none;border-bottom:solid #282828 1.0pt;border-right:solid #282828 1.0pt;\n",
        "  mso-border-bottom-alt:solid #282828 .5pt;mso-border-right-alt:solid #282828 .5pt;\n",
        "  padding:0cm 5.4pt 0cm 5.4pt;height:20.0pt'>\n",
        "  <p class=MsoNormal><span style='font-size:17.0pt;font-family:\"Times New Roman\",serif;\n",
        "  mso-fareast-font-family:\"Times New Roman\";color:#343433'>95.22%±2.96</span><span\n",
        "  style='font-size:17.0pt;font-family:\"Times New Roman\",serif;mso-fareast-font-family:\n",
        "  \"Times New Roman\"'><o:p></o:p></span></p>\n",
        "  </td>\n",
        "  <td width=187 valign=top style='width:140.0pt;border-top:none;border-left:\n",
        "  none;border-bottom:solid #282828 1.0pt;border-right:solid #282828 1.0pt;\n",
        "  mso-border-bottom-alt:solid #282828 .5pt;mso-border-right-alt:solid #282828 .5pt;\n",
        "  padding:0cm 5.4pt 0cm 5.4pt;height:20.0pt'>\n",
        "  <p class=MsoNormal><span style='font-size:17.0pt;font-family:\"Times New Roman\",serif;\n",
        "  mso-fareast-font-family:\"Times New Roman\";color:#343433'>94.06%±2.27</span><span\n",
        "  style='font-size:17.0pt;font-family:\"Times New Roman\",serif;mso-fareast-font-family:\n",
        "  \"Times New Roman\"'><o:p></o:p></span></p>\n",
        "  </td>\n",
        "  <td width=187 valign=top style='width:140.0pt;border-top:none;border-left:\n",
        "  none;border-bottom:solid #282828 1.0pt;border-right:solid #282828 1.0pt;\n",
        "  mso-border-top-alt:solid #282828 .5pt;mso-border-top-alt:solid #282828 .5pt;\n",
        "  mso-border-bottom-alt:solid #282828 .5pt;mso-border-right-alt:solid #282828 .5pt;\n",
        "  padding:0cm 5.4pt 0cm 5.4pt;height:20.0pt'>\n",
        "  <p class=MsoNormal><span style='font-size:17.0pt;font-family:\"Times New Roman\",serif;\n",
        "  mso-fareast-font-family:\"Times New Roman\";color:#343433'>94.65%±2.57</span><span\n",
        "  style='font-size:17.0pt;font-family:\"Times New Roman\",serif;mso-fareast-font-family:\n",
        "  \"Times New Roman\"'><o:p></o:p></span></p>\n",
        "  </td>\n",
        "  <td width=187 valign=top style='width:140.0pt;border-top:none;border-left:\n",
        "  none;border-bottom:solid #282828 1.0pt;border-right:solid #282828 1.0pt;\n",
        "  mso-border-bottom-alt:solid #282828 .5pt;mso-border-right-alt:solid #282828 .5pt;\n",
        "  padding:0cm 5.4pt 0cm 5.4pt;height:20.0pt'>\n",
        "  <p class=MsoNormal><span style='font-size:17.0pt;font-family:\"Times New Roman\",serif;\n",
        "  mso-fareast-font-family:\"Times New Roman\";color:#343433'>93.63%±2.86</span><span\n",
        "  style='font-size:17.0pt;font-family:\"Times New Roman\",serif;mso-fareast-font-family:\n",
        "  \"Times New Roman\"'><o:p></o:p></span></p>\n",
        "  </td>\n",
        "  <td width=195 valign=top style='width:146.0pt;border-top:none;border-left:\n",
        "  none;border-bottom:solid #282828 1.0pt;border-right:solid #282828 1.0pt;\n",
        "  mso-border-bottom-alt:solid #282828 .5pt;mso-border-right-alt:solid #282828 .5pt;\n",
        "  padding:0cm 5.4pt 0cm 5.4pt;height:20.0pt'>\n",
        "  <p class=MsoNormal><span style='font-size:17.0pt;font-family:\"Times New Roman\",serif;\n",
        "  mso-fareast-font-family:\"Times New Roman\";color:#343433'>93.58%±3.45</span><span\n",
        "  style='font-size:17.0pt;font-family:\"Times New Roman\",serif;mso-fareast-font-family:\n",
        "  \"Times New Roman\"'><o:p></o:p></span></p>\n",
        "  </td>\n",
        " </tr>\n",
        " <tr style='mso-yfti-irow:22;height:20.0pt'>\n",
        "  <td width=177 valign=top style='width:133.0pt;border:solid #282828 1.0pt;\n",
        "  border-top:none;mso-border-left-alt:solid #282828 .5pt;mso-border-bottom-alt:\n",
        "  solid #282828 .5pt;mso-border-right-alt:solid #282828 .5pt;padding:0cm 5.4pt 0cm 5.4pt;\n",
        "  height:20.0pt'>\n",
        "  <p class=MsoNormal><span class=SpellE><span style='font-size:17.0pt;\n",
        "  font-family:\"Times New Roman\",serif;mso-fareast-font-family:\"Times New Roman\";\n",
        "  color:#343433'>Spambase</span></span><span style='font-size:17.0pt;\n",
        "  font-family:\"Times New Roman\",serif;mso-fareast-font-family:\"Times New Roman\"'><o:p></o:p></span></p>\n",
        "  </td>\n",
        "  <td width=169 valign=top style='width:127.0pt;border-top:none;border-left:\n",
        "  none;border-bottom:solid #282828 1.0pt;border-right:solid #282828 1.0pt;\n",
        "  mso-border-bottom-alt:solid #282828 .5pt;mso-border-right-alt:solid #282828 .5pt;\n",
        "  padding:0cm 5.4pt 0cm 5.4pt;height:20.0pt'>\n",
        "  <p class=MsoNormal><span style='font-size:17.0pt;font-family:\"Times New Roman\",serif;\n",
        "  mso-fareast-font-family:\"Times New Roman\";color:#343433'>95.17%±1.29</span><span\n",
        "  style='font-size:17.0pt;font-family:\"Times New Roman\",serif;mso-fareast-font-family:\n",
        "  \"Times New Roman\"'><o:p></o:p></span></p>\n",
        "  </td>\n",
        "  <td width=187 valign=top style='width:140.0pt;border-top:none;border-left:\n",
        "  none;border-bottom:solid #282828 1.0pt;border-right:solid #282828 1.0pt;\n",
        "  mso-border-bottom-alt:solid #282828 .5pt;mso-border-right-alt:solid #282828 .5pt;\n",
        "  padding:0cm 5.4pt 0cm 5.4pt;height:20.0pt'>\n",
        "  <p class=MsoNormal><span style='font-size:17.0pt;font-family:\"Times New Roman\",serif;\n",
        "  mso-fareast-font-family:\"Times New Roman\";color:#343433'>95.57%±1.28</span><span\n",
        "  style='font-size:17.0pt;font-family:\"Times New Roman\",serif;mso-fareast-font-family:\n",
        "  \"Times New Roman\"'><o:p></o:p></span></p>\n",
        "  </td>\n",
        "  <td width=187 valign=top style='width:140.0pt;border-top:none;border-left:\n",
        "  none;border-bottom:solid #282828 1.0pt;border-right:solid #282828 1.0pt;\n",
        "  mso-border-bottom-alt:solid #282828 .5pt;mso-border-right-alt:solid #282828 .5pt;\n",
        "  padding:0cm 5.4pt 0cm 5.4pt;height:20.0pt'>\n",
        "  <p class=MsoNormal><span style='font-size:17.0pt;font-family:\"Times New Roman\",serif;\n",
        "  mso-fareast-font-family:\"Times New Roman\";color:#343433'>95.46%±1.38</span><span\n",
        "  style='font-size:17.0pt;font-family:\"Times New Roman\",serif;mso-fareast-font-family:\n",
        "  \"Times New Roman\"'><o:p></o:p></span></p>\n",
        "  </td>\n",
        "  <td width=187 valign=top style='width:140.0pt;border-top:none;border-left:\n",
        "  none;border-bottom:solid #282828 1.0pt;border-right:solid #282828 1.0pt;\n",
        "  mso-border-top-alt:solid #282828 .5pt;mso-border-top-alt:solid #282828 .5pt;\n",
        "  mso-border-bottom-alt:solid #282828 .5pt;mso-border-right-alt:solid #282828 .5pt;\n",
        "  padding:0cm 5.4pt 0cm 5.4pt;height:20.0pt'>\n",
        "  <p class=MsoNormal><span style='font-size:17.0pt;font-family:\"Times New Roman\",serif;\n",
        "  mso-fareast-font-family:\"Times New Roman\";color:#343433'>95.48%±1.26</span><span\n",
        "  style='font-size:17.0pt;font-family:\"Times New Roman\",serif;mso-fareast-font-family:\n",
        "  \"Times New Roman\"'><o:p></o:p></span></p>\n",
        "  </td>\n",
        "  <td width=187 valign=top style='width:140.0pt;border-top:none;border-left:\n",
        "  none;border-bottom:solid #282828 1.0pt;border-right:solid #282828 1.0pt;\n",
        "  mso-border-bottom-alt:solid #282828 .5pt;mso-border-right-alt:solid #282828 .5pt;\n",
        "  padding:0cm 5.4pt 0cm 5.4pt;height:20.0pt'>\n",
        "  <p class=MsoNormal><span style='font-size:17.0pt;font-family:\"Times New Roman\",serif;\n",
        "  mso-fareast-font-family:\"Times New Roman\";color:#343433'>94.59%±1.43</span><span\n",
        "  style='font-size:17.0pt;font-family:\"Times New Roman\",serif;mso-fareast-font-family:\n",
        "  \"Times New Roman\"'><o:p></o:p></span></p>\n",
        "  </td>\n",
        "  <td width=195 valign=top style='width:146.0pt;border-top:none;border-left:\n",
        "  none;border-bottom:solid #282828 1.0pt;border-right:solid #282828 1.0pt;\n",
        "  mso-border-bottom-alt:solid #282828 .5pt;mso-border-right-alt:solid #282828 .5pt;\n",
        "  padding:0cm 5.4pt 0cm 5.4pt;height:20.0pt'>\n",
        "  <p class=MsoNormal><span style='font-size:17.0pt;font-family:\"Times New Roman\",serif;\n",
        "  mso-fareast-font-family:\"Times New Roman\";color:#343433'>96.11%±1.20</span><span\n",
        "  style='font-size:17.0pt;font-family:\"Times New Roman\",serif;mso-fareast-font-family:\n",
        "  \"Times New Roman\"'><o:p></o:p></span></p>\n",
        "  </td>\n",
        " </tr>\n",
        " <tr style='mso-yfti-irow:23;height:20.0pt'>\n",
        "  <td width=177 valign=top style='width:133.0pt;border:solid #282828 1.0pt;\n",
        "  border-top:none;mso-border-left-alt:solid #282828 .5pt;mso-border-bottom-alt:\n",
        "  solid #282828 .5pt;mso-border-right-alt:solid #282828 .5pt;padding:0cm 5.4pt 0cm 5.4pt;\n",
        "  height:20.0pt'>\n",
        "  <p class=MsoNormal><span style='font-size:17.0pt;font-family:\"Times New Roman\",serif;\n",
        "  mso-fareast-font-family:\"Times New Roman\";color:#343433'>Teaching</span><span\n",
        "  style='font-size:17.0pt;font-family:\"Times New Roman\",serif;mso-fareast-font-family:\n",
        "  \"Times New Roman\"'><o:p></o:p></span></p>\n",
        "  </td>\n",
        "  <td width=169 valign=top style='width:127.0pt;border-top:none;border-left:\n",
        "  none;border-bottom:solid #282828 1.0pt;border-right:solid #282828 1.0pt;\n",
        "  mso-border-bottom-alt:solid #282828 .5pt;mso-border-right-alt:solid #282828 .5pt;\n",
        "  padding:0cm 5.4pt 0cm 5.4pt;height:20.0pt'>\n",
        "  <p class=MsoNormal><span style='font-size:17.0pt;font-family:\"Times New Roman\",serif;\n",
        "  mso-fareast-font-family:\"Times New Roman\";color:#343433'>63.55%±8.00</span><span\n",
        "  style='font-size:17.0pt;font-family:\"Times New Roman\",serif;mso-fareast-font-family:\n",
        "  \"Times New Roman\"'><o:p></o:p></span></p>\n",
        "  </td>\n",
        "  <td width=187 valign=top style='width:140.0pt;border-top:none;border-left:\n",
        "  none;border-bottom:solid #282828 1.0pt;border-right:solid #282828 1.0pt;\n",
        "  mso-border-bottom-alt:solid #282828 .5pt;mso-border-right-alt:solid #282828 .5pt;\n",
        "  padding:0cm 5.4pt 0cm 5.4pt;height:20.0pt'>\n",
        "  <p class=MsoNormal><span style='font-size:17.0pt;font-family:\"Times New Roman\",serif;\n",
        "  mso-fareast-font-family:\"Times New Roman\";color:#343433'>64.26%±14.15</span><span\n",
        "  style='font-size:17.0pt;font-family:\"Times New Roman\",serif;mso-fareast-font-family:\n",
        "  \"Times New Roman\"'><o:p></o:p></span></p>\n",
        "  </td>\n",
        "  <td width=187 valign=top style='width:140.0pt;border-top:none;border-left:\n",
        "  none;border-bottom:solid #282828 1.0pt;border-right:solid #282828 1.0pt;\n",
        "  mso-border-bottom-alt:solid #282828 .5pt;mso-border-right-alt:solid #282828 .5pt;\n",
        "  padding:0cm 5.4pt 0cm 5.4pt;height:20.0pt'>\n",
        "  <p class=MsoNormal><span style='font-size:17.0pt;font-family:\"Times New Roman\",serif;\n",
        "  mso-fareast-font-family:\"Times New Roman\";color:#343433'>65.51%±8.95</span><span\n",
        "  style='font-size:17.0pt;font-family:\"Times New Roman\",serif;mso-fareast-font-family:\n",
        "  \"Times New Roman\"'><o:p></o:p></span></p>\n",
        "  </td>\n",
        "  <td width=187 valign=top style='width:140.0pt;border-top:none;border-left:\n",
        "  none;border-bottom:solid #282828 1.0pt;border-right:solid #282828 1.0pt;\n",
        "  mso-border-top-alt:solid #282828 .5pt;mso-border-top-alt:solid #282828 .5pt;\n",
        "  mso-border-bottom-alt:solid #282828 .5pt;mso-border-right-alt:solid #282828 .5pt;\n",
        "  padding:0cm 5.4pt 0cm 5.4pt;height:20.0pt'>\n",
        "  <p class=MsoNormal><span style='font-size:17.0pt;font-family:\"Times New Roman\",serif;\n",
        "  mso-fareast-font-family:\"Times New Roman\";color:#343433'>63.41%±11.13</span><span\n",
        "  style='font-size:17.0pt;font-family:\"Times New Roman\",serif;mso-fareast-font-family:\n",
        "  \"Times New Roman\"'><o:p></o:p></span></p>\n",
        "  </td>\n",
        "  <td width=187 valign=top style='width:140.0pt;border-top:none;border-left:\n",
        "  none;border-bottom:solid #282828 1.0pt;border-right:solid #282828 1.0pt;\n",
        "  mso-border-bottom-alt:solid #282828 .5pt;mso-border-right-alt:solid #282828 .5pt;\n",
        "  padding:0cm 5.4pt 0cm 5.4pt;height:20.0pt'>\n",
        "  <p class=MsoNormal><span style='font-size:17.0pt;font-family:\"Times New Roman\",serif;\n",
        "  mso-fareast-font-family:\"Times New Roman\";color:#343433'>62.76%±7.38</span><span\n",
        "  style='font-size:17.0pt;font-family:\"Times New Roman\",serif;mso-fareast-font-family:\n",
        "  \"Times New Roman\"'><o:p></o:p></span></p>\n",
        "  </td>\n",
        "  <td width=195 valign=top style='width:146.0pt;border-top:none;border-left:\n",
        "  none;border-bottom:solid #282828 1.0pt;border-right:solid #282828 1.0pt;\n",
        "  mso-border-bottom-alt:solid #282828 .5pt;mso-border-right-alt:solid #282828 .5pt;\n",
        "  padding:0cm 5.4pt 0cm 5.4pt;height:20.0pt'>\n",
        "  <p class=MsoNormal><span style='font-size:17.0pt;font-family:\"Times New Roman\",serif;\n",
        "  mso-fareast-font-family:\"Times New Roman\";color:#343433'>68.75%±14.65</span><span\n",
        "  style='font-size:17.0pt;font-family:\"Times New Roman\",serif;mso-fareast-font-family:\n",
        "  \"Times New Roman\"'><o:p></o:p></span></p>\n",
        "  </td>\n",
        " </tr>\n",
        " <tr style='mso-yfti-irow:24;height:19.0pt'>\n",
        "  <td width=177 valign=top style='width:133.0pt;border:solid #282828 1.0pt;\n",
        "  border-top:none;mso-border-left-alt:solid #282828 .5pt;mso-border-bottom-alt:\n",
        "  solid #282828 .5pt;mso-border-right-alt:solid #282828 .5pt;padding:0cm 5.4pt 0cm 5.4pt;\n",
        "  height:19.0pt'>\n",
        "  <p class=MsoNormal><span style='font-size:17.0pt;font-family:\"Times New Roman\",serif;\n",
        "  mso-fareast-font-family:\"Times New Roman\";color:#343433'>Tic-tac-toe</span><span\n",
        "  style='font-size:17.0pt;font-family:\"Times New Roman\",serif;mso-fareast-font-family:\n",
        "  \"Times New Roman\"'><o:p></o:p></span></p>\n",
        "  </td>\n",
        "  <td width=169 valign=top style='width:127.0pt;border-top:none;border-left:\n",
        "  none;border-bottom:solid #282828 1.0pt;border-right:solid #282828 1.0pt;\n",
        "  mso-border-bottom-alt:solid #282828 .5pt;mso-border-right-alt:solid #282828 .5pt;\n",
        "  padding:0cm 5.4pt 0cm 5.4pt;height:19.0pt'>\n",
        "  <p class=MsoNormal><span style='font-size:17.0pt;font-family:\"Times New Roman\",serif;\n",
        "  mso-fareast-font-family:\"Times New Roman\";color:#343433'>96.56%±1.63</span><span\n",
        "  style='font-size:17.0pt;font-family:\"Times New Roman\",serif;mso-fareast-font-family:\n",
        "  \"Times New Roman\"'><o:p></o:p></span></p>\n",
        "  </td>\n",
        "  <td width=187 valign=top style='width:140.0pt;border-top:none;border-left:\n",
        "  none;border-bottom:solid #282828 1.0pt;border-right:solid #282828 1.0pt;\n",
        "  mso-border-bottom-alt:solid #282828 .5pt;mso-border-right-alt:solid #282828 .5pt;\n",
        "  padding:0cm 5.4pt 0cm 5.4pt;height:19.0pt'>\n",
        "  <p class=MsoNormal><span style='font-size:17.0pt;font-family:\"Times New Roman\",serif;\n",
        "  mso-fareast-font-family:\"Times New Roman\";color:#343433'>100.00%±0.00</span><span\n",
        "  style='font-size:17.0pt;font-family:\"Times New Roman\",serif;mso-fareast-font-family:\n",
        "  \"Times New Roman\"'><o:p></o:p></span></p>\n",
        "  </td>\n",
        "  <td width=187 valign=top style='width:140.0pt;border-top:none;border-left:\n",
        "  none;border-bottom:solid #282828 1.0pt;border-right:solid #282828 1.0pt;\n",
        "  mso-border-bottom-alt:solid #282828 .5pt;mso-border-right-alt:solid #282828 .5pt;\n",
        "  padding:0cm 5.4pt 0cm 5.4pt;height:19.0pt'>\n",
        "  <p class=MsoNormal><span style='font-size:17.0pt;font-family:\"Times New Roman\",serif;\n",
        "  mso-fareast-font-family:\"Times New Roman\";color:#343433'>95.52%±1.68</span><span\n",
        "  style='font-size:17.0pt;font-family:\"Times New Roman\",serif;mso-fareast-font-family:\n",
        "  \"Times New Roman\"'><o:p></o:p></span></p>\n",
        "  </td>\n",
        "  <td width=187 valign=top style='width:140.0pt;border-top:none;border-left:\n",
        "  none;border-bottom:solid #282828 1.0pt;border-right:solid #282828 1.0pt;\n",
        "  mso-border-top-alt:solid #282828 .5pt;mso-border-top-alt:solid #282828 .5pt;\n",
        "  mso-border-bottom-alt:solid #282828 .5pt;mso-border-right-alt:solid #282828 .5pt;\n",
        "  padding:0cm 5.4pt 0cm 5.4pt;height:19.0pt'>\n",
        "  <p class=MsoNormal><span style='font-size:17.0pt;font-family:\"Times New Roman\",serif;\n",
        "  mso-fareast-font-family:\"Times New Roman\";color:#343433'>95.62%±1.38</span><span\n",
        "  style='font-size:17.0pt;font-family:\"Times New Roman\",serif;mso-fareast-font-family:\n",
        "  \"Times New Roman\"'><o:p></o:p></span></p>\n",
        "  </td>\n",
        "  <td width=187 valign=top style='width:140.0pt;border-top:none;border-left:\n",
        "  none;border-bottom:solid #282828 1.0pt;border-right:solid #282828 1.0pt;\n",
        "  mso-border-bottom-alt:solid #282828 .5pt;mso-border-right-alt:solid #282828 .5pt;\n",
        "  padding:0cm 5.4pt 0cm 5.4pt;height:19.0pt'>\n",
        "  <p class=MsoNormal><span style='font-size:17.0pt;font-family:\"Times New Roman\",serif;\n",
        "  mso-fareast-font-family:\"Times New Roman\";color:#343433'>90.09%±2.77</span><span\n",
        "  style='font-size:17.0pt;font-family:\"Times New Roman\",serif;mso-fareast-font-family:\n",
        "  \"Times New Roman\"'><o:p></o:p></span></p>\n",
        "  </td>\n",
        "  <td width=195 valign=top style='width:146.0pt;border-top:none;border-left:\n",
        "  none;border-bottom:solid #282828 1.0pt;border-right:solid #282828 1.0pt;\n",
        "  mso-border-bottom-alt:solid #282828 .5pt;mso-border-right-alt:solid #282828 .5pt;\n",
        "  padding:0cm 5.4pt 0cm 5.4pt;height:19.0pt'>\n",
        "  <p class=MsoNormal><span style='font-size:17.0pt;font-family:\"Times New Roman\",serif;\n",
        "  mso-fareast-font-family:\"Times New Roman\";color:#343433'>100.00%±0.00</span><span\n",
        "  style='font-size:17.0pt;font-family:\"Times New Roman\",serif;mso-fareast-font-family:\n",
        "  \"Times New Roman\"'><o:p></o:p></span></p>\n",
        "  </td>\n",
        " </tr>\n",
        " <tr style='mso-yfti-irow:25;height:20.0pt'>\n",
        "  <td width=177 valign=top style='width:133.0pt;border:solid #282828 1.0pt;\n",
        "  border-top:none;mso-border-left-alt:solid #282828 .5pt;mso-border-bottom-alt:\n",
        "  solid #282828 .5pt;mso-border-right-alt:solid #282828 .5pt;padding:0cm 5.4pt 0cm 5.4pt;\n",
        "  height:20.0pt'>\n",
        "  <p class=MsoNormal><span style='font-size:17.0pt;font-family:\"Times New Roman\",serif;\n",
        "  mso-fareast-font-family:\"Times New Roman\";color:#343433'>Vehicle</span><span\n",
        "  style='font-size:17.0pt;font-family:\"Times New Roman\",serif;mso-fareast-font-family:\n",
        "  \"Times New Roman\"'><o:p></o:p></span></p>\n",
        "  </td>\n",
        "  <td width=169 valign=top style='width:127.0pt;border-top:none;border-left:\n",
        "  none;border-bottom:solid #282828 1.0pt;border-right:solid #282828 1.0pt;\n",
        "  mso-border-bottom-alt:solid #282828 .5pt;mso-border-right-alt:solid #282828 .5pt;\n",
        "  padding:0cm 5.4pt 0cm 5.4pt;height:20.0pt'>\n",
        "  <p class=MsoNormal><span style='font-size:17.0pt;font-family:\"Times New Roman\",serif;\n",
        "  mso-fareast-font-family:\"Times New Roman\";color:#343433'>78.74%±3.29</span><span\n",
        "  style='font-size:17.0pt;font-family:\"Times New Roman\",serif;mso-fareast-font-family:\n",
        "  \"Times New Roman\"'><o:p></o:p></span></p>\n",
        "  </td>\n",
        "  <td width=187 valign=top style='width:140.0pt;border-top:none;border-left:\n",
        "  none;border-bottom:solid #282828 1.0pt;border-right:solid #282828 1.0pt;\n",
        "  mso-border-bottom-alt:solid #282828 .5pt;mso-border-right-alt:solid #282828 .5pt;\n",
        "  padding:0cm 5.4pt 0cm 5.4pt;height:20.0pt'>\n",
        "  <p class=MsoNormal><span style='font-size:17.0pt;font-family:\"Times New Roman\",serif;\n",
        "  mso-fareast-font-family:\"Times New Roman\";color:#343433'>77.18%±2.31</span><span\n",
        "  style='font-size:17.0pt;font-family:\"Times New Roman\",serif;mso-fareast-font-family:\n",
        "  \"Times New Roman\"'><o:p></o:p></span></p>\n",
        "  </td>\n",
        "  <td width=187 valign=top style='width:140.0pt;border-top:none;border-left:\n",
        "  none;border-bottom:solid #282828 1.0pt;border-right:solid #282828 1.0pt;\n",
        "  mso-border-bottom-alt:solid #282828 .5pt;mso-border-right-alt:solid #282828 .5pt;\n",
        "  padding:0cm 5.4pt 0cm 5.4pt;height:20.0pt'>\n",
        "  <p class=MsoNormal><span style='font-size:17.0pt;font-family:\"Times New Roman\",serif;\n",
        "  mso-fareast-font-family:\"Times New Roman\";color:#343433'>74.50%±3.55</span><span\n",
        "  style='font-size:17.0pt;font-family:\"Times New Roman\",serif;mso-fareast-font-family:\n",
        "  \"Times New Roman\"'><o:p></o:p></span></p>\n",
        "  </td>\n",
        "  <td width=187 valign=top style='width:140.0pt;border-top:none;border-left:\n",
        "  none;border-bottom:solid #282828 1.0pt;border-right:solid #282828 1.0pt;\n",
        "  mso-border-top-alt:solid #282828 .5pt;mso-border-top-alt:solid #282828 .5pt;\n",
        "  mso-border-bottom-alt:solid #282828 .5pt;mso-border-right-alt:solid #282828 .5pt;\n",
        "  padding:0cm 5.4pt 0cm 5.4pt;height:20.0pt'>\n",
        "  <p class=MsoNormal><span style='font-size:17.0pt;font-family:\"Times New Roman\",serif;\n",
        "  mso-fareast-font-family:\"Times New Roman\";color:#343433'>74.13%±3.98</span><span\n",
        "  style='font-size:17.0pt;font-family:\"Times New Roman\",serif;mso-fareast-font-family:\n",
        "  \"Times New Roman\"'><o:p></o:p></span></p>\n",
        "  </td>\n",
        "  <td width=187 valign=top style='width:140.0pt;border-top:none;border-left:\n",
        "  none;border-bottom:solid #282828 1.0pt;border-right:solid #282828 1.0pt;\n",
        "  mso-border-bottom-alt:solid #282828 .5pt;mso-border-right-alt:solid #282828 .5pt;\n",
        "  padding:0cm 5.4pt 0cm 5.4pt;height:20.0pt'>\n",
        "  <p class=MsoNormal><span style='font-size:17.0pt;font-family:\"Times New Roman\",serif;\n",
        "  mso-fareast-font-family:\"Times New Roman\";color:#343433'>78.15%±1.89</span><span\n",
        "  style='font-size:17.0pt;font-family:\"Times New Roman\",serif;mso-fareast-font-family:\n",
        "  \"Times New Roman\"'><o:p></o:p></span></p>\n",
        "  </td>\n",
        "  <td width=195 valign=top style='width:146.0pt;border-top:none;border-left:\n",
        "  none;border-bottom:solid #282828 1.0pt;border-right:solid #282828 1.0pt;\n",
        "  mso-border-bottom-alt:solid #282828 .5pt;mso-border-right-alt:solid #282828 .5pt;\n",
        "  padding:0cm 5.4pt 0cm 5.4pt;height:20.0pt'>\n",
        "  <p class=MsoNormal><span style='font-size:17.0pt;font-family:\"Times New Roman\",serif;\n",
        "  mso-fareast-font-family:\"Times New Roman\";color:#343433'>77.79%±2.04</span><span\n",
        "  style='font-size:17.0pt;font-family:\"Times New Roman\",serif;mso-fareast-font-family:\n",
        "  \"Times New Roman\"'><o:p></o:p></span></p>\n",
        "  </td>\n",
        " </tr>\n",
        " <tr style='mso-yfti-irow:26;height:20.0pt'>\n",
        "  <td width=177 valign=top style='width:133.0pt;border:solid #282828 1.0pt;\n",
        "  border-top:none;mso-border-left-alt:solid #282828 .5pt;mso-border-bottom-alt:\n",
        "  solid #282828 .5pt;mso-border-right-alt:solid #282828 .5pt;padding:0cm 5.4pt 0cm 5.4pt;\n",
        "  height:20.0pt'>\n",
        "  <p class=MsoNormal><span style='font-size:17.0pt;font-family:\"Times New Roman\",serif;\n",
        "  mso-fareast-font-family:\"Times New Roman\";color:#343433'>Vowel</span><span\n",
        "  style='font-size:17.0pt;font-family:\"Times New Roman\",serif;mso-fareast-font-family:\n",
        "  \"Times New Roman\"'><o:p></o:p></span></p>\n",
        "  </td>\n",
        "  <td width=169 valign=top style='width:127.0pt;border-top:none;border-left:\n",
        "  none;border-bottom:solid #282828 1.0pt;border-right:solid #282828 1.0pt;\n",
        "  mso-border-bottom-alt:solid #282828 .5pt;mso-border-right-alt:solid #282828 .5pt;\n",
        "  padding:0cm 5.4pt 0cm 5.4pt;height:20.0pt'>\n",
        "  <p class=MsoNormal><span style='font-size:17.0pt;font-family:\"Times New Roman\",serif;\n",
        "  mso-fareast-font-family:\"Times New Roman\";color:#343433'>92.63%±3.53</span><span\n",
        "  style='font-size:17.0pt;font-family:\"Times New Roman\",serif;mso-fareast-font-family:\n",
        "  \"Times New Roman\"'><o:p></o:p></span></p>\n",
        "  </td>\n",
        "  <td width=187 valign=top style='width:140.0pt;border-top:none;border-left:\n",
        "  none;border-bottom:solid #282828 1.0pt;border-right:solid #282828 1.0pt;\n",
        "  mso-border-bottom-alt:solid #282828 .5pt;mso-border-right-alt:solid #282828 .5pt;\n",
        "  padding:0cm 5.4pt 0cm 5.4pt;height:20.0pt'>\n",
        "  <p class=MsoNormal><span style='font-size:17.0pt;font-family:\"Times New Roman\",serif;\n",
        "  mso-fareast-font-family:\"Times New Roman\";color:#343433'>95.86%±2.14</span><span\n",
        "  style='font-size:17.0pt;font-family:\"Times New Roman\",serif;mso-fareast-font-family:\n",
        "  \"Times New Roman\"'><o:p></o:p></span></p>\n",
        "  </td>\n",
        "  <td width=187 valign=top style='width:140.0pt;border-top:none;border-left:\n",
        "  none;border-bottom:solid #282828 1.0pt;border-right:solid #282828 1.0pt;\n",
        "  mso-border-bottom-alt:solid #282828 .5pt;mso-border-right-alt:solid #282828 .5pt;\n",
        "  padding:0cm 5.4pt 0cm 5.4pt;height:20.0pt'>\n",
        "  <p class=MsoNormal><span style='font-size:17.0pt;font-family:\"Times New Roman\",serif;\n",
        "  mso-fareast-font-family:\"Times New Roman\";color:#343433'>97.47%±1.37</span><span\n",
        "  style='font-size:17.0pt;font-family:\"Times New Roman\",serif;mso-fareast-font-family:\n",
        "  \"Times New Roman\"'><o:p></o:p></span></p>\n",
        "  </td>\n",
        "  <td width=187 valign=top style='width:140.0pt;border-top:none;border-left:\n",
        "  none;border-bottom:solid #282828 1.0pt;border-right:solid #282828 1.0pt;\n",
        "  mso-border-top-alt:solid #282828 .5pt;mso-border-top-alt:solid #282828 .5pt;\n",
        "  mso-border-bottom-alt:solid #282828 .5pt;mso-border-right-alt:solid #282828 .5pt;\n",
        "  padding:0cm 5.4pt 0cm 5.4pt;height:20.0pt'>\n",
        "  <p class=MsoNormal><span style='font-size:17.0pt;font-family:\"Times New Roman\",serif;\n",
        "  mso-fareast-font-family:\"Times New Roman\";color:#343433'>97.78%±1.68</span><span\n",
        "  style='font-size:17.0pt;font-family:\"Times New Roman\",serif;mso-fareast-font-family:\n",
        "  \"Times New Roman\"'><o:p></o:p></span></p>\n",
        "  </td>\n",
        "  <td width=187 valign=top style='width:140.0pt;border-top:none;border-left:\n",
        "  none;border-bottom:solid #282828 1.0pt;border-right:solid #282828 1.0pt;\n",
        "  mso-border-bottom-alt:solid #282828 .5pt;mso-border-right-alt:solid #282828 .5pt;\n",
        "  padding:0cm 5.4pt 0cm 5.4pt;height:20.0pt'>\n",
        "  <p class=MsoNormal><span style='font-size:17.0pt;font-family:\"Times New Roman\",serif;\n",
        "  mso-fareast-font-family:\"Times New Roman\";color:#343433'>93.23%±3.32</span><span\n",
        "  style='font-size:17.0pt;font-family:\"Times New Roman\",serif;mso-fareast-font-family:\n",
        "  \"Times New Roman\"'><o:p></o:p></span></p>\n",
        "  </td>\n",
        "  <td width=195 valign=top style='width:146.0pt;border-top:none;border-left:\n",
        "  none;border-bottom:solid #282828 1.0pt;border-right:solid #282828 1.0pt;\n",
        "  mso-border-bottom-alt:solid #282828 .5pt;mso-border-right-alt:solid #282828 .5pt;\n",
        "  padding:0cm 5.4pt 0cm 5.4pt;height:20.0pt'>\n",
        "  <p class=MsoNormal><span style='font-size:17.0pt;font-family:\"Times New Roman\",serif;\n",
        "  mso-fareast-font-family:\"Times New Roman\";color:#343433'>96.77%±2.01</span><span\n",
        "  style='font-size:17.0pt;font-family:\"Times New Roman\",serif;mso-fareast-font-family:\n",
        "  \"Times New Roman\"'><o:p></o:p></span></p>\n",
        "  </td>\n",
        " </tr>\n",
        " <tr style='mso-yfti-irow:27;height:20.0pt'>\n",
        "  <td width=177 valign=top style='width:133.0pt;border:solid #282828 1.0pt;\n",
        "  border-top:none;mso-border-left-alt:solid #282828 .5pt;mso-border-bottom-alt:\n",
        "  solid #282828 .5pt;mso-border-right-alt:solid #282828 .5pt;padding:0cm 5.4pt 0cm 5.4pt;\n",
        "  height:20.0pt'>\n",
        "  <p class=MsoNormal><span style='font-size:17.0pt;font-family:\"Times New Roman\",serif;\n",
        "  mso-fareast-font-family:\"Times New Roman\";color:#343433'>Waveform</span><span\n",
        "  style='font-size:17.0pt;font-family:\"Times New Roman\",serif;mso-fareast-font-family:\n",
        "  \"Times New Roman\"'><o:p></o:p></span></p>\n",
        "  </td>\n",
        "  <td width=169 valign=top style='width:127.0pt;border-top:none;border-left:\n",
        "  none;border-bottom:solid #282828 1.0pt;border-right:solid #282828 1.0pt;\n",
        "  mso-border-bottom-alt:solid #282828 .5pt;mso-border-right-alt:solid #282828 .5pt;\n",
        "  padding:0cm 5.4pt 0cm 5.4pt;height:20.0pt'>\n",
        "  <p class=MsoNormal><span style='font-size:17.0pt;font-family:\"Times New Roman\",serif;\n",
        "  mso-fareast-font-family:\"Times New Roman\";color:#343433'>85.72%±1.05</span><span\n",
        "  style='font-size:17.0pt;font-family:\"Times New Roman\",serif;mso-fareast-font-family:\n",
        "  \"Times New Roman\"'><o:p></o:p></span></p>\n",
        "  </td>\n",
        "  <td width=187 valign=top style='width:140.0pt;border-top:none;border-left:\n",
        "  none;border-bottom:solid #282828 1.0pt;border-right:solid #282828 1.0pt;\n",
        "  mso-border-bottom-alt:solid #282828 .5pt;mso-border-right-alt:solid #282828 .5pt;\n",
        "  padding:0cm 5.4pt 0cm 5.4pt;height:20.0pt'>\n",
        "  <p class=MsoNormal><span style='font-size:17.0pt;font-family:\"Times New Roman\",serif;\n",
        "  mso-fareast-font-family:\"Times New Roman\";color:#343433'>85.72%±1.77</span><span\n",
        "  style='font-size:17.0pt;font-family:\"Times New Roman\",serif;mso-fareast-font-family:\n",
        "  \"Times New Roman\"'><o:p></o:p></span></p>\n",
        "  </td>\n",
        "  <td width=187 valign=top style='width:140.0pt;border-top:none;border-left:\n",
        "  none;border-bottom:solid #282828 1.0pt;border-right:solid #282828 1.0pt;\n",
        "  mso-border-bottom-alt:solid #282828 .5pt;mso-border-right-alt:solid #282828 .5pt;\n",
        "  padding:0cm 5.4pt 0cm 5.4pt;height:20.0pt'>\n",
        "  <p class=MsoNormal><span style='font-size:17.0pt;font-family:\"Times New Roman\",serif;\n",
        "  mso-fareast-font-family:\"Times New Roman\";color:#343433'>85.42%±1.73</span><span\n",
        "  style='font-size:17.0pt;font-family:\"Times New Roman\",serif;mso-fareast-font-family:\n",
        "  \"Times New Roman\"'><o:p></o:p></span></p>\n",
        "  </td>\n",
        "  <td width=187 valign=top style='width:140.0pt;border-top:none;border-left:\n",
        "  none;border-bottom:solid #282828 1.0pt;border-right:solid #282828 1.0pt;\n",
        "  mso-border-top-alt:solid #282828 .5pt;mso-border-top-alt:solid #282828 .5pt;\n",
        "  mso-border-bottom-alt:solid #282828 .5pt;mso-border-right-alt:solid #282828 .5pt;\n",
        "  padding:0cm 5.4pt 0cm 5.4pt;height:20.0pt'>\n",
        "  <p class=MsoNormal><span style='font-size:17.0pt;font-family:\"Times New Roman\",serif;\n",
        "  mso-fareast-font-family:\"Times New Roman\";color:#343433'>85.62%±1.46</span><span\n",
        "  style='font-size:17.0pt;font-family:\"Times New Roman\",serif;mso-fareast-font-family:\n",
        "  \"Times New Roman\"'><o:p></o:p></span></p>\n",
        "  </td>\n",
        "  <td width=187 valign=top style='width:140.0pt;border-top:none;border-left:\n",
        "  none;border-bottom:solid #282828 1.0pt;border-right:solid #282828 1.0pt;\n",
        "  mso-border-bottom-alt:solid #282828 .5pt;mso-border-right-alt:solid #282828 .5pt;\n",
        "  padding:0cm 5.4pt 0cm 5.4pt;height:20.0pt'>\n",
        "  <p class=MsoNormal><span style='font-size:17.0pt;font-family:\"Times New Roman\",serif;\n",
        "  mso-fareast-font-family:\"Times New Roman\";color:#343433'>85.32%±0.85</span><span\n",
        "  style='font-size:17.0pt;font-family:\"Times New Roman\",serif;mso-fareast-font-family:\n",
        "  \"Times New Roman\"'><o:p></o:p></span></p>\n",
        "  </td>\n",
        "  <td width=195 valign=top style='width:146.0pt;border-top:none;border-left:\n",
        "  none;border-bottom:solid #282828 1.0pt;border-right:solid #282828 1.0pt;\n",
        "  mso-border-bottom-alt:solid #282828 .5pt;mso-border-right-alt:solid #282828 .5pt;\n",
        "  padding:0cm 5.4pt 0cm 5.4pt;height:20.0pt'>\n",
        "  <p class=MsoNormal><span style='font-size:17.0pt;font-family:\"Times New Roman\",serif;\n",
        "  mso-fareast-font-family:\"Times New Roman\";color:#343433'>85.86%±1.18</span><span\n",
        "  style='font-size:17.0pt;font-family:\"Times New Roman\",serif;mso-fareast-font-family:\n",
        "  \"Times New Roman\"'><o:p></o:p></span></p>\n",
        "  </td>\n",
        " </tr>\n",
        " <tr style='mso-yfti-irow:28;mso-yfti-lastrow:yes;height:20.0pt'>\n",
        "  <td width=177 valign=top style='width:133.0pt;border:solid #282828 1.0pt;\n",
        "  border-top:none;mso-border-left-alt:solid #282828 .5pt;mso-border-bottom-alt:\n",
        "  solid #282828 .5pt;mso-border-right-alt:solid #282828 .5pt;padding:0cm 5.4pt 0cm 5.4pt;\n",
        "  height:20.0pt'>\n",
        "  <p class=MsoNormal><span style='font-size:17.0pt;font-family:\"Times New Roman\",serif;\n",
        "  mso-fareast-font-family:\"Times New Roman\";color:#343433'>Wine</span><span\n",
        "  style='font-size:17.0pt;font-family:\"Times New Roman\",serif;mso-fareast-font-family:\n",
        "  \"Times New Roman\"'><o:p></o:p></span></p>\n",
        "  </td>\n",
        "  <td width=169 valign=top style='width:127.0pt;border-top:none;border-left:\n",
        "  none;border-bottom:solid #282828 1.0pt;border-right:solid #282828 1.0pt;\n",
        "  mso-border-bottom-alt:solid #282828 .5pt;mso-border-right-alt:solid #282828 .5pt;\n",
        "  padding:0cm 5.4pt 0cm 5.4pt;height:20.0pt'>\n",
        "  <p class=MsoNormal><span style='font-size:17.0pt;font-family:\"Times New Roman\",serif;\n",
        "  mso-fareast-font-family:\"Times New Roman\";color:#343433'>97.18%±2.83</span><span\n",
        "  style='font-size:17.0pt;font-family:\"Times New Roman\",serif;mso-fareast-font-family:\n",
        "  \"Times New Roman\"'><o:p></o:p></span></p>\n",
        "  </td>\n",
        "  <td width=187 valign=top style='width:140.0pt;border-top:none;border-left:\n",
        "  none;border-bottom:solid #282828 1.0pt;border-right:solid #282828 1.0pt;\n",
        "  mso-border-bottom-alt:solid #282828 .5pt;mso-border-right-alt:solid #282828 .5pt;\n",
        "  padding:0cm 5.4pt 0cm 5.4pt;height:20.0pt'>\n",
        "  <p class=MsoNormal><span style='font-size:17.0pt;font-family:\"Times New Roman\",serif;\n",
        "  mso-fareast-font-family:\"Times New Roman\";color:#343433'>98.82%±2.37</span><span\n",
        "  style='font-size:17.0pt;font-family:\"Times New Roman\",serif;mso-fareast-font-family:\n",
        "  \"Times New Roman\"'><o:p></o:p></span></p>\n",
        "  </td>\n",
        "  <td width=187 valign=top style='width:140.0pt;border-top:none;border-left:\n",
        "  none;border-bottom:solid #282828 1.0pt;border-right:solid #282828 1.0pt;\n",
        "  mso-border-bottom-alt:solid #282828 .5pt;mso-border-right-alt:solid #282828 .5pt;\n",
        "  padding:0cm 5.4pt 0cm 5.4pt;height:20.0pt'>\n",
        "  <p class=MsoNormal><span style='font-size:17.0pt;font-family:\"Times New Roman\",serif;\n",
        "  mso-fareast-font-family:\"Times New Roman\";color:#343433'>98.26%±2.66</span><span\n",
        "  style='font-size:17.0pt;font-family:\"Times New Roman\",serif;mso-fareast-font-family:\n",
        "  \"Times New Roman\"'><o:p></o:p></span></p>\n",
        "  </td>\n",
        "  <td width=187 valign=top style='width:140.0pt;border-top:none;border-left:\n",
        "  none;border-bottom:solid #282828 1.0pt;border-right:solid #282828 1.0pt;\n",
        "  mso-border-top-alt:solid #282828 .5pt;mso-border-top-alt:solid #282828 .5pt;\n",
        "  mso-border-bottom-alt:solid #282828 .5pt;mso-border-right-alt:solid #282828 .5pt;\n",
        "  padding:0cm 5.4pt 0cm 5.4pt;height:20.0pt'>\n",
        "  <p class=MsoNormal><span style='font-size:17.0pt;font-family:\"Times New Roman\",serif;\n",
        "  mso-fareast-font-family:\"Times New Roman\";color:#343433'>98.26%±2.66</span><span\n",
        "  style='font-size:17.0pt;font-family:\"Times New Roman\",serif;mso-fareast-font-family:\n",
        "  \"Times New Roman\"'><o:p></o:p></span></p>\n",
        "  </td>\n",
        "  <td width=187 valign=top style='width:140.0pt;border-top:none;border-left:\n",
        "  none;border-bottom:solid #282828 1.0pt;border-right:solid #282828 1.0pt;\n",
        "  mso-border-bottom-alt:solid #282828 .5pt;mso-border-right-alt:solid #282828 .5pt;\n",
        "  padding:0cm 5.4pt 0cm 5.4pt;height:20.0pt'>\n",
        "  <p class=MsoNormal><span style='font-size:17.0pt;font-family:\"Times New Roman\",serif;\n",
        "  mso-fareast-font-family:\"Times New Roman\";color:#343433'>97.74%±2.78</span><span\n",
        "  style='font-size:17.0pt;font-family:\"Times New Roman\",serif;mso-fareast-font-family:\n",
        "  \"Times New Roman\"'><o:p></o:p></span></p>\n",
        "  </td>\n",
        "  <td width=195 valign=top style='width:146.0pt;border-top:none;border-left:\n",
        "  none;border-bottom:solid #282828 1.0pt;border-right:solid #282828 1.0pt;\n",
        "  mso-border-bottom-alt:solid #282828 .5pt;mso-border-right-alt:solid #282828 .5pt;\n",
        "  padding:0cm 5.4pt 0cm 5.4pt;height:20.0pt'>\n",
        "  <p class=MsoNormal><span style='font-size:17.0pt;font-family:\"Times New Roman\",serif;\n",
        "  mso-fareast-font-family:\"Times New Roman\";color:#343433'>98.82%±2.37</span><span\n",
        "  style='font-size:17.0pt;font-family:\"Times New Roman\",serif;mso-fareast-font-family:\n",
        "  \"Times New Roman\"'><o:p></o:p></span></p>\n",
        "  </td>\n",
        " </tr>\n",
        "</table>\n",
        "\n",
        "<p class=MsoNormal><o:p>&nbsp;</o:p></p>\n",
        "\n",
        "</div>\n",
        "\n",
        "</body>\n",
        "\n",
        "</html>\n"
      ]
    },
    {
      "cell_type": "markdown",
      "metadata": {
        "id": "5626c87f-2c2a-4964-a326-00cd42ace125"
      },
      "source": [
        "Gradient boosting is a family of algorithms; in the following optional  section, we will provide an overview but check out the following references for more info on Gradient boosting <a href=\"https://www.cs.cornell.edu/courses/cs4780/2018fa/lectures/lecturenote19.html?utm_medium=Exinfluencer&utm_source=Exinfluencer&utm_content=000026UJ&utm_term=10006555&utm_id=NA-SkillsNetwork-Channel-SkillsNetworkCoursesIBMML241ENSkillsNetwork31576874-2022-01-01\">\\[1] </a>, <a href=\"http://noiselab.ucsd.edu/ECE228/Murphy_Machine_Learning.pdf?utm_medium=Exinfluencer&utm_source=Exinfluencer&utm_content=000026UJ&utm_term=10006555&utm_id=NA-SkillsNetwork-Channel-SkillsNetworkCoursesIBMML241ENSkillsNetwork31576874-2022-01-01#page=585\">\\[2] </a>,<a href=\"https://arxiv.org/pdf/1603.02754.pdf?utm_medium=Exinfluencer&utm_source=Exinfluencer&utm_content=000026UJ&utm_term=10006555&utm_id=NA-SkillsNetwork-Channel-SkillsNetworkCoursesIBMML241ENSkillsNetwork31576874-2022-01-01\">\\[3]</a>.\n"
      ]
    },
    {
      "cell_type": "markdown",
      "metadata": {
        "id": "6592caab-8b1e-41f6-8028-67c9c9707e48"
      },
      "source": [
        "## **Table of Contents**\n",
        "\n",
        "​\n",
        "\n",
        "<!-- <a href=\"#Multi-Dimensional_Scaling\">Multi-Dimensional Scaling/a> -->\n",
        "\n",
        "<ol>\n",
        "<li style=\"list-style-type: none;\">\n",
        "<ol>\n",
        "<li>Objectives</li>\n",
        "<li>Setup\n",
        "<ol>\n",
        "<li>Installing Required Libraries&lt;</li>\n",
        "<li>Importing Required Libraries</li>\n",
        "<li>Defining Helper Functions</li>\n",
        "</ol>\n",
        "</li>\n",
        "<li>How  Gradient Boosting  Works (Optional)\n",
        "    <ol>\n",
        "    <li> How to Minimize Cost</li>\n",
        "    <li>  Example with Python </li>\n",
        "    </ol>\n",
        "\n",
        "<li>Xgboost<br />\n",
        "<ol>\n",
        "<li>About the dataset</li>\n",
        "<li>Gradient Boosting parameter</li>\n",
        " <li>Evaluation Metric on Second Dataset </li>\n",
        "    <li>Early Stopping </li>\n",
        "    <li>Parameters for Trees </li>\n",
        "\n",
        "</ol>\n",
        "</li>\n",
        "<li>Cancer Data Example with GridSearchCV</li>\n",
        "<li>Practice</li>\n",
        "</ol>\n",
        "</li>\n",
        "</ol>\n"
      ]
    },
    {
      "cell_type": "markdown",
      "metadata": {
        "id": "a90fbc5e-96ca-4ef0-9ece-4b8a9708b1df"
      },
      "source": [
        "Let's first import the required libraries:\n"
      ]
    },
    {
      "cell_type": "code",
      "metadata": {
        "id": "61875640-d3a6-4e41-b120-42afe2c67fcd"
      },
      "outputs": [],
      "source": [
        "# All Libraries required for this lab are listed below. The libraries pre-installed on Skills Network Labs are commented.\n",
        "# !mamba install -qy pandas==1.3.3 numpy==1.21.2 ipywidgets==7.4.2 scipy==7.4.2 tqdm==4.62.3 matplotlib==3.5.0 seaborn==0.9.0\n",
        "# Note: If your environment doesn't support \"!mamba install\", use \"!pip install\""
      ],
      "execution_count": 1
    },
    {
      "cell_type": "markdown",
      "metadata": {
        "id": "35a65835-9658-435d-a6fa-03f3480cfd6e"
      },
      "source": [
        "## Objectives\n",
        "\n",
        "After completing this lab you will be able to:\n",
        "\n",
        "*   Understand   Gradient Boosting  is a linear combination of  𝑇 weak classifiers\n",
        "*   Apply Gradient Boosting using  XGBoost,\n",
        "*   Understand Hyperparameters selection in  XGBoost\n"
      ]
    },
    {
      "cell_type": "code",
      "metadata": {
        "id": "eb0e7036-4179-4423-9091-ddcd55f3271c"
      },
      "outputs": [],
      "source": [
        "import pandas as pd\n",
        "import pylab as plt\n",
        "import numpy as np\n",
        "import scipy.optimize as opt\n",
        "from sklearn import preprocessing\n",
        "%matplotlib inline\n",
        "import matplotlib.pyplot as plt\n",
        "from sklearn import metrics\n",
        "from sklearn.tree import DecisionTreeRegressor\n",
        "from tqdm import tqdm"
      ],
      "execution_count": 2
    },
    {
      "cell_type": "markdown",
      "metadata": {
        "id": "65f27e78-b9fe-4826-bc0e-f1f3f1159947"
      },
      "source": [
        "Ignore error warnings.\n"
      ]
    },
    {
      "cell_type": "code",
      "metadata": {
        "id": "e5881c80-3f81-4549-b17c-ae6ca155a6b2"
      },
      "outputs": [],
      "source": [
        "import warnings\n",
        "warnings.filterwarnings('ignore')"
      ],
      "execution_count": 3
    },
    {
      "cell_type": "markdown",
      "metadata": {
        "id": "c67427a0-3f9e-461b-9274-c0a77cd0b46c"
      },
      "source": [
        "This function will calculate the accuracy of the training and testing data given a model.\n"
      ]
    },
    {
      "cell_type": "code",
      "metadata": {
        "id": "9ea7ea06-98c8-423b-b94b-c03023900b1d"
      },
      "outputs": [],
      "source": [
        "def get_accuracy(X_train, X_test, y_train, y_test, model):\n",
        "    return  {\"test Accuracy\":metrics.accuracy_score(y_test, model.predict(X_test)),\"train Accuracy\": metrics.accuracy_score(y_train, model.predict(X_train))}"
      ],
      "execution_count": 4
    },
    {
      "cell_type": "markdown",
      "metadata": {
        "id": "1bb33f18-e25a-4065-9560-09eb033f1a66"
      },
      "source": [
        "This function calculates the average accuracy of differnt learning rates on training and test data.\n"
      ]
    },
    {
      "cell_type": "code",
      "metadata": {
        "id": "095c591a-3bd8-432e-a59b-07eb8bb87922"
      },
      "outputs": [],
      "source": [
        "def get_accuracy_boost(X,y,title,times=20,xlabel='Number Estimators',Learning_rate_=[0.2,0.4,0.6,1], n_est = 100):\n",
        "\n",
        "    lines_array=['solid','--', '-.', ':']\n",
        "\n",
        "    N_estimators=[n*2 for n in range(1,n_est//2)]\n",
        "\n",
        "    train_acc=np.zeros((times,len(Learning_rate_),len(N_estimators)))\n",
        "    test_acc=np.zeros((times,len(Learning_rate_),len(N_estimators)))\n",
        "\n",
        "\n",
        "    #Iterate through different number of Learning rate  and average out the results\n",
        "\n",
        "    for n in tqdm(range(times)):\n",
        "        X_train, X_test, y_train, y_test = train_test_split( X, y, test_size=0.3)\n",
        "        for n_estimators in N_estimators:\n",
        "            for j,lr in enumerate(Learning_rate_):\n",
        "\n",
        "\n",
        "                model = XGBClassifier(objective=objective,learning_rate=lr,n_estimators=n_estimators,eval_metric='mlogloss')\n",
        "\n",
        "\n",
        "                model.fit(X_train,y_train)\n",
        "\n",
        "\n",
        "\n",
        "                Accuracy=get_accuracy(X_train, X_test, y_train, y_test,  model)\n",
        "\n",
        "\n",
        "\n",
        "                train_acc[n,j,(n_estimators//2)-1]=Accuracy['train Accuracy']\n",
        "                test_acc[n,j,(n_estimators//2)-1]=Accuracy['test Accuracy']\n",
        "\n",
        "\n",
        "\n",
        "\n",
        "    fig, ax1 = plt.subplots()\n",
        "    mean_test=test_acc.mean(axis=0)\n",
        "    mean_train=train_acc.mean(axis=0)\n",
        "    ax2 = ax1.twinx()\n",
        "\n",
        "    for j,(lr,line) in enumerate(zip(Learning_rate_,lines_array)):\n",
        "\n",
        "        ax1.plot(mean_train[j,:],linestyle = line,color='b',label=\"Learning rate \"+str(lr))\n",
        "        ax2.plot(mean_test[j,:],linestyle = line, color='r',label=str(lr))\n",
        "\n",
        "    ax1.set_ylabel('Training accuracy',color='b')\n",
        "    ax1.legend()\n",
        "    ax2.set_ylabel('Testing accuracy', color='r')\n",
        "    ax2.legend()\n",
        "    ax1.set_xlabel(xlabel)\n",
        "    plt.show()"
      ],
      "execution_count": 5
    },
    {
      "cell_type": "markdown",
      "metadata": {
        "id": "d2d3ebca-9440-4441-9487-a6be56a8a8a3"
      },
      "source": [
        "# Xgboost\n"
      ]
    },
    {
      "cell_type": "markdown",
      "metadata": {
        "id": "47776aab-fb29-43c6-ac8a-170606a37f1b"
      },
      "source": [
        "### About the dataset\n",
        "\n",
        "We will use a telecommunications dataset for predicting customer churn. This is a historical customer dataset where each row represents one customer. The data is relatively easy to understand, and you may uncover insights you can use immediately. Typically, it is less expensive to keep customers than to acquire new ones, so the focus of this analysis is to predict the customers who will stay with the company.\n",
        "\n",
        "This data set provides information to help you predict what behavior will help you to retain customers. You can analyze all relevant customer data and develop focused customer retention programs.\n",
        "\n",
        "The dataset includes information about:\n",
        "\n",
        "*   Customers who left within the last month – the column is called Churn\n",
        "*   Services that each customer has signed up for – phone, multiple lines, internet, online security, online backup, device protection, tech support, and streaming TV and movies\n",
        "*   Customer account information – how long they had been a customer, contract, payment method, paperless billing, monthly charges, and total charges\n",
        "*   Demographic info about customers – gender, age range, and if they have partners and dependents\n"
      ]
    },
    {
      "cell_type": "markdown",
      "metadata": {
        "id": "9c094b19-3dad-4de9-9f9b-7df10dbefb14"
      },
      "source": [
        "Load Data From CSV File.\n"
      ]
    },
    {
      "cell_type": "code",
      "metadata": {
        "colab": {
          "base_uri": "https://localhost:8080/",
          "height": 236
        },
        "id": "634dbe7d-f415-4e17-a0ae-f2fd86d0d953",
        "outputId": "410d6b73-0851-4048-c380-d4597b0f620c"
      },
      "outputs": [
        {
          "output_type": "execute_result",
          "data": {
            "text/plain": [
              "   tenure   age  address  income   ed  employ  equip  callcard  wireless  \\\n",
              "0    11.0  33.0      7.0   136.0  5.0     5.0    0.0       1.0       1.0   \n",
              "1    33.0  33.0     12.0    33.0  2.0     0.0    0.0       0.0       0.0   \n",
              "2    23.0  30.0      9.0    30.0  1.0     2.0    0.0       0.0       0.0   \n",
              "3    38.0  35.0      5.0    76.0  2.0    10.0    1.0       1.0       1.0   \n",
              "4     7.0  35.0     14.0    80.0  2.0    15.0    0.0       1.0       0.0   \n",
              "\n",
              "   longmon  ...  pager  internet  callwait  confer  ebill  loglong  logtoll  \\\n",
              "0     4.40  ...    1.0       0.0       1.0     1.0    0.0    1.482    3.033   \n",
              "1     9.45  ...    0.0       0.0       0.0     0.0    0.0    2.246    3.240   \n",
              "2     6.30  ...    0.0       0.0       0.0     1.0    0.0    1.841    3.240   \n",
              "3     6.05  ...    1.0       1.0       1.0     1.0    1.0    1.800    3.807   \n",
              "4     7.10  ...    0.0       0.0       1.0     1.0    0.0    1.960    3.091   \n",
              "\n",
              "   lninc  custcat  churn  \n",
              "0  4.913      4.0    1.0  \n",
              "1  3.497      1.0    1.0  \n",
              "2  3.401      3.0    0.0  \n",
              "3  4.331      4.0    0.0  \n",
              "4  4.382      3.0    0.0  \n",
              "\n",
              "[5 rows x 28 columns]"
            ],
            "text/html": [
              "\n",
              "  <div id=\"df-5890244a-dd97-4661-a429-04bbbceb06cf\" class=\"colab-df-container\">\n",
              "    <div>\n",
              "<style scoped>\n",
              "    .dataframe tbody tr th:only-of-type {\n",
              "        vertical-align: middle;\n",
              "    }\n",
              "\n",
              "    .dataframe tbody tr th {\n",
              "        vertical-align: top;\n",
              "    }\n",
              "\n",
              "    .dataframe thead th {\n",
              "        text-align: right;\n",
              "    }\n",
              "</style>\n",
              "<table border=\"1\" class=\"dataframe\">\n",
              "  <thead>\n",
              "    <tr style=\"text-align: right;\">\n",
              "      <th></th>\n",
              "      <th>tenure</th>\n",
              "      <th>age</th>\n",
              "      <th>address</th>\n",
              "      <th>income</th>\n",
              "      <th>ed</th>\n",
              "      <th>employ</th>\n",
              "      <th>equip</th>\n",
              "      <th>callcard</th>\n",
              "      <th>wireless</th>\n",
              "      <th>longmon</th>\n",
              "      <th>...</th>\n",
              "      <th>pager</th>\n",
              "      <th>internet</th>\n",
              "      <th>callwait</th>\n",
              "      <th>confer</th>\n",
              "      <th>ebill</th>\n",
              "      <th>loglong</th>\n",
              "      <th>logtoll</th>\n",
              "      <th>lninc</th>\n",
              "      <th>custcat</th>\n",
              "      <th>churn</th>\n",
              "    </tr>\n",
              "  </thead>\n",
              "  <tbody>\n",
              "    <tr>\n",
              "      <th>0</th>\n",
              "      <td>11.0</td>\n",
              "      <td>33.0</td>\n",
              "      <td>7.0</td>\n",
              "      <td>136.0</td>\n",
              "      <td>5.0</td>\n",
              "      <td>5.0</td>\n",
              "      <td>0.0</td>\n",
              "      <td>1.0</td>\n",
              "      <td>1.0</td>\n",
              "      <td>4.40</td>\n",
              "      <td>...</td>\n",
              "      <td>1.0</td>\n",
              "      <td>0.0</td>\n",
              "      <td>1.0</td>\n",
              "      <td>1.0</td>\n",
              "      <td>0.0</td>\n",
              "      <td>1.482</td>\n",
              "      <td>3.033</td>\n",
              "      <td>4.913</td>\n",
              "      <td>4.0</td>\n",
              "      <td>1.0</td>\n",
              "    </tr>\n",
              "    <tr>\n",
              "      <th>1</th>\n",
              "      <td>33.0</td>\n",
              "      <td>33.0</td>\n",
              "      <td>12.0</td>\n",
              "      <td>33.0</td>\n",
              "      <td>2.0</td>\n",
              "      <td>0.0</td>\n",
              "      <td>0.0</td>\n",
              "      <td>0.0</td>\n",
              "      <td>0.0</td>\n",
              "      <td>9.45</td>\n",
              "      <td>...</td>\n",
              "      <td>0.0</td>\n",
              "      <td>0.0</td>\n",
              "      <td>0.0</td>\n",
              "      <td>0.0</td>\n",
              "      <td>0.0</td>\n",
              "      <td>2.246</td>\n",
              "      <td>3.240</td>\n",
              "      <td>3.497</td>\n",
              "      <td>1.0</td>\n",
              "      <td>1.0</td>\n",
              "    </tr>\n",
              "    <tr>\n",
              "      <th>2</th>\n",
              "      <td>23.0</td>\n",
              "      <td>30.0</td>\n",
              "      <td>9.0</td>\n",
              "      <td>30.0</td>\n",
              "      <td>1.0</td>\n",
              "      <td>2.0</td>\n",
              "      <td>0.0</td>\n",
              "      <td>0.0</td>\n",
              "      <td>0.0</td>\n",
              "      <td>6.30</td>\n",
              "      <td>...</td>\n",
              "      <td>0.0</td>\n",
              "      <td>0.0</td>\n",
              "      <td>0.0</td>\n",
              "      <td>1.0</td>\n",
              "      <td>0.0</td>\n",
              "      <td>1.841</td>\n",
              "      <td>3.240</td>\n",
              "      <td>3.401</td>\n",
              "      <td>3.0</td>\n",
              "      <td>0.0</td>\n",
              "    </tr>\n",
              "    <tr>\n",
              "      <th>3</th>\n",
              "      <td>38.0</td>\n",
              "      <td>35.0</td>\n",
              "      <td>5.0</td>\n",
              "      <td>76.0</td>\n",
              "      <td>2.0</td>\n",
              "      <td>10.0</td>\n",
              "      <td>1.0</td>\n",
              "      <td>1.0</td>\n",
              "      <td>1.0</td>\n",
              "      <td>6.05</td>\n",
              "      <td>...</td>\n",
              "      <td>1.0</td>\n",
              "      <td>1.0</td>\n",
              "      <td>1.0</td>\n",
              "      <td>1.0</td>\n",
              "      <td>1.0</td>\n",
              "      <td>1.800</td>\n",
              "      <td>3.807</td>\n",
              "      <td>4.331</td>\n",
              "      <td>4.0</td>\n",
              "      <td>0.0</td>\n",
              "    </tr>\n",
              "    <tr>\n",
              "      <th>4</th>\n",
              "      <td>7.0</td>\n",
              "      <td>35.0</td>\n",
              "      <td>14.0</td>\n",
              "      <td>80.0</td>\n",
              "      <td>2.0</td>\n",
              "      <td>15.0</td>\n",
              "      <td>0.0</td>\n",
              "      <td>1.0</td>\n",
              "      <td>0.0</td>\n",
              "      <td>7.10</td>\n",
              "      <td>...</td>\n",
              "      <td>0.0</td>\n",
              "      <td>0.0</td>\n",
              "      <td>1.0</td>\n",
              "      <td>1.0</td>\n",
              "      <td>0.0</td>\n",
              "      <td>1.960</td>\n",
              "      <td>3.091</td>\n",
              "      <td>4.382</td>\n",
              "      <td>3.0</td>\n",
              "      <td>0.0</td>\n",
              "    </tr>\n",
              "  </tbody>\n",
              "</table>\n",
              "<p>5 rows × 28 columns</p>\n",
              "</div>\n",
              "    <div class=\"colab-df-buttons\">\n",
              "\n",
              "  <div class=\"colab-df-container\">\n",
              "    <button class=\"colab-df-convert\" onclick=\"convertToInteractive('df-5890244a-dd97-4661-a429-04bbbceb06cf')\"\n",
              "            title=\"Convert this dataframe to an interactive table.\"\n",
              "            style=\"display:none;\">\n",
              "\n",
              "  <svg xmlns=\"http://www.w3.org/2000/svg\" height=\"24px\" viewBox=\"0 -960 960 960\">\n",
              "    <path d=\"M120-120v-720h720v720H120Zm60-500h600v-160H180v160Zm220 220h160v-160H400v160Zm0 220h160v-160H400v160ZM180-400h160v-160H180v160Zm440 0h160v-160H620v160ZM180-180h160v-160H180v160Zm440 0h160v-160H620v160Z\"/>\n",
              "  </svg>\n",
              "    </button>\n",
              "\n",
              "  <style>\n",
              "    .colab-df-container {\n",
              "      display:flex;\n",
              "      gap: 12px;\n",
              "    }\n",
              "\n",
              "    .colab-df-convert {\n",
              "      background-color: #E8F0FE;\n",
              "      border: none;\n",
              "      border-radius: 50%;\n",
              "      cursor: pointer;\n",
              "      display: none;\n",
              "      fill: #1967D2;\n",
              "      height: 32px;\n",
              "      padding: 0 0 0 0;\n",
              "      width: 32px;\n",
              "    }\n",
              "\n",
              "    .colab-df-convert:hover {\n",
              "      background-color: #E2EBFA;\n",
              "      box-shadow: 0px 1px 2px rgba(60, 64, 67, 0.3), 0px 1px 3px 1px rgba(60, 64, 67, 0.15);\n",
              "      fill: #174EA6;\n",
              "    }\n",
              "\n",
              "    .colab-df-buttons div {\n",
              "      margin-bottom: 4px;\n",
              "    }\n",
              "\n",
              "    [theme=dark] .colab-df-convert {\n",
              "      background-color: #3B4455;\n",
              "      fill: #D2E3FC;\n",
              "    }\n",
              "\n",
              "    [theme=dark] .colab-df-convert:hover {\n",
              "      background-color: #434B5C;\n",
              "      box-shadow: 0px 1px 3px 1px rgba(0, 0, 0, 0.15);\n",
              "      filter: drop-shadow(0px 1px 2px rgba(0, 0, 0, 0.3));\n",
              "      fill: #FFFFFF;\n",
              "    }\n",
              "  </style>\n",
              "\n",
              "    <script>\n",
              "      const buttonEl =\n",
              "        document.querySelector('#df-5890244a-dd97-4661-a429-04bbbceb06cf button.colab-df-convert');\n",
              "      buttonEl.style.display =\n",
              "        google.colab.kernel.accessAllowed ? 'block' : 'none';\n",
              "\n",
              "      async function convertToInteractive(key) {\n",
              "        const element = document.querySelector('#df-5890244a-dd97-4661-a429-04bbbceb06cf');\n",
              "        const dataTable =\n",
              "          await google.colab.kernel.invokeFunction('convertToInteractive',\n",
              "                                                    [key], {});\n",
              "        if (!dataTable) return;\n",
              "\n",
              "        const docLinkHtml = 'Like what you see? Visit the ' +\n",
              "          '<a target=\"_blank\" href=https://colab.research.google.com/notebooks/data_table.ipynb>data table notebook</a>'\n",
              "          + ' to learn more about interactive tables.';\n",
              "        element.innerHTML = '';\n",
              "        dataTable['output_type'] = 'display_data';\n",
              "        await google.colab.output.renderOutput(dataTable, element);\n",
              "        const docLink = document.createElement('div');\n",
              "        docLink.innerHTML = docLinkHtml;\n",
              "        element.appendChild(docLink);\n",
              "      }\n",
              "    </script>\n",
              "  </div>\n",
              "\n",
              "\n",
              "<div id=\"df-7c74789f-144e-4839-b6e9-40b6f771c9a1\">\n",
              "  <button class=\"colab-df-quickchart\" onclick=\"quickchart('df-7c74789f-144e-4839-b6e9-40b6f771c9a1')\"\n",
              "            title=\"Suggest charts\"\n",
              "            style=\"display:none;\">\n",
              "\n",
              "<svg xmlns=\"http://www.w3.org/2000/svg\" height=\"24px\"viewBox=\"0 0 24 24\"\n",
              "     width=\"24px\">\n",
              "    <g>\n",
              "        <path d=\"M19 3H5c-1.1 0-2 .9-2 2v14c0 1.1.9 2 2 2h14c1.1 0 2-.9 2-2V5c0-1.1-.9-2-2-2zM9 17H7v-7h2v7zm4 0h-2V7h2v10zm4 0h-2v-4h2v4z\"/>\n",
              "    </g>\n",
              "</svg>\n",
              "  </button>\n",
              "\n",
              "<style>\n",
              "  .colab-df-quickchart {\n",
              "      --bg-color: #E8F0FE;\n",
              "      --fill-color: #1967D2;\n",
              "      --hover-bg-color: #E2EBFA;\n",
              "      --hover-fill-color: #174EA6;\n",
              "      --disabled-fill-color: #AAA;\n",
              "      --disabled-bg-color: #DDD;\n",
              "  }\n",
              "\n",
              "  [theme=dark] .colab-df-quickchart {\n",
              "      --bg-color: #3B4455;\n",
              "      --fill-color: #D2E3FC;\n",
              "      --hover-bg-color: #434B5C;\n",
              "      --hover-fill-color: #FFFFFF;\n",
              "      --disabled-bg-color: #3B4455;\n",
              "      --disabled-fill-color: #666;\n",
              "  }\n",
              "\n",
              "  .colab-df-quickchart {\n",
              "    background-color: var(--bg-color);\n",
              "    border: none;\n",
              "    border-radius: 50%;\n",
              "    cursor: pointer;\n",
              "    display: none;\n",
              "    fill: var(--fill-color);\n",
              "    height: 32px;\n",
              "    padding: 0;\n",
              "    width: 32px;\n",
              "  }\n",
              "\n",
              "  .colab-df-quickchart:hover {\n",
              "    background-color: var(--hover-bg-color);\n",
              "    box-shadow: 0 1px 2px rgba(60, 64, 67, 0.3), 0 1px 3px 1px rgba(60, 64, 67, 0.15);\n",
              "    fill: var(--button-hover-fill-color);\n",
              "  }\n",
              "\n",
              "  .colab-df-quickchart-complete:disabled,\n",
              "  .colab-df-quickchart-complete:disabled:hover {\n",
              "    background-color: var(--disabled-bg-color);\n",
              "    fill: var(--disabled-fill-color);\n",
              "    box-shadow: none;\n",
              "  }\n",
              "\n",
              "  .colab-df-spinner {\n",
              "    border: 2px solid var(--fill-color);\n",
              "    border-color: transparent;\n",
              "    border-bottom-color: var(--fill-color);\n",
              "    animation:\n",
              "      spin 1s steps(1) infinite;\n",
              "  }\n",
              "\n",
              "  @keyframes spin {\n",
              "    0% {\n",
              "      border-color: transparent;\n",
              "      border-bottom-color: var(--fill-color);\n",
              "      border-left-color: var(--fill-color);\n",
              "    }\n",
              "    20% {\n",
              "      border-color: transparent;\n",
              "      border-left-color: var(--fill-color);\n",
              "      border-top-color: var(--fill-color);\n",
              "    }\n",
              "    30% {\n",
              "      border-color: transparent;\n",
              "      border-left-color: var(--fill-color);\n",
              "      border-top-color: var(--fill-color);\n",
              "      border-right-color: var(--fill-color);\n",
              "    }\n",
              "    40% {\n",
              "      border-color: transparent;\n",
              "      border-right-color: var(--fill-color);\n",
              "      border-top-color: var(--fill-color);\n",
              "    }\n",
              "    60% {\n",
              "      border-color: transparent;\n",
              "      border-right-color: var(--fill-color);\n",
              "    }\n",
              "    80% {\n",
              "      border-color: transparent;\n",
              "      border-right-color: var(--fill-color);\n",
              "      border-bottom-color: var(--fill-color);\n",
              "    }\n",
              "    90% {\n",
              "      border-color: transparent;\n",
              "      border-bottom-color: var(--fill-color);\n",
              "    }\n",
              "  }\n",
              "</style>\n",
              "\n",
              "  <script>\n",
              "    async function quickchart(key) {\n",
              "      const quickchartButtonEl =\n",
              "        document.querySelector('#' + key + ' button');\n",
              "      quickchartButtonEl.disabled = true;  // To prevent multiple clicks.\n",
              "      quickchartButtonEl.classList.add('colab-df-spinner');\n",
              "      try {\n",
              "        const charts = await google.colab.kernel.invokeFunction(\n",
              "            'suggestCharts', [key], {});\n",
              "      } catch (error) {\n",
              "        console.error('Error during call to suggestCharts:', error);\n",
              "      }\n",
              "      quickchartButtonEl.classList.remove('colab-df-spinner');\n",
              "      quickchartButtonEl.classList.add('colab-df-quickchart-complete');\n",
              "    }\n",
              "    (() => {\n",
              "      let quickchartButtonEl =\n",
              "        document.querySelector('#df-7c74789f-144e-4839-b6e9-40b6f771c9a1 button');\n",
              "      quickchartButtonEl.style.display =\n",
              "        google.colab.kernel.accessAllowed ? 'block' : 'none';\n",
              "    })();\n",
              "  </script>\n",
              "</div>\n",
              "    </div>\n",
              "  </div>\n"
            ],
            "application/vnd.google.colaboratory.intrinsic+json": {
              "type": "dataframe",
              "variable_name": "churn_df"
            }
          },
          "metadata": {},
          "execution_count": 6
        }
      ],
      "source": [
        "churn_df = pd.read_csv(\"https://cf-courses-data.s3.us.cloud-object-storage.appdomain.cloud/IBMDeveloperSkillsNetwork-ML0101EN-SkillsNetwork/labs/Module%203/data/ChurnData.csv\")\n",
        "\n",
        "churn_df.head()"
      ],
      "execution_count": 6
    },
    {
      "cell_type": "markdown",
      "metadata": {
        "id": "02d3f2d2-9edd-486a-89f4-50445ed1d4d1"
      },
      "source": [
        "### Data pre-processing and selection\n"
      ]
    },
    {
      "cell_type": "markdown",
      "metadata": {
        "id": "85916a0b-0a07-4b21-8a52-3bf44b366707"
      },
      "source": [
        "Let's select some features for the modeling. Also, we change the target data type to be an integer, as it is a requirement by the skitlearn algorithm:\n"
      ]
    },
    {
      "cell_type": "code",
      "metadata": {
        "colab": {
          "base_uri": "https://localhost:8080/",
          "height": 206
        },
        "id": "80a8b04e-daba-4b95-90ce-bc5a556a146b",
        "outputId": "d5c90521-2316-421e-b90a-5f65fd790616"
      },
      "outputs": [
        {
          "output_type": "execute_result",
          "data": {
            "text/plain": [
              "   tenure   age  address  income   ed  employ  equip  callcard  wireless  \\\n",
              "0    11.0  33.0      7.0   136.0  5.0     5.0    0.0       1.0       1.0   \n",
              "1    33.0  33.0     12.0    33.0  2.0     0.0    0.0       0.0       0.0   \n",
              "2    23.0  30.0      9.0    30.0  1.0     2.0    0.0       0.0       0.0   \n",
              "3    38.0  35.0      5.0    76.0  2.0    10.0    1.0       1.0       1.0   \n",
              "4     7.0  35.0     14.0    80.0  2.0    15.0    0.0       1.0       0.0   \n",
              "\n",
              "   churn  \n",
              "0      1  \n",
              "1      1  \n",
              "2      0  \n",
              "3      0  \n",
              "4      0  "
            ],
            "text/html": [
              "\n",
              "  <div id=\"df-b433813f-3027-4f2d-97cd-3f94f5841998\" class=\"colab-df-container\">\n",
              "    <div>\n",
              "<style scoped>\n",
              "    .dataframe tbody tr th:only-of-type {\n",
              "        vertical-align: middle;\n",
              "    }\n",
              "\n",
              "    .dataframe tbody tr th {\n",
              "        vertical-align: top;\n",
              "    }\n",
              "\n",
              "    .dataframe thead th {\n",
              "        text-align: right;\n",
              "    }\n",
              "</style>\n",
              "<table border=\"1\" class=\"dataframe\">\n",
              "  <thead>\n",
              "    <tr style=\"text-align: right;\">\n",
              "      <th></th>\n",
              "      <th>tenure</th>\n",
              "      <th>age</th>\n",
              "      <th>address</th>\n",
              "      <th>income</th>\n",
              "      <th>ed</th>\n",
              "      <th>employ</th>\n",
              "      <th>equip</th>\n",
              "      <th>callcard</th>\n",
              "      <th>wireless</th>\n",
              "      <th>churn</th>\n",
              "    </tr>\n",
              "  </thead>\n",
              "  <tbody>\n",
              "    <tr>\n",
              "      <th>0</th>\n",
              "      <td>11.0</td>\n",
              "      <td>33.0</td>\n",
              "      <td>7.0</td>\n",
              "      <td>136.0</td>\n",
              "      <td>5.0</td>\n",
              "      <td>5.0</td>\n",
              "      <td>0.0</td>\n",
              "      <td>1.0</td>\n",
              "      <td>1.0</td>\n",
              "      <td>1</td>\n",
              "    </tr>\n",
              "    <tr>\n",
              "      <th>1</th>\n",
              "      <td>33.0</td>\n",
              "      <td>33.0</td>\n",
              "      <td>12.0</td>\n",
              "      <td>33.0</td>\n",
              "      <td>2.0</td>\n",
              "      <td>0.0</td>\n",
              "      <td>0.0</td>\n",
              "      <td>0.0</td>\n",
              "      <td>0.0</td>\n",
              "      <td>1</td>\n",
              "    </tr>\n",
              "    <tr>\n",
              "      <th>2</th>\n",
              "      <td>23.0</td>\n",
              "      <td>30.0</td>\n",
              "      <td>9.0</td>\n",
              "      <td>30.0</td>\n",
              "      <td>1.0</td>\n",
              "      <td>2.0</td>\n",
              "      <td>0.0</td>\n",
              "      <td>0.0</td>\n",
              "      <td>0.0</td>\n",
              "      <td>0</td>\n",
              "    </tr>\n",
              "    <tr>\n",
              "      <th>3</th>\n",
              "      <td>38.0</td>\n",
              "      <td>35.0</td>\n",
              "      <td>5.0</td>\n",
              "      <td>76.0</td>\n",
              "      <td>2.0</td>\n",
              "      <td>10.0</td>\n",
              "      <td>1.0</td>\n",
              "      <td>1.0</td>\n",
              "      <td>1.0</td>\n",
              "      <td>0</td>\n",
              "    </tr>\n",
              "    <tr>\n",
              "      <th>4</th>\n",
              "      <td>7.0</td>\n",
              "      <td>35.0</td>\n",
              "      <td>14.0</td>\n",
              "      <td>80.0</td>\n",
              "      <td>2.0</td>\n",
              "      <td>15.0</td>\n",
              "      <td>0.0</td>\n",
              "      <td>1.0</td>\n",
              "      <td>0.0</td>\n",
              "      <td>0</td>\n",
              "    </tr>\n",
              "  </tbody>\n",
              "</table>\n",
              "</div>\n",
              "    <div class=\"colab-df-buttons\">\n",
              "\n",
              "  <div class=\"colab-df-container\">\n",
              "    <button class=\"colab-df-convert\" onclick=\"convertToInteractive('df-b433813f-3027-4f2d-97cd-3f94f5841998')\"\n",
              "            title=\"Convert this dataframe to an interactive table.\"\n",
              "            style=\"display:none;\">\n",
              "\n",
              "  <svg xmlns=\"http://www.w3.org/2000/svg\" height=\"24px\" viewBox=\"0 -960 960 960\">\n",
              "    <path d=\"M120-120v-720h720v720H120Zm60-500h600v-160H180v160Zm220 220h160v-160H400v160Zm0 220h160v-160H400v160ZM180-400h160v-160H180v160Zm440 0h160v-160H620v160ZM180-180h160v-160H180v160Zm440 0h160v-160H620v160Z\"/>\n",
              "  </svg>\n",
              "    </button>\n",
              "\n",
              "  <style>\n",
              "    .colab-df-container {\n",
              "      display:flex;\n",
              "      gap: 12px;\n",
              "    }\n",
              "\n",
              "    .colab-df-convert {\n",
              "      background-color: #E8F0FE;\n",
              "      border: none;\n",
              "      border-radius: 50%;\n",
              "      cursor: pointer;\n",
              "      display: none;\n",
              "      fill: #1967D2;\n",
              "      height: 32px;\n",
              "      padding: 0 0 0 0;\n",
              "      width: 32px;\n",
              "    }\n",
              "\n",
              "    .colab-df-convert:hover {\n",
              "      background-color: #E2EBFA;\n",
              "      box-shadow: 0px 1px 2px rgba(60, 64, 67, 0.3), 0px 1px 3px 1px rgba(60, 64, 67, 0.15);\n",
              "      fill: #174EA6;\n",
              "    }\n",
              "\n",
              "    .colab-df-buttons div {\n",
              "      margin-bottom: 4px;\n",
              "    }\n",
              "\n",
              "    [theme=dark] .colab-df-convert {\n",
              "      background-color: #3B4455;\n",
              "      fill: #D2E3FC;\n",
              "    }\n",
              "\n",
              "    [theme=dark] .colab-df-convert:hover {\n",
              "      background-color: #434B5C;\n",
              "      box-shadow: 0px 1px 3px 1px rgba(0, 0, 0, 0.15);\n",
              "      filter: drop-shadow(0px 1px 2px rgba(0, 0, 0, 0.3));\n",
              "      fill: #FFFFFF;\n",
              "    }\n",
              "  </style>\n",
              "\n",
              "    <script>\n",
              "      const buttonEl =\n",
              "        document.querySelector('#df-b433813f-3027-4f2d-97cd-3f94f5841998 button.colab-df-convert');\n",
              "      buttonEl.style.display =\n",
              "        google.colab.kernel.accessAllowed ? 'block' : 'none';\n",
              "\n",
              "      async function convertToInteractive(key) {\n",
              "        const element = document.querySelector('#df-b433813f-3027-4f2d-97cd-3f94f5841998');\n",
              "        const dataTable =\n",
              "          await google.colab.kernel.invokeFunction('convertToInteractive',\n",
              "                                                    [key], {});\n",
              "        if (!dataTable) return;\n",
              "\n",
              "        const docLinkHtml = 'Like what you see? Visit the ' +\n",
              "          '<a target=\"_blank\" href=https://colab.research.google.com/notebooks/data_table.ipynb>data table notebook</a>'\n",
              "          + ' to learn more about interactive tables.';\n",
              "        element.innerHTML = '';\n",
              "        dataTable['output_type'] = 'display_data';\n",
              "        await google.colab.output.renderOutput(dataTable, element);\n",
              "        const docLink = document.createElement('div');\n",
              "        docLink.innerHTML = docLinkHtml;\n",
              "        element.appendChild(docLink);\n",
              "      }\n",
              "    </script>\n",
              "  </div>\n",
              "\n",
              "\n",
              "<div id=\"df-b82c840d-e7ab-4216-a4a3-ddc9741bf3c9\">\n",
              "  <button class=\"colab-df-quickchart\" onclick=\"quickchart('df-b82c840d-e7ab-4216-a4a3-ddc9741bf3c9')\"\n",
              "            title=\"Suggest charts\"\n",
              "            style=\"display:none;\">\n",
              "\n",
              "<svg xmlns=\"http://www.w3.org/2000/svg\" height=\"24px\"viewBox=\"0 0 24 24\"\n",
              "     width=\"24px\">\n",
              "    <g>\n",
              "        <path d=\"M19 3H5c-1.1 0-2 .9-2 2v14c0 1.1.9 2 2 2h14c1.1 0 2-.9 2-2V5c0-1.1-.9-2-2-2zM9 17H7v-7h2v7zm4 0h-2V7h2v10zm4 0h-2v-4h2v4z\"/>\n",
              "    </g>\n",
              "</svg>\n",
              "  </button>\n",
              "\n",
              "<style>\n",
              "  .colab-df-quickchart {\n",
              "      --bg-color: #E8F0FE;\n",
              "      --fill-color: #1967D2;\n",
              "      --hover-bg-color: #E2EBFA;\n",
              "      --hover-fill-color: #174EA6;\n",
              "      --disabled-fill-color: #AAA;\n",
              "      --disabled-bg-color: #DDD;\n",
              "  }\n",
              "\n",
              "  [theme=dark] .colab-df-quickchart {\n",
              "      --bg-color: #3B4455;\n",
              "      --fill-color: #D2E3FC;\n",
              "      --hover-bg-color: #434B5C;\n",
              "      --hover-fill-color: #FFFFFF;\n",
              "      --disabled-bg-color: #3B4455;\n",
              "      --disabled-fill-color: #666;\n",
              "  }\n",
              "\n",
              "  .colab-df-quickchart {\n",
              "    background-color: var(--bg-color);\n",
              "    border: none;\n",
              "    border-radius: 50%;\n",
              "    cursor: pointer;\n",
              "    display: none;\n",
              "    fill: var(--fill-color);\n",
              "    height: 32px;\n",
              "    padding: 0;\n",
              "    width: 32px;\n",
              "  }\n",
              "\n",
              "  .colab-df-quickchart:hover {\n",
              "    background-color: var(--hover-bg-color);\n",
              "    box-shadow: 0 1px 2px rgba(60, 64, 67, 0.3), 0 1px 3px 1px rgba(60, 64, 67, 0.15);\n",
              "    fill: var(--button-hover-fill-color);\n",
              "  }\n",
              "\n",
              "  .colab-df-quickchart-complete:disabled,\n",
              "  .colab-df-quickchart-complete:disabled:hover {\n",
              "    background-color: var(--disabled-bg-color);\n",
              "    fill: var(--disabled-fill-color);\n",
              "    box-shadow: none;\n",
              "  }\n",
              "\n",
              "  .colab-df-spinner {\n",
              "    border: 2px solid var(--fill-color);\n",
              "    border-color: transparent;\n",
              "    border-bottom-color: var(--fill-color);\n",
              "    animation:\n",
              "      spin 1s steps(1) infinite;\n",
              "  }\n",
              "\n",
              "  @keyframes spin {\n",
              "    0% {\n",
              "      border-color: transparent;\n",
              "      border-bottom-color: var(--fill-color);\n",
              "      border-left-color: var(--fill-color);\n",
              "    }\n",
              "    20% {\n",
              "      border-color: transparent;\n",
              "      border-left-color: var(--fill-color);\n",
              "      border-top-color: var(--fill-color);\n",
              "    }\n",
              "    30% {\n",
              "      border-color: transparent;\n",
              "      border-left-color: var(--fill-color);\n",
              "      border-top-color: var(--fill-color);\n",
              "      border-right-color: var(--fill-color);\n",
              "    }\n",
              "    40% {\n",
              "      border-color: transparent;\n",
              "      border-right-color: var(--fill-color);\n",
              "      border-top-color: var(--fill-color);\n",
              "    }\n",
              "    60% {\n",
              "      border-color: transparent;\n",
              "      border-right-color: var(--fill-color);\n",
              "    }\n",
              "    80% {\n",
              "      border-color: transparent;\n",
              "      border-right-color: var(--fill-color);\n",
              "      border-bottom-color: var(--fill-color);\n",
              "    }\n",
              "    90% {\n",
              "      border-color: transparent;\n",
              "      border-bottom-color: var(--fill-color);\n",
              "    }\n",
              "  }\n",
              "</style>\n",
              "\n",
              "  <script>\n",
              "    async function quickchart(key) {\n",
              "      const quickchartButtonEl =\n",
              "        document.querySelector('#' + key + ' button');\n",
              "      quickchartButtonEl.disabled = true;  // To prevent multiple clicks.\n",
              "      quickchartButtonEl.classList.add('colab-df-spinner');\n",
              "      try {\n",
              "        const charts = await google.colab.kernel.invokeFunction(\n",
              "            'suggestCharts', [key], {});\n",
              "      } catch (error) {\n",
              "        console.error('Error during call to suggestCharts:', error);\n",
              "      }\n",
              "      quickchartButtonEl.classList.remove('colab-df-spinner');\n",
              "      quickchartButtonEl.classList.add('colab-df-quickchart-complete');\n",
              "    }\n",
              "    (() => {\n",
              "      let quickchartButtonEl =\n",
              "        document.querySelector('#df-b82c840d-e7ab-4216-a4a3-ddc9741bf3c9 button');\n",
              "      quickchartButtonEl.style.display =\n",
              "        google.colab.kernel.accessAllowed ? 'block' : 'none';\n",
              "    })();\n",
              "  </script>\n",
              "</div>\n",
              "    </div>\n",
              "  </div>\n"
            ],
            "application/vnd.google.colaboratory.intrinsic+json": {
              "type": "dataframe",
              "variable_name": "churn_df",
              "summary": "{\n  \"name\": \"churn_df\",\n  \"rows\": 200,\n  \"fields\": [\n    {\n      \"column\": \"tenure\",\n      \"properties\": {\n        \"dtype\": \"number\",\n        \"std\": 21.640971169654776,\n        \"min\": 1.0,\n        \"max\": 72.0,\n        \"num_unique_values\": 68,\n        \"samples\": [\n          67.0,\n          52.0,\n          7.0\n        ],\n        \"semantic_type\": \"\",\n        \"description\": \"\"\n      }\n    },\n    {\n      \"column\": \"age\",\n      \"properties\": {\n        \"dtype\": \"number\",\n        \"std\": 13.076803468153967,\n        \"min\": 19.0,\n        \"max\": 76.0,\n        \"num_unique_values\": 51,\n        \"samples\": [\n          41.0,\n          32.0,\n          53.0\n        ],\n        \"semantic_type\": \"\",\n        \"description\": \"\"\n      }\n    },\n    {\n      \"column\": \"address\",\n      \"properties\": {\n        \"dtype\": \"number\",\n        \"std\": 10.158418545063174,\n        \"min\": 0.0,\n        \"max\": 48.0,\n        \"num_unique_values\": 40,\n        \"samples\": [\n          25.0,\n          13.0,\n          23.0\n        ],\n        \"semantic_type\": \"\",\n        \"description\": \"\"\n      }\n    },\n    {\n      \"column\": \"income\",\n      \"properties\": {\n        \"dtype\": \"number\",\n        \"std\": 128.43046766684932,\n        \"min\": 9.0,\n        \"max\": 1668.0,\n        \"num_unique_values\": 101,\n        \"samples\": [\n          72.0,\n          12.0,\n          60.0\n        ],\n        \"semantic_type\": \"\",\n        \"description\": \"\"\n      }\n    },\n    {\n      \"column\": \"ed\",\n      \"properties\": {\n        \"dtype\": \"number\",\n        \"std\": 1.285549762146442,\n        \"min\": 1.0,\n        \"max\": 5.0,\n        \"num_unique_values\": 5,\n        \"samples\": [\n          2.0,\n          3.0,\n          1.0\n        ],\n        \"semantic_type\": \"\",\n        \"description\": \"\"\n      }\n    },\n    {\n      \"column\": \"employ\",\n      \"properties\": {\n        \"dtype\": \"number\",\n        \"std\": 8.95743003119863,\n        \"min\": 0.0,\n        \"max\": 44.0,\n        \"num_unique_values\": 35,\n        \"samples\": [\n          27.0,\n          1.0,\n          17.0\n        ],\n        \"semantic_type\": \"\",\n        \"description\": \"\"\n      }\n    },\n    {\n      \"column\": \"equip\",\n      \"properties\": {\n        \"dtype\": \"number\",\n        \"std\": 0.4955835096887071,\n        \"min\": 0.0,\n        \"max\": 1.0,\n        \"num_unique_values\": 2,\n        \"samples\": [\n          1.0,\n          0.0\n        ],\n        \"semantic_type\": \"\",\n        \"description\": \"\"\n      }\n    },\n    {\n      \"column\": \"callcard\",\n      \"properties\": {\n        \"dtype\": \"number\",\n        \"std\": 0.45718716134917065,\n        \"min\": 0.0,\n        \"max\": 1.0,\n        \"num_unique_values\": 2,\n        \"samples\": [\n          0.0,\n          1.0\n        ],\n        \"semantic_type\": \"\",\n        \"description\": \"\"\n      }\n    },\n    {\n      \"column\": \"wireless\",\n      \"properties\": {\n        \"dtype\": \"number\",\n        \"std\": 0.45490072913420804,\n        \"min\": 0.0,\n        \"max\": 1.0,\n        \"num_unique_values\": 2,\n        \"samples\": [\n          0.0,\n          1.0\n        ],\n        \"semantic_type\": \"\",\n        \"description\": \"\"\n      }\n    },\n    {\n      \"column\": \"churn\",\n      \"properties\": {\n        \"dtype\": \"number\",\n        \"std\": 0,\n        \"min\": 0,\n        \"max\": 1,\n        \"num_unique_values\": 2,\n        \"samples\": [\n          0,\n          1\n        ],\n        \"semantic_type\": \"\",\n        \"description\": \"\"\n      }\n    }\n  ]\n}"
            }
          },
          "metadata": {},
          "execution_count": 7
        }
      ],
      "source": [
        "churn_df = churn_df[['tenure', 'age', 'address', 'income', 'ed', 'employ', 'equip',   'callcard', 'wireless','churn']]\n",
        "churn_df['churn'] = churn_df['churn'].astype('int')\n",
        "churn_df.head()"
      ],
      "execution_count": 7
    },
    {
      "cell_type": "markdown",
      "metadata": {
        "id": "53d42856-3544-47bf-9998-8e824ee77233"
      },
      "source": [
        "#### Select Variables at Random\n"
      ]
    },
    {
      "cell_type": "markdown",
      "metadata": {
        "id": "3c1ff029-7c0b-4162-94ed-e904cc37be04"
      },
      "source": [
        "Like Bagging RF uses, an independent bootstrap sample from the training data. In addition, we select $m$ variables at random out of all $M$ possible\n",
        "variables. Let's do an example.\n"
      ]
    },
    {
      "cell_type": "code",
      "metadata": {
        "id": "bd136d3f-57bf-44fc-a250-b673ed59c236"
      },
      "outputs": [],
      "source": [
        "X=churn_df[['tenure', 'age', 'address', 'income', 'ed', 'employ', 'equip']]"
      ],
      "execution_count": 8
    },
    {
      "cell_type": "markdown",
      "metadata": {
        "id": "dc51758c-9494-4973-87ed-1598f3b2c0ee"
      },
      "source": [
        "There are 7 features.\n"
      ]
    },
    {
      "cell_type": "markdown",
      "metadata": {
        "id": "8eeca9ea-b439-4bb5-8962-e97d3e73fbde"
      },
      "source": [
        "#### Train/Test dataset\n"
      ]
    },
    {
      "cell_type": "markdown",
      "metadata": {
        "id": "45e43cb1-fb4d-4f69-bfea-4f53bf229890"
      },
      "source": [
        "Let's define X, and y for our dataset:\n"
      ]
    },
    {
      "cell_type": "code",
      "metadata": {
        "colab": {
          "base_uri": "https://localhost:8080/"
        },
        "id": "a543bae3-f66f-456a-8200-6ef5a4b80a4c",
        "outputId": "df946cb9-bc1a-4f9a-a128-b21ad0db9260"
      },
      "outputs": [
        {
          "output_type": "execute_result",
          "data": {
            "text/plain": [
              "0    1\n",
              "1    1\n",
              "2    0\n",
              "3    0\n",
              "4    0\n",
              "Name: churn, dtype: int64"
            ]
          },
          "metadata": {},
          "execution_count": 9
        }
      ],
      "source": [
        "y = churn_df['churn']\n",
        "y.head()"
      ],
      "execution_count": 9
    },
    {
      "cell_type": "markdown",
      "metadata": {
        "id": "5192d812-5c15-4441-9249-a0d6f49034f0"
      },
      "source": [
        "#### Train/Test dataset\n"
      ]
    },
    {
      "cell_type": "markdown",
      "metadata": {
        "id": "fb660327-9093-4349-8f06-21caa148f77c"
      },
      "source": [
        "We split our dataset into train and test set:\n"
      ]
    },
    {
      "cell_type": "code",
      "metadata": {
        "colab": {
          "base_uri": "https://localhost:8080/"
        },
        "id": "f33ad9e9-8940-482f-84d2-6687e9b1818b",
        "outputId": "3cf1b300-4625-438e-cf18-224f103fb151"
      },
      "outputs": [
        {
          "output_type": "stream",
          "name": "stdout",
          "text": [
            "Train set (140, 7) (140,)\n",
            "Test set (60, 7) (60,)\n"
          ]
        }
      ],
      "source": [
        "from sklearn.model_selection import train_test_split\n",
        "X_train, X_test, y_train, y_test = train_test_split( X, y, test_size=0.3, random_state=1)\n",
        "print ('Train set', X_train.shape,  y_train.shape)\n",
        "print ('Test set', X_test.shape,  y_test.shape)"
      ],
      "execution_count": 10
    },
    {
      "cell_type": "markdown",
      "metadata": {
        "id": "125c48e3-2b1c-4120-85e0-f26ea33a7f60"
      },
      "source": [
        "### Gradient Boosting parameter\n"
      ]
    },
    {
      "cell_type": "markdown",
      "metadata": {
        "id": "67342ec8-7ef5-4eaf-ac9d-8fad3741ed8e"
      },
      "source": [
        "We can import the XGB Classifier in XG Boost there are many parameters let's go over a few, for more info check out <a href=\"https://xgboost.readthedocs.io/en/stable/?utm_medium=Exinfluencer&utm_source=Exinfluencer&utm_content=000026UJ&utm_term=10006555&utm_id=NA-SkillsNetwork-Channel-SkillsNetworkCoursesIBMML241ENSkillsNetwork31576874-2022-01-01\"> here </a> you may need to install it:\n"
      ]
    },
    {
      "cell_type": "code",
      "metadata": {
        "colab": {
          "base_uri": "https://localhost:8080/"
        },
        "id": "2d1a3ddf-2c4c-442c-9113-c0ff55a4b77c",
        "outputId": "26928baa-e941-44ca-a879-f68866539218"
      },
      "outputs": [
        {
          "output_type": "stream",
          "name": "stdout",
          "text": [
            "/bin/bash: line 1: mamba: command not found\n"
          ]
        }
      ],
      "source": [
        "!mamba install -y xgboost"
      ],
      "execution_count": 11
    },
    {
      "cell_type": "code",
      "metadata": {
        "id": "160d6fd8-3415-43d9-8687-f57c2018b9bc"
      },
      "outputs": [],
      "source": [
        "from xgboost import XGBClassifier"
      ],
      "execution_count": 12
    },
    {
      "cell_type": "markdown",
      "metadata": {
        "id": "1db64b61-4278-468c-91d6-794173d1532c"
      },
      "source": [
        "Let's go over  parameters independent of the  estimator.\n"
      ]
    },
    {
      "cell_type": "markdown",
      "metadata": {
        "id": "b36fd418-92d3-4a95-8e16-4b1c56148e12"
      },
      "source": [
        "The parameter <code>n_estimators</code> Number of gradient boosted trees.  Equivalent to number of boosting rounds.\n"
      ]
    },
    {
      "cell_type": "code",
      "metadata": {
        "id": "52627f1e-ac45-4c00-bf38-afc92ad2c9a2"
      },
      "outputs": [],
      "source": [
        "n_estimators=5"
      ],
      "execution_count": 13
    },
    {
      "cell_type": "markdown",
      "metadata": {
        "id": "bcc9ec38-5bbb-4815-857c-bc125168a23d"
      },
      "source": [
        "`random_state` Random number seed\n"
      ]
    },
    {
      "cell_type": "code",
      "metadata": {
        "id": "6142018d-9231-4310-9d85-4b6176a28f37"
      },
      "outputs": [],
      "source": [
        "random_state=0"
      ],
      "execution_count": 14
    },
    {
      "cell_type": "markdown",
      "metadata": {
        "id": "8e28fbd5-b74d-4014-99e9-72e901a04941"
      },
      "source": [
        "`objective` :  Specify the learning task and the corresponding learning objective or a custom objective function to be used.\n",
        "For example:\n",
        "\n",
        "`binary:logistic`: binary classification\n",
        "\n",
        "`multi:softprob`:multi-class classification\n"
      ]
    },
    {
      "cell_type": "code",
      "metadata": {
        "id": "599b0ec1-66c0-47b1-96f9-d4511b2f0980"
      },
      "outputs": [],
      "source": [
        "objective='binary:logistic'"
      ],
      "execution_count": 15
    },
    {
      "cell_type": "markdown",
      "metadata": {
        "id": "5fdf2623-b43f-41b1-af2e-c4ef095006a9"
      },
      "source": [
        "`learning_rate` : Boosting learning rate, also called `eta`\n"
      ]
    },
    {
      "cell_type": "code",
      "metadata": {
        "id": "f0a3f6ce-9b45-4710-a4a1-7dde683fae20"
      },
      "outputs": [],
      "source": [
        "learning_rate=0.1"
      ],
      "execution_count": 16
    },
    {
      "cell_type": "markdown",
      "metadata": {
        "id": "6015d034-8642-4cf5-8e78-43db101dbeff"
      },
      "source": [
        "`verbosity`: The degree of verbosity or displacing progress of the  Valid values are 0 (silent) - 3 (debug).\n"
      ]
    },
    {
      "cell_type": "markdown",
      "metadata": {
        "id": "1afa26dd-540c-4927-a932-ec0cbabed69d"
      },
      "source": [
        "`n_jobs` : Number of parallel threads used to run xgboost. When used with other Scikit-Learn algorithms like grid search, you may choose which algorithm to parallelize and\n",
        "balance the threads. Creating thread contention will significantly slow down both algorithms.\n"
      ]
    },
    {
      "cell_type": "markdown",
      "metadata": {
        "id": "c653863b-2d96-4eb2-ac94-1c45e84ac9bc"
      },
      "source": [
        "The `booster` parameter sets the type of learner, in this lab we will stick with trees. Let's experiment with some of the Gradient Boosting parameter:\n"
      ]
    },
    {
      "cell_type": "markdown",
      "metadata": {
        "id": "dcea1431-9cfd-4efd-9dc9-38f4c29996ab"
      },
      "source": [
        "We can create a XGBClassifier object:\n"
      ]
    },
    {
      "cell_type": "code",
      "metadata": {
        "colab": {
          "base_uri": "https://localhost:8080/",
          "height": 248
        },
        "id": "c2c89a81-3e86-4d16-a78f-bfe52afcfb3e",
        "outputId": "4951bc16-ea51-478a-84b6-5565b0b8f99d"
      },
      "outputs": [
        {
          "output_type": "execute_result",
          "data": {
            "text/plain": [
              "XGBClassifier(base_score=None, booster=None, callbacks=None,\n",
              "              colsample_bylevel=None, colsample_bynode=None,\n",
              "              colsample_bytree=None, device=None, early_stopping_rounds=None,\n",
              "              enable_categorical=False, eval_metric='mlogloss',\n",
              "              feature_types=None, gamma=None, grow_policy=None,\n",
              "              importance_type=None, interaction_constraints=None,\n",
              "              learning_rate=0.1, max_bin=None, max_cat_threshold=None,\n",
              "              max_cat_to_onehot=None, max_delta_step=None, max_depth=None,\n",
              "              max_leaves=None, min_child_weight=None, missing=nan,\n",
              "              monotone_constraints=None, multi_strategy=None, n_estimators=5,\n",
              "              n_jobs=None, num_parallel_tree=None, random_state=None, ...)"
            ],
            "text/html": [
              "<style>#sk-container-id-1 {color: black;background-color: white;}#sk-container-id-1 pre{padding: 0;}#sk-container-id-1 div.sk-toggleable {background-color: white;}#sk-container-id-1 label.sk-toggleable__label {cursor: pointer;display: block;width: 100%;margin-bottom: 0;padding: 0.3em;box-sizing: border-box;text-align: center;}#sk-container-id-1 label.sk-toggleable__label-arrow:before {content: \"▸\";float: left;margin-right: 0.25em;color: #696969;}#sk-container-id-1 label.sk-toggleable__label-arrow:hover:before {color: black;}#sk-container-id-1 div.sk-estimator:hover label.sk-toggleable__label-arrow:before {color: black;}#sk-container-id-1 div.sk-toggleable__content {max-height: 0;max-width: 0;overflow: hidden;text-align: left;background-color: #f0f8ff;}#sk-container-id-1 div.sk-toggleable__content pre {margin: 0.2em;color: black;border-radius: 0.25em;background-color: #f0f8ff;}#sk-container-id-1 input.sk-toggleable__control:checked~div.sk-toggleable__content {max-height: 200px;max-width: 100%;overflow: auto;}#sk-container-id-1 input.sk-toggleable__control:checked~label.sk-toggleable__label-arrow:before {content: \"▾\";}#sk-container-id-1 div.sk-estimator input.sk-toggleable__control:checked~label.sk-toggleable__label {background-color: #d4ebff;}#sk-container-id-1 div.sk-label input.sk-toggleable__control:checked~label.sk-toggleable__label {background-color: #d4ebff;}#sk-container-id-1 input.sk-hidden--visually {border: 0;clip: rect(1px 1px 1px 1px);clip: rect(1px, 1px, 1px, 1px);height: 1px;margin: -1px;overflow: hidden;padding: 0;position: absolute;width: 1px;}#sk-container-id-1 div.sk-estimator {font-family: monospace;background-color: #f0f8ff;border: 1px dotted black;border-radius: 0.25em;box-sizing: border-box;margin-bottom: 0.5em;}#sk-container-id-1 div.sk-estimator:hover {background-color: #d4ebff;}#sk-container-id-1 div.sk-parallel-item::after {content: \"\";width: 100%;border-bottom: 1px solid gray;flex-grow: 1;}#sk-container-id-1 div.sk-label:hover label.sk-toggleable__label {background-color: #d4ebff;}#sk-container-id-1 div.sk-serial::before {content: \"\";position: absolute;border-left: 1px solid gray;box-sizing: border-box;top: 0;bottom: 0;left: 50%;z-index: 0;}#sk-container-id-1 div.sk-serial {display: flex;flex-direction: column;align-items: center;background-color: white;padding-right: 0.2em;padding-left: 0.2em;position: relative;}#sk-container-id-1 div.sk-item {position: relative;z-index: 1;}#sk-container-id-1 div.sk-parallel {display: flex;align-items: stretch;justify-content: center;background-color: white;position: relative;}#sk-container-id-1 div.sk-item::before, #sk-container-id-1 div.sk-parallel-item::before {content: \"\";position: absolute;border-left: 1px solid gray;box-sizing: border-box;top: 0;bottom: 0;left: 50%;z-index: -1;}#sk-container-id-1 div.sk-parallel-item {display: flex;flex-direction: column;z-index: 1;position: relative;background-color: white;}#sk-container-id-1 div.sk-parallel-item:first-child::after {align-self: flex-end;width: 50%;}#sk-container-id-1 div.sk-parallel-item:last-child::after {align-self: flex-start;width: 50%;}#sk-container-id-1 div.sk-parallel-item:only-child::after {width: 0;}#sk-container-id-1 div.sk-dashed-wrapped {border: 1px dashed gray;margin: 0 0.4em 0.5em 0.4em;box-sizing: border-box;padding-bottom: 0.4em;background-color: white;}#sk-container-id-1 div.sk-label label {font-family: monospace;font-weight: bold;display: inline-block;line-height: 1.2em;}#sk-container-id-1 div.sk-label-container {text-align: center;}#sk-container-id-1 div.sk-container {/* jupyter's `normalize.less` sets `[hidden] { display: none; }` but bootstrap.min.css set `[hidden] { display: none !important; }` so we also need the `!important` here to be able to override the default hidden behavior on the sphinx rendered scikit-learn.org. See: https://github.com/scikit-learn/scikit-learn/issues/21755 */display: inline-block !important;position: relative;}#sk-container-id-1 div.sk-text-repr-fallback {display: none;}</style><div id=\"sk-container-id-1\" class=\"sk-top-container\"><div class=\"sk-text-repr-fallback\"><pre>XGBClassifier(base_score=None, booster=None, callbacks=None,\n",
              "              colsample_bylevel=None, colsample_bynode=None,\n",
              "              colsample_bytree=None, device=None, early_stopping_rounds=None,\n",
              "              enable_categorical=False, eval_metric=&#x27;mlogloss&#x27;,\n",
              "              feature_types=None, gamma=None, grow_policy=None,\n",
              "              importance_type=None, interaction_constraints=None,\n",
              "              learning_rate=0.1, max_bin=None, max_cat_threshold=None,\n",
              "              max_cat_to_onehot=None, max_delta_step=None, max_depth=None,\n",
              "              max_leaves=None, min_child_weight=None, missing=nan,\n",
              "              monotone_constraints=None, multi_strategy=None, n_estimators=5,\n",
              "              n_jobs=None, num_parallel_tree=None, random_state=None, ...)</pre><b>In a Jupyter environment, please rerun this cell to show the HTML representation or trust the notebook. <br />On GitHub, the HTML representation is unable to render, please try loading this page with nbviewer.org.</b></div><div class=\"sk-container\" hidden><div class=\"sk-item\"><div class=\"sk-estimator sk-toggleable\"><input class=\"sk-toggleable__control sk-hidden--visually\" id=\"sk-estimator-id-1\" type=\"checkbox\" checked><label for=\"sk-estimator-id-1\" class=\"sk-toggleable__label sk-toggleable__label-arrow\">XGBClassifier</label><div class=\"sk-toggleable__content\"><pre>XGBClassifier(base_score=None, booster=None, callbacks=None,\n",
              "              colsample_bylevel=None, colsample_bynode=None,\n",
              "              colsample_bytree=None, device=None, early_stopping_rounds=None,\n",
              "              enable_categorical=False, eval_metric=&#x27;mlogloss&#x27;,\n",
              "              feature_types=None, gamma=None, grow_policy=None,\n",
              "              importance_type=None, interaction_constraints=None,\n",
              "              learning_rate=0.1, max_bin=None, max_cat_threshold=None,\n",
              "              max_cat_to_onehot=None, max_delta_step=None, max_depth=None,\n",
              "              max_leaves=None, min_child_weight=None, missing=nan,\n",
              "              monotone_constraints=None, multi_strategy=None, n_estimators=5,\n",
              "              n_jobs=None, num_parallel_tree=None, random_state=None, ...)</pre></div></div></div></div></div>"
            ]
          },
          "metadata": {},
          "execution_count": 17
        }
      ],
      "source": [
        "model =XGBClassifier(objective=objective,learning_rate=learning_rate,n_estimators=n_estimators,eval_metric='mlogloss')\n",
        "model"
      ],
      "execution_count": 17
    },
    {
      "cell_type": "markdown",
      "metadata": {
        "id": "570b2fc7-c755-43d9-880a-05b00f164584"
      },
      "source": [
        "We can view the parameter values as  data attributes:\n"
      ]
    },
    {
      "cell_type": "code",
      "metadata": {
        "colab": {
          "base_uri": "https://localhost:8080/"
        },
        "id": "503e39a8-3601-4702-bf4b-2c9416f2d2b5",
        "outputId": "11b1ff41-0a0d-4b82-f887-cc32c86ee85d"
      },
      "outputs": [
        {
          "output_type": "stream",
          "name": "stdout",
          "text": [
            "learning rate: 0.1\n",
            "lobjective: binary:logistic\n",
            "n_estimators: 5\n"
          ]
        }
      ],
      "source": [
        "print(\"learning rate:\", model.learning_rate)\n",
        "print(\"lobjective:\", model.objective)\n",
        "print(\"n_estimators:\", model.n_estimators)"
      ],
      "execution_count": 18
    },
    {
      "cell_type": "markdown",
      "metadata": {
        "id": "8ca486d7-2b9f-4da7-b6e6-ea0539ba07d6"
      },
      "source": [
        "If the outputs were y is -1 and 1, the form of the classifier would be, but `xgboost` will convert it to the same as the label `y`\n"
      ]
    },
    {
      "cell_type": "markdown",
      "metadata": {
        "id": "bcb70eb3-b108-4de8-afba-6a1221a63772"
      },
      "source": [
        "$H(x) = \text{sign}(   h_1(x)+  h_2(x)+ h_3(x)+  h_4(x)+  h_5(x) )$\n"
      ]
    },
    {
      "cell_type": "markdown",
      "metadata": {
        "id": "cc76e626-a00a-4345-9261-354f851d3802"
      },
      "source": [
        "Unlike AdaBoost there is not $\\alpha_t$, but there are some versions that have a similar term. We can fit all $H(x)$ and then make a prediction:\n"
      ]
    },
    {
      "cell_type": "code",
      "metadata": {
        "colab": {
          "base_uri": "https://localhost:8080/"
        },
        "id": "9bc276c7-5076-46ca-aa70-17d66e1ab480",
        "outputId": "e8f9477f-7a16-4faa-b432-77a21a560fa3"
      },
      "outputs": [
        {
          "output_type": "execute_result",
          "data": {
            "text/plain": [
              "array([0, 0, 0, 0, 0, 0, 0, 0, 0, 0, 0, 0, 0, 0, 0, 0, 0, 0, 0, 1, 0, 0,\n",
              "       0, 0, 0, 0, 0, 0, 0, 0, 0, 0, 0, 0, 0, 0, 0, 0, 0, 1, 0, 0, 0, 0,\n",
              "       0, 0, 0, 0, 0, 0, 0, 0, 0, 0, 0, 0, 0, 0, 0, 0])"
            ]
          },
          "metadata": {},
          "execution_count": 19
        }
      ],
      "source": [
        "model.fit(X_train, y_train)\n",
        "y_pred = model.predict(X_test)\n",
        "y_pred"
      ],
      "execution_count": 19
    },
    {
      "cell_type": "markdown",
      "metadata": {
        "id": "c48819f4-d153-4c2d-a15d-a2b0ed87f889"
      },
      "source": [
        "We can find the training and testing accuracy:\n"
      ]
    },
    {
      "cell_type": "code",
      "metadata": {
        "colab": {
          "base_uri": "https://localhost:8080/"
        },
        "id": "fbec525c-a9ee-49d4-ae90-e06720eb809e",
        "outputId": "71c624ba-0da5-46ef-8b55-10c24b6e88b7"
      },
      "outputs": [
        {
          "output_type": "stream",
          "name": "stdout",
          "text": [
            "{'test Accuracy': 0.7666666666666667, 'train Accuracy': 0.7785714285714286}\n"
          ]
        }
      ],
      "source": [
        "print(get_accuracy(X_train, X_test, y_train, y_test,  model))"
      ],
      "execution_count": 20
    },
    {
      "cell_type": "markdown",
      "metadata": {
        "id": "992b7ad3-a496-4970-a2e0-2bf33541ff52"
      },
      "source": [
        "The learning rate is a hyperparameter. In this case we see by increasing the learning rate, we get better accuracy on the training and test data.\n"
      ]
    },
    {
      "cell_type": "code",
      "metadata": {
        "colab": {
          "base_uri": "https://localhost:8080/"
        },
        "id": "842d3aca-27f2-4818-8a3e-84234310ee91",
        "outputId": "03939899-059a-4b35-bc95-074f5d4c5b40"
      },
      "outputs": [
        {
          "output_type": "stream",
          "name": "stdout",
          "text": [
            "{'test Accuracy': 0.8166666666666667, 'train Accuracy': 0.9214285714285714}\n"
          ]
        }
      ],
      "source": [
        "learning_rate=0.3\n",
        "model =XGBClassifier(objective=objective,learning_rate=learning_rate,n_estimators=n_estimators)\n",
        "model.fit(X_train, y_train)\n",
        "print(get_accuracy(X_train, X_test, y_train, y_test,  model))"
      ],
      "execution_count": 21
    },
    {
      "cell_type": "markdown",
      "metadata": {
        "id": "c0133891-3d31-4e8c-ba8c-6aaea91287b9"
      },
      "source": [
        "This is unusual, usually a high learning rate causes overfitting. Another parameter is `n_estimators` and is the number of classifiers. Increasing the number of classifiers increases overfitting.\n"
      ]
    },
    {
      "cell_type": "code",
      "metadata": {
        "colab": {
          "base_uri": "https://localhost:8080/"
        },
        "id": "23e9acd7-9519-48bd-9d86-96660a78606b",
        "outputId": "0e61dcb8-5566-46e3-a78a-efb74ddbb9ae"
      },
      "outputs": [
        {
          "output_type": "stream",
          "name": "stdout",
          "text": [
            "{'test Accuracy': 0.7333333333333333, 'train Accuracy': 1.0}\n"
          ]
        }
      ],
      "source": [
        "n_estimators=100\n",
        "model =XGBClassifier(objective=objective,learning_rate=learning_rate,n_estimators=n_estimators)\n",
        "model.fit(X_train, y_train)\n",
        "print(get_accuracy(X_train, X_test, y_train, y_test,  model))"
      ],
      "execution_count": 22
    },
    {
      "cell_type": "markdown",
      "metadata": {
        "id": "a60f858c-5ce5-4031-a806-aaddab2b3aed"
      },
      "source": [
        "We can plot the relationship between  number of classifiers and learning rate.  We see that adding more weak classifiers and increasing the learning rate  causes overfitting, as the error on the test data increases.\n",
        "\n",
        "Note that the below code cell will take some time to run.\n"
      ]
    },
    {
      "cell_type": "code",
      "metadata": {
        "colab": {
          "base_uri": "https://localhost:8080/",
          "height": 466
        },
        "id": "ee8206e3-ddbe-475c-a8af-5d65276fa933",
        "outputId": "a1e3b3bf-2acc-4fc2-fc31-c988e9fe6333"
      },
      "outputs": [
        {
          "output_type": "stream",
          "name": "stderr",
          "text": [
            "100%|██████████| 10/10 [00:03<00:00,  3.30it/s]\n"
          ]
        },
        {
          "output_type": "display_data",
          "data": {
            "text/plain": [
              "<Figure size 640x480 with 2 Axes>"
            ],
            "image/png": "[encoded data removed]"
          },
          "metadata": {}
        }
      ],
      "source": [
        "get_accuracy_boost(X,y,title=\"Training and Test Accuracy vs Weak Classifiers\",times=10,xlabel='Number Estimators', n_est = 10)"
      ],
      "execution_count": 23
    },
    {
      "cell_type": "markdown",
      "metadata": {
        "id": "1f778c4a-ea25-4ef9-bba9-9acefefceaab"
      },
      "source": [
        "### Evaluation Metric on Second Dataset\n"
      ]
    },
    {
      "cell_type": "markdown",
      "metadata": {
        "id": "71c96986-56e6-419f-bb59-c7e421aac585"
      },
      "source": [
        "We can input a  `eval_metric`  parameter  in the `fit` method; this  determines how the model performs on each iteration using a second dataset; in XG Boost the metrics include:\n"
      ]
    },
    {
      "cell_type": "markdown",
      "metadata": {
        "id": "d1a98db0-9651-4240-a5d4-c839ebf09386"
      },
      "source": [
        "`logloss` : binary logarithmic loss\n",
        "\n",
        "`mlogloss` cross entropy loss\n",
        "\n",
        "`error` : number of misclassified samples\n",
        "\n",
        "`auc` : area under  ROC curve (receiver operating characteristic curve)\n",
        "\n",
        "We will use `error`:\n"
      ]
    },
    {
      "cell_type": "code",
      "metadata": {
        "id": "2f352522-a3fe-4575-aef9-efb8831e0912"
      },
      "outputs": [],
      "source": [
        "eval_metric=\"error\""
      ],
      "execution_count": 24
    },
    {
      "cell_type": "markdown",
      "metadata": {
        "id": "a8bd14a0-bcb3-4c44-9635-ba0ebe4969b0"
      },
      "source": [
        "The validation data must be a list `eval_set`: the list  contains a tuple, the first element of the tuple must be the features, the second must be the labels:\n"
      ]
    },
    {
      "cell_type": "code",
      "metadata": {
        "id": "ec9b41ec-7694-4b50-81bb-3e4385f272eb"
      },
      "outputs": [],
      "source": [
        "eval_set = [(X_test, y_test)]"
      ],
      "execution_count": 25
    },
    {
      "cell_type": "markdown",
      "metadata": {
        "id": "861bb307-e4b4-4eaa-93c7-47fecb265b6c"
      },
      "source": [
        "When we fit the model, we input all the Hyperparameter   we set  `verbose=True` to display the results for each epoch.\n"
      ]
    },
    {
      "cell_type": "code",
      "metadata": {
        "colab": {
          "base_uri": "https://localhost:8080/",
          "height": 1000
        },
        "id": "6963cb0c-7d65-40cf-b354-4257fe9e04ef",
        "outputId": "020e5f31-29a4-41a2-d95b-2dcbd48d761f"
      },
      "outputs": [
        {
          "output_type": "stream",
          "name": "stdout",
          "text": [
            "[0]\tvalidation_0-error:0.23333\n",
            "[1]\tvalidation_0-error:0.18333\n",
            "[2]\tvalidation_0-error:0.21667\n",
            "[3]\tvalidation_0-error:0.18333\n",
            "[4]\tvalidation_0-error:0.18333\n",
            "[5]\tvalidation_0-error:0.21667\n",
            "[6]\tvalidation_0-error:0.20000\n",
            "[7]\tvalidation_0-error:0.20000\n",
            "[8]\tvalidation_0-error:0.20000\n",
            "[9]\tvalidation_0-error:0.20000\n",
            "[10]\tvalidation_0-error:0.21667\n",
            "[11]\tvalidation_0-error:0.20000\n",
            "[12]\tvalidation_0-error:0.20000\n",
            "[13]\tvalidation_0-error:0.21667\n",
            "[14]\tvalidation_0-error:0.21667\n",
            "[15]\tvalidation_0-error:0.21667\n",
            "[16]\tvalidation_0-error:0.21667\n",
            "[17]\tvalidation_0-error:0.25000\n",
            "[18]\tvalidation_0-error:0.25000\n",
            "[19]\tvalidation_0-error:0.23333\n",
            "[20]\tvalidation_0-error:0.23333\n",
            "[21]\tvalidation_0-error:0.25000\n",
            "[22]\tvalidation_0-error:0.25000\n",
            "[23]\tvalidation_0-error:0.25000\n",
            "[24]\tvalidation_0-error:0.23333\n",
            "[25]\tvalidation_0-error:0.23333\n",
            "[26]\tvalidation_0-error:0.25000\n",
            "[27]\tvalidation_0-error:0.23333\n",
            "[28]\tvalidation_0-error:0.25000\n",
            "[29]\tvalidation_0-error:0.25000\n",
            "[30]\tvalidation_0-error:0.25000\n",
            "[31]\tvalidation_0-error:0.25000\n",
            "[32]\tvalidation_0-error:0.25000\n",
            "[33]\tvalidation_0-error:0.25000\n",
            "[34]\tvalidation_0-error:0.23333\n",
            "[35]\tvalidation_0-error:0.25000\n",
            "[36]\tvalidation_0-error:0.25000\n",
            "[37]\tvalidation_0-error:0.25000\n",
            "[38]\tvalidation_0-error:0.23333\n",
            "[39]\tvalidation_0-error:0.25000\n",
            "[40]\tvalidation_0-error:0.23333\n",
            "[41]\tvalidation_0-error:0.25000\n",
            "[42]\tvalidation_0-error:0.23333\n",
            "[43]\tvalidation_0-error:0.23333\n",
            "[44]\tvalidation_0-error:0.23333\n",
            "[45]\tvalidation_0-error:0.23333\n",
            "[46]\tvalidation_0-error:0.23333\n",
            "[47]\tvalidation_0-error:0.23333\n",
            "[48]\tvalidation_0-error:0.25000\n",
            "[49]\tvalidation_0-error:0.25000\n",
            "[50]\tvalidation_0-error:0.23333\n",
            "[51]\tvalidation_0-error:0.23333\n",
            "[52]\tvalidation_0-error:0.23333\n",
            "[53]\tvalidation_0-error:0.23333\n",
            "[54]\tvalidation_0-error:0.25000\n",
            "[55]\tvalidation_0-error:0.23333\n",
            "[56]\tvalidation_0-error:0.25000\n",
            "[57]\tvalidation_0-error:0.25000\n",
            "[58]\tvalidation_0-error:0.25000\n",
            "[59]\tvalidation_0-error:0.25000\n",
            "[60]\tvalidation_0-error:0.25000\n",
            "[61]\tvalidation_0-error:0.23333\n",
            "[62]\tvalidation_0-error:0.25000\n",
            "[63]\tvalidation_0-error:0.25000\n",
            "[64]\tvalidation_0-error:0.25000\n",
            "[65]\tvalidation_0-error:0.25000\n",
            "[66]\tvalidation_0-error:0.25000\n",
            "[67]\tvalidation_0-error:0.25000\n",
            "[68]\tvalidation_0-error:0.25000\n",
            "[69]\tvalidation_0-error:0.25000\n",
            "[70]\tvalidation_0-error:0.25000\n",
            "[71]\tvalidation_0-error:0.25000\n",
            "[72]\tvalidation_0-error:0.25000\n",
            "[73]\tvalidation_0-error:0.25000\n",
            "[74]\tvalidation_0-error:0.23333\n",
            "[75]\tvalidation_0-error:0.23333\n",
            "[76]\tvalidation_0-error:0.23333\n",
            "[77]\tvalidation_0-error:0.25000\n",
            "[78]\tvalidation_0-error:0.25000\n",
            "[79]\tvalidation_0-error:0.25000\n",
            "[80]\tvalidation_0-error:0.25000\n",
            "[81]\tvalidation_0-error:0.25000\n",
            "[82]\tvalidation_0-error:0.25000\n",
            "[83]\tvalidation_0-error:0.25000\n",
            "[84]\tvalidation_0-error:0.25000\n",
            "[85]\tvalidation_0-error:0.25000\n",
            "[86]\tvalidation_0-error:0.25000\n",
            "[87]\tvalidation_0-error:0.25000\n",
            "[88]\tvalidation_0-error:0.25000\n",
            "[89]\tvalidation_0-error:0.25000\n",
            "[90]\tvalidation_0-error:0.26667\n",
            "[91]\tvalidation_0-error:0.26667\n",
            "[92]\tvalidation_0-error:0.25000\n",
            "[93]\tvalidation_0-error:0.25000\n",
            "[94]\tvalidation_0-error:0.25000\n",
            "[95]\tvalidation_0-error:0.25000\n",
            "[96]\tvalidation_0-error:0.25000\n",
            "[97]\tvalidation_0-error:0.25000\n",
            "[98]\tvalidation_0-error:0.25000\n",
            "[99]\tvalidation_0-error:0.26667\n"
          ]
        },
        {
          "output_type": "execute_result",
          "data": {
            "text/plain": [
              "XGBClassifier(base_score=None, booster=None, callbacks=None,\n",
              "              colsample_bylevel=None, colsample_bynode=None,\n",
              "              colsample_bytree=None, device=None, early_stopping_rounds=None,\n",
              "              enable_categorical=False, eval_metric=None, feature_types=None,\n",
              "              gamma=None, grow_policy=None, importance_type=None,\n",
              "              interaction_constraints=None, learning_rate=0.3, max_bin=None,\n",
              "              max_cat_threshold=None, max_cat_to_onehot=None,\n",
              "              max_delta_step=None, max_depth=None, max_leaves=None,\n",
              "              min_child_weight=None, missing=nan, monotone_constraints=None,\n",
              "              multi_strategy=None, n_estimators=100, n_jobs=None,\n",
              "              num_parallel_tree=None, random_state=None, ...)"
            ],
            "text/html": [
              "<style>#sk-container-id-2 {color: black;background-color: white;}#sk-container-id-2 pre{padding: 0;}#sk-container-id-2 div.sk-toggleable {background-color: white;}#sk-container-id-2 label.sk-toggleable__label {cursor: pointer;display: block;width: 100%;margin-bottom: 0;padding: 0.3em;box-sizing: border-box;text-align: center;}#sk-container-id-2 label.sk-toggleable__label-arrow:before {content: \"▸\";float: left;margin-right: 0.25em;color: #696969;}#sk-container-id-2 label.sk-toggleable__label-arrow:hover:before {color: black;}#sk-container-id-2 div.sk-estimator:hover label.sk-toggleable__label-arrow:before {color: black;}#sk-container-id-2 div.sk-toggleable__content {max-height: 0;max-width: 0;overflow: hidden;text-align: left;background-color: #f0f8ff;}#sk-container-id-2 div.sk-toggleable__content pre {margin: 0.2em;color: black;border-radius: 0.25em;background-color: #f0f8ff;}#sk-container-id-2 input.sk-toggleable__control:checked~div.sk-toggleable__content {max-height: 200px;max-width: 100%;overflow: auto;}#sk-container-id-2 input.sk-toggleable__control:checked~label.sk-toggleable__label-arrow:before {content: \"▾\";}#sk-container-id-2 div.sk-estimator input.sk-toggleable__control:checked~label.sk-toggleable__label {background-color: #d4ebff;}#sk-container-id-2 div.sk-label input.sk-toggleable__control:checked~label.sk-toggleable__label {background-color: #d4ebff;}#sk-container-id-2 input.sk-hidden--visually {border: 0;clip: rect(1px 1px 1px 1px);clip: rect(1px, 1px, 1px, 1px);height: 1px;margin: -1px;overflow: hidden;padding: 0;position: absolute;width: 1px;}#sk-container-id-2 div.sk-estimator {font-family: monospace;background-color: #f0f8ff;border: 1px dotted black;border-radius: 0.25em;box-sizing: border-box;margin-bottom: 0.5em;}#sk-container-id-2 div.sk-estimator:hover {background-color: #d4ebff;}#sk-container-id-2 div.sk-parallel-item::after {content: \"\";width: 100%;border-bottom: 1px solid gray;flex-grow: 1;}#sk-container-id-2 div.sk-label:hover label.sk-toggleable__label {background-color: #d4ebff;}#sk-container-id-2 div.sk-serial::before {content: \"\";position: absolute;border-left: 1px solid gray;box-sizing: border-box;top: 0;bottom: 0;left: 50%;z-index: 0;}#sk-container-id-2 div.sk-serial {display: flex;flex-direction: column;align-items: center;background-color: white;padding-right: 0.2em;padding-left: 0.2em;position: relative;}#sk-container-id-2 div.sk-item {position: relative;z-index: 1;}#sk-container-id-2 div.sk-parallel {display: flex;align-items: stretch;justify-content: center;background-color: white;position: relative;}#sk-container-id-2 div.sk-item::before, #sk-container-id-2 div.sk-parallel-item::before {content: \"\";position: absolute;border-left: 1px solid gray;box-sizing: border-box;top: 0;bottom: 0;left: 50%;z-index: -1;}#sk-container-id-2 div.sk-parallel-item {display: flex;flex-direction: column;z-index: 1;position: relative;background-color: white;}#sk-container-id-2 div.sk-parallel-item:first-child::after {align-self: flex-end;width: 50%;}#sk-container-id-2 div.sk-parallel-item:last-child::after {align-self: flex-start;width: 50%;}#sk-container-id-2 div.sk-parallel-item:only-child::after {width: 0;}#sk-container-id-2 div.sk-dashed-wrapped {border: 1px dashed gray;margin: 0 0.4em 0.5em 0.4em;box-sizing: border-box;padding-bottom: 0.4em;background-color: white;}#sk-container-id-2 div.sk-label label {font-family: monospace;font-weight: bold;display: inline-block;line-height: 1.2em;}#sk-container-id-2 div.sk-label-container {text-align: center;}#sk-container-id-2 div.sk-container {/* jupyter's `normalize.less` sets `[hidden] { display: none; }` but bootstrap.min.css set `[hidden] { display: none !important; }` so we also need the `!important` here to be able to override the default hidden behavior on the sphinx rendered scikit-learn.org. See: https://github.com/scikit-learn/scikit-learn/issues/21755 */display: inline-block !important;position: relative;}#sk-container-id-2 div.sk-text-repr-fallback {display: none;}</style><div id=\"sk-container-id-2\" class=\"sk-top-container\"><div class=\"sk-text-repr-fallback\"><pre>XGBClassifier(base_score=None, booster=None, callbacks=None,\n",
              "              colsample_bylevel=None, colsample_bynode=None,\n",
              "              colsample_bytree=None, device=None, early_stopping_rounds=None,\n",
              "              enable_categorical=False, eval_metric=None, feature_types=None,\n",
              "              gamma=None, grow_policy=None, importance_type=None,\n",
              "              interaction_constraints=None, learning_rate=0.3, max_bin=None,\n",
              "              max_cat_threshold=None, max_cat_to_onehot=None,\n",
              "              max_delta_step=None, max_depth=None, max_leaves=None,\n",
              "              min_child_weight=None, missing=nan, monotone_constraints=None,\n",
              "              multi_strategy=None, n_estimators=100, n_jobs=None,\n",
              "              num_parallel_tree=None, random_state=None, ...)</pre><b>In a Jupyter environment, please rerun this cell to show the HTML representation or trust the notebook. <br />On GitHub, the HTML representation is unable to render, please try loading this page with nbviewer.org.</b></div><div class=\"sk-container\" hidden><div class=\"sk-item\"><div class=\"sk-estimator sk-toggleable\"><input class=\"sk-toggleable__control sk-hidden--visually\" id=\"sk-estimator-id-2\" type=\"checkbox\" checked><label for=\"sk-estimator-id-2\" class=\"sk-toggleable__label sk-toggleable__label-arrow\">XGBClassifier</label><div class=\"sk-toggleable__content\"><pre>XGBClassifier(base_score=None, booster=None, callbacks=None,\n",
              "              colsample_bylevel=None, colsample_bynode=None,\n",
              "              colsample_bytree=None, device=None, early_stopping_rounds=None,\n",
              "              enable_categorical=False, eval_metric=None, feature_types=None,\n",
              "              gamma=None, grow_policy=None, importance_type=None,\n",
              "              interaction_constraints=None, learning_rate=0.3, max_bin=None,\n",
              "              max_cat_threshold=None, max_cat_to_onehot=None,\n",
              "              max_delta_step=None, max_depth=None, max_leaves=None,\n",
              "              min_child_weight=None, missing=nan, monotone_constraints=None,\n",
              "              multi_strategy=None, n_estimators=100, n_jobs=None,\n",
              "              num_parallel_tree=None, random_state=None, ...)</pre></div></div></div></div></div>"
            ]
          },
          "metadata": {},
          "execution_count": 26
        }
      ],
      "source": [
        "model.fit(X_train, y_train, eval_metric=eval_metric, eval_set=eval_set, verbose=True)"
      ],
      "execution_count": 26
    },
    {
      "cell_type": "markdown",
      "metadata": {
        "id": "feda1a20-c9d0-4469-a3e6-64a626521b30"
      },
      "source": [
        "We can obtain the result for each iteration as a Python `dict` .`validation_0` is the label for dataset we input; this contains a nested dictionary. The nested dictionary's key is the type of metric; the values is a list that includes the value of the metric used for each epoch.\n"
      ]
    },
    {
      "cell_type": "code",
      "metadata": {
        "colab": {
          "base_uri": "https://localhost:8080/"
        },
        "id": "4578ddb6-a174-47db-9df4-64a9e064eade",
        "outputId": "432b12a6-62cc-45f4-f87f-256675d7970e"
      },
      "outputs": [
        {
          "output_type": "stream",
          "name": "stdout",
          "text": [
            "{'validation_0': OrderedDict([('error', [0.23333333333333334, 0.18333333333333332, 0.21666666666666667, 0.18333333333333332, 0.18333333333333332, 0.21666666666666667, 0.2, 0.2, 0.2, 0.2, 0.21666666666666667, 0.2, 0.2, 0.21666666666666667, 0.21666666666666667, 0.21666666666666667, 0.21666666666666667, 0.25, 0.25, 0.23333333333333334, 0.23333333333333334, 0.25, 0.25, 0.25, 0.23333333333333334, 0.23333333333333334, 0.25, 0.23333333333333334, 0.25, 0.25, 0.25, 0.25, 0.25, 0.25, 0.23333333333333334, 0.25, 0.25, 0.25, 0.23333333333333334, 0.25, 0.23333333333333334, 0.25, 0.23333333333333334, 0.23333333333333334, 0.23333333333333334, 0.23333333333333334, 0.23333333333333334, 0.23333333333333334, 0.25, 0.25, 0.23333333333333334, 0.23333333333333334, 0.23333333333333334, 0.23333333333333334, 0.25, 0.23333333333333334, 0.25, 0.25, 0.25, 0.25, 0.25, 0.23333333333333334, 0.25, 0.25, 0.25, 0.25, 0.25, 0.25, 0.25, 0.25, 0.25, 0.25, 0.25, 0.25, 0.23333333333333334, 0.23333333333333334, 0.23333333333333334, 0.25, 0.25, 0.25, 0.25, 0.25, 0.25, 0.25, 0.25, 0.25, 0.25, 0.25, 0.25, 0.25, 0.26666666666666666, 0.26666666666666666, 0.25, 0.25, 0.25, 0.25, 0.25, 0.25, 0.25, 0.26666666666666666])])}\n"
          ]
        }
      ],
      "source": [
        "results = model.evals_result()\n",
        "print(results)"
      ],
      "execution_count": 27
    },
    {
      "cell_type": "markdown",
      "metadata": {
        "id": "5b766022-11dc-4ff1-9ee0-463675d3bb47"
      },
      "source": [
        "We can plot the results for each epoch, we see the test error increases.\n"
      ]
    },
    {
      "cell_type": "code",
      "metadata": {
        "colab": {
          "base_uri": "https://localhost:8080/",
          "height": 466
        },
        "id": "0254030d-856d-43c8-a5b0-92c032708dca",
        "outputId": "101ef16e-884c-42ea-8309-784f4ab6150f"
      },
      "outputs": [
        {
          "output_type": "execute_result",
          "data": {
            "text/plain": [
              "Text(0, 0.5, 'Misclassified Samples')"
            ]
          },
          "metadata": {},
          "execution_count": 28
        },
        {
          "output_type": "display_data",
          "data": {
            "text/plain": [
              "<Figure size 640x480 with 1 Axes>"
            ],
            "image/png": "[encoded data removed]"
          },
          "metadata": {}
        }
      ],
      "source": [
        "plt.plot(range(0, len(results['validation_0']['error'])), results['validation_0']['error'])\n",
        "plt.xlabel('iterations')\n",
        "plt.ylabel('Misclassified Samples')"
      ],
      "execution_count": 28
    },
    {
      "cell_type": "markdown",
      "metadata": {
        "id": "a54605d6-0afd-4e7e-bc22-ef0be3514c32"
      },
      "source": [
        "We can input multiple datasets, for example we can input the training and test data and use the metric `logloss`.\n"
      ]
    },
    {
      "cell_type": "code",
      "metadata": {
        "id": "d244f506-9e39-4309-bd0d-0c23ed8e5f5e"
      },
      "outputs": [],
      "source": [
        "eval_metric='logloss'\n",
        "eval_set = [(X_train, y_train), (X_test, y_test)]\n",
        "model.fit(X_train, y_train, eval_metric=eval_metric, eval_set=eval_set,verbose=False)\n",
        "results=model.evals_result()"
      ],
      "execution_count": 29
    },
    {
      "cell_type": "markdown",
      "metadata": {
        "id": "a06cb598-bf64-49f7-8c92-abb20d92518e"
      },
      "source": [
        "The dict  contains two elements the loss for the training and testing data, we display  the keys :\n"
      ]
    },
    {
      "cell_type": "code",
      "metadata": {
        "colab": {
          "base_uri": "https://localhost:8080/"
        },
        "id": "ce3d7cfa-8f8c-4840-b664-8e6228c6eeea",
        "outputId": "f7158b58-3478-4263-c3fa-a439c56f8788"
      },
      "outputs": [
        {
          "output_type": "execute_result",
          "data": {
            "text/plain": [
              "dict_keys(['validation_0', 'validation_1'])"
            ]
          },
          "metadata": {},
          "execution_count": 30
        }
      ],
      "source": [
        "results.keys()"
      ],
      "execution_count": 30
    },
    {
      "cell_type": "markdown",
      "metadata": {
        "id": "e700b603-0aa2-46b9-bca2-4da62023eaf8"
      },
      "source": [
        "We can plot the error here for each epoch.\n"
      ]
    },
    {
      "cell_type": "code",
      "metadata": {
        "colab": {
          "base_uri": "https://localhost:8080/",
          "height": 430
        },
        "id": "c9c6f9c6-9a31-456c-a4dd-b4c3b45a79ca",
        "outputId": "4839a622-c3d3-4854-88aa-c7fcd88306a7"
      },
      "outputs": [
        {
          "output_type": "display_data",
          "data": {
            "text/plain": [
              "<Figure size 640x480 with 1 Axes>"
            ],
            "image/png": "[encoded data removed]"
          },
          "metadata": {}
        }
      ],
      "source": [
        "fig, ax = plt.subplots()\n",
        "ax.plot( results['validation_0']['logloss'], label='Train')\n",
        "ax.plot( results['validation_1']['logloss'], label='Test/Validation')\n",
        "ax.legend()\n",
        "plt.show()"
      ],
      "execution_count": 31
    },
    {
      "cell_type": "markdown",
      "metadata": {
        "id": "3589b3ce-6943-4ad6-be83-04f4f8c484b0"
      },
      "source": [
        "We see that the training error decreases for each epoch in blue, but the validation error flattens then increases; this is a sign of overfitting. We can reduce this by early stopping.\n"
      ]
    },
    {
      "cell_type": "markdown",
      "metadata": {
        "id": "e7e80bae-487d-4e2f-ae1f-6641f8920d1e"
      },
      "source": [
        "#### Early Stopping\n"
      ]
    },
    {
      "cell_type": "markdown",
      "metadata": {
        "id": "3c2ef5c7-2202-43b4-ae50-e6b6df302e61"
      },
      "source": [
        "Early Stopping is a way to prevent overfitting; we stop gradient descent based on a specified number of epochs over which no improvement is observed using the evaluation set . The input parameter is  `early_stopping_rounds`.\n"
      ]
    },
    {
      "cell_type": "code",
      "metadata": {
        "id": "9757db6c-22a8-4ab3-baf6-d6ac8785e60f"
      },
      "outputs": [],
      "source": [
        "early_stopping_rounds=10"
      ],
      "execution_count": 32
    },
    {
      "cell_type": "markdown",
      "metadata": {
        "id": "e2e5f3f8-6fed-4352-ace4-272ed688c23e"
      },
      "source": [
        "We train the model:\n"
      ]
    },
    {
      "cell_type": "code",
      "metadata": {
        "colab": {
          "base_uri": "https://localhost:8080/",
          "height": 491
        },
        "id": "c1c3a74a-001a-4cd4-b5d9-87a44be94671",
        "outputId": "dd34edfd-8713-4962-e867-07dedaca37e9"
      },
      "outputs": [
        {
          "output_type": "stream",
          "name": "stdout",
          "text": [
            "[0]\tvalidation_0-logloss:0.51017\n",
            "[1]\tvalidation_0-logloss:0.48158\n",
            "[2]\tvalidation_0-logloss:0.46597\n",
            "[3]\tvalidation_0-logloss:0.44277\n",
            "[4]\tvalidation_0-logloss:0.43894\n",
            "[5]\tvalidation_0-logloss:0.44720\n",
            "[6]\tvalidation_0-logloss:0.44586\n",
            "[7]\tvalidation_0-logloss:0.45081\n",
            "[8]\tvalidation_0-logloss:0.45817\n",
            "[9]\tvalidation_0-logloss:0.45591\n",
            "[10]\tvalidation_0-logloss:0.46643\n",
            "[11]\tvalidation_0-logloss:0.46546\n",
            "[12]\tvalidation_0-logloss:0.47197\n",
            "[13]\tvalidation_0-logloss:0.47800\n"
          ]
        },
        {
          "output_type": "execute_result",
          "data": {
            "text/plain": [
              "XGBClassifier(base_score=None, booster=None, callbacks=None,\n",
              "              colsample_bylevel=None, colsample_bynode=None,\n",
              "              colsample_bytree=None, device=None, early_stopping_rounds=None,\n",
              "              enable_categorical=False, eval_metric=None, feature_types=None,\n",
              "              gamma=None, grow_policy=None, importance_type=None,\n",
              "              interaction_constraints=None, learning_rate=0.3, max_bin=None,\n",
              "              max_cat_threshold=None, max_cat_to_onehot=None,\n",
              "              max_delta_step=None, max_depth=None, max_leaves=None,\n",
              "              min_child_weight=None, missing=nan, monotone_constraints=None,\n",
              "              multi_strategy=None, n_estimators=100, n_jobs=None,\n",
              "              num_parallel_tree=None, random_state=None, ...)"
            ],
            "text/html": [
              "<style>#sk-container-id-3 {color: black;background-color: white;}#sk-container-id-3 pre{padding: 0;}#sk-container-id-3 div.sk-toggleable {background-color: white;}#sk-container-id-3 label.sk-toggleable__label {cursor: pointer;display: block;width: 100%;margin-bottom: 0;padding: 0.3em;box-sizing: border-box;text-align: center;}#sk-container-id-3 label.sk-toggleable__label-arrow:before {content: \"▸\";float: left;margin-right: 0.25em;color: #696969;}#sk-container-id-3 label.sk-toggleable__label-arrow:hover:before {color: black;}#sk-container-id-3 div.sk-estimator:hover label.sk-toggleable__label-arrow:before {color: black;}#sk-container-id-3 div.sk-toggleable__content {max-height: 0;max-width: 0;overflow: hidden;text-align: left;background-color: #f0f8ff;}#sk-container-id-3 div.sk-toggleable__content pre {margin: 0.2em;color: black;border-radius: 0.25em;background-color: #f0f8ff;}#sk-container-id-3 input.sk-toggleable__control:checked~div.sk-toggleable__content {max-height: 200px;max-width: 100%;overflow: auto;}#sk-container-id-3 input.sk-toggleable__control:checked~label.sk-toggleable__label-arrow:before {content: \"▾\";}#sk-container-id-3 div.sk-estimator input.sk-toggleable__control:checked~label.sk-toggleable__label {background-color: #d4ebff;}#sk-container-id-3 div.sk-label input.sk-toggleable__control:checked~label.sk-toggleable__label {background-color: #d4ebff;}#sk-container-id-3 input.sk-hidden--visually {border: 0;clip: rect(1px 1px 1px 1px);clip: rect(1px, 1px, 1px, 1px);height: 1px;margin: -1px;overflow: hidden;padding: 0;position: absolute;width: 1px;}#sk-container-id-3 div.sk-estimator {font-family: monospace;background-color: #f0f8ff;border: 1px dotted black;border-radius: 0.25em;box-sizing: border-box;margin-bottom: 0.5em;}#sk-container-id-3 div.sk-estimator:hover {background-color: #d4ebff;}#sk-container-id-3 div.sk-parallel-item::after {content: \"\";width: 100%;border-bottom: 1px solid gray;flex-grow: 1;}#sk-container-id-3 div.sk-label:hover label.sk-toggleable__label {background-color: #d4ebff;}#sk-container-id-3 div.sk-serial::before {content: \"\";position: absolute;border-left: 1px solid gray;box-sizing: border-box;top: 0;bottom: 0;left: 50%;z-index: 0;}#sk-container-id-3 div.sk-serial {display: flex;flex-direction: column;align-items: center;background-color: white;padding-right: 0.2em;padding-left: 0.2em;position: relative;}#sk-container-id-3 div.sk-item {position: relative;z-index: 1;}#sk-container-id-3 div.sk-parallel {display: flex;align-items: stretch;justify-content: center;background-color: white;position: relative;}#sk-container-id-3 div.sk-item::before, #sk-container-id-3 div.sk-parallel-item::before {content: \"\";position: absolute;border-left: 1px solid gray;box-sizing: border-box;top: 0;bottom: 0;left: 50%;z-index: -1;}#sk-container-id-3 div.sk-parallel-item {display: flex;flex-direction: column;z-index: 1;position: relative;background-color: white;}#sk-container-id-3 div.sk-parallel-item:first-child::after {align-self: flex-end;width: 50%;}#sk-container-id-3 div.sk-parallel-item:last-child::after {align-self: flex-start;width: 50%;}#sk-container-id-3 div.sk-parallel-item:only-child::after {width: 0;}#sk-container-id-3 div.sk-dashed-wrapped {border: 1px dashed gray;margin: 0 0.4em 0.5em 0.4em;box-sizing: border-box;padding-bottom: 0.4em;background-color: white;}#sk-container-id-3 div.sk-label label {font-family: monospace;font-weight: bold;display: inline-block;line-height: 1.2em;}#sk-container-id-3 div.sk-label-container {text-align: center;}#sk-container-id-3 div.sk-container {/* jupyter's `normalize.less` sets `[hidden] { display: none; }` but bootstrap.min.css set `[hidden] { display: none !important; }` so we also need the `!important` here to be able to override the default hidden behavior on the sphinx rendered scikit-learn.org. See: https://github.com/scikit-learn/scikit-learn/issues/21755 */display: inline-block !important;position: relative;}#sk-container-id-3 div.sk-text-repr-fallback {display: none;}</style><div id=\"sk-container-id-3\" class=\"sk-top-container\"><div class=\"sk-text-repr-fallback\"><pre>XGBClassifier(base_score=None, booster=None, callbacks=None,\n",
              "              colsample_bylevel=None, colsample_bynode=None,\n",
              "              colsample_bytree=None, device=None, early_stopping_rounds=None,\n",
              "              enable_categorical=False, eval_metric=None, feature_types=None,\n",
              "              gamma=None, grow_policy=None, importance_type=None,\n",
              "              interaction_constraints=None, learning_rate=0.3, max_bin=None,\n",
              "              max_cat_threshold=None, max_cat_to_onehot=None,\n",
              "              max_delta_step=None, max_depth=None, max_leaves=None,\n",
              "              min_child_weight=None, missing=nan, monotone_constraints=None,\n",
              "              multi_strategy=None, n_estimators=100, n_jobs=None,\n",
              "              num_parallel_tree=None, random_state=None, ...)</pre><b>In a Jupyter environment, please rerun this cell to show the HTML representation or trust the notebook. <br />On GitHub, the HTML representation is unable to render, please try loading this page with nbviewer.org.</b></div><div class=\"sk-container\" hidden><div class=\"sk-item\"><div class=\"sk-estimator sk-toggleable\"><input class=\"sk-toggleable__control sk-hidden--visually\" id=\"sk-estimator-id-3\" type=\"checkbox\" checked><label for=\"sk-estimator-id-3\" class=\"sk-toggleable__label sk-toggleable__label-arrow\">XGBClassifier</label><div class=\"sk-toggleable__content\"><pre>XGBClassifier(base_score=None, booster=None, callbacks=None,\n",
              "              colsample_bylevel=None, colsample_bynode=None,\n",
              "              colsample_bytree=None, device=None, early_stopping_rounds=None,\n",
              "              enable_categorical=False, eval_metric=None, feature_types=None,\n",
              "              gamma=None, grow_policy=None, importance_type=None,\n",
              "              interaction_constraints=None, learning_rate=0.3, max_bin=None,\n",
              "              max_cat_threshold=None, max_cat_to_onehot=None,\n",
              "              max_delta_step=None, max_depth=None, max_leaves=None,\n",
              "              min_child_weight=None, missing=nan, monotone_constraints=None,\n",
              "              multi_strategy=None, n_estimators=100, n_jobs=None,\n",
              "              num_parallel_tree=None, random_state=None, ...)</pre></div></div></div></div></div>"
            ]
          },
          "metadata": {},
          "execution_count": 33
        }
      ],
      "source": [
        "eval_set = [(X_test, y_test)]\n",
        "eval_metric='logloss'\n",
        "model.fit(X_train, y_train, eval_metric=eval_metric, eval_set=eval_set, verbose=True,early_stopping_rounds=early_stopping_rounds)"
      ],
      "execution_count": 33
    },
    {
      "cell_type": "markdown",
      "metadata": {
        "id": "a84f0d85-2363-4abb-97b1-071cda24058c"
      },
      "source": [
        "We see the model does better for the same Hyperparamters values.\n"
      ]
    },
    {
      "cell_type": "code",
      "metadata": {
        "colab": {
          "base_uri": "https://localhost:8080/"
        },
        "id": "a6c408cb-ef39-4216-a532-feb60c391537",
        "outputId": "9bb3e542-ba17-497e-9683-32fd2a55cd3b"
      },
      "outputs": [
        {
          "output_type": "stream",
          "name": "stdout",
          "text": [
            "{'test Accuracy': 0.8166666666666667, 'train Accuracy': 0.9214285714285714}\n"
          ]
        }
      ],
      "source": [
        "print(get_accuracy(X_train, X_test, y_train, y_test,  model))"
      ],
      "execution_count": 34
    },
    {
      "cell_type": "markdown",
      "metadata": {
        "id": "73691711-216a-42f4-9d83-feaeca221695"
      },
      "source": [
        "## Parameters for Trees\n"
      ]
    },
    {
      "cell_type": "markdown",
      "metadata": {
        "id": "63e22ebd-830c-4b22-bd6c-c40af1563997"
      },
      "source": [
        "We can also change tree parameters, consider our first example:\n"
      ]
    },
    {
      "cell_type": "code",
      "metadata": {
        "colab": {
          "base_uri": "https://localhost:8080/"
        },
        "id": "ed90f5f3-4632-4f0c-803f-0da120ad5e9f",
        "outputId": "978ff530-3532-4b94-cc94-f28afb565747"
      },
      "outputs": [
        {
          "output_type": "stream",
          "name": "stdout",
          "text": [
            "{'test Accuracy': 0.8, 'train Accuracy': 0.85}\n"
          ]
        }
      ],
      "source": [
        "objective='binary:logistic'\n",
        "learning_rate=0.1\n",
        "n_estimators=10\n",
        "model =XGBClassifier(objective=objective,learning_rate=learning_rate,n_estimators=n_estimators,eval_metric='mlogloss')\n",
        "model.fit(X_train, y_train)\n",
        "print(get_accuracy(X_train, X_test, y_train, y_test,  model))"
      ],
      "execution_count": 35
    },
    {
      "cell_type": "markdown",
      "metadata": {
        "id": "fef4a453-7480-4c42-856c-2d08d2f9140c"
      },
      "source": [
        "`max_depth` is the maximum depth of a tree. Increasing this value will make overfitting more likely, do decreasing max depth will decrease overfitting:\n"
      ]
    },
    {
      "cell_type": "code",
      "metadata": {
        "id": "d4344da2-c419-4b08-a3bd-f80a149a0acb"
      },
      "outputs": [],
      "source": [
        "max_depth=3"
      ],
      "execution_count": 36
    },
    {
      "cell_type": "code",
      "metadata": {
        "colab": {
          "base_uri": "https://localhost:8080/"
        },
        "id": "13567b9c-ecd0-4b6d-b332-2a27932836c2",
        "outputId": "a7f6974a-0b33-461b-fcca-be3486ce3f9d"
      },
      "outputs": [
        {
          "output_type": "stream",
          "name": "stdout",
          "text": [
            "{'test Accuracy': 0.7666666666666667, 'train Accuracy': 0.8071428571428572}\n"
          ]
        }
      ],
      "source": [
        "model =XGBClassifier(objective=objective,learning_rate=learning_rate,n_estimators=n_estimators,eval_metric='mlogloss',max_depth=max_depth)\n",
        "model.fit(X_train, y_train)\n",
        "print(get_accuracy(X_train, X_test, y_train, y_test,  model))"
      ],
      "execution_count": 37
    },
    {
      "cell_type": "markdown",
      "metadata": {
        "id": "1840da36-3ee8-414e-b3fc-c6b86d2584f9"
      },
      "source": [
        "`min_child_weight` is essentially the minimum number of instances needed to be in each node,  larger values decrease overfitting. the default is one; setting it to four  we get better results on the training data.\n"
      ]
    },
    {
      "cell_type": "code",
      "metadata": {
        "id": "bde4a099-2408-4804-b193-b673707651c4"
      },
      "outputs": [],
      "source": [
        "min_child_weight=4"
      ],
      "execution_count": 38
    },
    {
      "cell_type": "code",
      "metadata": {
        "colab": {
          "base_uri": "https://localhost:8080/"
        },
        "id": "2f62dee1-7b52-4e6d-b7d2-a17bfaa31880",
        "outputId": "898dc1de-7194-4e22-87c5-ff6badb6cc64"
      },
      "outputs": [
        {
          "output_type": "stream",
          "name": "stdout",
          "text": [
            "{'test Accuracy': 0.7833333333333333, 'train Accuracy': 0.7928571428571428}\n"
          ]
        }
      ],
      "source": [
        "model =XGBClassifier(objective=objective,learning_rate=learning_rate,n_estimators=n_estimators,eval_metric='mlogloss',min_child_weight=4)\n",
        "model.fit(X_train, y_train)\n",
        "print(get_accuracy(X_train, X_test, y_train, y_test,  model))"
      ],
      "execution_count": 39
    },
    {
      "cell_type": "markdown",
      "metadata": {
        "id": "0d67928f-6309-43fd-9a05-b15ffb08ca86"
      },
      "source": [
        "`gamma`, `reg_lambda` , `alpha` are other regularization parameters with default parameters of 0, 1 and 0, respectively. Increasing these parameters, will decrease overfitting.\n"
      ]
    },
    {
      "cell_type": "code",
      "metadata": {
        "colab": {
          "base_uri": "https://localhost:8080/"
        },
        "id": "c733d8fb-e78a-4305-bf6a-ff0898b8eff5",
        "outputId": "1bde05e3-4cd3-4538-adeb-cb7135e8a1f9"
      },
      "outputs": [
        {
          "output_type": "stream",
          "name": "stdout",
          "text": [
            "{'test Accuracy': 0.7833333333333333, 'train Accuracy': 0.7785714285714286}\n"
          ]
        }
      ],
      "source": [
        "gamma=1\n",
        "reg_lambda=2\n",
        "alpha=1\n",
        "model =XGBClassifier(objective=objective,learning_rate=learning_rate,n_estimators=n_estimators,eval_metric='mlogloss',gamma=gamma,reg_lambda=reg_lambda,alpha=alpha)\n",
        "model.fit(X_train, y_train)\n",
        "print(get_accuracy(X_train, X_test, y_train, y_test,  model))"
      ],
      "execution_count": 40
    },
    {
      "cell_type": "markdown",
      "metadata": {
        "id": "1dcd0a51-f374-444d-a5bb-a1a04268388f"
      },
      "source": [
        "<h2 id=\"Example\">Cancer Data Example with GridSearchCV</h2>\n",
        "\n",
        "The example is based on a dataset that is publicly available from the UCI Machine Learning Repository <a href=http://mlearn.ics.uci.edu/MLRepository.html?utm_medium=Exinfluencer&utm_source=Exinfluencer&utm_content=000026UJ&utm_term=10006555&utm_id=NA-SkillsNetwork-Channel-SkillsNetworkCoursesIBMML241ENSkillsNetwork31576874-2022-01-01>Asuncion and Newman, 2007 </a>. The dataset consists of several hundred human cell sample records, each of which contains the values of a set of cell characteristics. The fields in each record are:\n",
        "\n",
        "| Field name  | Description                 |\n",
        "| ----------- | --------------------------- |\n",
        "| ID          | Clump thickness             |\n",
        "| Clump       | Clump thickness             |\n",
        "| UnifSize    | Uniformity of cell size     |\n",
        "| UnifShape   | Uniformity of cell shape    |\n",
        "| MargAdh     | Marginal adhesion           |\n",
        "| SingEpiSize | Single epithelial cell size |\n",
        "| BareNuc     | Bare nuclei                 |\n",
        "| BlandChrom  | Bland chromatin             |\n",
        "| NormNucl    | Normal nucleoli             |\n",
        "| Mit         | Mitoses                     |\n",
        "| Class       | Benign or malignant         |\n",
        "\n",
        "<br>\n",
        "<br>\n",
        "\n",
        "Let's load the dataset, then use XG Boost to classify samples.\n"
      ]
    },
    {
      "cell_type": "code",
      "metadata": {
        "colab": {
          "base_uri": "https://localhost:8080/",
          "height": 206
        },
        "id": "d07f7ca3-93cb-46c7-a508-a416cc3beabd",
        "outputId": "0d0bff32-0468-42d6-dca2-ac0a58cfb518"
      },
      "outputs": [
        {
          "output_type": "execute_result",
          "data": {
            "text/plain": [
              "        ID  Clump  UnifSize  UnifShape  MargAdh  SingEpiSize BareNuc  \\\n",
              "0  1000025      5         1          1        1            2       1   \n",
              "1  1002945      5         4          4        5            7      10   \n",
              "2  1015425      3         1          1        1            2       2   \n",
              "3  1016277      6         8          8        1            3       4   \n",
              "4  1017023      4         1          1        3            2       1   \n",
              "\n",
              "   BlandChrom  NormNucl  Mit  Class  \n",
              "0           3         1    1      2  \n",
              "1           3         2    1      2  \n",
              "2           3         1    1      2  \n",
              "3           3         7    1      2  \n",
              "4           3         1    1      2  "
            ],
            "text/html": [
              "\n",
              "  <div id=\"df-26442ee4-8567-4d68-a019-a363e3aa0a53\" class=\"colab-df-container\">\n",
              "    <div>\n",
              "<style scoped>\n",
              "    .dataframe tbody tr th:only-of-type {\n",
              "        vertical-align: middle;\n",
              "    }\n",
              "\n",
              "    .dataframe tbody tr th {\n",
              "        vertical-align: top;\n",
              "    }\n",
              "\n",
              "    .dataframe thead th {\n",
              "        text-align: right;\n",
              "    }\n",
              "</style>\n",
              "<table border=\"1\" class=\"dataframe\">\n",
              "  <thead>\n",
              "    <tr style=\"text-align: right;\">\n",
              "      <th></th>\n",
              "      <th>ID</th>\n",
              "      <th>Clump</th>\n",
              "      <th>UnifSize</th>\n",
              "      <th>UnifShape</th>\n",
              "      <th>MargAdh</th>\n",
              "      <th>SingEpiSize</th>\n",
              "      <th>BareNuc</th>\n",
              "      <th>BlandChrom</th>\n",
              "      <th>NormNucl</th>\n",
              "      <th>Mit</th>\n",
              "      <th>Class</th>\n",
              "    </tr>\n",
              "  </thead>\n",
              "  <tbody>\n",
              "    <tr>\n",
              "      <th>0</th>\n",
              "      <td>1000025</td>\n",
              "      <td>5</td>\n",
              "      <td>1</td>\n",
              "      <td>1</td>\n",
              "      <td>1</td>\n",
              "      <td>2</td>\n",
              "      <td>1</td>\n",
              "      <td>3</td>\n",
              "      <td>1</td>\n",
              "      <td>1</td>\n",
              "      <td>2</td>\n",
              "    </tr>\n",
              "    <tr>\n",
              "      <th>1</th>\n",
              "      <td>1002945</td>\n",
              "      <td>5</td>\n",
              "      <td>4</td>\n",
              "      <td>4</td>\n",
              "      <td>5</td>\n",
              "      <td>7</td>\n",
              "      <td>10</td>\n",
              "      <td>3</td>\n",
              "      <td>2</td>\n",
              "      <td>1</td>\n",
              "      <td>2</td>\n",
              "    </tr>\n",
              "    <tr>\n",
              "      <th>2</th>\n",
              "      <td>1015425</td>\n",
              "      <td>3</td>\n",
              "      <td>1</td>\n",
              "      <td>1</td>\n",
              "      <td>1</td>\n",
              "      <td>2</td>\n",
              "      <td>2</td>\n",
              "      <td>3</td>\n",
              "      <td>1</td>\n",
              "      <td>1</td>\n",
              "      <td>2</td>\n",
              "    </tr>\n",
              "    <tr>\n",
              "      <th>3</th>\n",
              "      <td>1016277</td>\n",
              "      <td>6</td>\n",
              "      <td>8</td>\n",
              "      <td>8</td>\n",
              "      <td>1</td>\n",
              "      <td>3</td>\n",
              "      <td>4</td>\n",
              "      <td>3</td>\n",
              "      <td>7</td>\n",
              "      <td>1</td>\n",
              "      <td>2</td>\n",
              "    </tr>\n",
              "    <tr>\n",
              "      <th>4</th>\n",
              "      <td>1017023</td>\n",
              "      <td>4</td>\n",
              "      <td>1</td>\n",
              "      <td>1</td>\n",
              "      <td>3</td>\n",
              "      <td>2</td>\n",
              "      <td>1</td>\n",
              "      <td>3</td>\n",
              "      <td>1</td>\n",
              "      <td>1</td>\n",
              "      <td>2</td>\n",
              "    </tr>\n",
              "  </tbody>\n",
              "</table>\n",
              "</div>\n",
              "    <div class=\"colab-df-buttons\">\n",
              "\n",
              "  <div class=\"colab-df-container\">\n",
              "    <button class=\"colab-df-convert\" onclick=\"convertToInteractive('df-26442ee4-8567-4d68-a019-a363e3aa0a53')\"\n",
              "            title=\"Convert this dataframe to an interactive table.\"\n",
              "            style=\"display:none;\">\n",
              "\n",
              "  <svg xmlns=\"http://www.w3.org/2000/svg\" height=\"24px\" viewBox=\"0 -960 960 960\">\n",
              "    <path d=\"M120-120v-720h720v720H120Zm60-500h600v-160H180v160Zm220 220h160v-160H400v160Zm0 220h160v-160H400v160ZM180-400h160v-160H180v160Zm440 0h160v-160H620v160ZM180-180h160v-160H180v160Zm440 0h160v-160H620v160Z\"/>\n",
              "  </svg>\n",
              "    </button>\n",
              "\n",
              "  <style>\n",
              "    .colab-df-container {\n",
              "      display:flex;\n",
              "      gap: 12px;\n",
              "    }\n",
              "\n",
              "    .colab-df-convert {\n",
              "      background-color: #E8F0FE;\n",
              "      border: none;\n",
              "      border-radius: 50%;\n",
              "      cursor: pointer;\n",
              "      display: none;\n",
              "      fill: #1967D2;\n",
              "      height: 32px;\n",
              "      padding: 0 0 0 0;\n",
              "      width: 32px;\n",
              "    }\n",
              "\n",
              "    .colab-df-convert:hover {\n",
              "      background-color: #E2EBFA;\n",
              "      box-shadow: 0px 1px 2px rgba(60, 64, 67, 0.3), 0px 1px 3px 1px rgba(60, 64, 67, 0.15);\n",
              "      fill: #174EA6;\n",
              "    }\n",
              "\n",
              "    .colab-df-buttons div {\n",
              "      margin-bottom: 4px;\n",
              "    }\n",
              "\n",
              "    [theme=dark] .colab-df-convert {\n",
              "      background-color: #3B4455;\n",
              "      fill: #D2E3FC;\n",
              "    }\n",
              "\n",
              "    [theme=dark] .colab-df-convert:hover {\n",
              "      background-color: #434B5C;\n",
              "      box-shadow: 0px 1px 3px 1px rgba(0, 0, 0, 0.15);\n",
              "      filter: drop-shadow(0px 1px 2px rgba(0, 0, 0, 0.3));\n",
              "      fill: #FFFFFF;\n",
              "    }\n",
              "  </style>\n",
              "\n",
              "    <script>\n",
              "      const buttonEl =\n",
              "        document.querySelector('#df-26442ee4-8567-4d68-a019-a363e3aa0a53 button.colab-df-convert');\n",
              "      buttonEl.style.display =\n",
              "        google.colab.kernel.accessAllowed ? 'block' : 'none';\n",
              "\n",
              "      async function convertToInteractive(key) {\n",
              "        const element = document.querySelector('#df-26442ee4-8567-4d68-a019-a363e3aa0a53');\n",
              "        const dataTable =\n",
              "          await google.colab.kernel.invokeFunction('convertToInteractive',\n",
              "                                                    [key], {});\n",
              "        if (!dataTable) return;\n",
              "\n",
              "        const docLinkHtml = 'Like what you see? Visit the ' +\n",
              "          '<a target=\"_blank\" href=https://colab.research.google.com/notebooks/data_table.ipynb>data table notebook</a>'\n",
              "          + ' to learn more about interactive tables.';\n",
              "        element.innerHTML = '';\n",
              "        dataTable['output_type'] = 'display_data';\n",
              "        await google.colab.output.renderOutput(dataTable, element);\n",
              "        const docLink = document.createElement('div');\n",
              "        docLink.innerHTML = docLinkHtml;\n",
              "        element.appendChild(docLink);\n",
              "      }\n",
              "    </script>\n",
              "  </div>\n",
              "\n",
              "\n",
              "<div id=\"df-2c9fe35b-ab24-40c3-a9b3-4b913516876a\">\n",
              "  <button class=\"colab-df-quickchart\" onclick=\"quickchart('df-2c9fe35b-ab24-40c3-a9b3-4b913516876a')\"\n",
              "            title=\"Suggest charts\"\n",
              "            style=\"display:none;\">\n",
              "\n",
              "<svg xmlns=\"http://www.w3.org/2000/svg\" height=\"24px\"viewBox=\"0 0 24 24\"\n",
              "     width=\"24px\">\n",
              "    <g>\n",
              "        <path d=\"M19 3H5c-1.1 0-2 .9-2 2v14c0 1.1.9 2 2 2h14c1.1 0 2-.9 2-2V5c0-1.1-.9-2-2-2zM9 17H7v-7h2v7zm4 0h-2V7h2v10zm4 0h-2v-4h2v4z\"/>\n",
              "    </g>\n",
              "</svg>\n",
              "  </button>\n",
              "\n",
              "<style>\n",
              "  .colab-df-quickchart {\n",
              "      --bg-color: #E8F0FE;\n",
              "      --fill-color: #1967D2;\n",
              "      --hover-bg-color: #E2EBFA;\n",
              "      --hover-fill-color: #174EA6;\n",
              "      --disabled-fill-color: #AAA;\n",
              "      --disabled-bg-color: #DDD;\n",
              "  }\n",
              "\n",
              "  [theme=dark] .colab-df-quickchart {\n",
              "      --bg-color: #3B4455;\n",
              "      --fill-color: #D2E3FC;\n",
              "      --hover-bg-color: #434B5C;\n",
              "      --hover-fill-color: #FFFFFF;\n",
              "      --disabled-bg-color: #3B4455;\n",
              "      --disabled-fill-color: #666;\n",
              "  }\n",
              "\n",
              "  .colab-df-quickchart {\n",
              "    background-color: var(--bg-color);\n",
              "    border: none;\n",
              "    border-radius: 50%;\n",
              "    cursor: pointer;\n",
              "    display: none;\n",
              "    fill: var(--fill-color);\n",
              "    height: 32px;\n",
              "    padding: 0;\n",
              "    width: 32px;\n",
              "  }\n",
              "\n",
              "  .colab-df-quickchart:hover {\n",
              "    background-color: var(--hover-bg-color);\n",
              "    box-shadow: 0 1px 2px rgba(60, 64, 67, 0.3), 0 1px 3px 1px rgba(60, 64, 67, 0.15);\n",
              "    fill: var(--button-hover-fill-color);\n",
              "  }\n",
              "\n",
              "  .colab-df-quickchart-complete:disabled,\n",
              "  .colab-df-quickchart-complete:disabled:hover {\n",
              "    background-color: var(--disabled-bg-color);\n",
              "    fill: var(--disabled-fill-color);\n",
              "    box-shadow: none;\n",
              "  }\n",
              "\n",
              "  .colab-df-spinner {\n",
              "    border: 2px solid var(--fill-color);\n",
              "    border-color: transparent;\n",
              "    border-bottom-color: var(--fill-color);\n",
              "    animation:\n",
              "      spin 1s steps(1) infinite;\n",
              "  }\n",
              "\n",
              "  @keyframes spin {\n",
              "    0% {\n",
              "      border-color: transparent;\n",
              "      border-bottom-color: var(--fill-color);\n",
              "      border-left-color: var(--fill-color);\n",
              "    }\n",
              "    20% {\n",
              "      border-color: transparent;\n",
              "      border-left-color: var(--fill-color);\n",
              "      border-top-color: var(--fill-color);\n",
              "    }\n",
              "    30% {\n",
              "      border-color: transparent;\n",
              "      border-left-color: var(--fill-color);\n",
              "      border-top-color: var(--fill-color);\n",
              "      border-right-color: var(--fill-color);\n",
              "    }\n",
              "    40% {\n",
              "      border-color: transparent;\n",
              "      border-right-color: var(--fill-color);\n",
              "      border-top-color: var(--fill-color);\n",
              "    }\n",
              "    60% {\n",
              "      border-color: transparent;\n",
              "      border-right-color: var(--fill-color);\n",
              "    }\n",
              "    80% {\n",
              "      border-color: transparent;\n",
              "      border-right-color: var(--fill-color);\n",
              "      border-bottom-color: var(--fill-color);\n",
              "    }\n",
              "    90% {\n",
              "      border-color: transparent;\n",
              "      border-bottom-color: var(--fill-color);\n",
              "    }\n",
              "  }\n",
              "</style>\n",
              "\n",
              "  <script>\n",
              "    async function quickchart(key) {\n",
              "      const quickchartButtonEl =\n",
              "        document.querySelector('#' + key + ' button');\n",
              "      quickchartButtonEl.disabled = true;  // To prevent multiple clicks.\n",
              "      quickchartButtonEl.classList.add('colab-df-spinner');\n",
              "      try {\n",
              "        const charts = await google.colab.kernel.invokeFunction(\n",
              "            'suggestCharts', [key], {});\n",
              "      } catch (error) {\n",
              "        console.error('Error during call to suggestCharts:', error);\n",
              "      }\n",
              "      quickchartButtonEl.classList.remove('colab-df-spinner');\n",
              "      quickchartButtonEl.classList.add('colab-df-quickchart-complete');\n",
              "    }\n",
              "    (() => {\n",
              "      let quickchartButtonEl =\n",
              "        document.querySelector('#df-2c9fe35b-ab24-40c3-a9b3-4b913516876a button');\n",
              "      quickchartButtonEl.style.display =\n",
              "        google.colab.kernel.accessAllowed ? 'block' : 'none';\n",
              "    })();\n",
              "  </script>\n",
              "</div>\n",
              "    </div>\n",
              "  </div>\n"
            ],
            "application/vnd.google.colaboratory.intrinsic+json": {
              "type": "dataframe",
              "variable_name": "df",
              "summary": "{\n  \"name\": \"df\",\n  \"rows\": 699,\n  \"fields\": [\n    {\n      \"column\": \"ID\",\n      \"properties\": {\n        \"dtype\": \"number\",\n        \"std\": 617095,\n        \"min\": 61634,\n        \"max\": 13454352,\n        \"num_unique_values\": 645,\n        \"samples\": [\n          1371920,\n          1277792,\n          1311108\n        ],\n        \"semantic_type\": \"\",\n        \"description\": \"\"\n      }\n    },\n    {\n      \"column\": \"Clump\",\n      \"properties\": {\n        \"dtype\": \"number\",\n        \"std\": 2,\n        \"min\": 1,\n        \"max\": 10,\n        \"num_unique_values\": 10,\n        \"samples\": [\n          10,\n          3,\n          1\n        ],\n        \"semantic_type\": \"\",\n        \"description\": \"\"\n      }\n    },\n    {\n      \"column\": \"UnifSize\",\n      \"properties\": {\n        \"dtype\": \"number\",\n        \"std\": 3,\n        \"min\": 1,\n        \"max\": 10,\n        \"num_unique_values\": 10,\n        \"samples\": [\n          6,\n          4,\n          3\n        ],\n        \"semantic_type\": \"\",\n        \"description\": \"\"\n      }\n    },\n    {\n      \"column\": \"UnifShape\",\n      \"properties\": {\n        \"dtype\": \"number\",\n        \"std\": 2,\n        \"min\": 1,\n        \"max\": 10,\n        \"num_unique_values\": 10,\n        \"samples\": [\n          7,\n          4,\n          3\n        ],\n        \"semantic_type\": \"\",\n        \"description\": \"\"\n      }\n    },\n    {\n      \"column\": \"MargAdh\",\n      \"properties\": {\n        \"dtype\": \"number\",\n        \"std\": 2,\n        \"min\": 1,\n        \"max\": 10,\n        \"num_unique_values\": 10,\n        \"samples\": [\n          9,\n          5,\n          4\n        ],\n        \"semantic_type\": \"\",\n        \"description\": \"\"\n      }\n    },\n    {\n      \"column\": \"SingEpiSize\",\n      \"properties\": {\n        \"dtype\": \"number\",\n        \"std\": 2,\n        \"min\": 1,\n        \"max\": 10,\n        \"num_unique_values\": 10,\n        \"samples\": [\n          10,\n          7,\n          4\n        ],\n        \"semantic_type\": \"\",\n        \"description\": \"\"\n      }\n    },\n    {\n      \"column\": \"BareNuc\",\n      \"properties\": {\n        \"dtype\": \"category\",\n        \"num_unique_values\": 11,\n        \"samples\": [\n          \"9\",\n          \"1\",\n          \"8\"\n        ],\n        \"semantic_type\": \"\",\n        \"description\": \"\"\n      }\n    },\n    {\n      \"column\": \"BlandChrom\",\n      \"properties\": {\n        \"dtype\": \"number\",\n        \"std\": 2,\n        \"min\": 1,\n        \"max\": 10,\n        \"num_unique_values\": 10,\n        \"samples\": [\n          6,\n          9,\n          5\n        ],\n        \"semantic_type\": \"\",\n        \"description\": \"\"\n      }\n    },\n    {\n      \"column\": \"NormNucl\",\n      \"properties\": {\n        \"dtype\": \"number\",\n        \"std\": 3,\n        \"min\": 1,\n        \"max\": 10,\n        \"num_unique_values\": 10,\n        \"samples\": [\n          9,\n          2,\n          3\n        ],\n        \"semantic_type\": \"\",\n        \"description\": \"\"\n      }\n    },\n    {\n      \"column\": \"Mit\",\n      \"properties\": {\n        \"dtype\": \"number\",\n        \"std\": 1,\n        \"min\": 1,\n        \"max\": 10,\n        \"num_unique_values\": 9,\n        \"samples\": [\n          8,\n          5,\n          7\n        ],\n        \"semantic_type\": \"\",\n        \"description\": \"\"\n      }\n    },\n    {\n      \"column\": \"Class\",\n      \"properties\": {\n        \"dtype\": \"number\",\n        \"std\": 0,\n        \"min\": 2,\n        \"max\": 4,\n        \"num_unique_values\": 2,\n        \"samples\": [\n          4,\n          2\n        ],\n        \"semantic_type\": \"\",\n        \"description\": \"\"\n      }\n    }\n  ]\n}"
            }
          },
          "metadata": {},
          "execution_count": 41
        }
      ],
      "source": [
        "df = pd.read_csv(\"https://cf-courses-data.s3.us.cloud-object-storage.appdomain.cloud/IBMDeveloperSkillsNetwork-ML0101EN-SkillsNetwork/labs/Module%203/data/cell_samples.csv\")\n",
        "\n",
        "df.head()"
      ],
      "execution_count": 41
    },
    {
      "cell_type": "markdown",
      "metadata": {
        "id": "4a3c366e-ac52-4fad-a9f6-f1c36ad3fd89"
      },
      "source": [
        "Now lets remove rows that have a ? in the <code>BareNuc</code> column:\n"
      ]
    },
    {
      "cell_type": "code",
      "metadata": {
        "id": "196663de-f104-49c4-a760-732f4813d2a0"
      },
      "outputs": [],
      "source": [
        "df= df[pd.to_numeric(df['BareNuc'], errors='coerce').notnull()]"
      ],
      "execution_count": 42
    },
    {
      "cell_type": "markdown",
      "metadata": {
        "id": "07a52e61-9df1-4740-86e7-043065c6e991"
      },
      "source": [
        "We obtain the features:\n"
      ]
    },
    {
      "cell_type": "code",
      "metadata": {
        "colab": {
          "base_uri": "https://localhost:8080/",
          "height": 206
        },
        "id": "fc0ac91d-f470-4d9e-bfb7-c2d90e1965a3",
        "outputId": "c9161142-922b-43b5-9b45-1a9deb7cbd01"
      },
      "outputs": [
        {
          "output_type": "execute_result",
          "data": {
            "text/plain": [
              "   Clump  UnifSize  UnifShape  MargAdh  SingEpiSize BareNuc  BlandChrom  \\\n",
              "0      5         1          1        1            2       1           3   \n",
              "1      5         4          4        5            7      10           3   \n",
              "2      3         1          1        1            2       2           3   \n",
              "3      6         8          8        1            3       4           3   \n",
              "4      4         1          1        3            2       1           3   \n",
              "\n",
              "   NormNucl  Mit  \n",
              "0         1    1  \n",
              "1         2    1  \n",
              "2         1    1  \n",
              "3         7    1  \n",
              "4         1    1  "
            ],
            "text/html": [
              "\n",
              "  <div id=\"df-853a271e-d7f5-4f12-aba1-d4437f8ac934\" class=\"colab-df-container\">\n",
              "    <div>\n",
              "<style scoped>\n",
              "    .dataframe tbody tr th:only-of-type {\n",
              "        vertical-align: middle;\n",
              "    }\n",
              "\n",
              "    .dataframe tbody tr th {\n",
              "        vertical-align: top;\n",
              "    }\n",
              "\n",
              "    .dataframe thead th {\n",
              "        text-align: right;\n",
              "    }\n",
              "</style>\n",
              "<table border=\"1\" class=\"dataframe\">\n",
              "  <thead>\n",
              "    <tr style=\"text-align: right;\">\n",
              "      <th></th>\n",
              "      <th>Clump</th>\n",
              "      <th>UnifSize</th>\n",
              "      <th>UnifShape</th>\n",
              "      <th>MargAdh</th>\n",
              "      <th>SingEpiSize</th>\n",
              "      <th>BareNuc</th>\n",
              "      <th>BlandChrom</th>\n",
              "      <th>NormNucl</th>\n",
              "      <th>Mit</th>\n",
              "    </tr>\n",
              "  </thead>\n",
              "  <tbody>\n",
              "    <tr>\n",
              "      <th>0</th>\n",
              "      <td>5</td>\n",
              "      <td>1</td>\n",
              "      <td>1</td>\n",
              "      <td>1</td>\n",
              "      <td>2</td>\n",
              "      <td>1</td>\n",
              "      <td>3</td>\n",
              "      <td>1</td>\n",
              "      <td>1</td>\n",
              "    </tr>\n",
              "    <tr>\n",
              "      <th>1</th>\n",
              "      <td>5</td>\n",
              "      <td>4</td>\n",
              "      <td>4</td>\n",
              "      <td>5</td>\n",
              "      <td>7</td>\n",
              "      <td>10</td>\n",
              "      <td>3</td>\n",
              "      <td>2</td>\n",
              "      <td>1</td>\n",
              "    </tr>\n",
              "    <tr>\n",
              "      <th>2</th>\n",
              "      <td>3</td>\n",
              "      <td>1</td>\n",
              "      <td>1</td>\n",
              "      <td>1</td>\n",
              "      <td>2</td>\n",
              "      <td>2</td>\n",
              "      <td>3</td>\n",
              "      <td>1</td>\n",
              "      <td>1</td>\n",
              "    </tr>\n",
              "    <tr>\n",
              "      <th>3</th>\n",
              "      <td>6</td>\n",
              "      <td>8</td>\n",
              "      <td>8</td>\n",
              "      <td>1</td>\n",
              "      <td>3</td>\n",
              "      <td>4</td>\n",
              "      <td>3</td>\n",
              "      <td>7</td>\n",
              "      <td>1</td>\n",
              "    </tr>\n",
              "    <tr>\n",
              "      <th>4</th>\n",
              "      <td>4</td>\n",
              "      <td>1</td>\n",
              "      <td>1</td>\n",
              "      <td>3</td>\n",
              "      <td>2</td>\n",
              "      <td>1</td>\n",
              "      <td>3</td>\n",
              "      <td>1</td>\n",
              "      <td>1</td>\n",
              "    </tr>\n",
              "  </tbody>\n",
              "</table>\n",
              "</div>\n",
              "    <div class=\"colab-df-buttons\">\n",
              "\n",
              "  <div class=\"colab-df-container\">\n",
              "    <button class=\"colab-df-convert\" onclick=\"convertToInteractive('df-853a271e-d7f5-4f12-aba1-d4437f8ac934')\"\n",
              "            title=\"Convert this dataframe to an interactive table.\"\n",
              "            style=\"display:none;\">\n",
              "\n",
              "  <svg xmlns=\"http://www.w3.org/2000/svg\" height=\"24px\" viewBox=\"0 -960 960 960\">\n",
              "    <path d=\"M120-120v-720h720v720H120Zm60-500h600v-160H180v160Zm220 220h160v-160H400v160Zm0 220h160v-160H400v160ZM180-400h160v-160H180v160Zm440 0h160v-160H620v160ZM180-180h160v-160H180v160Zm440 0h160v-160H620v160Z\"/>\n",
              "  </svg>\n",
              "    </button>\n",
              "\n",
              "  <style>\n",
              "    .colab-df-container {\n",
              "      display:flex;\n",
              "      gap: 12px;\n",
              "    }\n",
              "\n",
              "    .colab-df-convert {\n",
              "      background-color: #E8F0FE;\n",
              "      border: none;\n",
              "      border-radius: 50%;\n",
              "      cursor: pointer;\n",
              "      display: none;\n",
              "      fill: #1967D2;\n",
              "      height: 32px;\n",
              "      padding: 0 0 0 0;\n",
              "      width: 32px;\n",
              "    }\n",
              "\n",
              "    .colab-df-convert:hover {\n",
              "      background-color: #E2EBFA;\n",
              "      box-shadow: 0px 1px 2px rgba(60, 64, 67, 0.3), 0px 1px 3px 1px rgba(60, 64, 67, 0.15);\n",
              "      fill: #174EA6;\n",
              "    }\n",
              "\n",
              "    .colab-df-buttons div {\n",
              "      margin-bottom: 4px;\n",
              "    }\n",
              "\n",
              "    [theme=dark] .colab-df-convert {\n",
              "      background-color: #3B4455;\n",
              "      fill: #D2E3FC;\n",
              "    }\n",
              "\n",
              "    [theme=dark] .colab-df-convert:hover {\n",
              "      background-color: #434B5C;\n",
              "      box-shadow: 0px 1px 3px 1px rgba(0, 0, 0, 0.15);\n",
              "      filter: drop-shadow(0px 1px 2px rgba(0, 0, 0, 0.3));\n",
              "      fill: #FFFFFF;\n",
              "    }\n",
              "  </style>\n",
              "\n",
              "    <script>\n",
              "      const buttonEl =\n",
              "        document.querySelector('#df-853a271e-d7f5-4f12-aba1-d4437f8ac934 button.colab-df-convert');\n",
              "      buttonEl.style.display =\n",
              "        google.colab.kernel.accessAllowed ? 'block' : 'none';\n",
              "\n",
              "      async function convertToInteractive(key) {\n",
              "        const element = document.querySelector('#df-853a271e-d7f5-4f12-aba1-d4437f8ac934');\n",
              "        const dataTable =\n",
              "          await google.colab.kernel.invokeFunction('convertToInteractive',\n",
              "                                                    [key], {});\n",
              "        if (!dataTable) return;\n",
              "\n",
              "        const docLinkHtml = 'Like what you see? Visit the ' +\n",
              "          '<a target=\"_blank\" href=https://colab.research.google.com/notebooks/data_table.ipynb>data table notebook</a>'\n",
              "          + ' to learn more about interactive tables.';\n",
              "        element.innerHTML = '';\n",
              "        dataTable['output_type'] = 'display_data';\n",
              "        await google.colab.output.renderOutput(dataTable, element);\n",
              "        const docLink = document.createElement('div');\n",
              "        docLink.innerHTML = docLinkHtml;\n",
              "        element.appendChild(docLink);\n",
              "      }\n",
              "    </script>\n",
              "  </div>\n",
              "\n",
              "\n",
              "<div id=\"df-cfff7820-5067-455c-b727-eeb46e048538\">\n",
              "  <button class=\"colab-df-quickchart\" onclick=\"quickchart('df-cfff7820-5067-455c-b727-eeb46e048538')\"\n",
              "            title=\"Suggest charts\"\n",
              "            style=\"display:none;\">\n",
              "\n",
              "<svg xmlns=\"http://www.w3.org/2000/svg\" height=\"24px\"viewBox=\"0 0 24 24\"\n",
              "     width=\"24px\">\n",
              "    <g>\n",
              "        <path d=\"M19 3H5c-1.1 0-2 .9-2 2v14c0 1.1.9 2 2 2h14c1.1 0 2-.9 2-2V5c0-1.1-.9-2-2-2zM9 17H7v-7h2v7zm4 0h-2V7h2v10zm4 0h-2v-4h2v4z\"/>\n",
              "    </g>\n",
              "</svg>\n",
              "  </button>\n",
              "\n",
              "<style>\n",
              "  .colab-df-quickchart {\n",
              "      --bg-color: #E8F0FE;\n",
              "      --fill-color: #1967D2;\n",
              "      --hover-bg-color: #E2EBFA;\n",
              "      --hover-fill-color: #174EA6;\n",
              "      --disabled-fill-color: #AAA;\n",
              "      --disabled-bg-color: #DDD;\n",
              "  }\n",
              "\n",
              "  [theme=dark] .colab-df-quickchart {\n",
              "      --bg-color: #3B4455;\n",
              "      --fill-color: #D2E3FC;\n",
              "      --hover-bg-color: #434B5C;\n",
              "      --hover-fill-color: #FFFFFF;\n",
              "      --disabled-bg-color: #3B4455;\n",
              "      --disabled-fill-color: #666;\n",
              "  }\n",
              "\n",
              "  .colab-df-quickchart {\n",
              "    background-color: var(--bg-color);\n",
              "    border: none;\n",
              "    border-radius: 50%;\n",
              "    cursor: pointer;\n",
              "    display: none;\n",
              "    fill: var(--fill-color);\n",
              "    height: 32px;\n",
              "    padding: 0;\n",
              "    width: 32px;\n",
              "  }\n",
              "\n",
              "  .colab-df-quickchart:hover {\n",
              "    background-color: var(--hover-bg-color);\n",
              "    box-shadow: 0 1px 2px rgba(60, 64, 67, 0.3), 0 1px 3px 1px rgba(60, 64, 67, 0.15);\n",
              "    fill: var(--button-hover-fill-color);\n",
              "  }\n",
              "\n",
              "  .colab-df-quickchart-complete:disabled,\n",
              "  .colab-df-quickchart-complete:disabled:hover {\n",
              "    background-color: var(--disabled-bg-color);\n",
              "    fill: var(--disabled-fill-color);\n",
              "    box-shadow: none;\n",
              "  }\n",
              "\n",
              "  .colab-df-spinner {\n",
              "    border: 2px solid var(--fill-color);\n",
              "    border-color: transparent;\n",
              "    border-bottom-color: var(--fill-color);\n",
              "    animation:\n",
              "      spin 1s steps(1) infinite;\n",
              "  }\n",
              "\n",
              "  @keyframes spin {\n",
              "    0% {\n",
              "      border-color: transparent;\n",
              "      border-bottom-color: var(--fill-color);\n",
              "      border-left-color: var(--fill-color);\n",
              "    }\n",
              "    20% {\n",
              "      border-color: transparent;\n",
              "      border-left-color: var(--fill-color);\n",
              "      border-top-color: var(--fill-color);\n",
              "    }\n",
              "    30% {\n",
              "      border-color: transparent;\n",
              "      border-left-color: var(--fill-color);\n",
              "      border-top-color: var(--fill-color);\n",
              "      border-right-color: var(--fill-color);\n",
              "    }\n",
              "    40% {\n",
              "      border-color: transparent;\n",
              "      border-right-color: var(--fill-color);\n",
              "      border-top-color: var(--fill-color);\n",
              "    }\n",
              "    60% {\n",
              "      border-color: transparent;\n",
              "      border-right-color: var(--fill-color);\n",
              "    }\n",
              "    80% {\n",
              "      border-color: transparent;\n",
              "      border-right-color: var(--fill-color);\n",
              "      border-bottom-color: var(--fill-color);\n",
              "    }\n",
              "    90% {\n",
              "      border-color: transparent;\n",
              "      border-bottom-color: var(--fill-color);\n",
              "    }\n",
              "  }\n",
              "</style>\n",
              "\n",
              "  <script>\n",
              "    async function quickchart(key) {\n",
              "      const quickchartButtonEl =\n",
              "        document.querySelector('#' + key + ' button');\n",
              "      quickchartButtonEl.disabled = true;  // To prevent multiple clicks.\n",
              "      quickchartButtonEl.classList.add('colab-df-spinner');\n",
              "      try {\n",
              "        const charts = await google.colab.kernel.invokeFunction(\n",
              "            'suggestCharts', [key], {});\n",
              "      } catch (error) {\n",
              "        console.error('Error during call to suggestCharts:', error);\n",
              "      }\n",
              "      quickchartButtonEl.classList.remove('colab-df-spinner');\n",
              "      quickchartButtonEl.classList.add('colab-df-quickchart-complete');\n",
              "    }\n",
              "    (() => {\n",
              "      let quickchartButtonEl =\n",
              "        document.querySelector('#df-cfff7820-5067-455c-b727-eeb46e048538 button');\n",
              "      quickchartButtonEl.style.display =\n",
              "        google.colab.kernel.accessAllowed ? 'block' : 'none';\n",
              "    })();\n",
              "  </script>\n",
              "</div>\n",
              "    </div>\n",
              "  </div>\n"
            ],
            "application/vnd.google.colaboratory.intrinsic+json": {
              "type": "dataframe",
              "variable_name": "X",
              "summary": "{\n  \"name\": \"X\",\n  \"rows\": 683,\n  \"fields\": [\n    {\n      \"column\": \"Clump\",\n      \"properties\": {\n        \"dtype\": \"number\",\n        \"std\": 2,\n        \"min\": 1,\n        \"max\": 10,\n        \"num_unique_values\": 10,\n        \"samples\": [\n          10,\n          3,\n          1\n        ],\n        \"semantic_type\": \"\",\n        \"description\": \"\"\n      }\n    },\n    {\n      \"column\": \"UnifSize\",\n      \"properties\": {\n        \"dtype\": \"number\",\n        \"std\": 3,\n        \"min\": 1,\n        \"max\": 10,\n        \"num_unique_values\": 10,\n        \"samples\": [\n          6,\n          4,\n          3\n        ],\n        \"semantic_type\": \"\",\n        \"description\": \"\"\n      }\n    },\n    {\n      \"column\": \"UnifShape\",\n      \"properties\": {\n        \"dtype\": \"number\",\n        \"std\": 2,\n        \"min\": 1,\n        \"max\": 10,\n        \"num_unique_values\": 10,\n        \"samples\": [\n          7,\n          4,\n          3\n        ],\n        \"semantic_type\": \"\",\n        \"description\": \"\"\n      }\n    },\n    {\n      \"column\": \"MargAdh\",\n      \"properties\": {\n        \"dtype\": \"number\",\n        \"std\": 2,\n        \"min\": 1,\n        \"max\": 10,\n        \"num_unique_values\": 10,\n        \"samples\": [\n          9,\n          5,\n          4\n        ],\n        \"semantic_type\": \"\",\n        \"description\": \"\"\n      }\n    },\n    {\n      \"column\": \"SingEpiSize\",\n      \"properties\": {\n        \"dtype\": \"number\",\n        \"std\": 2,\n        \"min\": 1,\n        \"max\": 10,\n        \"num_unique_values\": 10,\n        \"samples\": [\n          10,\n          7,\n          4\n        ],\n        \"semantic_type\": \"\",\n        \"description\": \"\"\n      }\n    },\n    {\n      \"column\": \"BareNuc\",\n      \"properties\": {\n        \"dtype\": \"category\",\n        \"num_unique_values\": 10,\n        \"samples\": [\n          \"8\",\n          \"10\",\n          \"9\"\n        ],\n        \"semantic_type\": \"\",\n        \"description\": \"\"\n      }\n    },\n    {\n      \"column\": \"BlandChrom\",\n      \"properties\": {\n        \"dtype\": \"number\",\n        \"std\": 2,\n        \"min\": 1,\n        \"max\": 10,\n        \"num_unique_values\": 10,\n        \"samples\": [\n          6,\n          9,\n          5\n        ],\n        \"semantic_type\": \"\",\n        \"description\": \"\"\n      }\n    },\n    {\n      \"column\": \"NormNucl\",\n      \"properties\": {\n        \"dtype\": \"number\",\n        \"std\": 3,\n        \"min\": 1,\n        \"max\": 10,\n        \"num_unique_values\": 10,\n        \"samples\": [\n          9,\n          2,\n          3\n        ],\n        \"semantic_type\": \"\",\n        \"description\": \"\"\n      }\n    },\n    {\n      \"column\": \"Mit\",\n      \"properties\": {\n        \"dtype\": \"number\",\n        \"std\": 1,\n        \"min\": 1,\n        \"max\": 10,\n        \"num_unique_values\": 9,\n        \"samples\": [\n          8,\n          5,\n          7\n        ],\n        \"semantic_type\": \"\",\n        \"description\": \"\"\n      }\n    }\n  ]\n}"
            }
          },
          "metadata": {},
          "execution_count": 43
        }
      ],
      "source": [
        "X =  df[['Clump', 'UnifSize', 'UnifShape', 'MargAdh', 'SingEpiSize', 'BareNuc', 'BlandChrom', 'NormNucl', 'Mit']]\n",
        "\n",
        "X.head()"
      ],
      "execution_count": 43
    },
    {
      "cell_type": "code",
      "metadata": {
        "id": "b50a9b67-83b1-4aa2-9738-ee065d91b750"
      },
      "outputs": [],
      "source": [
        "X=X.astype('int64')"
      ],
      "execution_count": 44
    },
    {
      "cell_type": "markdown",
      "metadata": {
        "id": "ba81b248-4d10-43b1-96a3-f4fc9db7832d"
      },
      "source": [
        "We obtain the class labels:\n"
      ]
    },
    {
      "cell_type": "code",
      "metadata": {
        "colab": {
          "base_uri": "https://localhost:8080/"
        },
        "id": "cbaf4aa7-17e4-4835-bb23-df8b98a7aa6f",
        "outputId": "8bd347da-a986-4da7-b84b-8a4865eaeaaf"
      },
      "outputs": [
        {
          "output_type": "execute_result",
          "data": {
            "text/plain": [
              "array([2, 4])"
            ]
          },
          "metadata": {},
          "execution_count": 45
        }
      ],
      "source": [
        "y=df['Class']\n",
        "y.unique()"
      ],
      "execution_count": 45
    },
    {
      "cell_type": "markdown",
      "metadata": {
        "id": "7c7c3261-5752-46db-a47f-2f21211a087e"
      },
      "source": [
        "We split the data into training and testing sets.\n"
      ]
    },
    {
      "cell_type": "code",
      "metadata": {
        "colab": {
          "base_uri": "https://localhost:8080/"
        },
        "id": "c31b4786-30b9-4b9d-909a-97a455f9b44f",
        "outputId": "41cf1911-da24-4cd4-a7b7-26bdf679dd56"
      },
      "outputs": [
        {
          "output_type": "stream",
          "name": "stdout",
          "text": [
            "Train set: (546, 9) (546,)\n",
            "Test set: (137, 9) (137,)\n"
          ]
        }
      ],
      "source": [
        "X_train, X_test, y_train, y_test = train_test_split( X, y, test_size=0.2, random_state=4)\n",
        "print ('Train set:', X_train.shape,  y_train.shape)\n",
        "print ('Test set:', X_test.shape,  y_test.shape)"
      ],
      "execution_count": 46
    },
    {
      "cell_type": "markdown",
      "metadata": {
        "id": "a2d39e09-375d-4b0b-8f92-c9892f72bf2e"
      },
      "source": [
        "We use <code>GridSearchCV</code> to search over specified parameter values of the model.\n"
      ]
    },
    {
      "cell_type": "code",
      "metadata": {
        "id": "ba951e34-8ad8-44d8-ae17-0cbf9a3302b3"
      },
      "outputs": [],
      "source": [
        "from sklearn.model_selection import GridSearchCV"
      ],
      "execution_count": 47
    },
    {
      "cell_type": "markdown",
      "metadata": {
        "id": "3ee5bf1c-418e-43fc-96cb-8808e2cb22d0"
      },
      "source": [
        "We create a <code>AdaBoost</code> object and list the parameters using the method <code>get_params()</code>:\n"
      ]
    },
    {
      "cell_type": "code",
      "metadata": {
        "id": "e6a3fa4c-bdd6-419d-bda8-214eda4942c1"
      },
      "outputs": [],
      "source": [
        "model =XGBClassifier(objective='binary:logistic',eval_metric='mlogloss')\n"
      ],
      "execution_count": 48
    },
    {
      "cell_type": "markdown",
      "metadata": {
        "id": "884a4f93-127f-465a-a51d-342a574c0caa"
      },
      "source": [
        "We can use GridSearch for Exhaustive search over specified parameter values. We see many of the parameters are similar to Classification trees; let's try different parameters for <code>learning_rate</code> and <code>n_estimators</code> .\n"
      ]
    },
    {
      "cell_type": "code",
      "metadata": {
        "colab": {
          "base_uri": "https://localhost:8080/"
        },
        "id": "cda697e5-9339-4dbe-b498-7f22b203a64b",
        "outputId": "8c0e3393-d7c1-4829-ef84-7532c78c7683"
      },
      "outputs": [
        {
          "output_type": "execute_result",
          "data": {
            "text/plain": [
              "{'learning_rate': [0.1, 0.2, 0.30000000000000004, 0.4, 0.5],\n",
              " 'n_estimators': [1, 3, 5, 7, 9]}"
            ]
          },
          "metadata": {},
          "execution_count": 49
        }
      ],
      "source": [
        "param_grid = {'learning_rate': [0.1*(n+1) for n in range(5)],\n",
        "             'n_estimators' : [2*n+1 for n in range(5)]}\n",
        "\n",
        "param_grid"
      ],
      "execution_count": 49
    },
    {
      "cell_type": "markdown",
      "metadata": {
        "id": "7627e196-6d19-48bc-aa9b-461db56bdefc"
      },
      "source": [
        "We create the Grid Search object and fit it (this may take some time):\n"
      ]
    },
    {
      "cell_type": "code",
      "metadata": {
        "colab": {
          "base_uri": "https://localhost:8080/",
          "height": 564
        },
        "id": "2c87b8b9-ec0b-48c6-8431-068fdc8d2138",
        "outputId": "2869654b-5c85-4823-be54-e2b6971cb980"
      },
      "outputs": [
        {
          "output_type": "error",
          "ename": "ValueError",
          "evalue": "\nAll the 125 fits failed.\nIt is very likely that your model is misconfigured.\nYou can try to debug the error by setting error_score='raise'.\n\nBelow are more details about the failures:\n--------------------------------------------------------------------------------\n125 fits failed with the following error:\nTraceback (most recent call last):\n  File \"/usr/local/lib/python3.10/dist-packages/sklearn/model_selection/_validation.py\", line 686, in _fit_and_score\n    estimator.fit(X_train, y_train, **fit_params)\n  File \"/usr/local/lib/python3.10/dist-packages/xgboost/core.py\", line 730, in inner_f\n    return func(**kwargs)\n  File \"/usr/local/lib/python3.10/dist-packages/xgboost/sklearn.py\", line 1471, in fit\n    raise ValueError(\nValueError: Invalid classes inferred from unique values of `y`.  Expected: [0 1], got [2 4]\n",
          "traceback": [
            "\u001b[0;31m---------------------------------------------------------------------------\u001b[0m",
            "\u001b[0;31mValueError\u001b[0m                                Traceback (most recent call last)",
            "\u001b[0;32m<ipython-input-50-1da67c10c7da>\u001b[0m in \u001b[0;36m<cell line: 2>\u001b[0;34m()\u001b[0m\n\u001b[1;32m      1\u001b[0m \u001b[0msearch\u001b[0m \u001b[0;34m=\u001b[0m \u001b[0mGridSearchCV\u001b[0m\u001b[0;34m(\u001b[0m\u001b[0mestimator\u001b[0m\u001b[0;34m=\u001b[0m\u001b[0mmodel\u001b[0m\u001b[0;34m,\u001b[0m \u001b[0mparam_grid\u001b[0m\u001b[0;34m=\u001b[0m\u001b[0mparam_grid\u001b[0m\u001b[0;34m,\u001b[0m\u001b[0mscoring\u001b[0m\u001b[0;34m=\u001b[0m\u001b[0;34m\"neg_log_loss\"\u001b[0m\u001b[0;34m)\u001b[0m\u001b[0;34m\u001b[0m\u001b[0;34m\u001b[0m\u001b[0m\n\u001b[0;32m----> 2\u001b[0;31m \u001b[0msearch\u001b[0m\u001b[0;34m.\u001b[0m\u001b[0mfit\u001b[0m\u001b[0;34m(\u001b[0m\u001b[0mX_train\u001b[0m\u001b[0;34m,\u001b[0m \u001b[0my_train\u001b[0m\u001b[0;34m)\u001b[0m\u001b[0;34m\u001b[0m\u001b[0;34m\u001b[0m\u001b[0m\n\u001b[0m",
            "\u001b[0;32m/usr/local/lib/python3.10/dist-packages/sklearn/model_selection/_search.py\u001b[0m in \u001b[0;36mfit\u001b[0;34m(self, X, y, groups, **fit_params)\u001b[0m\n\u001b[1;32m    872\u001b[0m                 \u001b[0;32mreturn\u001b[0m \u001b[0mresults\u001b[0m\u001b[0;34m\u001b[0m\u001b[0;34m\u001b[0m\u001b[0m\n\u001b[1;32m    873\u001b[0m \u001b[0;34m\u001b[0m\u001b[0m\n\u001b[0;32m--> 874\u001b[0;31m             \u001b[0mself\u001b[0m\u001b[0;34m.\u001b[0m\u001b[0m_run_search\u001b[0m\u001b[0;34m(\u001b[0m\u001b[0mevaluate_candidates\u001b[0m\u001b[0;34m)\u001b[0m\u001b[0;34m\u001b[0m\u001b[0;34m\u001b[0m\u001b[0m\n\u001b[0m\u001b[1;32m    875\u001b[0m \u001b[0;34m\u001b[0m\u001b[0m\n\u001b[1;32m    876\u001b[0m             \u001b[0;31m# multimetric is determined here because in the case of a callable\u001b[0m\u001b[0;34m\u001b[0m\u001b[0;34m\u001b[0m\u001b[0m\n",
            "\u001b[0;32m/usr/local/lib/python3.10/dist-packages/sklearn/model_selection/_search.py\u001b[0m in \u001b[0;36m_run_search\u001b[0;34m(self, evaluate_candidates)\u001b[0m\n\u001b[1;32m   1386\u001b[0m     \u001b[0;32mdef\u001b[0m \u001b[0m_run_search\u001b[0m\u001b[0;34m(\u001b[0m\u001b[0mself\u001b[0m\u001b[0;34m,\u001b[0m \u001b[0mevaluate_candidates\u001b[0m\u001b[0;34m)\u001b[0m\u001b[0;34m:\u001b[0m\u001b[0;34m\u001b[0m\u001b[0;34m\u001b[0m\u001b[0m\n\u001b[1;32m   1387\u001b[0m         \u001b[0;34m\"\"\"Search all candidates in param_grid\"\"\"\u001b[0m\u001b[0;34m\u001b[0m\u001b[0;34m\u001b[0m\u001b[0m\n\u001b[0;32m-> 1388\u001b[0;31m         \u001b[0mevaluate_candidates\u001b[0m\u001b[0;34m(\u001b[0m\u001b[0mParameterGrid\u001b[0m\u001b[0;34m(\u001b[0m\u001b[0mself\u001b[0m\u001b[0;34m.\u001b[0m\u001b[0mparam_grid\u001b[0m\u001b[0;34m)\u001b[0m\u001b[0;34m)\u001b[0m\u001b[0;34m\u001b[0m\u001b[0;34m\u001b[0m\u001b[0m\n\u001b[0m\u001b[1;32m   1389\u001b[0m \u001b[0;34m\u001b[0m\u001b[0m\n\u001b[1;32m   1390\u001b[0m \u001b[0;34m\u001b[0m\u001b[0m\n",
            "\u001b[0;32m/usr/local/lib/python3.10/dist-packages/sklearn/model_selection/_search.py\u001b[0m in \u001b[0;36mevaluate_candidates\u001b[0;34m(candidate_params, cv, more_results)\u001b[0m\n\u001b[1;32m    849\u001b[0m                     )\n\u001b[1;32m    850\u001b[0m \u001b[0;34m\u001b[0m\u001b[0m\n\u001b[0;32m--> 851\u001b[0;31m                 \u001b[0m_warn_or_raise_about_fit_failures\u001b[0m\u001b[0;34m(\u001b[0m\u001b[0mout\u001b[0m\u001b[0;34m,\u001b[0m \u001b[0mself\u001b[0m\u001b[0;34m.\u001b[0m\u001b[0merror_score\u001b[0m\u001b[0;34m)\u001b[0m\u001b[0;34m\u001b[0m\u001b[0;34m\u001b[0m\u001b[0m\n\u001b[0m\u001b[1;32m    852\u001b[0m \u001b[0;34m\u001b[0m\u001b[0m\n\u001b[1;32m    853\u001b[0m                 \u001b[0;31m# For callable self.scoring, the return type is only know after\u001b[0m\u001b[0;34m\u001b[0m\u001b[0;34m\u001b[0m\u001b[0m\n",
            "\u001b[0;32m/usr/local/lib/python3.10/dist-packages/sklearn/model_selection/_validation.py\u001b[0m in \u001b[0;36m_warn_or_raise_about_fit_failures\u001b[0;34m(results, error_score)\u001b[0m\n\u001b[1;32m    365\u001b[0m                 \u001b[0;34mf\"Below are more details about the failures:\\n{fit_errors_summary}\"\u001b[0m\u001b[0;34m\u001b[0m\u001b[0;34m\u001b[0m\u001b[0m\n\u001b[1;32m    366\u001b[0m             )\n\u001b[0;32m--> 367\u001b[0;31m             \u001b[0;32mraise\u001b[0m \u001b[0mValueError\u001b[0m\u001b[0;34m(\u001b[0m\u001b[0mall_fits_failed_message\u001b[0m\u001b[0;34m)\u001b[0m\u001b[0;34m\u001b[0m\u001b[0;34m\u001b[0m\u001b[0m\n\u001b[0m\u001b[1;32m    368\u001b[0m \u001b[0;34m\u001b[0m\u001b[0m\n\u001b[1;32m    369\u001b[0m         \u001b[0;32melse\u001b[0m\u001b[0;34m:\u001b[0m\u001b[0;34m\u001b[0m\u001b[0;34m\u001b[0m\u001b[0m\n",
            "\u001b[0;31mValueError\u001b[0m: \nAll the 125 fits failed.\nIt is very likely that your model is misconfigured.\nYou can try to debug the error by setting error_score='raise'.\n\nBelow are more details about the failures:\n--------------------------------------------------------------------------------\n125 fits failed with the following error:\nTraceback (most recent call last):\n  File \"/usr/local/lib/python3.10/dist-packages/sklearn/model_selection/_validation.py\", line 686, in _fit_and_score\n    estimator.fit(X_train, y_train, **fit_params)\n  File \"/usr/local/lib/python3.10/dist-packages/xgboost/core.py\", line 730, in inner_f\n    return func(**kwargs)\n  File \"/usr/local/lib/python3.10/dist-packages/xgboost/sklearn.py\", line 1471, in fit\n    raise ValueError(\nValueError: Invalid classes inferred from unique values of `y`.  Expected: [0 1], got [2 4]\n"
          ]
        }
      ],
      "source": [
        "search = GridSearchCV(estimator=model, param_grid=param_grid,scoring=\"neg_log_loss\")\n",
        "search.fit(X_train, y_train)"
      ],
      "execution_count": 50
    },
    {
      "cell_type": "markdown",
      "metadata": {
        "id": "0b64406a-5cdf-4a69-ac38-dd4e278c9ef7"
      },
      "source": [
        "We can see the best accuracy score of the searched parameters was ~96%.\n"
      ]
    },
    {
      "cell_type": "code",
      "metadata": {
        "colab": {
          "base_uri": "https://localhost:8080/",
          "height": 141
        },
        "id": "8156b0b3-b36b-4893-9a8e-2f2d6becc1c0",
        "outputId": "2c294b30-e537-4e91-d35b-f73c0c9a79ff"
      },
      "outputs": [
        {
          "output_type": "error",
          "ename": "AttributeError",
          "evalue": "'GridSearchCV' object has no attribute 'best_score_'",
          "traceback": [
            "\u001b[0;31m---------------------------------------------------------------------------\u001b[0m",
            "\u001b[0;31mAttributeError\u001b[0m                            Traceback (most recent call last)",
            "\u001b[0;32m<ipython-input-51-53ffe6a6d6c0>\u001b[0m in \u001b[0;36m<cell line: 1>\u001b[0;34m()\u001b[0m\n\u001b[0;32m----> 1\u001b[0;31m \u001b[0msearch\u001b[0m\u001b[0;34m.\u001b[0m\u001b[0mbest_score_\u001b[0m\u001b[0;34m\u001b[0m\u001b[0;34m\u001b[0m\u001b[0m\n\u001b[0m",
            "\u001b[0;31mAttributeError\u001b[0m: 'GridSearchCV' object has no attribute 'best_score_'"
          ]
        }
      ],
      "source": [
        "search.best_score_"
      ],
      "execution_count": 51
    },
    {
      "cell_type": "markdown",
      "metadata": {
        "id": "cca96794-b261-4d7e-a6de-17c50105a8c1"
      },
      "source": [
        "The best parameter values are:\n"
      ]
    },
    {
      "cell_type": "code",
      "metadata": {
        "colab": {
          "base_uri": "https://localhost:8080/",
          "height": 141
        },
        "id": "16bff657-6feb-4440-bdde-232f7e85c3ae",
        "outputId": "bc57ccbe-9321-41ee-d545-ece9505f47c8"
      },
      "outputs": [
        {
          "output_type": "error",
          "ename": "AttributeError",
          "evalue": "'GridSearchCV' object has no attribute 'best_params_'",
          "traceback": [
            "\u001b[0;31m---------------------------------------------------------------------------\u001b[0m",
            "\u001b[0;31mAttributeError\u001b[0m                            Traceback (most recent call last)",
            "\u001b[0;32m<ipython-input-52-b2df0f93dfce>\u001b[0m in \u001b[0;36m<cell line: 1>\u001b[0;34m()\u001b[0m\n\u001b[0;32m----> 1\u001b[0;31m \u001b[0msearch\u001b[0m\u001b[0;34m.\u001b[0m\u001b[0mbest_params_\u001b[0m\u001b[0;34m\u001b[0m\u001b[0;34m\u001b[0m\u001b[0m\n\u001b[0m",
            "\u001b[0;31mAttributeError\u001b[0m: 'GridSearchCV' object has no attribute 'best_params_'"
          ]
        }
      ],
      "source": [
        "search.best_params_"
      ],
      "execution_count": 52
    },
    {
      "cell_type": "markdown",
      "metadata": {
        "id": "b9fa45e6-1623-40be-a2b6-d0d516a7ba4b"
      },
      "source": [
        "We can calculate accuracy on the test data using the test data:\n"
      ]
    },
    {
      "cell_type": "code",
      "metadata": {
        "colab": {
          "base_uri": "https://localhost:8080/",
          "height": 141
        },
        "id": "f6e1a10d-54c5-464e-a4e4-6026453f5ff4",
        "outputId": "0b26c3e4-6788-4352-f482-bcc0ae4bc719"
      },
      "outputs": [
        {
          "output_type": "error",
          "ename": "AttributeError",
          "evalue": "'GridSearchCV' object has no attribute 'best_estimator_'",
          "traceback": [
            "\u001b[0;31m---------------------------------------------------------------------------\u001b[0m",
            "\u001b[0;31mAttributeError\u001b[0m                            Traceback (most recent call last)",
            "\u001b[0;32m<ipython-input-53-77d10aa854b4>\u001b[0m in \u001b[0;36m<cell line: 1>\u001b[0;34m()\u001b[0m\n\u001b[0;32m----> 1\u001b[0;31m \u001b[0mprint\u001b[0m\u001b[0;34m(\u001b[0m\u001b[0mget_accuracy\u001b[0m\u001b[0;34m(\u001b[0m\u001b[0mX_train\u001b[0m\u001b[0;34m,\u001b[0m \u001b[0mX_test\u001b[0m\u001b[0;34m,\u001b[0m \u001b[0my_train\u001b[0m\u001b[0;34m,\u001b[0m \u001b[0my_test\u001b[0m\u001b[0;34m,\u001b[0m \u001b[0msearch\u001b[0m\u001b[0;34m.\u001b[0m\u001b[0mbest_estimator_\u001b[0m\u001b[0;34m)\u001b[0m\u001b[0;34m)\u001b[0m\u001b[0;34m\u001b[0m\u001b[0;34m\u001b[0m\u001b[0m\n\u001b[0m",
            "\u001b[0;31mAttributeError\u001b[0m: 'GridSearchCV' object has no attribute 'best_estimator_'"
          ]
        }
      ],
      "source": [
        "print(get_accuracy(X_train, X_test, y_train, y_test, search.best_estimator_))"
      ],
      "execution_count": 53
    },
    {
      "cell_type": "markdown",
      "metadata": {
        "id": "22f6b44a-bb6d-4c9d-8fe5-680fcf75fe94"
      },
      "source": [
        "<h2 id=\"practice\">Practice</h2>\n"
      ]
    },
    {
      "cell_type": "markdown",
      "metadata": {
        "id": "16931694-49ea-435b-803c-1d260ac9dead"
      },
      "source": [
        "Imagine that you are a medical researcher compiling data for a study. You have collected data about a set of patients, all of whom suffered from the same illness. During their course of treatment, each patient responded to one of 5 medications, Drug A, Drug B, Drug C, Drug X and y.\n",
        "\n",
        "Part of your job is to build a model to find out which drug might be appropriate for a future patient with the same illness. The features of this dataset are Age, Sex, Blood Pressure, and the Cholesterol of the patients, and the target is the drug that each patient responded to.\n",
        "\n",
        "It is a sample of multiclass classifier, and you can use the training part of the dataset to build a decision tree, and then use it to predict the class of a unknown patient, or to prescribe a drug to a new patient.\n"
      ]
    },
    {
      "cell_type": "code",
      "metadata": {
        "colab": {
          "base_uri": "https://localhost:8080/",
          "height": 206
        },
        "id": "77687e7a-8144-4574-94da-33734c4003a7",
        "outputId": "bf897a44-7888-4305-bf7c-7253d7d2f538"
      },
      "outputs": [
        {
          "output_type": "execute_result",
          "data": {
            "text/plain": [
              "   Age Sex      BP Cholesterol  Na_to_K   Drug\n",
              "0   23   F    HIGH        HIGH   25.355  drugY\n",
              "1   47   M     LOW        HIGH   13.093  drugC\n",
              "2   47   M     LOW        HIGH   10.114  drugC\n",
              "3   28   F  NORMAL        HIGH    7.798  drugX\n",
              "4   61   F     LOW        HIGH   18.043  drugY"
            ],
            "text/html": [
              "\n",
              "  <div id=\"df-ce38c06f-888d-42d7-bd81-d4cab32007c9\" class=\"colab-df-container\">\n",
              "    <div>\n",
              "<style scoped>\n",
              "    .dataframe tbody tr th:only-of-type {\n",
              "        vertical-align: middle;\n",
              "    }\n",
              "\n",
              "    .dataframe tbody tr th {\n",
              "        vertical-align: top;\n",
              "    }\n",
              "\n",
              "    .dataframe thead th {\n",
              "        text-align: right;\n",
              "    }\n",
              "</style>\n",
              "<table border=\"1\" class=\"dataframe\">\n",
              "  <thead>\n",
              "    <tr style=\"text-align: right;\">\n",
              "      <th></th>\n",
              "      <th>Age</th>\n",
              "      <th>Sex</th>\n",
              "      <th>BP</th>\n",
              "      <th>Cholesterol</th>\n",
              "      <th>Na_to_K</th>\n",
              "      <th>Drug</th>\n",
              "    </tr>\n",
              "  </thead>\n",
              "  <tbody>\n",
              "    <tr>\n",
              "      <th>0</th>\n",
              "      <td>23</td>\n",
              "      <td>F</td>\n",
              "      <td>HIGH</td>\n",
              "      <td>HIGH</td>\n",
              "      <td>25.355</td>\n",
              "      <td>drugY</td>\n",
              "    </tr>\n",
              "    <tr>\n",
              "      <th>1</th>\n",
              "      <td>47</td>\n",
              "      <td>M</td>\n",
              "      <td>LOW</td>\n",
              "      <td>HIGH</td>\n",
              "      <td>13.093</td>\n",
              "      <td>drugC</td>\n",
              "    </tr>\n",
              "    <tr>\n",
              "      <th>2</th>\n",
              "      <td>47</td>\n",
              "      <td>M</td>\n",
              "      <td>LOW</td>\n",
              "      <td>HIGH</td>\n",
              "      <td>10.114</td>\n",
              "      <td>drugC</td>\n",
              "    </tr>\n",
              "    <tr>\n",
              "      <th>3</th>\n",
              "      <td>28</td>\n",
              "      <td>F</td>\n",
              "      <td>NORMAL</td>\n",
              "      <td>HIGH</td>\n",
              "      <td>7.798</td>\n",
              "      <td>drugX</td>\n",
              "    </tr>\n",
              "    <tr>\n",
              "      <th>4</th>\n",
              "      <td>61</td>\n",
              "      <td>F</td>\n",
              "      <td>LOW</td>\n",
              "      <td>HIGH</td>\n",
              "      <td>18.043</td>\n",
              "      <td>drugY</td>\n",
              "    </tr>\n",
              "  </tbody>\n",
              "</table>\n",
              "</div>\n",
              "    <div class=\"colab-df-buttons\">\n",
              "\n",
              "  <div class=\"colab-df-container\">\n",
              "    <button class=\"colab-df-convert\" onclick=\"convertToInteractive('df-ce38c06f-888d-42d7-bd81-d4cab32007c9')\"\n",
              "            title=\"Convert this dataframe to an interactive table.\"\n",
              "            style=\"display:none;\">\n",
              "\n",
              "  <svg xmlns=\"http://www.w3.org/2000/svg\" height=\"24px\" viewBox=\"0 -960 960 960\">\n",
              "    <path d=\"M120-120v-720h720v720H120Zm60-500h600v-160H180v160Zm220 220h160v-160H400v160Zm0 220h160v-160H400v160ZM180-400h160v-160H180v160Zm440 0h160v-160H620v160ZM180-180h160v-160H180v160Zm440 0h160v-160H620v160Z\"/>\n",
              "  </svg>\n",
              "    </button>\n",
              "\n",
              "  <style>\n",
              "    .colab-df-container {\n",
              "      display:flex;\n",
              "      gap: 12px;\n",
              "    }\n",
              "\n",
              "    .colab-df-convert {\n",
              "      background-color: #E8F0FE;\n",
              "      border: none;\n",
              "      border-radius: 50%;\n",
              "      cursor: pointer;\n",
              "      display: none;\n",
              "      fill: #1967D2;\n",
              "      height: 32px;\n",
              "      padding: 0 0 0 0;\n",
              "      width: 32px;\n",
              "    }\n",
              "\n",
              "    .colab-df-convert:hover {\n",
              "      background-color: #E2EBFA;\n",
              "      box-shadow: 0px 1px 2px rgba(60, 64, 67, 0.3), 0px 1px 3px 1px rgba(60, 64, 67, 0.15);\n",
              "      fill: #174EA6;\n",
              "    }\n",
              "\n",
              "    .colab-df-buttons div {\n",
              "      margin-bottom: 4px;\n",
              "    }\n",
              "\n",
              "    [theme=dark] .colab-df-convert {\n",
              "      background-color: #3B4455;\n",
              "      fill: #D2E3FC;\n",
              "    }\n",
              "\n",
              "    [theme=dark] .colab-df-convert:hover {\n",
              "      background-color: #434B5C;\n",
              "      box-shadow: 0px 1px 3px 1px rgba(0, 0, 0, 0.15);\n",
              "      filter: drop-shadow(0px 1px 2px rgba(0, 0, 0, 0.3));\n",
              "      fill: #FFFFFF;\n",
              "    }\n",
              "  </style>\n",
              "\n",
              "    <script>\n",
              "      const buttonEl =\n",
              "        document.querySelector('#df-ce38c06f-888d-42d7-bd81-d4cab32007c9 button.colab-df-convert');\n",
              "      buttonEl.style.display =\n",
              "        google.colab.kernel.accessAllowed ? 'block' : 'none';\n",
              "\n",
              "      async function convertToInteractive(key) {\n",
              "        const element = document.querySelector('#df-ce38c06f-888d-42d7-bd81-d4cab32007c9');\n",
              "        const dataTable =\n",
              "          await google.colab.kernel.invokeFunction('convertToInteractive',\n",
              "                                                    [key], {});\n",
              "        if (!dataTable) return;\n",
              "\n",
              "        const docLinkHtml = 'Like what you see? Visit the ' +\n",
              "          '<a target=\"_blank\" href=https://colab.research.google.com/notebooks/data_table.ipynb>data table notebook</a>'\n",
              "          + ' to learn more about interactive tables.';\n",
              "        element.innerHTML = '';\n",
              "        dataTable['output_type'] = 'display_data';\n",
              "        await google.colab.output.renderOutput(dataTable, element);\n",
              "        const docLink = document.createElement('div');\n",
              "        docLink.innerHTML = docLinkHtml;\n",
              "        element.appendChild(docLink);\n",
              "      }\n",
              "    </script>\n",
              "  </div>\n",
              "\n",
              "\n",
              "<div id=\"df-625800cf-944f-4c71-9936-2450cdf50687\">\n",
              "  <button class=\"colab-df-quickchart\" onclick=\"quickchart('df-625800cf-944f-4c71-9936-2450cdf50687')\"\n",
              "            title=\"Suggest charts\"\n",
              "            style=\"display:none;\">\n",
              "\n",
              "<svg xmlns=\"http://www.w3.org/2000/svg\" height=\"24px\"viewBox=\"0 0 24 24\"\n",
              "     width=\"24px\">\n",
              "    <g>\n",
              "        <path d=\"M19 3H5c-1.1 0-2 .9-2 2v14c0 1.1.9 2 2 2h14c1.1 0 2-.9 2-2V5c0-1.1-.9-2-2-2zM9 17H7v-7h2v7zm4 0h-2V7h2v10zm4 0h-2v-4h2v4z\"/>\n",
              "    </g>\n",
              "</svg>\n",
              "  </button>\n",
              "\n",
              "<style>\n",
              "  .colab-df-quickchart {\n",
              "      --bg-color: #E8F0FE;\n",
              "      --fill-color: #1967D2;\n",
              "      --hover-bg-color: #E2EBFA;\n",
              "      --hover-fill-color: #174EA6;\n",
              "      --disabled-fill-color: #AAA;\n",
              "      --disabled-bg-color: #DDD;\n",
              "  }\n",
              "\n",
              "  [theme=dark] .colab-df-quickchart {\n",
              "      --bg-color: #3B4455;\n",
              "      --fill-color: #D2E3FC;\n",
              "      --hover-bg-color: #434B5C;\n",
              "      --hover-fill-color: #FFFFFF;\n",
              "      --disabled-bg-color: #3B4455;\n",
              "      --disabled-fill-color: #666;\n",
              "  }\n",
              "\n",
              "  .colab-df-quickchart {\n",
              "    background-color: var(--bg-color);\n",
              "    border: none;\n",
              "    border-radius: 50%;\n",
              "    cursor: pointer;\n",
              "    display: none;\n",
              "    fill: var(--fill-color);\n",
              "    height: 32px;\n",
              "    padding: 0;\n",
              "    width: 32px;\n",
              "  }\n",
              "\n",
              "  .colab-df-quickchart:hover {\n",
              "    background-color: var(--hover-bg-color);\n",
              "    box-shadow: 0 1px 2px rgba(60, 64, 67, 0.3), 0 1px 3px 1px rgba(60, 64, 67, 0.15);\n",
              "    fill: var(--button-hover-fill-color);\n",
              "  }\n",
              "\n",
              "  .colab-df-quickchart-complete:disabled,\n",
              "  .colab-df-quickchart-complete:disabled:hover {\n",
              "    background-color: var(--disabled-bg-color);\n",
              "    fill: var(--disabled-fill-color);\n",
              "    box-shadow: none;\n",
              "  }\n",
              "\n",
              "  .colab-df-spinner {\n",
              "    border: 2px solid var(--fill-color);\n",
              "    border-color: transparent;\n",
              "    border-bottom-color: var(--fill-color);\n",
              "    animation:\n",
              "      spin 1s steps(1) infinite;\n",
              "  }\n",
              "\n",
              "  @keyframes spin {\n",
              "    0% {\n",
              "      border-color: transparent;\n",
              "      border-bottom-color: var(--fill-color);\n",
              "      border-left-color: var(--fill-color);\n",
              "    }\n",
              "    20% {\n",
              "      border-color: transparent;\n",
              "      border-left-color: var(--fill-color);\n",
              "      border-top-color: var(--fill-color);\n",
              "    }\n",
              "    30% {\n",
              "      border-color: transparent;\n",
              "      border-left-color: var(--fill-color);\n",
              "      border-top-color: var(--fill-color);\n",
              "      border-right-color: var(--fill-color);\n",
              "    }\n",
              "    40% {\n",
              "      border-color: transparent;\n",
              "      border-right-color: var(--fill-color);\n",
              "      border-top-color: var(--fill-color);\n",
              "    }\n",
              "    60% {\n",
              "      border-color: transparent;\n",
              "      border-right-color: var(--fill-color);\n",
              "    }\n",
              "    80% {\n",
              "      border-color: transparent;\n",
              "      border-right-color: var(--fill-color);\n",
              "      border-bottom-color: var(--fill-color);\n",
              "    }\n",
              "    90% {\n",
              "      border-color: transparent;\n",
              "      border-bottom-color: var(--fill-color);\n",
              "    }\n",
              "  }\n",
              "</style>\n",
              "\n",
              "  <script>\n",
              "    async function quickchart(key) {\n",
              "      const quickchartButtonEl =\n",
              "        document.querySelector('#' + key + ' button');\n",
              "      quickchartButtonEl.disabled = true;  // To prevent multiple clicks.\n",
              "      quickchartButtonEl.classList.add('colab-df-spinner');\n",
              "      try {\n",
              "        const charts = await google.colab.kernel.invokeFunction(\n",
              "            'suggestCharts', [key], {});\n",
              "      } catch (error) {\n",
              "        console.error('Error during call to suggestCharts:', error);\n",
              "      }\n",
              "      quickchartButtonEl.classList.remove('colab-df-spinner');\n",
              "      quickchartButtonEl.classList.add('colab-df-quickchart-complete');\n",
              "    }\n",
              "    (() => {\n",
              "      let quickchartButtonEl =\n",
              "        document.querySelector('#df-625800cf-944f-4c71-9936-2450cdf50687 button');\n",
              "      quickchartButtonEl.style.display =\n",
              "        google.colab.kernel.accessAllowed ? 'block' : 'none';\n",
              "    })();\n",
              "  </script>\n",
              "</div>\n",
              "    </div>\n",
              "  </div>\n"
            ],
            "application/vnd.google.colaboratory.intrinsic+json": {
              "type": "dataframe",
              "variable_name": "df",
              "summary": "{\n  \"name\": \"df\",\n  \"rows\": 200,\n  \"fields\": [\n    {\n      \"column\": \"Age\",\n      \"properties\": {\n        \"dtype\": \"number\",\n        \"std\": 16,\n        \"min\": 15,\n        \"max\": 74,\n        \"num_unique_values\": 57,\n        \"samples\": [\n          23,\n          49,\n          37\n        ],\n        \"semantic_type\": \"\",\n        \"description\": \"\"\n      }\n    },\n    {\n      \"column\": \"Sex\",\n      \"properties\": {\n        \"dtype\": \"category\",\n        \"num_unique_values\": 2,\n        \"samples\": [\n          \"M\",\n          \"F\"\n        ],\n        \"semantic_type\": \"\",\n        \"description\": \"\"\n      }\n    },\n    {\n      \"column\": \"BP\",\n      \"properties\": {\n        \"dtype\": \"category\",\n        \"num_unique_values\": 3,\n        \"samples\": [\n          \"HIGH\",\n          \"LOW\"\n        ],\n        \"semantic_type\": \"\",\n        \"description\": \"\"\n      }\n    },\n    {\n      \"column\": \"Cholesterol\",\n      \"properties\": {\n        \"dtype\": \"category\",\n        \"num_unique_values\": 2,\n        \"samples\": [\n          \"NORMAL\",\n          \"HIGH\"\n        ],\n        \"semantic_type\": \"\",\n        \"description\": \"\"\n      }\n    },\n    {\n      \"column\": \"Na_to_K\",\n      \"properties\": {\n        \"dtype\": \"number\",\n        \"std\": 7.223955528459516,\n        \"min\": 6.269,\n        \"max\": 38.247,\n        \"num_unique_values\": 198,\n        \"samples\": [\n          27.05,\n          9.281\n        ],\n        \"semantic_type\": \"\",\n        \"description\": \"\"\n      }\n    },\n    {\n      \"column\": \"Drug\",\n      \"properties\": {\n        \"dtype\": \"category\",\n        \"num_unique_values\": 5,\n        \"samples\": [\n          \"drugC\",\n          \"drugB\"\n        ],\n        \"semantic_type\": \"\",\n        \"description\": \"\"\n      }\n    }\n  ]\n}"
            }
          },
          "metadata": {},
          "execution_count": 54
        }
      ],
      "source": [
        "df = pd.read_csv(\"https://cf-courses-data.s3.us.cloud-object-storage.appdomain.cloud/IBMDeveloperSkillsNetwork-ML0101EN-SkillsNetwork/labs/Module%203/data/drug200.csv\", delimiter=\",\")\n",
        "df.head()"
      ],
      "execution_count": 54
    },
    {
      "cell_type": "markdown",
      "metadata": {
        "id": "6d0af5fe-c8f9-400e-b7bc-2100dab4131b"
      },
      "source": [
        "Let's create the X and Y for our dataset:\n"
      ]
    },
    {
      "cell_type": "code",
      "metadata": {
        "colab": {
          "base_uri": "https://localhost:8080/"
        },
        "id": "c44845e8-c821-4191-bc89-71f927698a24",
        "outputId": "dc160e88-7494-4224-f442-74a8d827f567"
      },
      "outputs": [
        {
          "output_type": "execute_result",
          "data": {
            "text/plain": [
              "array([[23, 'F', 'HIGH', 'HIGH', 25.355],\n",
              "       [47, 'M', 'LOW', 'HIGH', 13.093],\n",
              "       [47, 'M', 'LOW', 'HIGH', 10.114],\n",
              "       [28, 'F', 'NORMAL', 'HIGH', 7.798],\n",
              "       [61, 'F', 'LOW', 'HIGH', 18.043]], dtype=object)"
            ]
          },
          "metadata": {},
          "execution_count": 55
        }
      ],
      "source": [
        "X = df[['Age', 'Sex', 'BP', 'Cholesterol', 'Na_to_K']].values\n",
        "X[0:5]"
      ],
      "execution_count": 55
    },
    {
      "cell_type": "code",
      "metadata": {
        "colab": {
          "base_uri": "https://localhost:8080/"
        },
        "id": "dd21570f-20d6-4ddb-9b2e-25fcb9e5f993",
        "outputId": "c86545d8-8ed5-45a0-f4b3-8c98095d8c6c"
      },
      "outputs": [
        {
          "output_type": "execute_result",
          "data": {
            "text/plain": [
              "0    drugY\n",
              "1    drugC\n",
              "2    drugC\n",
              "3    drugX\n",
              "4    drugY\n",
              "Name: Drug, dtype: object"
            ]
          },
          "metadata": {},
          "execution_count": 56
        }
      ],
      "source": [
        "y = df[\"Drug\"]\n",
        "y[0:5]"
      ],
      "execution_count": 56
    },
    {
      "cell_type": "markdown",
      "metadata": {
        "id": "90192262-da79-4a0f-b141-0ca953808a50"
      },
      "source": [
        "Now lets use a <code>LabelEncoder</code> to turn categorical features into numerical:\n"
      ]
    },
    {
      "cell_type": "code",
      "metadata": {
        "colab": {
          "base_uri": "https://localhost:8080/"
        },
        "id": "67794d27-10cc-46cd-bf80-e8ef84d5a382",
        "outputId": "618a7170-ebf4-4560-e758-b2d3a6599eae"
      },
      "outputs": [
        {
          "output_type": "execute_result",
          "data": {
            "text/plain": [
              "array([[23, 0, 0, 0, 25.355],\n",
              "       [47, 1, 1, 0, 13.093],\n",
              "       [47, 1, 1, 0, 10.114],\n",
              "       [28, 0, 2, 0, 7.798],\n",
              "       [61, 0, 1, 0, 18.043]], dtype=object)"
            ]
          },
          "metadata": {},
          "execution_count": 57
        }
      ],
      "source": [
        "from sklearn import preprocessing\n",
        "le_sex = preprocessing.LabelEncoder()\n",
        "le_sex.fit(['F','M'])\n",
        "X[:,1] = le_sex.transform(X[:,1])\n",
        "\n",
        "\n",
        "le_BP = preprocessing.LabelEncoder()\n",
        "le_BP.fit([ 'LOW', 'NORMAL', 'HIGH'])\n",
        "X[:,2] = le_BP.transform(X[:,2])\n",
        "\n",
        "\n",
        "le_Chol = preprocessing.LabelEncoder()\n",
        "le_Chol.fit([ 'NORMAL', 'HIGH'])\n",
        "X[:,3] = le_Chol.transform(X[:,3])\n",
        "\n",
        "X[0:5]"
      ],
      "execution_count": 57
    },
    {
      "cell_type": "markdown",
      "metadata": {
        "id": "3ea720cf-3f2c-4dbe-9343-d7ff9b8bd618"
      },
      "source": [
        "Split the data into training and testing data with a 80/20 split:\n"
      ]
    },
    {
      "cell_type": "code",
      "metadata": {
        "colab": {
          "base_uri": "https://localhost:8080/"
        },
        "id": "20a93b5c-e6d1-404b-bc35-823e19e3eaf4",
        "outputId": "3a007259-a966-47e1-8153-4dd8edd2dc8c"
      },
      "outputs": [
        {
          "output_type": "stream",
          "name": "stdout",
          "text": [
            "Train set: (160, 5) (160,)\n",
            "Test set: (40, 5) (40,)\n"
          ]
        }
      ],
      "source": [
        "X_train, X_test, y_train, y_test = train_test_split( X, y, test_size=0.2, random_state=4)\n",
        "print ('Train set:', X_train.shape,  y_train.shape)\n",
        "print ('Test set:', X_test.shape,  y_test.shape)"
      ],
      "execution_count": 58
    },
    {
      "cell_type": "markdown",
      "metadata": {
        "id": "c8e7d0c6-ad48-41cc-ac2f-680224688e83"
      },
      "source": [
        "We can use GridSearch for Exhaustive search over specified parameter values.\n"
      ]
    },
    {
      "cell_type": "code",
      "metadata": {
        "colab": {
          "base_uri": "https://localhost:8080/"
        },
        "id": "ad8ce2ca-883a-4142-9703-16019d8614b0",
        "outputId": "e9bfd85a-6e83-4f4e-959a-ce26b37cf7b4"
      },
      "outputs": [
        {
          "output_type": "execute_result",
          "data": {
            "text/plain": [
              "{'learning_rate': [0.1, 0.2], 'n_estimators': [1, 3]}"
            ]
          },
          "metadata": {},
          "execution_count": 59
        }
      ],
      "source": [
        "param_grid = {'learning_rate': [0.1*(n+1) for n in range(2)],\n",
        "             'n_estimators' : [2*n+1 for n in range(2)] }\n",
        "\n",
        "\n",
        "param_grid"
      ],
      "execution_count": 59
    },
    {
      "cell_type": "markdown",
      "metadata": {
        "id": "430c135d-cc8e-4626-8adc-348911930e35"
      },
      "source": [
        "Create a <code>XGBClassifier</code>object called <cood>model</code>, set `objective` to  `binary:logistic` and `,eval_metric` to `mlogloss` :\n"
      ]
    },
    {
      "cell_type": "code",
      "metadata": {
        "id": "06dcc16b-e34d-4bed-ba9f-8c83ac5e29ce"
      },
      "outputs": [],
      "source": [],
      "execution_count": 59
    },
    {
      "cell_type": "markdown",
      "metadata": {
        "id": "db3dfd4a-b5c2-45e2-a29d-3ad38fdf8444"
      },
      "source": [
        "<details><summary>Click here for the solution</summary>\n",
        "\n",
        "```python\n",
        "model =XGBClassifier(objective='binary:logistic',eval_metric='mlogloss')\n",
        "\n",
        "```\n",
        "\n",
        "</details>\n"
      ]
    },
    {
      "cell_type": "markdown",
      "metadata": {
        "id": "621b1440-759e-4616-bce6-98a7aef47518"
      },
      "source": [
        "Create <code>GridSearchCV</code> object called `search` with the `estimator` set to <code>model</code>, <code>param_grid</code> set to <code>param_grid</code>, <code>scoring</code> set to <code>neg_log_loss</code>, and <code>cv</code> set to 3 and Fit the <code>GridSearchCV</code> object to our <code>X_train</code> and <code>y_train</code> data (this may take some time)\n"
      ]
    },
    {
      "cell_type": "code",
      "metadata": {
        "id": "2b0b7341-81e2-4c9a-8e32-224b76e57774"
      },
      "outputs": [],
      "source": [],
      "execution_count": 59
    },
    {
      "cell_type": "markdown",
      "metadata": {
        "id": "08df33fa-139f-4d78-a5dc-c05a99b97f3a"
      },
      "source": [
        "<details><summary>Click here for the solution</summary>\n",
        "\n",
        "```python\n",
        "search = GridSearchCV(estimator=model, param_grid=param_grid,scoring=\"neg_log_loss\")\n",
        "search.fit(X_train, y_train)\n",
        "```\n",
        "\n",
        "</details>\n"
      ]
    },
    {
      "cell_type": "markdown",
      "metadata": {
        "id": "b8b6d2fe-522f-431e-a225-7fd68cd0ba33"
      },
      "source": [
        "We can find the accuracy of the best model.\n"
      ]
    },
    {
      "cell_type": "code",
      "metadata": {
        "colab": {
          "base_uri": "https://localhost:8080/",
          "height": 141
        },
        "id": "a1a72f84-774c-4e02-bc00-d383b793749e",
        "outputId": "3d6eda32-85f9-4c0c-a5e0-c7f14eca2bd7"
      },
      "outputs": [
        {
          "output_type": "error",
          "ename": "AttributeError",
          "evalue": "'GridSearchCV' object has no attribute 'best_score_'",
          "traceback": [
            "\u001b[0;31m---------------------------------------------------------------------------\u001b[0m",
            "\u001b[0;31mAttributeError\u001b[0m                            Traceback (most recent call last)",
            "\u001b[0;32m<ipython-input-60-53ffe6a6d6c0>\u001b[0m in \u001b[0;36m<cell line: 1>\u001b[0;34m()\u001b[0m\n\u001b[0;32m----> 1\u001b[0;31m \u001b[0msearch\u001b[0m\u001b[0;34m.\u001b[0m\u001b[0mbest_score_\u001b[0m\u001b[0;34m\u001b[0m\u001b[0;34m\u001b[0m\u001b[0m\n\u001b[0m",
            "\u001b[0;31mAttributeError\u001b[0m: 'GridSearchCV' object has no attribute 'best_score_'"
          ]
        }
      ],
      "source": [
        "search.best_score_"
      ],
      "execution_count": 60
    },
    {
      "cell_type": "markdown",
      "metadata": {
        "id": "120aa689-9b1c-4103-a909-65646a75e4c3"
      },
      "source": [
        "We can find the best parameter values:\n"
      ]
    },
    {
      "cell_type": "code",
      "metadata": {
        "colab": {
          "base_uri": "https://localhost:8080/",
          "height": 141
        },
        "id": "3229714f-baf8-4b2a-840a-3fd886ffb419",
        "outputId": "9b496ab2-e7a7-414b-9378-25566af9d7a5"
      },
      "outputs": [
        {
          "output_type": "error",
          "ename": "AttributeError",
          "evalue": "'GridSearchCV' object has no attribute 'best_params_'",
          "traceback": [
            "\u001b[0;31m---------------------------------------------------------------------------\u001b[0m",
            "\u001b[0;31mAttributeError\u001b[0m                            Traceback (most recent call last)",
            "\u001b[0;32m<ipython-input-61-b2df0f93dfce>\u001b[0m in \u001b[0;36m<cell line: 1>\u001b[0;34m()\u001b[0m\n\u001b[0;32m----> 1\u001b[0;31m \u001b[0msearch\u001b[0m\u001b[0;34m.\u001b[0m\u001b[0mbest_params_\u001b[0m\u001b[0;34m\u001b[0m\u001b[0;34m\u001b[0m\u001b[0m\n\u001b[0m",
            "\u001b[0;31mAttributeError\u001b[0m: 'GridSearchCV' object has no attribute 'best_params_'"
          ]
        }
      ],
      "source": [
        "search.best_params_"
      ],
      "execution_count": 61
    },
    {
      "cell_type": "markdown",
      "metadata": {
        "id": "fb4c3da0-8683-4819-84da-7f29f9139585"
      },
      "source": [
        "We can find the accuracy test data:\n"
      ]
    },
    {
      "cell_type": "markdown",
      "metadata": {
        "id": "41ad2fe1-7441-4f45-a03e-dc7421ee5cc8"
      },
      "source": [
        "<details><summary>Click here for the solution</summary>\n",
        "\n",
        "```python\n",
        "print(get_accuracy(X_train, X_test, y_train, y_test, search.best_estimator_))\n",
        "```\n",
        "\n",
        "</details>\n"
      ]
    },
    {
      "cell_type": "code",
      "metadata": {
        "colab": {
          "base_uri": "https://localhost:8080/",
          "height": 141
        },
        "id": "73b95118-4c1d-49d1-9d6e-389739a6cedd",
        "outputId": "5bedfcec-4791-4b10-f54d-996e3fdbccdd"
      },
      "outputs": [
        {
          "output_type": "error",
          "ename": "AttributeError",
          "evalue": "'GridSearchCV' object has no attribute 'best_estimator_'",
          "traceback": [
            "\u001b[0;31m---------------------------------------------------------------------------\u001b[0m",
            "\u001b[0;31mAttributeError\u001b[0m                            Traceback (most recent call last)",
            "\u001b[0;32m<ipython-input-62-77d10aa854b4>\u001b[0m in \u001b[0;36m<cell line: 1>\u001b[0;34m()\u001b[0m\n\u001b[0;32m----> 1\u001b[0;31m \u001b[0mprint\u001b[0m\u001b[0;34m(\u001b[0m\u001b[0mget_accuracy\u001b[0m\u001b[0;34m(\u001b[0m\u001b[0mX_train\u001b[0m\u001b[0;34m,\u001b[0m \u001b[0mX_test\u001b[0m\u001b[0;34m,\u001b[0m \u001b[0my_train\u001b[0m\u001b[0;34m,\u001b[0m \u001b[0my_test\u001b[0m\u001b[0;34m,\u001b[0m \u001b[0msearch\u001b[0m\u001b[0;34m.\u001b[0m\u001b[0mbest_estimator_\u001b[0m\u001b[0;34m)\u001b[0m\u001b[0;34m)\u001b[0m\u001b[0;34m\u001b[0m\u001b[0;34m\u001b[0m\u001b[0m\n\u001b[0m",
            "\u001b[0;31mAttributeError\u001b[0m: 'GridSearchCV' object has no attribute 'best_estimator_'"
          ]
        }
      ],
      "source": [
        "print(get_accuracy(X_train, X_test, y_train, y_test, search.best_estimator_))"
      ],
      "execution_count": 62
    },
    {
      "cell_type": "markdown",
      "metadata": {
        "id": "88750deb-74f9-403b-9a4c-c2d880b08828"
      },
      "source": [
        "## How  Gradient Boosting  Works (Optional)\n"
      ]
    },
    {
      "cell_type": "markdown",
      "metadata": {
        "id": "dc03fe2c-f4d3-40e8-9793-66861b7f63cb"
      },
      "source": [
        "Let's try to sketch   how Gradient Boosting works like any supervised problem we have a dataset  ${(x_1, y_1), ..., (x_N,; y_N)} $, the strong classifier $H_{T}(x)$  is a linear combination of $T$  weak classifiers $h_t(x)$  usually trees and $\\alpha_t$  is a constant in many cases $\\alpha_t=1$  . Although each classifier $h_t(x)$ appears independent, the  contains information about the error of classifiers from $h_1(x),.., h_{t}(x)$.\n",
        "\n",
        "$H_{T}(\\mathbf{x}) =   \\sum_{t=1}^T \\alpha_t h_t(\\mathbf{x}) $\n",
        "\n",
        "Borrowing the notation form <a href=https://www.cs.cornell.edu/courses/cs4780/2018fa/lectures/lecturenote19.html?utm_medium=Exinfluencer&utm_source=Exinfluencer&utm_content=000026UJ&utm_term=10006555&utm_id=NA-SkillsNetwork-Channel-SkillsNetworkCoursesIBMML241ENSkillsNetwork31576874-2022-01-01> Kilian Weinberger </a>, we have a the cost function:\n",
        "\n",
        "$\\ell(H)=\n",
        "rac{1}{n}\\sum_{i=1}^n \\ell(H_{T}(\\mathbf{x}_i),y_i)$\n",
        "\n",
        "Where $\\ell$ convex i.e bole shape shown below and differentiable, such as derivative exists.\n"
      ]
    },
    {
      "cell_type": "code",
      "metadata": {
        "colab": {
          "base_uri": "https://localhost:8080/",
          "height": 452
        },
        "id": "acc274b7-4684-445c-af7c-c88c227bfcb8",
        "outputId": "bacfe20a-93f7-4752-fdc0-ebdaf1a05623"
      },
      "outputs": [
        {
          "output_type": "display_data",
          "data": {
            "text/plain": [
              "<Figure size 640x480 with 2 Axes>"
            ],
            "image/png": "[encoded data removed]"
          },
          "metadata": {}
        }
      ],
      "source": [
        "x = np.linspace(-1, 2)\n",
        "fig, (ax1, ax2) = plt.subplots(1, 2)\n",
        "ax1.plot(x, x**2, linewidth=2)\n",
        "ax1.set_title('convex function')\n",
        "ax2.plot(x, x**2 + np.exp(-5*(x - .5)**2), linewidth=2)\n",
        "ax2.set_title('non-convex function')\n",
        "plt.show()\n"
      ],
      "execution_count": 63
    },
    {
      "cell_type": "markdown",
      "metadata": {
        "id": "78a470d3-54c8-4d57-b370-fe50036a1d63"
      },
      "source": [
        "If you're familiar with cost functions, this may seem strange as we are dealing with a function of $H$ not of parameters. Ideally would like to minimize the cost for  $h_{T}(\\mathbf{x})$  and  $H_{T-1}(\\mathbf{x})$ at the same time   , but this is difficult. So we minimize the cost with respect to   $h_{T}(\\mathbf{x})$  while keeping $H_{T-1}(\\mathbf{x})$ fixed; not only is this simpler it prevents overfitting.\n",
        "\n",
        "$h_{t}(x) = \textrm{argmin}_{   h \\in \\mathbb{H}} \\sum_{i=1}^n \\ell(  H_{t-1}(\\mathbf{x}_i) + \\gamma h_t(\\mathbf{x}_i),y_i)$  (1)\n"
      ]
    },
    {
      "cell_type": "markdown",
      "metadata": {
        "id": "46f13cd6-11d5-45dc-bc37-579f6ba3daa2"
      },
      "source": [
        "Usually $\\gamma$  is selected using validation data, but in some cases, like AdaBoost, you can find  the expression for the  optimal value of $\\gamma$.\n"
      ]
    },
    {
      "cell_type": "markdown",
      "metadata": {
        "id": "9c69f831-9e62-4c8a-b381-e6ccf2865fe0"
      },
      "source": [
        "### How to Minimize Cost\n"
      ]
    },
    {
      "cell_type": "markdown",
      "metadata": {
        "id": "dbadcbb8-6e65-4e47-8101-c98b3500276d"
      },
      "source": [
        "We would like to find the value of classifier $h_{t}(x)$ in red  that minimises the Cost function in (1), this is difficult so we minimize the first order Taylor Approximation as shown in (2). We see that it is only a function of the second term in red.\n"
      ]
    },
    {
      "cell_type": "markdown",
      "metadata": {
        "id": "a286d170-7507-4429-9339-3dab15cce0cf"
      },
      "source": [
        "$\\ell(H+\\alpha \\color{red}{h})\\approx\\ell(H)+ \\gamma \\sum_{i = 1}^{n} r_{i,t-1} \\color{red}{h_{t}(\\mathbf{x}_i)}$ (2)\n",
        "\n",
        "$r_{i,t-1}=\n",
        "rac{\\partial \\ell}{\\partial [H_{t-1}(\\mathbf{x}_i)]}$\n"
      ]
    },
    {
      "cell_type": "markdown",
      "metadata": {
        "id": "bec3ca26-4bef-4be5-a953-3dc9abd8fcf2"
      },
      "source": [
        "An example of Taylor Approximation is shown in the following figure, the true cost function is in blue and the first Taylor Approximation is in Orange.\n"
      ]
    },
    {
      "cell_type": "code",
      "metadata": {
        "colab": {
          "base_uri": "https://localhost:8080/",
          "height": 430
        },
        "id": "35a17205-221d-4a34-bb29-ea8f9664773f",
        "outputId": "d8ee8b1b-9893-4313-d38d-fa1356ff7ced"
      },
      "outputs": [
        {
          "output_type": "display_data",
          "data": {
            "text/plain": [
              "<Figure size 640x480 with 1 Axes>"
            ],
            "image/png": "[encoded data removed]"
          },
          "metadata": {}
        }
      ],
      "source": [
        "plt.plot(x, x**2, linewidth=2)\n",
        "plt.text(-.7, 3, '$ \\ell(H_{T}+h_{t},y_i)$', size=20)\n",
        "plt.plot(x, 2*x - 1)\n",
        "plt.plot(1, 1, 'k+')\n",
        "plt.text(.3, -.75, 'approximation', size=15)\n",
        "plt.show()"
      ],
      "execution_count": 64
    },
    {
      "cell_type": "markdown",
      "metadata": {
        "id": "eca221e0-8a43-4b90-881d-f52f999e7d0e"
      },
      "source": [
        "For small values of $\\gamma$ this will hold, using the approximation, we can decouple the problem as follows; the $argmax$ of $h$  only cares about the red terms. As a result, we find the value of $r_{i}$ and the minimum concerning $h$. First let's find $r_{i}$, we need the loss function:\n"
      ]
    },
    {
      "cell_type": "markdown",
      "metadata": {
        "id": "23ecca9b-648a-4d83-b223-a87df1a51f93"
      },
      "source": [
        "$h_{t}(x) = \textrm{argmin}_{   h \\in \\mathbb{H}}  \\sum_{i=1}^n \\ell(  H_{t-1}(\\mathbf{x}_i) + \\gamma h_{t}(\\mathbf{x}_i),y_i) $\n",
        "$ \\approx \textrm{argmin}_{   h \\in \\mathbb{H}} \\ell(H)+  \\sum_{i = 1}^{n} r_{i} \\color{red}{h_{t}(\\mathbf{x}_i)} $\n"
      ]
    },
    {
      "cell_type": "markdown",
      "metadata": {
        "id": "722a1b03-00c6-43ad-b5e5-623923bd002d"
      },
      "source": [
        "$=\textrm{argmin}_{h \\in \\mathbb{H}}\\{ \\sum_{i = 1}^{n} r_{i} \\color{red}{h_{T}(\\mathbf{x}_i)}\\}$  (3)\n"
      ]
    },
    {
      "cell_type": "markdown",
      "metadata": {
        "id": "969ae131-f82d-4e17-82a6-35ec0b065532"
      },
      "source": [
        "### Example with Python\n"
      ]
    },
    {
      "cell_type": "markdown",
      "metadata": {
        "id": "81718f5e-55b7-4dac-92c6-158f39ad0ad4"
      },
      "source": [
        "This all seems a little confusing so let’s do a simple example with the Root mean square error loss are write the Python code. This is not usually used for regression but can be used for classification and  the math is relatively  simple to understand. First we calculate $r_{i}$:\n"
      ]
    },
    {
      "cell_type": "markdown",
      "metadata": {
        "id": "980e6ab9-1cde-4b1b-abbf-4aa54eae61fc"
      },
      "source": [
        "$ \\ell(H) =\\sum_{i=1}^n (r_{i,t-1}-  H_{t-1}(\\mathbf{x}_i))^{2} $\n",
        "\n",
        "$ r_{i,t}=\n",
        "rac{\\partial \\ell}{\\partial [H_{T-1}(\\mathbf{x}_i)]}=2\\sum_{i=1}^n ( r_{i,t-1}-  H_{T-1}(\\mathbf{x}_i))$\n"
      ]
    },
    {
      "cell_type": "markdown",
      "metadata": {
        "id": "a59aaf41-d1c7-429d-af22-d659916740f2"
      },
      "source": [
        "Then we plug it into equation 3; with some math, we get the following expression below, just a note these steps are not as simple as they look, so check out  <a href=https://www.cs.cornell.edu/courses/cs4780/2018fa/lectures/lecturenote19.html?utm_medium=Exinfluencer&utm_source=Exinfluencer&utm_content=000026UJ&utm_term=10006555&utm_id=NA-SkillsNetwork-Channel-SkillsNetworkCoursesIBMML241ENSkillsNetwork31576874-2022-01-01> Kilian Weinberger </a> for more details.\n"
      ]
    },
    {
      "cell_type": "markdown",
      "metadata": {
        "id": "12cfb8c9-01bc-41c6-92c7-230d64610427"
      },
      "source": [
        "$h_{t}(x) =\textrm{argmin}_{h \\in \\mathbb{H}}{ \\sum_{i = 1}^{n} r_{i,t} \\color{red}{h_{t}(\\mathbf{x}_i)}}$\n",
        "\n",
        "$=\textrm{argmin}_{h \\in \\mathbb{H}}{ \\sum_{i = 1}^{n} 2\\sum_{i=1}^n (y_i-  H_{T-1}(\\mathbf{x}_i)) \\color{red}{h_{T}(\\mathbf{x}_i)}}$\n",
        "\n",
        "$=\textrm{argmin}_{h \\in \\mathbb{H}}{ \\sum_{i = 1}^{n} (r_{i,t}^{2}- {h_{t}(\\mathbf{x}_i)})^{2}}$\n"
      ]
    },
    {
      "cell_type": "markdown",
      "metadata": {
        "id": "d06bbef9-9894-4ae8-b36c-66c211aacc4f"
      },
      "source": [
        "Let’s go through a few iterations; at the same time implement the algorithm with  Python. For the Python portion we will use the Toy data where the class of y is as following $y=0$ if $ 0<x<1$ else if  $y=1$, $1 \\leq x< 2$ else $y=3$.\n"
      ]
    },
    {
      "cell_type": "code",
      "metadata": {
        "colab": {
          "base_uri": "https://localhost:8080/",
          "height": 449
        },
        "id": "ef27a297-35c3-4625-a31c-17cc6b702069",
        "outputId": "b6a05c34-5c19-4962-cf6f-24c4dda7479c"
      },
      "outputs": [
        {
          "output_type": "display_data",
          "data": {
            "text/plain": [
              "<Figure size 640x480 with 1 Axes>"
            ],
            "image/png": "[encoded data removed]"
          },
          "metadata": {}
        }
      ],
      "source": [
        "X=np.linspace(0, 3,num=100)\n",
        "\n",
        "y=np.zeros(X.shape)\n",
        "y[X>1]=1\n",
        "y[X>2]=2\n",
        "plt.plot(X,y)\n",
        "plt.xlabel('x')\n",
        "plt.ylabel('y')\n",
        "plt.show()"
      ],
      "execution_count": 65
    },
    {
      "cell_type": "markdown",
      "metadata": {
        "id": "a6776967-913e-4995-97b6-c6959b570250"
      },
      "source": [
        "For the first iteration we start off with $h_1(\\mathbf{x})$ minimizing the original labels $y_{i}$ that equals $r_{i,1}$.\n"
      ]
    },
    {
      "cell_type": "markdown",
      "metadata": {
        "id": "3f18bed2-504d-4fe7-b1c1-99a4909b8178"
      },
      "source": [
        "$h_{1}(x)=\textrm{argmin}_{h \\in \\mathbb{H}}{ \\sum_{i = 1}^{n} (y_{i}- {h_{1}(\\mathbf{x}_i)})^{2}}$\n"
      ]
    },
    {
      "cell_type": "markdown",
      "metadata": {
        "id": "799f163e-a49e-4bcd-8c78-6ccab305d336"
      },
      "source": [
        "All this means is we apply any algorithm with the cost function in the same form to the data. One constraint is  $h$ has to be non-linear, in Python:\n"
      ]
    },
    {
      "cell_type": "code",
      "metadata": {
        "id": "984e8b60-a405-42c8-b3c2-f9ec756b1f64"
      },
      "outputs": [],
      "source": [
        "reg = DecisionTreeRegressor(max_depth=1)\n",
        "reg.fit(X.reshape(-1,1),y)\n",
        "h_1=reg.predict(X.reshape(-1,1))"
      ],
      "execution_count": 66
    },
    {
      "cell_type": "markdown",
      "metadata": {
        "id": "53fc8187-d5db-4471-b882-5e290597d545"
      },
      "source": [
        "We can plot the prediction, we see it's not even a true classifier.\n"
      ]
    },
    {
      "cell_type": "code",
      "metadata": {
        "colab": {
          "base_uri": "https://localhost:8080/",
          "height": 430
        },
        "id": "9fc3ea4c-17c3-4257-a4ab-1f6b80497e0c",
        "outputId": "e9a20d63-a531-4bad-b7cd-aec09b7edaaa"
      },
      "outputs": [
        {
          "output_type": "display_data",
          "data": {
            "text/plain": [
              "<Figure size 640x480 with 1 Axes>"
            ],
            "image/png": "[encoded data removed]"
          },
          "metadata": {}
        }
      ],
      "source": [
        "plt.plot(X,y,label=\"y\")\n",
        "plt.plot(X,h_1,label=\"$h_{1}(x)$\")\n",
        "plt.legend()\n",
        "plt.show()"
      ],
      "execution_count": 67
    },
    {
      "cell_type": "markdown",
      "metadata": {
        "id": "68a25d32-8603-4ca9-815d-800297a53a52"
      },
      "source": [
        "For the second step  we set  $H_{1}(\\mathbf{x})=h_{1}(\\mathbf{x})$,then we calculate $r_{i,2}$.\n"
      ]
    },
    {
      "cell_type": "markdown",
      "metadata": {
        "id": "31d4c904-9de5-4d04-88b9-2315aebf12bd"
      },
      "source": [
        "$ r_{i,2}=( r_{i,1}-  H_{1}(\\mathbf{x}_i))$\n"
      ]
    },
    {
      "cell_type": "code",
      "metadata": {
        "id": "c579c0c9-e16c-4f50-ac8a-f578c5231939"
      },
      "outputs": [],
      "source": [
        "gamma=1\n",
        "r=y-gamma*reg.predict(X.reshape(-1,1))"
      ],
      "execution_count": 68
    },
    {
      "cell_type": "markdown",
      "metadata": {
        "id": "2f9c9500-b3a3-453b-b6b8-3f0572e0fe3f"
      },
      "source": [
        "We then find the second learner $h_{2}(\\mathbf{x})$ by minimizing\n"
      ]
    },
    {
      "cell_type": "markdown",
      "metadata": {
        "id": "e356c156-9e35-4b29-97de-da3407ca7bc4"
      },
      "source": [
        "$h_{2}(x)=\textrm{argmin}_{h \\in \\mathbb{H}}{ \\sum_{i = 1}^{n} (r_{i,2}^{2}- {h_{2}(\\mathbf{x}_i)})^{2}}$\n"
      ]
    },
    {
      "cell_type": "markdown",
      "metadata": {
        "id": "f3d5e665-bc8e-473b-9ac2-3f410df3aeca"
      },
      "source": [
        "We then update $H_{2} (\\mathbf{x})= H_{1} (\\mathbf{x})+ \\gamma h_{2}(\\mathbf{x})$\n"
      ]
    },
    {
      "cell_type": "markdown",
      "metadata": {
        "id": "f5f0b4bf-deac-4bfa-9251-9b688883ffcd"
      },
      "source": [
        "We repeat the process for $ t$ times:\n"
      ]
    },
    {
      "cell_type": "markdown",
      "metadata": {
        "id": "73327e64-f3da-4c00-828a-50d30e9e05cd"
      },
      "source": [
        "$ r_{i,t}^2=( r_{i,t-1}-  H_{t-1}(\\mathbf{x}_i))^{2}$\n"
      ]
    },
    {
      "cell_type": "markdown",
      "metadata": {
        "id": "86be8340-dc81-4162-bf53-6b581b278094"
      },
      "source": [
        "$h_{t}(x)=\textrm{argmin}_{h \\in \\mathbb{H}}{ \\sum_{i = 1}^{n} (r_{i,t}^{2}- {h_{t}(\\mathbf{x}_i)})^{2}}$\n"
      ]
    },
    {
      "cell_type": "markdown",
      "metadata": {
        "id": "a1ca8640-e6cd-4f46-8639-781d0889b26c"
      },
      "source": [
        "We then update $H_{t} (\\mathbf{x})= H_{t-1} (\\mathbf{x}) + \\gamma h_{t}(\\mathbf{x})$\n"
      ]
    },
    {
      "cell_type": "markdown",
      "metadata": {
        "id": "9801ea5e-ff39-487e-be85-6217f7add6b0"
      },
      "source": [
        "We can perform the Operation with a loop in Python. First, we will write a function to make a prediction using an input of a list of predictors `weak_learners`.\n"
      ]
    },
    {
      "cell_type": "code",
      "metadata": {
        "id": "7200449d-93e7-443f-8e3e-241ca9180486"
      },
      "outputs": [],
      "source": [
        "def predict(y,weak_learners,gamma):\n",
        "    yhat=np.zeros(y.shape)\n",
        "    for h in weak_learners:\n",
        "        yhat+=h.predict(X.reshape(-1,1))\n",
        "    return yhat\n",
        "\n"
      ],
      "execution_count": 69
    },
    {
      "cell_type": "markdown",
      "metadata": {
        "id": "ba7a1d41-dff8-4059-bed5-b4c5917597f4"
      },
      "source": [
        "Then we train a new weak learner recursively setting gamma=1, and plot the results for each iteration.\n"
      ]
    },
    {
      "cell_type": "code",
      "metadata": {
        "colab": {
          "base_uri": "https://localhost:8080/",
          "height": 1000
        },
        "id": "e6d8ca16-ca02-4335-860d-00c0556f263b",
        "outputId": "d89ec592-655d-4b4c-8751-8d12020f2807"
      },
      "outputs": [
        {
          "output_type": "display_data",
          "data": {
            "text/plain": [
              "<Figure size 640x480 with 1 Axes>"
            ],
            "image/png": "[encoded data removed]"
          },
          "metadata": {}
        },
        {
          "output_type": "display_data",
          "data": {
            "text/plain": [
              "<Figure size 640x480 with 1 Axes>"
            ],
            "image/png": "[encoded data removed]"
          },
          "metadata": {}
        },
        {
          "output_type": "display_data",
          "data": {
            "text/plain": [
              "<Figure size 640x480 with 1 Axes>"
            ],
            "image/png": "[encoded data removed]"
          },
          "metadata": {}
        },
        {
          "output_type": "display_data",
          "data": {
            "text/plain": [
              "<Figure size 640x480 with 1 Axes>"
            ],
            "image/png": "[encoded data removed]"
          },
          "metadata": {}
        },
        {
          "output_type": "display_data",
          "data": {
            "text/plain": [
              "<Figure size 640x480 with 1 Axes>"
            ],
            "image/png": "[encoded data removed]"
          },
          "metadata": {}
        },
        {
          "output_type": "display_data",
          "data": {
            "text/plain": [
              "<Figure size 640x480 with 1 Axes>"
            ],
            "image/png": "[encoded data removed]"
          },
          "metadata": {}
        },
        {
          "output_type": "display_data",
          "data": {
            "text/plain": [
              "<Figure size 640x480 with 1 Axes>"
            ],
            "image/png": "[encoded data removed]"
          },
          "metadata": {}
        },
        {
          "output_type": "display_data",
          "data": {
            "text/plain": [
              "<Figure size 640x480 with 1 Axes>"
            ],
            "image/png": "[encoded data removed]"
          },
          "metadata": {}
        },
        {
          "output_type": "display_data",
          "data": {
            "text/plain": [
              "<Figure size 640x480 with 1 Axes>"
            ],
            "image/png": "[encoded data removed]"
          },
          "metadata": {}
        },
        {
          "output_type": "display_data",
          "data": {
            "text/plain": [
              "<Figure size 640x480 with 1 Axes>"
            ],
            "image/png": "[encoded data removed]"
          },
          "metadata": {}
        }
      ],
      "source": [
        "weak_learners =[]\n",
        "gamma=1\n",
        "r=y\n",
        "weak_learners.append(reg)\n",
        "for t_ in range(0,10):\n",
        "    #train weak learner\n",
        "    reg=DecisionTreeRegressor(max_depth=1)\n",
        "    reg.fit(X.reshape(-1,1),r)\n",
        "    weak_learners.append(reg)\n",
        "\n",
        "    #Calculate r_i,t for each iteration\n",
        "    r=r-gamma*reg.predict(X.reshape(-1,1))\n",
        "    #plot function\n",
        "    plt.plot(X,y,label=\"y\")\n",
        "    plt.plot(X,predict (y,weak_learners,gamma),label=\"$H_{}(x)$\".format(t_+1))\n",
        "    plt.legend()\n",
        "    plt.show()"
      ],
      "execution_count": 70
    },
    {
      "cell_type": "markdown",
      "metadata": {
        "id": "97e13dc7-9a0c-4a2b-8f50-e32c0b449bea"
      },
      "source": [
        "### Thank you for completing this lab!\n",
        "\n",
        "## Author\n",
        "\n",
        "<a href=\"https://www.linkedin.com/in/joseph-s-50398b136/?utm_medium=Exinfluencer&utm_source=Exinfluencer&utm_content=000026UJ&utm_term=10006555&utm_id=NA-SkillsNetwork-Channel-SkillsNetworkCoursesIBMDeveloperSkillsNetworkML0101ENSkillsNetwork20718538-2021-01-01\" target=\"_blank\">Joseph Santarcangelo</a>\n",
        "\n",
        "### Other Contributors\n",
        "\n",
        "<a href=\"https://www.linkedin.com/in/richard-ye/?utm_medium=Exinfluencer&utm_source=Exinfluencer&utm_content=000026UJ&utm_term=10006555&utm_id=NA-SkillsNetwork-Channel-SkillsNetworkCoursesIBMDeveloperSkillsNetworkML0101ENSkillsNetwork20718538-2021-01-01\" target=\"_blank\">Richard Ye</a>\n",
        "\n",
        "## Change Log\n",
        "\n",
        "| Date (YYYY-MM-DD) | Version | Changed By           | Change Description   |\n",
        "| ----------------- | ------- | -------------------- | -------------------- |\n",
        "| 2020-11-27        | 0.1     | Joseph Santarcangelo | Created Lab Template |\n",
        "| 2022-3-29         | 0.2     | Steve Hord           | QA Pass              |\n",
        "| 2022-05-03        | 0.3     | Richard Ye           | Updated `get_accuracy_boost` to include tqdm and fixed latex rendering|\n",
        "\n",
        "## <h3 align=\"center\"> © IBM Corporation 2020. All rights reserved. <h3/>\n"
      ]
    }
  ],
  "metadata": {
    "kernelspec": {
      "display_name": "Python",
      "language": "python",
      "name": "conda-env-python-py"
    },
    "language_info": {
      "name": ""
    },
    "colab": {
      "provenance": [],
      "include_colab_link": true
    }
  },
  "nbformat": 4,
  "nbformat_minor": 0
}