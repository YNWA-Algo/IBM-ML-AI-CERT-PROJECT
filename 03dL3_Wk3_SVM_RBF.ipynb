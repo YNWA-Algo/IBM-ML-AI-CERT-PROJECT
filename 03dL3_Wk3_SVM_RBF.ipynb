{
  "cells": [
    {
      "cell_type": "markdown",
      "metadata": {
        "id": "view-in-github",
        "colab_type": "text"
      },
      "source": [
        "<a href=\"https://colab.research.google.com/github/YNWA-Algo/IBM-ML-AI-CERT-PROJECT/blob/main/03dL3_Wk3_SVM_RBF.ipynb\" target=\"_parent\"><img src=\"https://colab.research.google.com/assets/colab-badge.svg\" alt=\"Open In Colab\"/></a>"
      ]
    },
    {
      "cell_type": "markdown",
      "metadata": {
        "id": "2d7df974-cac8-4485-8139-9cae057b3433"
      },
      "source": [
        "<p style=\"text-align:center\">\n",
        "    <a href=\"https://skills.network\" target=\"_blank\">\n",
        "    <img src=\"https://cf-courses-data.s3.us.cloud-object-storage.appdomain.cloud/assets/logos/SN_web_lightmode.png\" width=\"200\" alt=\"Skills Network Logo\">\n",
        "    </a>\n",
        "</p>\n"
      ]
    },
    {
      "cell_type": "markdown",
      "metadata": {
        "id": "2363d2b5-7a45-4729-aefa-f0aedd8a8f02"
      },
      "source": [
        "# **Support Vector Machine**\n"
      ]
    },
    {
      "cell_type": "markdown",
      "metadata": {
        "id": "0af98779-3f59-4445-ad14-1954ec529137"
      },
      "source": [
        "Estimated time needed: **30** minutes\n"
      ]
    },
    {
      "cell_type": "markdown",
      "metadata": {
        "id": "2edb927d-593f-4e35-999c-7970aca964cb"
      },
      "source": [
        "In this lab, you will learn and obtain hands-on practices on Support Vector Machine model.\n"
      ]
    },
    {
      "cell_type": "markdown",
      "metadata": {
        "id": "b65f52e5-c5fb-44a4-b106-302d48febba9"
      },
      "source": [
        "We will be using a real-world diabetes food items suggestion dataset, which contains detailed nutrition information about a food item. The objective is to classify what food a diabetic patient should choose More Often or Less Often for a specific food item given its nutrients.\n"
      ]
    },
    {
      "cell_type": "markdown",
      "metadata": {
        "id": "34f3baa0-c454-43e2-8c0c-9a702312d6fe"
      },
      "source": [
        "## Objectives\n"
      ]
    },
    {
      "cell_type": "markdown",
      "metadata": {
        "id": "b12f38a7-6ab6-400b-b5be-94c9136ec7e2"
      },
      "source": [
        "After completing this lab you will be able to:\n"
      ]
    },
    {
      "cell_type": "markdown",
      "metadata": {
        "id": "80c348ba-a0d2-4d39-93b1-5223602f6160"
      },
      "source": [
        "*   Train and evaluate SVM classifiers\n",
        "*   Tune important SVM hyperparameters such as regularization and kernel types\n",
        "*   Plot hyperplanes and margins from trained SVM models\n"
      ]
    },
    {
      "cell_type": "markdown",
      "metadata": {
        "id": "eeb377e7-a84a-4a72-bc02-eddaf045b148"
      },
      "source": [
        "## SVM Overview\n"
      ]
    },
    {
      "cell_type": "markdown",
      "metadata": {
        "id": "a25c0015-9123-4a0d-98d2-be82b12b73cd"
      },
      "source": [
        "SVM tries to find hyperplanes that have the maximum margin. The hyperplanes are determined by support vectors (data points have the smallest distance to the hyperplanes). Meanwhile, in order to reduce model variance, the SVM model aims to find the maximum possible margins so that unseen data will be more likely to be classified correctly.\n"
      ]
    },
    {
      "cell_type": "markdown",
      "metadata": {
        "id": "35d7935e-1a7e-4421-b488-3562270d5ac4"
      },
      "source": [
        "<center>\n",
        "    <img src=\"https://cf-courses-data.s3.us.cloud-object-storage.appdomain.cloud/IBM-ML241EN-SkillsNetwork/labs/module3_svm/images/svm.png\" width=\"720\" alt=\"evaluation metrics\">\n",
        "</center>\n"
      ]
    },
    {
      "cell_type": "markdown",
      "metadata": {
        "id": "73902216-1e01-484a-9451-0efd67afbc81"
      },
      "source": [
        "SVM addresses non-linear separable via kernel trick. Kernels are a special type of function that takes two vectors and returns a real number, like a dot-product operation. As such, kernels are not any real mapping functions from low dimensional spaces to high dimensional spaces.\n"
      ]
    },
    {
      "cell_type": "markdown",
      "metadata": {
        "id": "77a994aa-7906-4332-b363-2b674b06d152"
      },
      "source": [
        "For example, suppose we have two vectors $x = (x_{1}, x_{2})$ and $y = (y_{1}, y_{2})$\n"
      ]
    },
    {
      "cell_type": "markdown",
      "metadata": {
        "id": "2811dc4f-7974-497d-a256-ece6a94df4fc"
      },
      "source": [
        "Now we have a simple polynomial kernel like the following:\n"
      ]
    },
    {
      "cell_type": "markdown",
      "metadata": {
        "id": "9d33f584-ad29-4bf9-a388-1ee31fc2ad95"
      },
      "source": [
        "$$k(x, y) = (x^Ty)^2$$\n"
      ]
    },
    {
      "cell_type": "markdown",
      "metadata": {
        "id": "f4b04036-06bc-4b2a-9260-315d61d313d8"
      },
      "source": [
        "If we apply the kernel on vector `x` and `y`, we will get:\n"
      ]
    },
    {
      "cell_type": "markdown",
      "metadata": {
        "id": "7190430a-0b9d-40af-b095-53051cd3daa3"
      },
      "source": [
        "$$k(x, y) = (x^Ty)^2 = (x_{1}y_{1} + x_{2}y_{2})^2 = x_{1}^2y_{1}^2 + x_{2}^2y_{2}^2 + 2x_{1}x_{2}y_{1}y_{2}$$\n"
      ]
    },
    {
      "cell_type": "markdown",
      "metadata": {
        "id": "6d896fa8-6db0-4a03-8d55-287673d77936"
      },
      "source": [
        "It can be seen as a dot-product between two higher-dimensional vectors (`3-dimensional`):\n"
      ]
    },
    {
      "cell_type": "markdown",
      "metadata": {
        "id": "a7543913-7a69-415a-aed8-be11e0023d82"
      },
      "source": [
        "$$\\hat{x} = (x_{1}^2, x_{2}^2, \\sqrt{2}x_{1}x_{2}) $$\n"
      ]
    },
    {
      "cell_type": "markdown",
      "metadata": {
        "id": "29454f59-3be2-409f-aa5a-fcc705ec898c"
      },
      "source": [
        "$$\\hat{y} = (y_{1}^2, x_{2}^2, \\sqrt{2}y_{1}y_{2})$$\n"
      ]
    },
    {
      "cell_type": "markdown",
      "metadata": {
        "id": "5c6790e8-c069-4ad0-ba1d-1338ecdde8aa"
      },
      "source": [
        "As such, computing the `k(x, y)` is equivalent to computing a dot-product of the higher dimensional vectors, without doing the actual feature space transforms. Consequently, SVM with non-linear kernels can transform existing features into high dimensional features that can be linearly separated in higher dimensional spaces.\n"
      ]
    },
    {
      "cell_type": "markdown",
      "metadata": {
        "id": "07a78b84-a970-4bc7-9e21-4b53147f55d9"
      },
      "source": [
        "***\n"
      ]
    },
    {
      "cell_type": "markdown",
      "metadata": {
        "id": "01fee4c2-1a88-4477-8e6a-bda37d9693e6"
      },
      "source": [
        "## Setup lab environment\n"
      ]
    },
    {
      "cell_type": "code",
      "metadata": {
        "colab": {
          "base_uri": "https://localhost:8080/"
        },
        "id": "84e511e0-7112-4cc0-b17e-e6714753ae01",
        "outputId": "7accfc99-c998-4dbd-cd5b-a82f4fe07b8b"
      },
      "outputs": [
        {
          "output_type": "stream",
          "name": "stdout",
          "text": [
            "Collecting imbalanced-learn==0.8.0\n",
            "  Downloading imbalanced_learn-0.8.0-py3-none-any.whl (206 kB)\n",
            "\u001b[?25l     \u001b[90m━━━━━━━━━━━━━━━━━━━━━━━━━━━━━━━━━━━━━━━━\u001b[0m \u001b[32m0.0/206.5 kB\u001b[0m \u001b[31m?\u001b[0m eta \u001b[36m-:--:--\u001b[0m\r\u001b[2K     \u001b[91m━━━━━━━\u001b[0m\u001b[91m╸\u001b[0m\u001b[90m━━━━━━━━━━━━━━━━━━━━━━━━━━━━━━━━\u001b[0m \u001b[32m41.0/206.5 kB\u001b[0m \u001b[31m1.3 MB/s\u001b[0m eta \u001b[36m0:00:01\u001b[0m\r\u001b[2K     \u001b[90m━━━━━━━━━━━━━━━━━━━━━━━━━━━━━━━━━━━━━━━━\u001b[0m \u001b[32m206.5/206.5 kB\u001b[0m \u001b[31m2.9 MB/s\u001b[0m eta \u001b[36m0:00:00\u001b[0m\n",
            "\u001b[?25hRequirement already satisfied: numpy>=1.13.3 in /usr/local/lib/python3.10/dist-packages (from imbalanced-learn==0.8.0) (1.25.2)\n",
            "Requirement already satisfied: scipy>=0.19.1 in /usr/local/lib/python3.10/dist-packages (from imbalanced-learn==0.8.0) (1.11.4)\n",
            "Requirement already satisfied: scikit-learn>=0.24 in /usr/local/lib/python3.10/dist-packages (from imbalanced-learn==0.8.0) (1.2.2)\n",
            "Requirement already satisfied: joblib>=0.11 in /usr/local/lib/python3.10/dist-packages (from imbalanced-learn==0.8.0) (1.4.2)\n",
            "Requirement already satisfied: threadpoolctl>=2.0.0 in /usr/local/lib/python3.10/dist-packages (from scikit-learn>=0.24->imbalanced-learn==0.8.0) (3.5.0)\n",
            "Installing collected packages: imbalanced-learn\n",
            "  Attempting uninstall: imbalanced-learn\n",
            "    Found existing installation: imbalanced-learn 0.10.1\n",
            "    Uninstalling imbalanced-learn-0.10.1:\n",
            "      Successfully uninstalled imbalanced-learn-0.10.1\n",
            "Successfully installed imbalanced-learn-0.8.0\n"
          ]
        }
      ],
      "source": [
        "# All Libraries required for this lab are listed below. The libraries pre-installed on Skills Network Labs are commented.\n",
        "# !mamba install -qy pandas==1.3.3 numpy==1.21.2 ipywidgets==7.4.2 scipy==7.4.2 tqdm==4.62.3 matplotlib==3.5.0 seaborn==0.9.0\n",
        "\n",
        "# install imbalanced-learn package\n",
        "!pip install imbalanced-learn==0.8.0\n",
        "# Note: If your environment doesn't support \"!mamba install\", use \"!pip install\""
      ],
      "execution_count": 1
    },
    {
      "cell_type": "code",
      "metadata": {
        "id": "586f9147-bd4e-416b-980e-1996d4fb656a"
      },
      "outputs": [],
      "source": [
        "# Import required packages\n",
        "import pandas as pd\n",
        "import numpy as np\n",
        "from sklearn.svm import SVC\n",
        "from sklearn.model_selection import train_test_split\n",
        "from sklearn import metrics\n",
        "from sklearn.model_selection import GridSearchCV\n",
        "from sklearn.preprocessing import MinMaxScaler\n",
        "# Evaluation metrics related methods\n",
        "from sklearn.metrics import classification_report, accuracy_score, f1_score, confusion_matrix, precision_recall_fscore_support, precision_score, recall_score\n",
        "\n",
        "import matplotlib.pyplot as plt\n",
        "import seaborn as sns\n",
        "from imblearn.under_sampling import RandomUnderSampler\n",
        "%matplotlib inline"
      ],
      "execution_count": 2
    },
    {
      "cell_type": "code",
      "metadata": {
        "id": "6657b06b-901e-499f-a1c1-e8f916af4905"
      },
      "outputs": [],
      "source": [
        "# Setup a random seed to be 123\n",
        "rs = 123"
      ],
      "execution_count": 3
    },
    {
      "cell_type": "markdown",
      "metadata": {
        "id": "1f5d9443-fdd8-49e2-b4ac-5deed59b0f06"
      },
      "source": [
        "## Load and explore dataset\n"
      ]
    },
    {
      "cell_type": "markdown",
      "metadata": {
        "id": "2ef8981b-9126-4f9c-aa0f-26dcc21e973c"
      },
      "source": [
        "Let's first load the dataset as a `Pandas` dataframe and conduct some basic explorations\n"
      ]
    },
    {
      "cell_type": "code",
      "metadata": {
        "id": "748c82e7-f481-4bf5-852e-dac6f6543d09"
      },
      "outputs": [],
      "source": [
        "# Load the dataset\n",
        "dataset_url = \"https://cf-courses-data.s3.us.cloud-object-storage.appdomain.cloud/IBM-ML241EN-SkillsNetwork/labs/datasets/food_items_binary.csv\"\n",
        "food_df = pd.read_csv(dataset_url)"
      ],
      "execution_count": 4
    },
    {
      "cell_type": "markdown",
      "metadata": {
        "id": "1dfe8992-bb61-45ba-80df-06ededbc97b3"
      },
      "source": [
        "and let's quickly looks at its first 5 rows\n"
      ]
    },
    {
      "cell_type": "code",
      "metadata": {
        "colab": {
          "base_uri": "https://localhost:8080/",
          "height": 363
        },
        "id": "755a2e0b-bf51-4a13-ab3c-790ee30b812a",
        "outputId": "08f2d5f0-2f83-4461-af93-a4d9af17c4df"
      },
      "outputs": [
        {
          "output_type": "execute_result",
          "data": {
            "text/plain": [
              "   Calories  Total Fat  Saturated Fat  Monounsaturated Fat  \\\n",
              "0     149.0          0            0.0                  0.0   \n",
              "1     123.0          0            0.0                  0.0   \n",
              "2     150.0          0            0.0                  0.0   \n",
              "3     110.0          0            0.0                  0.0   \n",
              "4     143.0          0            0.0                  0.0   \n",
              "5     110.0          0            0.0                  0.0   \n",
              "6     142.0          0            0.0                  0.0   \n",
              "7     102.0          0            0.0                  0.0   \n",
              "8     145.0          0            0.0                  0.0   \n",
              "9     171.0          0            0.0                  0.0   \n",
              "\n",
              "   Polyunsaturated Fat  Trans Fat  Cholesterol  Sodium  Total Carbohydrate  \\\n",
              "0                  0.0        0.0            0     9.0                 9.8   \n",
              "1                  0.0        0.0            0     5.0                 6.6   \n",
              "2                  0.0        0.0            0     4.0                11.4   \n",
              "3                  0.0        0.0            0     6.0                 7.0   \n",
              "4                  0.0        0.0            0     7.0                13.1   \n",
              "5                  0.0        0.0            0     6.0                 7.0   \n",
              "6                  0.0        0.0            0    12.0                10.6   \n",
              "7                  0.0        0.0            0    13.0                 5.0   \n",
              "8                  0.0        0.0            0    17.0                11.0   \n",
              "9                  0.0        0.0            0     8.0                13.7   \n",
              "\n",
              "   Dietary Fiber  Sugars  Sugar Alcohol  Protein  Vitamin A  Vitamin C  \\\n",
              "0            0.0     0.0              0      1.3          0          0   \n",
              "1            0.0     0.0              0      0.8          0          0   \n",
              "2            0.0     0.0              0      1.3          0          0   \n",
              "3            0.0     0.0              0      0.8          0          0   \n",
              "4            0.0     0.0              0      1.0          0          0   \n",
              "5            0.0     0.0              0      0.8          0          0   \n",
              "6            0.0     0.0              0      1.2          0          0   \n",
              "7            0.0     0.0              0      0.7          0          0   \n",
              "8            0.0     0.0              0      1.2          0          0   \n",
              "9            0.0     0.0              0      2.5          0          0   \n",
              "\n",
              "   Calcium  Iron  class  \n",
              "0        0     0      0  \n",
              "1        0     0      0  \n",
              "2        0     0      0  \n",
              "3        0     0      0  \n",
              "4        0     0      0  \n",
              "5        0     0      0  \n",
              "6        0     0      0  \n",
              "7        0     0      0  \n",
              "8        0     0      0  \n",
              "9        0     0      0  "
            ],
            "text/html": [
              "\n",
              "  <div id=\"df-9cb12bc2-df07-4a6c-acb0-435f4b12defb\" class=\"colab-df-container\">\n",
              "    <div>\n",
              "<style scoped>\n",
              "    .dataframe tbody tr th:only-of-type {\n",
              "        vertical-align: middle;\n",
              "    }\n",
              "\n",
              "    .dataframe tbody tr th {\n",
              "        vertical-align: top;\n",
              "    }\n",
              "\n",
              "    .dataframe thead th {\n",
              "        text-align: right;\n",
              "    }\n",
              "</style>\n",
              "<table border=\"1\" class=\"dataframe\">\n",
              "  <thead>\n",
              "    <tr style=\"text-align: right;\">\n",
              "      <th></th>\n",
              "      <th>Calories</th>\n",
              "      <th>Total Fat</th>\n",
              "      <th>Saturated Fat</th>\n",
              "      <th>Monounsaturated Fat</th>\n",
              "      <th>Polyunsaturated Fat</th>\n",
              "      <th>Trans Fat</th>\n",
              "      <th>Cholesterol</th>\n",
              "      <th>Sodium</th>\n",
              "      <th>Total Carbohydrate</th>\n",
              "      <th>Dietary Fiber</th>\n",
              "      <th>Sugars</th>\n",
              "      <th>Sugar Alcohol</th>\n",
              "      <th>Protein</th>\n",
              "      <th>Vitamin A</th>\n",
              "      <th>Vitamin C</th>\n",
              "      <th>Calcium</th>\n",
              "      <th>Iron</th>\n",
              "      <th>class</th>\n",
              "    </tr>\n",
              "  </thead>\n",
              "  <tbody>\n",
              "    <tr>\n",
              "      <th>0</th>\n",
              "      <td>149.0</td>\n",
              "      <td>0</td>\n",
              "      <td>0.0</td>\n",
              "      <td>0.0</td>\n",
              "      <td>0.0</td>\n",
              "      <td>0.0</td>\n",
              "      <td>0</td>\n",
              "      <td>9.0</td>\n",
              "      <td>9.8</td>\n",
              "      <td>0.0</td>\n",
              "      <td>0.0</td>\n",
              "      <td>0</td>\n",
              "      <td>1.3</td>\n",
              "      <td>0</td>\n",
              "      <td>0</td>\n",
              "      <td>0</td>\n",
              "      <td>0</td>\n",
              "      <td>0</td>\n",
              "    </tr>\n",
              "    <tr>\n",
              "      <th>1</th>\n",
              "      <td>123.0</td>\n",
              "      <td>0</td>\n",
              "      <td>0.0</td>\n",
              "      <td>0.0</td>\n",
              "      <td>0.0</td>\n",
              "      <td>0.0</td>\n",
              "      <td>0</td>\n",
              "      <td>5.0</td>\n",
              "      <td>6.6</td>\n",
              "      <td>0.0</td>\n",
              "      <td>0.0</td>\n",
              "      <td>0</td>\n",
              "      <td>0.8</td>\n",
              "      <td>0</td>\n",
              "      <td>0</td>\n",
              "      <td>0</td>\n",
              "      <td>0</td>\n",
              "      <td>0</td>\n",
              "    </tr>\n",
              "    <tr>\n",
              "      <th>2</th>\n",
              "      <td>150.0</td>\n",
              "      <td>0</td>\n",
              "      <td>0.0</td>\n",
              "      <td>0.0</td>\n",
              "      <td>0.0</td>\n",
              "      <td>0.0</td>\n",
              "      <td>0</td>\n",
              "      <td>4.0</td>\n",
              "      <td>11.4</td>\n",
              "      <td>0.0</td>\n",
              "      <td>0.0</td>\n",
              "      <td>0</td>\n",
              "      <td>1.3</td>\n",
              "      <td>0</td>\n",
              "      <td>0</td>\n",
              "      <td>0</td>\n",
              "      <td>0</td>\n",
              "      <td>0</td>\n",
              "    </tr>\n",
              "    <tr>\n",
              "      <th>3</th>\n",
              "      <td>110.0</td>\n",
              "      <td>0</td>\n",
              "      <td>0.0</td>\n",
              "      <td>0.0</td>\n",
              "      <td>0.0</td>\n",
              "      <td>0.0</td>\n",
              "      <td>0</td>\n",
              "      <td>6.0</td>\n",
              "      <td>7.0</td>\n",
              "      <td>0.0</td>\n",
              "      <td>0.0</td>\n",
              "      <td>0</td>\n",
              "      <td>0.8</td>\n",
              "      <td>0</td>\n",
              "      <td>0</td>\n",
              "      <td>0</td>\n",
              "      <td>0</td>\n",
              "      <td>0</td>\n",
              "    </tr>\n",
              "    <tr>\n",
              "      <th>4</th>\n",
              "      <td>143.0</td>\n",
              "      <td>0</td>\n",
              "      <td>0.0</td>\n",
              "      <td>0.0</td>\n",
              "      <td>0.0</td>\n",
              "      <td>0.0</td>\n",
              "      <td>0</td>\n",
              "      <td>7.0</td>\n",
              "      <td>13.1</td>\n",
              "      <td>0.0</td>\n",
              "      <td>0.0</td>\n",
              "      <td>0</td>\n",
              "      <td>1.0</td>\n",
              "      <td>0</td>\n",
              "      <td>0</td>\n",
              "      <td>0</td>\n",
              "      <td>0</td>\n",
              "      <td>0</td>\n",
              "    </tr>\n",
              "    <tr>\n",
              "      <th>5</th>\n",
              "      <td>110.0</td>\n",
              "      <td>0</td>\n",
              "      <td>0.0</td>\n",
              "      <td>0.0</td>\n",
              "      <td>0.0</td>\n",
              "      <td>0.0</td>\n",
              "      <td>0</td>\n",
              "      <td>6.0</td>\n",
              "      <td>7.0</td>\n",
              "      <td>0.0</td>\n",
              "      <td>0.0</td>\n",
              "      <td>0</td>\n",
              "      <td>0.8</td>\n",
              "      <td>0</td>\n",
              "      <td>0</td>\n",
              "      <td>0</td>\n",
              "      <td>0</td>\n",
              "      <td>0</td>\n",
              "    </tr>\n",
              "    <tr>\n",
              "      <th>6</th>\n",
              "      <td>142.0</td>\n",
              "      <td>0</td>\n",
              "      <td>0.0</td>\n",
              "      <td>0.0</td>\n",
              "      <td>0.0</td>\n",
              "      <td>0.0</td>\n",
              "      <td>0</td>\n",
              "      <td>12.0</td>\n",
              "      <td>10.6</td>\n",
              "      <td>0.0</td>\n",
              "      <td>0.0</td>\n",
              "      <td>0</td>\n",
              "      <td>1.2</td>\n",
              "      <td>0</td>\n",
              "      <td>0</td>\n",
              "      <td>0</td>\n",
              "      <td>0</td>\n",
              "      <td>0</td>\n",
              "    </tr>\n",
              "    <tr>\n",
              "      <th>7</th>\n",
              "      <td>102.0</td>\n",
              "      <td>0</td>\n",
              "      <td>0.0</td>\n",
              "      <td>0.0</td>\n",
              "      <td>0.0</td>\n",
              "      <td>0.0</td>\n",
              "      <td>0</td>\n",
              "      <td>13.0</td>\n",
              "      <td>5.0</td>\n",
              "      <td>0.0</td>\n",
              "      <td>0.0</td>\n",
              "      <td>0</td>\n",
              "      <td>0.7</td>\n",
              "      <td>0</td>\n",
              "      <td>0</td>\n",
              "      <td>0</td>\n",
              "      <td>0</td>\n",
              "      <td>0</td>\n",
              "    </tr>\n",
              "    <tr>\n",
              "      <th>8</th>\n",
              "      <td>145.0</td>\n",
              "      <td>0</td>\n",
              "      <td>0.0</td>\n",
              "      <td>0.0</td>\n",
              "      <td>0.0</td>\n",
              "      <td>0.0</td>\n",
              "      <td>0</td>\n",
              "      <td>17.0</td>\n",
              "      <td>11.0</td>\n",
              "      <td>0.0</td>\n",
              "      <td>0.0</td>\n",
              "      <td>0</td>\n",
              "      <td>1.2</td>\n",
              "      <td>0</td>\n",
              "      <td>0</td>\n",
              "      <td>0</td>\n",
              "      <td>0</td>\n",
              "      <td>0</td>\n",
              "    </tr>\n",
              "    <tr>\n",
              "      <th>9</th>\n",
              "      <td>171.0</td>\n",
              "      <td>0</td>\n",
              "      <td>0.0</td>\n",
              "      <td>0.0</td>\n",
              "      <td>0.0</td>\n",
              "      <td>0.0</td>\n",
              "      <td>0</td>\n",
              "      <td>8.0</td>\n",
              "      <td>13.7</td>\n",
              "      <td>0.0</td>\n",
              "      <td>0.0</td>\n",
              "      <td>0</td>\n",
              "      <td>2.5</td>\n",
              "      <td>0</td>\n",
              "      <td>0</td>\n",
              "      <td>0</td>\n",
              "      <td>0</td>\n",
              "      <td>0</td>\n",
              "    </tr>\n",
              "  </tbody>\n",
              "</table>\n",
              "</div>\n",
              "    <div class=\"colab-df-buttons\">\n",
              "\n",
              "  <div class=\"colab-df-container\">\n",
              "    <button class=\"colab-df-convert\" onclick=\"convertToInteractive('df-9cb12bc2-df07-4a6c-acb0-435f4b12defb')\"\n",
              "            title=\"Convert this dataframe to an interactive table.\"\n",
              "            style=\"display:none;\">\n",
              "\n",
              "  <svg xmlns=\"http://www.w3.org/2000/svg\" height=\"24px\" viewBox=\"0 -960 960 960\">\n",
              "    <path d=\"M120-120v-720h720v720H120Zm60-500h600v-160H180v160Zm220 220h160v-160H400v160Zm0 220h160v-160H400v160ZM180-400h160v-160H180v160Zm440 0h160v-160H620v160ZM180-180h160v-160H180v160Zm440 0h160v-160H620v160Z\"/>\n",
              "  </svg>\n",
              "    </button>\n",
              "\n",
              "  <style>\n",
              "    .colab-df-container {\n",
              "      display:flex;\n",
              "      gap: 12px;\n",
              "    }\n",
              "\n",
              "    .colab-df-convert {\n",
              "      background-color: #E8F0FE;\n",
              "      border: none;\n",
              "      border-radius: 50%;\n",
              "      cursor: pointer;\n",
              "      display: none;\n",
              "      fill: #1967D2;\n",
              "      height: 32px;\n",
              "      padding: 0 0 0 0;\n",
              "      width: 32px;\n",
              "    }\n",
              "\n",
              "    .colab-df-convert:hover {\n",
              "      background-color: #E2EBFA;\n",
              "      box-shadow: 0px 1px 2px rgba(60, 64, 67, 0.3), 0px 1px 3px 1px rgba(60, 64, 67, 0.15);\n",
              "      fill: #174EA6;\n",
              "    }\n",
              "\n",
              "    .colab-df-buttons div {\n",
              "      margin-bottom: 4px;\n",
              "    }\n",
              "\n",
              "    [theme=dark] .colab-df-convert {\n",
              "      background-color: #3B4455;\n",
              "      fill: #D2E3FC;\n",
              "    }\n",
              "\n",
              "    [theme=dark] .colab-df-convert:hover {\n",
              "      background-color: #434B5C;\n",
              "      box-shadow: 0px 1px 3px 1px rgba(0, 0, 0, 0.15);\n",
              "      filter: drop-shadow(0px 1px 2px rgba(0, 0, 0, 0.3));\n",
              "      fill: #FFFFFF;\n",
              "    }\n",
              "  </style>\n",
              "\n",
              "    <script>\n",
              "      const buttonEl =\n",
              "        document.querySelector('#df-9cb12bc2-df07-4a6c-acb0-435f4b12defb button.colab-df-convert');\n",
              "      buttonEl.style.display =\n",
              "        google.colab.kernel.accessAllowed ? 'block' : 'none';\n",
              "\n",
              "      async function convertToInteractive(key) {\n",
              "        const element = document.querySelector('#df-9cb12bc2-df07-4a6c-acb0-435f4b12defb');\n",
              "        const dataTable =\n",
              "          await google.colab.kernel.invokeFunction('convertToInteractive',\n",
              "                                                    [key], {});\n",
              "        if (!dataTable) return;\n",
              "\n",
              "        const docLinkHtml = 'Like what you see? Visit the ' +\n",
              "          '<a target=\"_blank\" href=https://colab.research.google.com/notebooks/data_table.ipynb>data table notebook</a>'\n",
              "          + ' to learn more about interactive tables.';\n",
              "        element.innerHTML = '';\n",
              "        dataTable['output_type'] = 'display_data';\n",
              "        await google.colab.output.renderOutput(dataTable, element);\n",
              "        const docLink = document.createElement('div');\n",
              "        docLink.innerHTML = docLinkHtml;\n",
              "        element.appendChild(docLink);\n",
              "      }\n",
              "    </script>\n",
              "  </div>\n",
              "\n",
              "\n",
              "<div id=\"df-272d145f-035e-4a26-974c-b49103dce0b7\">\n",
              "  <button class=\"colab-df-quickchart\" onclick=\"quickchart('df-272d145f-035e-4a26-974c-b49103dce0b7')\"\n",
              "            title=\"Suggest charts\"\n",
              "            style=\"display:none;\">\n",
              "\n",
              "<svg xmlns=\"http://www.w3.org/2000/svg\" height=\"24px\"viewBox=\"0 0 24 24\"\n",
              "     width=\"24px\">\n",
              "    <g>\n",
              "        <path d=\"M19 3H5c-1.1 0-2 .9-2 2v14c0 1.1.9 2 2 2h14c1.1 0 2-.9 2-2V5c0-1.1-.9-2-2-2zM9 17H7v-7h2v7zm4 0h-2V7h2v10zm4 0h-2v-4h2v4z\"/>\n",
              "    </g>\n",
              "</svg>\n",
              "  </button>\n",
              "\n",
              "<style>\n",
              "  .colab-df-quickchart {\n",
              "      --bg-color: #E8F0FE;\n",
              "      --fill-color: #1967D2;\n",
              "      --hover-bg-color: #E2EBFA;\n",
              "      --hover-fill-color: #174EA6;\n",
              "      --disabled-fill-color: #AAA;\n",
              "      --disabled-bg-color: #DDD;\n",
              "  }\n",
              "\n",
              "  [theme=dark] .colab-df-quickchart {\n",
              "      --bg-color: #3B4455;\n",
              "      --fill-color: #D2E3FC;\n",
              "      --hover-bg-color: #434B5C;\n",
              "      --hover-fill-color: #FFFFFF;\n",
              "      --disabled-bg-color: #3B4455;\n",
              "      --disabled-fill-color: #666;\n",
              "  }\n",
              "\n",
              "  .colab-df-quickchart {\n",
              "    background-color: var(--bg-color);\n",
              "    border: none;\n",
              "    border-radius: 50%;\n",
              "    cursor: pointer;\n",
              "    display: none;\n",
              "    fill: var(--fill-color);\n",
              "    height: 32px;\n",
              "    padding: 0;\n",
              "    width: 32px;\n",
              "  }\n",
              "\n",
              "  .colab-df-quickchart:hover {\n",
              "    background-color: var(--hover-bg-color);\n",
              "    box-shadow: 0 1px 2px rgba(60, 64, 67, 0.3), 0 1px 3px 1px rgba(60, 64, 67, 0.15);\n",
              "    fill: var(--button-hover-fill-color);\n",
              "  }\n",
              "\n",
              "  .colab-df-quickchart-complete:disabled,\n",
              "  .colab-df-quickchart-complete:disabled:hover {\n",
              "    background-color: var(--disabled-bg-color);\n",
              "    fill: var(--disabled-fill-color);\n",
              "    box-shadow: none;\n",
              "  }\n",
              "\n",
              "  .colab-df-spinner {\n",
              "    border: 2px solid var(--fill-color);\n",
              "    border-color: transparent;\n",
              "    border-bottom-color: var(--fill-color);\n",
              "    animation:\n",
              "      spin 1s steps(1) infinite;\n",
              "  }\n",
              "\n",
              "  @keyframes spin {\n",
              "    0% {\n",
              "      border-color: transparent;\n",
              "      border-bottom-color: var(--fill-color);\n",
              "      border-left-color: var(--fill-color);\n",
              "    }\n",
              "    20% {\n",
              "      border-color: transparent;\n",
              "      border-left-color: var(--fill-color);\n",
              "      border-top-color: var(--fill-color);\n",
              "    }\n",
              "    30% {\n",
              "      border-color: transparent;\n",
              "      border-left-color: var(--fill-color);\n",
              "      border-top-color: var(--fill-color);\n",
              "      border-right-color: var(--fill-color);\n",
              "    }\n",
              "    40% {\n",
              "      border-color: transparent;\n",
              "      border-right-color: var(--fill-color);\n",
              "      border-top-color: var(--fill-color);\n",
              "    }\n",
              "    60% {\n",
              "      border-color: transparent;\n",
              "      border-right-color: var(--fill-color);\n",
              "    }\n",
              "    80% {\n",
              "      border-color: transparent;\n",
              "      border-right-color: var(--fill-color);\n",
              "      border-bottom-color: var(--fill-color);\n",
              "    }\n",
              "    90% {\n",
              "      border-color: transparent;\n",
              "      border-bottom-color: var(--fill-color);\n",
              "    }\n",
              "  }\n",
              "</style>\n",
              "\n",
              "  <script>\n",
              "    async function quickchart(key) {\n",
              "      const quickchartButtonEl =\n",
              "        document.querySelector('#' + key + ' button');\n",
              "      quickchartButtonEl.disabled = true;  // To prevent multiple clicks.\n",
              "      quickchartButtonEl.classList.add('colab-df-spinner');\n",
              "      try {\n",
              "        const charts = await google.colab.kernel.invokeFunction(\n",
              "            'suggestCharts', [key], {});\n",
              "      } catch (error) {\n",
              "        console.error('Error during call to suggestCharts:', error);\n",
              "      }\n",
              "      quickchartButtonEl.classList.remove('colab-df-spinner');\n",
              "      quickchartButtonEl.classList.add('colab-df-quickchart-complete');\n",
              "    }\n",
              "    (() => {\n",
              "      let quickchartButtonEl =\n",
              "        document.querySelector('#df-272d145f-035e-4a26-974c-b49103dce0b7 button');\n",
              "      quickchartButtonEl.style.display =\n",
              "        google.colab.kernel.accessAllowed ? 'block' : 'none';\n",
              "    })();\n",
              "  </script>\n",
              "</div>\n",
              "    </div>\n",
              "  </div>\n"
            ],
            "application/vnd.google.colaboratory.intrinsic+json": {
              "type": "dataframe",
              "variable_name": "food_df",
              "summary": "{\n  \"name\": \"food_df\",\n  \"rows\": 7639,\n  \"fields\": [\n    {\n      \"column\": \"Calories\",\n      \"properties\": {\n        \"dtype\": \"number\",\n        \"std\": 77.22436793756036,\n        \"min\": 0.0,\n        \"max\": 2210.0,\n        \"num_unique_values\": 206,\n        \"samples\": [\n          97.0,\n          148.0,\n          49.0\n        ],\n        \"semantic_type\": \"\",\n        \"description\": \"\"\n      }\n    },\n    {\n      \"column\": \"Total Fat\",\n      \"properties\": {\n        \"dtype\": \"number\",\n        \"std\": 3,\n        \"min\": 0,\n        \"max\": 24,\n        \"num_unique_values\": 24,\n        \"samples\": [\n          9,\n          18,\n          0\n        ],\n        \"semantic_type\": \"\",\n        \"description\": \"\"\n      }\n    },\n    {\n      \"column\": \"Saturated Fat\",\n      \"properties\": {\n        \"dtype\": \"number\",\n        \"std\": 0.7371641583467596,\n        \"min\": 0.0,\n        \"max\": 8.0,\n        \"num_unique_values\": 27,\n        \"samples\": [\n          5.0,\n          4.5,\n          2.6\n        ],\n        \"semantic_type\": \"\",\n        \"description\": \"\"\n      }\n    },\n    {\n      \"column\": \"Monounsaturated Fat\",\n      \"properties\": {\n        \"dtype\": \"number\",\n        \"std\": 1.3102595444091396,\n        \"min\": 0.0,\n        \"max\": 16.8,\n        \"num_unique_values\": 36,\n        \"samples\": [\n          0.4,\n          4.5,\n          0.2\n        ],\n        \"semantic_type\": \"\",\n        \"description\": \"\"\n      }\n    },\n    {\n      \"column\": \"Polyunsaturated Fat\",\n      \"properties\": {\n        \"dtype\": \"number\",\n        \"std\": 2.848249532155882,\n        \"min\": 0.0,\n        \"max\": 235.0,\n        \"num_unique_values\": 36,\n        \"samples\": [\n          14.0,\n          5.0,\n          6.1\n        ],\n        \"semantic_type\": \"\",\n        \"description\": \"\"\n      }\n    },\n    {\n      \"column\": \"Trans Fat\",\n      \"properties\": {\n        \"dtype\": \"number\",\n        \"std\": 0.09478291692649185,\n        \"min\": 0.0,\n        \"max\": 2.5,\n        \"num_unique_values\": 6,\n        \"samples\": [\n          0.0,\n          1.5,\n          2.5\n        ],\n        \"semantic_type\": \"\",\n        \"description\": \"\"\n      }\n    },\n    {\n      \"column\": \"Cholesterol\",\n      \"properties\": {\n        \"dtype\": \"number\",\n        \"std\": 14,\n        \"min\": 0,\n        \"max\": 450,\n        \"num_unique_values\": 74,\n        \"samples\": [\n          115,\n          76,\n          60\n        ],\n        \"semantic_type\": \"\",\n        \"description\": \"\"\n      }\n    },\n    {\n      \"column\": \"Sodium\",\n      \"properties\": {\n        \"dtype\": \"number\",\n        \"std\": 252.43816302773925,\n        \"min\": 0.0,\n        \"max\": 2220.0,\n        \"num_unique_values\": 264,\n        \"samples\": [\n          810.0,\n          67.0,\n          320.0\n        ],\n        \"semantic_type\": \"\",\n        \"description\": \"\"\n      }\n    },\n    {\n      \"column\": \"Total Carbohydrate\",\n      \"properties\": {\n        \"dtype\": \"number\",\n        \"std\": 14.028569603341436,\n        \"min\": 0.0,\n        \"max\": 270.0,\n        \"num_unique_values\": 92,\n        \"samples\": [\n          39.0,\n          5.5,\n          22.0\n        ],\n        \"semantic_type\": \"\",\n        \"description\": \"\"\n      }\n    },\n    {\n      \"column\": \"Dietary Fiber\",\n      \"properties\": {\n        \"dtype\": \"number\",\n        \"std\": 4.099946961926203,\n        \"min\": 0.0,\n        \"max\": 305.0,\n        \"num_unique_values\": 28,\n        \"samples\": [\n          7.0,\n          6.5,\n          14.0\n        ],\n        \"semantic_type\": \"\",\n        \"description\": \"\"\n      }\n    },\n    {\n      \"column\": \"Sugars\",\n      \"properties\": {\n        \"dtype\": \"number\",\n        \"std\": 5.013684890075082,\n        \"min\": 0.0,\n        \"max\": 39.0,\n        \"num_unique_values\": 37,\n        \"samples\": [\n          6.0,\n          9.0,\n          7.0\n        ],\n        \"semantic_type\": \"\",\n        \"description\": \"\"\n      }\n    },\n    {\n      \"column\": \"Sugar Alcohol\",\n      \"properties\": {\n        \"dtype\": \"number\",\n        \"std\": 0,\n        \"min\": 0,\n        \"max\": 19,\n        \"num_unique_values\": 17,\n        \"samples\": [\n          0,\n          5,\n          8\n        ],\n        \"semantic_type\": \"\",\n        \"description\": \"\"\n      }\n    },\n    {\n      \"column\": \"Protein\",\n      \"properties\": {\n        \"dtype\": \"number\",\n        \"std\": 5.3498805721183,\n        \"min\": 0.0,\n        \"max\": 70.0,\n        \"num_unique_values\": 56,\n        \"samples\": [\n          1.3,\n          2.5,\n          23.0\n        ],\n        \"semantic_type\": \"\",\n        \"description\": \"\"\n      }\n    },\n    {\n      \"column\": \"Vitamin A\",\n      \"properties\": {\n        \"dtype\": \"number\",\n        \"std\": 19,\n        \"min\": 0,\n        \"max\": 370,\n        \"num_unique_values\": 59,\n        \"samples\": [\n          0,\n          45,\n          7\n        ],\n        \"semantic_type\": \"\",\n        \"description\": \"\"\n      }\n    },\n    {\n      \"column\": \"Vitamin C\",\n      \"properties\": {\n        \"dtype\": \"number\",\n        \"std\": 19,\n        \"min\": 0,\n        \"max\": 280,\n        \"num_unique_values\": 54,\n        \"samples\": [\n          170,\n          86,\n          53\n        ],\n        \"semantic_type\": \"\",\n        \"description\": \"\"\n      }\n    },\n    {\n      \"column\": \"Calcium\",\n      \"properties\": {\n        \"dtype\": \"number\",\n        \"std\": 7,\n        \"min\": 0,\n        \"max\": 110,\n        \"num_unique_values\": 32,\n        \"samples\": [\n          12,\n          50,\n          49\n        ],\n        \"semantic_type\": \"\",\n        \"description\": \"\"\n      }\n    },\n    {\n      \"column\": \"Iron\",\n      \"properties\": {\n        \"dtype\": \"number\",\n        \"std\": 9,\n        \"min\": 0,\n        \"max\": 100,\n        \"num_unique_values\": 33,\n        \"samples\": [\n          84,\n          60,\n          16\n        ],\n        \"semantic_type\": \"\",\n        \"description\": \"\"\n      }\n    },\n    {\n      \"column\": \"class\",\n      \"properties\": {\n        \"dtype\": \"number\",\n        \"std\": 0,\n        \"min\": 0,\n        \"max\": 1,\n        \"num_unique_values\": 2,\n        \"samples\": [\n          1,\n          0\n        ],\n        \"semantic_type\": \"\",\n        \"description\": \"\"\n      }\n    }\n  ]\n}"
            }
          },
          "metadata": {},
          "execution_count": 5
        }
      ],
      "source": [
        "food_df.head(10)"
      ],
      "execution_count": 5
    },
    {
      "cell_type": "code",
      "metadata": {
        "colab": {
          "base_uri": "https://localhost:8080/"
        },
        "id": "98fcb4bc-4d16-4a32-9ff5-93c81a163c4a",
        "outputId": "de282430-dac2-494a-8c98-52d7d4ab6239"
      },
      "outputs": [
        {
          "output_type": "execute_result",
          "data": {
            "text/plain": [
              "['Calories',\n",
              " 'Total Fat',\n",
              " 'Saturated Fat',\n",
              " 'Monounsaturated Fat',\n",
              " 'Polyunsaturated Fat',\n",
              " 'Trans Fat',\n",
              " 'Cholesterol',\n",
              " 'Sodium',\n",
              " 'Total Carbohydrate',\n",
              " 'Dietary Fiber',\n",
              " 'Sugars',\n",
              " 'Sugar Alcohol',\n",
              " 'Protein',\n",
              " 'Vitamin A',\n",
              " 'Vitamin C',\n",
              " 'Calcium',\n",
              " 'Iron']"
            ]
          },
          "metadata": {},
          "execution_count": 6
        }
      ],
      "source": [
        "# Get the row entries with col 0 to -1 (16)\n",
        "feature_cols = list(food_df.iloc[:, :-1].columns)\n",
        "feature_cols"
      ],
      "execution_count": 6
    },
    {
      "cell_type": "code",
      "metadata": {
        "id": "d119b27d-4c68-41e3-9bc8-fd4f4a64fa43"
      },
      "outputs": [],
      "source": [
        "X = food_df.iloc[:, :-1]\n",
        "y = food_df.iloc[:, -1:]"
      ],
      "execution_count": 7
    },
    {
      "cell_type": "code",
      "metadata": {
        "colab": {
          "base_uri": "https://localhost:8080/",
          "height": 338
        },
        "id": "3b90465e-5134-4f5c-bdd9-2da9560bb506",
        "outputId": "a54868f2-f6f9-45b4-e9e2-dab6284bd4f2"
      },
      "outputs": [
        {
          "output_type": "execute_result",
          "data": {
            "text/plain": [
              "          Calories    Total Fat  Saturated Fat  Monounsaturated Fat  \\\n",
              "count  7639.000000  7639.000000    7639.000000          7639.000000   \n",
              "mean    105.098835     2.318235       0.368920             0.309216   \n",
              "std      77.224368     3.438941       0.737164             1.310260   \n",
              "min       0.000000     0.000000       0.000000             0.000000   \n",
              "25%      50.000000     0.000000       0.000000             0.000000   \n",
              "50%     100.000000     1.000000       0.000000             0.000000   \n",
              "75%     140.000000     3.000000       0.500000             0.000000   \n",
              "max    2210.000000    24.000000       8.000000            16.800000   \n",
              "\n",
              "       Polyunsaturated Fat    Trans Fat  Cholesterol       Sodium  \\\n",
              "count          7639.000000  7639.000000  7639.000000  7639.000000   \n",
              "mean              0.264116     0.007069     4.308679   235.053659   \n",
              "std               2.848250     0.094783    14.788162   252.438163   \n",
              "min               0.000000     0.000000     0.000000     0.000000   \n",
              "25%               0.000000     0.000000     0.000000    20.000000   \n",
              "50%               0.000000     0.000000     0.000000   150.000000   \n",
              "75%               0.000000     0.000000     0.000000   375.500000   \n",
              "max             235.000000     2.500000   450.000000  2220.000000   \n",
              "\n",
              "       Total Carbohydrate  Dietary Fiber       Sugars  Sugar Alcohol  \\\n",
              "count         7639.000000    7639.000000  7639.000000    7639.000000   \n",
              "mean            15.510719       1.806074     3.734756       0.059039   \n",
              "std             14.028570       4.099947     5.013685       0.771173   \n",
              "min              0.000000       0.000000     0.000000       0.000000   \n",
              "25%              3.700000       0.000000     0.000000       0.000000   \n",
              "50%             13.000000       1.000000     2.000000       0.000000   \n",
              "75%             24.000000       3.000000     5.000000       0.000000   \n",
              "max            270.000000     305.000000    39.000000      19.000000   \n",
              "\n",
              "           Protein    Vitamin A    Vitamin C      Calcium         Iron  \n",
              "count  7639.000000  7639.000000  7639.000000  7639.000000  7639.000000  \n",
              "mean      4.298975     6.636733     6.487237     3.937688     5.510014  \n",
              "std       5.349881    19.658111    19.566500     7.892694     9.855960  \n",
              "min       0.000000     0.000000     0.000000     0.000000     0.000000  \n",
              "25%       0.100000     0.000000     0.000000     0.000000     0.000000  \n",
              "50%       3.000000     0.000000     0.000000     0.000000     2.000000  \n",
              "75%       6.000000     6.000000     4.000000     4.000000     8.000000  \n",
              "max      70.000000   370.000000   280.000000   110.000000   100.000000  "
            ],
            "text/html": [
              "\n",
              "  <div id=\"df-490c8577-4f83-4f2a-a0bd-81678a5c5696\" class=\"colab-df-container\">\n",
              "    <div>\n",
              "<style scoped>\n",
              "    .dataframe tbody tr th:only-of-type {\n",
              "        vertical-align: middle;\n",
              "    }\n",
              "\n",
              "    .dataframe tbody tr th {\n",
              "        vertical-align: top;\n",
              "    }\n",
              "\n",
              "    .dataframe thead th {\n",
              "        text-align: right;\n",
              "    }\n",
              "</style>\n",
              "<table border=\"1\" class=\"dataframe\">\n",
              "  <thead>\n",
              "    <tr style=\"text-align: right;\">\n",
              "      <th></th>\n",
              "      <th>Calories</th>\n",
              "      <th>Total Fat</th>\n",
              "      <th>Saturated Fat</th>\n",
              "      <th>Monounsaturated Fat</th>\n",
              "      <th>Polyunsaturated Fat</th>\n",
              "      <th>Trans Fat</th>\n",
              "      <th>Cholesterol</th>\n",
              "      <th>Sodium</th>\n",
              "      <th>Total Carbohydrate</th>\n",
              "      <th>Dietary Fiber</th>\n",
              "      <th>Sugars</th>\n",
              "      <th>Sugar Alcohol</th>\n",
              "      <th>Protein</th>\n",
              "      <th>Vitamin A</th>\n",
              "      <th>Vitamin C</th>\n",
              "      <th>Calcium</th>\n",
              "      <th>Iron</th>\n",
              "    </tr>\n",
              "  </thead>\n",
              "  <tbody>\n",
              "    <tr>\n",
              "      <th>count</th>\n",
              "      <td>7639.000000</td>\n",
              "      <td>7639.000000</td>\n",
              "      <td>7639.000000</td>\n",
              "      <td>7639.000000</td>\n",
              "      <td>7639.000000</td>\n",
              "      <td>7639.000000</td>\n",
              "      <td>7639.000000</td>\n",
              "      <td>7639.000000</td>\n",
              "      <td>7639.000000</td>\n",
              "      <td>7639.000000</td>\n",
              "      <td>7639.000000</td>\n",
              "      <td>7639.000000</td>\n",
              "      <td>7639.000000</td>\n",
              "      <td>7639.000000</td>\n",
              "      <td>7639.000000</td>\n",
              "      <td>7639.000000</td>\n",
              "      <td>7639.000000</td>\n",
              "    </tr>\n",
              "    <tr>\n",
              "      <th>mean</th>\n",
              "      <td>105.098835</td>\n",
              "      <td>2.318235</td>\n",
              "      <td>0.368920</td>\n",
              "      <td>0.309216</td>\n",
              "      <td>0.264116</td>\n",
              "      <td>0.007069</td>\n",
              "      <td>4.308679</td>\n",
              "      <td>235.053659</td>\n",
              "      <td>15.510719</td>\n",
              "      <td>1.806074</td>\n",
              "      <td>3.734756</td>\n",
              "      <td>0.059039</td>\n",
              "      <td>4.298975</td>\n",
              "      <td>6.636733</td>\n",
              "      <td>6.487237</td>\n",
              "      <td>3.937688</td>\n",
              "      <td>5.510014</td>\n",
              "    </tr>\n",
              "    <tr>\n",
              "      <th>std</th>\n",
              "      <td>77.224368</td>\n",
              "      <td>3.438941</td>\n",
              "      <td>0.737164</td>\n",
              "      <td>1.310260</td>\n",
              "      <td>2.848250</td>\n",
              "      <td>0.094783</td>\n",
              "      <td>14.788162</td>\n",
              "      <td>252.438163</td>\n",
              "      <td>14.028570</td>\n",
              "      <td>4.099947</td>\n",
              "      <td>5.013685</td>\n",
              "      <td>0.771173</td>\n",
              "      <td>5.349881</td>\n",
              "      <td>19.658111</td>\n",
              "      <td>19.566500</td>\n",
              "      <td>7.892694</td>\n",
              "      <td>9.855960</td>\n",
              "    </tr>\n",
              "    <tr>\n",
              "      <th>min</th>\n",
              "      <td>0.000000</td>\n",
              "      <td>0.000000</td>\n",
              "      <td>0.000000</td>\n",
              "      <td>0.000000</td>\n",
              "      <td>0.000000</td>\n",
              "      <td>0.000000</td>\n",
              "      <td>0.000000</td>\n",
              "      <td>0.000000</td>\n",
              "      <td>0.000000</td>\n",
              "      <td>0.000000</td>\n",
              "      <td>0.000000</td>\n",
              "      <td>0.000000</td>\n",
              "      <td>0.000000</td>\n",
              "      <td>0.000000</td>\n",
              "      <td>0.000000</td>\n",
              "      <td>0.000000</td>\n",
              "      <td>0.000000</td>\n",
              "    </tr>\n",
              "    <tr>\n",
              "      <th>25%</th>\n",
              "      <td>50.000000</td>\n",
              "      <td>0.000000</td>\n",
              "      <td>0.000000</td>\n",
              "      <td>0.000000</td>\n",
              "      <td>0.000000</td>\n",
              "      <td>0.000000</td>\n",
              "      <td>0.000000</td>\n",
              "      <td>20.000000</td>\n",
              "      <td>3.700000</td>\n",
              "      <td>0.000000</td>\n",
              "      <td>0.000000</td>\n",
              "      <td>0.000000</td>\n",
              "      <td>0.100000</td>\n",
              "      <td>0.000000</td>\n",
              "      <td>0.000000</td>\n",
              "      <td>0.000000</td>\n",
              "      <td>0.000000</td>\n",
              "    </tr>\n",
              "    <tr>\n",
              "      <th>50%</th>\n",
              "      <td>100.000000</td>\n",
              "      <td>1.000000</td>\n",
              "      <td>0.000000</td>\n",
              "      <td>0.000000</td>\n",
              "      <td>0.000000</td>\n",
              "      <td>0.000000</td>\n",
              "      <td>0.000000</td>\n",
              "      <td>150.000000</td>\n",
              "      <td>13.000000</td>\n",
              "      <td>1.000000</td>\n",
              "      <td>2.000000</td>\n",
              "      <td>0.000000</td>\n",
              "      <td>3.000000</td>\n",
              "      <td>0.000000</td>\n",
              "      <td>0.000000</td>\n",
              "      <td>0.000000</td>\n",
              "      <td>2.000000</td>\n",
              "    </tr>\n",
              "    <tr>\n",
              "      <th>75%</th>\n",
              "      <td>140.000000</td>\n",
              "      <td>3.000000</td>\n",
              "      <td>0.500000</td>\n",
              "      <td>0.000000</td>\n",
              "      <td>0.000000</td>\n",
              "      <td>0.000000</td>\n",
              "      <td>0.000000</td>\n",
              "      <td>375.500000</td>\n",
              "      <td>24.000000</td>\n",
              "      <td>3.000000</td>\n",
              "      <td>5.000000</td>\n",
              "      <td>0.000000</td>\n",
              "      <td>6.000000</td>\n",
              "      <td>6.000000</td>\n",
              "      <td>4.000000</td>\n",
              "      <td>4.000000</td>\n",
              "      <td>8.000000</td>\n",
              "    </tr>\n",
              "    <tr>\n",
              "      <th>max</th>\n",
              "      <td>2210.000000</td>\n",
              "      <td>24.000000</td>\n",
              "      <td>8.000000</td>\n",
              "      <td>16.800000</td>\n",
              "      <td>235.000000</td>\n",
              "      <td>2.500000</td>\n",
              "      <td>450.000000</td>\n",
              "      <td>2220.000000</td>\n",
              "      <td>270.000000</td>\n",
              "      <td>305.000000</td>\n",
              "      <td>39.000000</td>\n",
              "      <td>19.000000</td>\n",
              "      <td>70.000000</td>\n",
              "      <td>370.000000</td>\n",
              "      <td>280.000000</td>\n",
              "      <td>110.000000</td>\n",
              "      <td>100.000000</td>\n",
              "    </tr>\n",
              "  </tbody>\n",
              "</table>\n",
              "</div>\n",
              "    <div class=\"colab-df-buttons\">\n",
              "\n",
              "  <div class=\"colab-df-container\">\n",
              "    <button class=\"colab-df-convert\" onclick=\"convertToInteractive('df-490c8577-4f83-4f2a-a0bd-81678a5c5696')\"\n",
              "            title=\"Convert this dataframe to an interactive table.\"\n",
              "            style=\"display:none;\">\n",
              "\n",
              "  <svg xmlns=\"http://www.w3.org/2000/svg\" height=\"24px\" viewBox=\"0 -960 960 960\">\n",
              "    <path d=\"M120-120v-720h720v720H120Zm60-500h600v-160H180v160Zm220 220h160v-160H400v160Zm0 220h160v-160H400v160ZM180-400h160v-160H180v160Zm440 0h160v-160H620v160ZM180-180h160v-160H180v160Zm440 0h160v-160H620v160Z\"/>\n",
              "  </svg>\n",
              "    </button>\n",
              "\n",
              "  <style>\n",
              "    .colab-df-container {\n",
              "      display:flex;\n",
              "      gap: 12px;\n",
              "    }\n",
              "\n",
              "    .colab-df-convert {\n",
              "      background-color: #E8F0FE;\n",
              "      border: none;\n",
              "      border-radius: 50%;\n",
              "      cursor: pointer;\n",
              "      display: none;\n",
              "      fill: #1967D2;\n",
              "      height: 32px;\n",
              "      padding: 0 0 0 0;\n",
              "      width: 32px;\n",
              "    }\n",
              "\n",
              "    .colab-df-convert:hover {\n",
              "      background-color: #E2EBFA;\n",
              "      box-shadow: 0px 1px 2px rgba(60, 64, 67, 0.3), 0px 1px 3px 1px rgba(60, 64, 67, 0.15);\n",
              "      fill: #174EA6;\n",
              "    }\n",
              "\n",
              "    .colab-df-buttons div {\n",
              "      margin-bottom: 4px;\n",
              "    }\n",
              "\n",
              "    [theme=dark] .colab-df-convert {\n",
              "      background-color: #3B4455;\n",
              "      fill: #D2E3FC;\n",
              "    }\n",
              "\n",
              "    [theme=dark] .colab-df-convert:hover {\n",
              "      background-color: #434B5C;\n",
              "      box-shadow: 0px 1px 3px 1px rgba(0, 0, 0, 0.15);\n",
              "      filter: drop-shadow(0px 1px 2px rgba(0, 0, 0, 0.3));\n",
              "      fill: #FFFFFF;\n",
              "    }\n",
              "  </style>\n",
              "\n",
              "    <script>\n",
              "      const buttonEl =\n",
              "        document.querySelector('#df-490c8577-4f83-4f2a-a0bd-81678a5c5696 button.colab-df-convert');\n",
              "      buttonEl.style.display =\n",
              "        google.colab.kernel.accessAllowed ? 'block' : 'none';\n",
              "\n",
              "      async function convertToInteractive(key) {\n",
              "        const element = document.querySelector('#df-490c8577-4f83-4f2a-a0bd-81678a5c5696');\n",
              "        const dataTable =\n",
              "          await google.colab.kernel.invokeFunction('convertToInteractive',\n",
              "                                                    [key], {});\n",
              "        if (!dataTable) return;\n",
              "\n",
              "        const docLinkHtml = 'Like what you see? Visit the ' +\n",
              "          '<a target=\"_blank\" href=https://colab.research.google.com/notebooks/data_table.ipynb>data table notebook</a>'\n",
              "          + ' to learn more about interactive tables.';\n",
              "        element.innerHTML = '';\n",
              "        dataTable['output_type'] = 'display_data';\n",
              "        await google.colab.output.renderOutput(dataTable, element);\n",
              "        const docLink = document.createElement('div');\n",
              "        docLink.innerHTML = docLinkHtml;\n",
              "        element.appendChild(docLink);\n",
              "      }\n",
              "    </script>\n",
              "  </div>\n",
              "\n",
              "\n",
              "<div id=\"df-6284c620-550f-425f-a7f1-3eaa79f33ad1\">\n",
              "  <button class=\"colab-df-quickchart\" onclick=\"quickchart('df-6284c620-550f-425f-a7f1-3eaa79f33ad1')\"\n",
              "            title=\"Suggest charts\"\n",
              "            style=\"display:none;\">\n",
              "\n",
              "<svg xmlns=\"http://www.w3.org/2000/svg\" height=\"24px\"viewBox=\"0 0 24 24\"\n",
              "     width=\"24px\">\n",
              "    <g>\n",
              "        <path d=\"M19 3H5c-1.1 0-2 .9-2 2v14c0 1.1.9 2 2 2h14c1.1 0 2-.9 2-2V5c0-1.1-.9-2-2-2zM9 17H7v-7h2v7zm4 0h-2V7h2v10zm4 0h-2v-4h2v4z\"/>\n",
              "    </g>\n",
              "</svg>\n",
              "  </button>\n",
              "\n",
              "<style>\n",
              "  .colab-df-quickchart {\n",
              "      --bg-color: #E8F0FE;\n",
              "      --fill-color: #1967D2;\n",
              "      --hover-bg-color: #E2EBFA;\n",
              "      --hover-fill-color: #174EA6;\n",
              "      --disabled-fill-color: #AAA;\n",
              "      --disabled-bg-color: #DDD;\n",
              "  }\n",
              "\n",
              "  [theme=dark] .colab-df-quickchart {\n",
              "      --bg-color: #3B4455;\n",
              "      --fill-color: #D2E3FC;\n",
              "      --hover-bg-color: #434B5C;\n",
              "      --hover-fill-color: #FFFFFF;\n",
              "      --disabled-bg-color: #3B4455;\n",
              "      --disabled-fill-color: #666;\n",
              "  }\n",
              "\n",
              "  .colab-df-quickchart {\n",
              "    background-color: var(--bg-color);\n",
              "    border: none;\n",
              "    border-radius: 50%;\n",
              "    cursor: pointer;\n",
              "    display: none;\n",
              "    fill: var(--fill-color);\n",
              "    height: 32px;\n",
              "    padding: 0;\n",
              "    width: 32px;\n",
              "  }\n",
              "\n",
              "  .colab-df-quickchart:hover {\n",
              "    background-color: var(--hover-bg-color);\n",
              "    box-shadow: 0 1px 2px rgba(60, 64, 67, 0.3), 0 1px 3px 1px rgba(60, 64, 67, 0.15);\n",
              "    fill: var(--button-hover-fill-color);\n",
              "  }\n",
              "\n",
              "  .colab-df-quickchart-complete:disabled,\n",
              "  .colab-df-quickchart-complete:disabled:hover {\n",
              "    background-color: var(--disabled-bg-color);\n",
              "    fill: var(--disabled-fill-color);\n",
              "    box-shadow: none;\n",
              "  }\n",
              "\n",
              "  .colab-df-spinner {\n",
              "    border: 2px solid var(--fill-color);\n",
              "    border-color: transparent;\n",
              "    border-bottom-color: var(--fill-color);\n",
              "    animation:\n",
              "      spin 1s steps(1) infinite;\n",
              "  }\n",
              "\n",
              "  @keyframes spin {\n",
              "    0% {\n",
              "      border-color: transparent;\n",
              "      border-bottom-color: var(--fill-color);\n",
              "      border-left-color: var(--fill-color);\n",
              "    }\n",
              "    20% {\n",
              "      border-color: transparent;\n",
              "      border-left-color: var(--fill-color);\n",
              "      border-top-color: var(--fill-color);\n",
              "    }\n",
              "    30% {\n",
              "      border-color: transparent;\n",
              "      border-left-color: var(--fill-color);\n",
              "      border-top-color: var(--fill-color);\n",
              "      border-right-color: var(--fill-color);\n",
              "    }\n",
              "    40% {\n",
              "      border-color: transparent;\n",
              "      border-right-color: var(--fill-color);\n",
              "      border-top-color: var(--fill-color);\n",
              "    }\n",
              "    60% {\n",
              "      border-color: transparent;\n",
              "      border-right-color: var(--fill-color);\n",
              "    }\n",
              "    80% {\n",
              "      border-color: transparent;\n",
              "      border-right-color: var(--fill-color);\n",
              "      border-bottom-color: var(--fill-color);\n",
              "    }\n",
              "    90% {\n",
              "      border-color: transparent;\n",
              "      border-bottom-color: var(--fill-color);\n",
              "    }\n",
              "  }\n",
              "</style>\n",
              "\n",
              "  <script>\n",
              "    async function quickchart(key) {\n",
              "      const quickchartButtonEl =\n",
              "        document.querySelector('#' + key + ' button');\n",
              "      quickchartButtonEl.disabled = true;  // To prevent multiple clicks.\n",
              "      quickchartButtonEl.classList.add('colab-df-spinner');\n",
              "      try {\n",
              "        const charts = await google.colab.kernel.invokeFunction(\n",
              "            'suggestCharts', [key], {});\n",
              "      } catch (error) {\n",
              "        console.error('Error during call to suggestCharts:', error);\n",
              "      }\n",
              "      quickchartButtonEl.classList.remove('colab-df-spinner');\n",
              "      quickchartButtonEl.classList.add('colab-df-quickchart-complete');\n",
              "    }\n",
              "    (() => {\n",
              "      let quickchartButtonEl =\n",
              "        document.querySelector('#df-6284c620-550f-425f-a7f1-3eaa79f33ad1 button');\n",
              "      quickchartButtonEl.style.display =\n",
              "        google.colab.kernel.accessAllowed ? 'block' : 'none';\n",
              "    })();\n",
              "  </script>\n",
              "</div>\n",
              "    </div>\n",
              "  </div>\n"
            ],
            "application/vnd.google.colaboratory.intrinsic+json": {
              "type": "dataframe",
              "summary": "{\n  \"name\": \"X\",\n  \"rows\": 8,\n  \"fields\": [\n    {\n      \"column\": \"Calories\",\n      \"properties\": {\n        \"dtype\": \"number\",\n        \"std\": 2671.845704640998,\n        \"min\": 0.0,\n        \"max\": 7639.0,\n        \"num_unique_values\": 8,\n        \"samples\": [\n          105.09883492603744,\n          100.0,\n          7639.0\n        ],\n        \"semantic_type\": \"\",\n        \"description\": \"\"\n      }\n    },\n    {\n      \"column\": \"Total Fat\",\n      \"properties\": {\n        \"dtype\": \"number\",\n        \"std\": 2699.1010108002633,\n        \"min\": 0.0,\n        \"max\": 7639.0,\n        \"num_unique_values\": 7,\n        \"samples\": [\n          7639.0,\n          2.3182353711218746,\n          3.0\n        ],\n        \"semantic_type\": \"\",\n        \"description\": \"\"\n      }\n    },\n    {\n      \"column\": \"Saturated Fat\",\n      \"properties\": {\n        \"dtype\": \"number\",\n        \"std\": 2700.310539037393,\n        \"min\": 0.0,\n        \"max\": 7639.0,\n        \"num_unique_values\": 6,\n        \"samples\": [\n          7639.0,\n          0.36892001570886246,\n          8.0\n        ],\n        \"semantic_type\": \"\",\n        \"description\": \"\"\n      }\n    },\n    {\n      \"column\": \"Monounsaturated Fat\",\n      \"properties\": {\n        \"dtype\": \"number\",\n        \"std\": 2699.8702594382808,\n        \"min\": 0.0,\n        \"max\": 7639.0,\n        \"num_unique_values\": 5,\n        \"samples\": [\n          0.3092158659510408,\n          16.8,\n          1.3102595444091396\n        ],\n        \"semantic_type\": \"\",\n        \"description\": \"\"\n      }\n    },\n    {\n      \"column\": \"Polyunsaturated Fat\",\n      \"properties\": {\n        \"dtype\": \"number\",\n        \"std\": 2690.019696665515,\n        \"min\": 0.0,\n        \"max\": 7639.0,\n        \"num_unique_values\": 5,\n        \"samples\": [\n          0.26411637648906927,\n          235.0,\n          2.848249532155882\n        ],\n        \"semantic_type\": \"\",\n        \"description\": \"\"\n      }\n    },\n    {\n      \"column\": \"Trans Fat\",\n      \"properties\": {\n        \"dtype\": \"number\",\n        \"std\": 2700.663077340029,\n        \"min\": 0.0,\n        \"max\": 7639.0,\n        \"num_unique_values\": 5,\n        \"samples\": [\n          0.007068988087446001,\n          2.5,\n          0.09478291692649185\n        ],\n        \"semantic_type\": \"\",\n        \"description\": \"\"\n      }\n    },\n    {\n      \"column\": \"Cholesterol\",\n      \"properties\": {\n        \"dtype\": \"number\",\n        \"std\": 2681.668029866073,\n        \"min\": 0.0,\n        \"max\": 7639.0,\n        \"num_unique_values\": 5,\n        \"samples\": [\n          4.308679146485142,\n          450.0,\n          14.788161716955297\n        ],\n        \"semantic_type\": \"\",\n        \"description\": \"\"\n      }\n    },\n    {\n      \"column\": \"Sodium\",\n      \"properties\": {\n        \"dtype\": \"number\",\n        \"std\": 2638.6187070320634,\n        \"min\": 0.0,\n        \"max\": 7639.0,\n        \"num_unique_values\": 8,\n        \"samples\": [\n          235.05365885587116,\n          150.0,\n          7639.0\n        ],\n        \"semantic_type\": \"\",\n        \"description\": \"\"\n      }\n    },\n    {\n      \"column\": \"Total Carbohydrate\",\n      \"properties\": {\n        \"dtype\": \"number\",\n        \"std\": 2685.141247167925,\n        \"min\": 0.0,\n        \"max\": 7639.0,\n        \"num_unique_values\": 8,\n        \"samples\": [\n          15.510718680455557,\n          13.0,\n          7639.0\n        ],\n        \"semantic_type\": \"\",\n        \"description\": \"\"\n      }\n    },\n    {\n      \"column\": \"Dietary Fiber\",\n      \"properties\": {\n        \"dtype\": \"number\",\n        \"std\": 2686.9871191008197,\n        \"min\": 0.0,\n        \"max\": 7639.0,\n        \"num_unique_values\": 7,\n        \"samples\": [\n          7639.0,\n          1.8060740934677315,\n          3.0\n        ],\n        \"semantic_type\": \"\",\n        \"description\": \"\"\n      }\n    },\n    {\n      \"column\": \"Sugars\",\n      \"properties\": {\n        \"dtype\": \"number\",\n        \"std\": 2698.0598704505146,\n        \"min\": 0.0,\n        \"max\": 7639.0,\n        \"num_unique_values\": 7,\n        \"samples\": [\n          7639.0,\n          3.7347558580966096,\n          5.0\n        ],\n        \"semantic_type\": \"\",\n        \"description\": \"\"\n      }\n    },\n    {\n      \"column\": \"Sugar Alcohol\",\n      \"properties\": {\n        \"dtype\": \"number\",\n        \"std\": 2699.8008543401775,\n        \"min\": 0.0,\n        \"max\": 7639.0,\n        \"num_unique_values\": 5,\n        \"samples\": [\n          0.059039141248854565,\n          19.0,\n          0.771172592713794\n        ],\n        \"semantic_type\": \"\",\n        \"description\": \"\"\n      }\n    },\n    {\n      \"column\": \"Protein\",\n      \"properties\": {\n        \"dtype\": \"number\",\n        \"std\": 2696.4142940358233,\n        \"min\": 0.0,\n        \"max\": 7639.0,\n        \"num_unique_values\": 8,\n        \"samples\": [\n          4.29897499672732,\n          3.0,\n          7639.0\n        ],\n        \"semantic_type\": \"\",\n        \"description\": \"\"\n      }\n    },\n    {\n      \"column\": \"Vitamin A\",\n      \"properties\": {\n        \"dtype\": \"number\",\n        \"std\": 2683.5180704751992,\n        \"min\": 0.0,\n        \"max\": 7639.0,\n        \"num_unique_values\": 6,\n        \"samples\": [\n          7639.0,\n          6.636732556617359,\n          370.0\n        ],\n        \"semantic_type\": \"\",\n        \"description\": \"\"\n      }\n    },\n    {\n      \"column\": \"Vitamin C\",\n      \"properties\": {\n        \"dtype\": \"number\",\n        \"std\": 2686.8656731363785,\n        \"min\": 0.0,\n        \"max\": 7639.0,\n        \"num_unique_values\": 6,\n        \"samples\": [\n          7639.0,\n          6.487236549286556,\n          280.0\n        ],\n        \"semantic_type\": \"\",\n        \"description\": \"\"\n      }\n    },\n    {\n      \"column\": \"Calcium\",\n      \"properties\": {\n        \"dtype\": \"number\",\n        \"std\": 2694.7022348442088,\n        \"min\": 0.0,\n        \"max\": 7639.0,\n        \"num_unique_values\": 6,\n        \"samples\": [\n          7639.0,\n          3.9376881790810314,\n          110.0\n        ],\n        \"semantic_type\": \"\",\n        \"description\": \"\"\n      }\n    },\n    {\n      \"column\": \"Iron\",\n      \"properties\": {\n        \"dtype\": \"number\",\n        \"std\": 2694.673161371948,\n        \"min\": 0.0,\n        \"max\": 7639.0,\n        \"num_unique_values\": 7,\n        \"samples\": [\n          7639.0,\n          5.510014399790548,\n          8.0\n        ],\n        \"semantic_type\": \"\",\n        \"description\": \"\"\n      }\n    }\n  ]\n}"
            }
          },
          "metadata": {},
          "execution_count": 8
        }
      ],
      "source": [
        "X.describe()"
      ],
      "execution_count": 8
    },
    {
      "cell_type": "markdown",
      "metadata": {
        "id": "aea69bae-8f4a-4656-8b26-49e58648b2d2"
      },
      "source": [
        "as we can see from the outputs above, this food item dataset contains 17 types of nutrients about a food item such as Calories, Total Fat, Protein, Sugar, and so on, as numeric variables.\n"
      ]
    },
    {
      "cell_type": "markdown",
      "metadata": {
        "id": "eaa87348-35e1-4480-b31f-60437af0879d"
      },
      "source": [
        "Next, let's check the target variable, such as the `class` column to see what are label values and their distribution.\n"
      ]
    },
    {
      "cell_type": "code",
      "metadata": {
        "colab": {
          "base_uri": "https://localhost:8080/"
        },
        "id": "1fb46e94-f259-47cf-ac55-df970febcab0",
        "outputId": "5cfa152d-a5bc-4e30-abbe-95b6f38c2690"
      },
      "outputs": [
        {
          "output_type": "execute_result",
          "data": {
            "text/plain": [
              "class\n",
              "0        0.870402\n",
              "1        0.129598\n",
              "Name: proportion, dtype: float64"
            ]
          },
          "metadata": {},
          "execution_count": 9
        }
      ],
      "source": [
        "# # Get the row entries with the last col 'class'\n",
        "y.value_counts(normalize=True)"
      ],
      "execution_count": 9
    },
    {
      "cell_type": "code",
      "metadata": {
        "colab": {
          "base_uri": "https://localhost:8080/",
          "height": 477
        },
        "id": "a9a5f59c-5fab-43b9-bf0b-27529e09c9d1",
        "outputId": "10d1985f-2e7b-4f0e-cd89-e7095c44cf51"
      },
      "outputs": [
        {
          "output_type": "execute_result",
          "data": {
            "text/plain": [
              "<Axes: xlabel='class'>"
            ]
          },
          "metadata": {},
          "execution_count": 10
        },
        {
          "output_type": "display_data",
          "data": {
            "text/plain": [
              "<Figure size 640x480 with 1 Axes>"
            ],
            "image/png": "[encoded data removed]"
          },
          "metadata": {}
        }
      ],
      "source": [
        "y.value_counts().plot.bar(color=['red', 'green'])"
      ],
      "execution_count": 10
    },
    {
      "cell_type": "markdown",
      "metadata": {
        "id": "ad153a7d-9474-47e9-baba-84a5e79704aa"
      },
      "source": [
        "As we can see from the bar chart above, this dataset has two classes `Less Often` and `More Often`. The two labels are imbalanced with most food items should be chosen less often for diabetic patients.\n"
      ]
    },
    {
      "cell_type": "markdown",
      "metadata": {
        "id": "8cf399e6-318b-45e8-8713-88dc369c6c4b"
      },
      "source": [
        "## Build a SVM model with default parameters\n"
      ]
    },
    {
      "cell_type": "markdown",
      "metadata": {
        "id": "bf6f9da1-8c53-4762-a363-b2cbe9ff3cd0"
      },
      "source": [
        "First, let's split the training and testing dataset. Training dataset will be used to train and tune models, and testing dataset will be used to evaluate the models. Note that you may also split a validation dataset from the training dataset for model tuning only.\n"
      ]
    },
    {
      "cell_type": "code",
      "metadata": {
        "id": "5226e0cf-33b1-45d4-83c2-bc508ab6927b"
      },
      "outputs": [],
      "source": [
        "# First, let's split the training and testing dataset\n",
        "X_train, X_test, y_train, y_test = train_test_split(X, y, test_size=0.2, stratify=y, random_state = rs)"
      ],
      "execution_count": 11
    },
    {
      "cell_type": "markdown",
      "metadata": {
        "id": "d5703350-a06e-4cd4-8afc-854e61ec569b"
      },
      "source": [
        "Okay, now we have the training and testing datasets ready, let's start the model training task.\n"
      ]
    },
    {
      "cell_type": "markdown",
      "metadata": {
        "id": "a47b6155-07f1-404c-81c7-6a1e3789df41"
      },
      "source": [
        "We first define a `sklearn.svm import SVC` model with all default arguments.\n"
      ]
    },
    {
      "cell_type": "code",
      "metadata": {
        "id": "4dca459f-3880-499a-82b8-3f392083062a"
      },
      "outputs": [],
      "source": [
        "model = SVC()"
      ],
      "execution_count": 12
    },
    {
      "cell_type": "markdown",
      "metadata": {
        "id": "f29fa6e9-dd35-431f-9eaa-f56ab36c3b14"
      },
      "source": [
        "Then train the model with training dataset:\n"
      ]
    },
    {
      "cell_type": "code",
      "metadata": {
        "colab": {
          "base_uri": "https://localhost:8080/",
          "height": 75
        },
        "id": "b8657797-64c8-40f2-8eab-139118c51bc3",
        "outputId": "d364f858-dee2-4a3b-de9e-ea0e1e2e1709"
      },
      "outputs": [
        {
          "output_type": "execute_result",
          "data": {
            "text/plain": [
              "SVC()"
            ],
            "text/html": [
              "<style>#sk-container-id-1 {color: black;background-color: white;}#sk-container-id-1 pre{padding: 0;}#sk-container-id-1 div.sk-toggleable {background-color: white;}#sk-container-id-1 label.sk-toggleable__label {cursor: pointer;display: block;width: 100%;margin-bottom: 0;padding: 0.3em;box-sizing: border-box;text-align: center;}#sk-container-id-1 label.sk-toggleable__label-arrow:before {content: \"▸\";float: left;margin-right: 0.25em;color: #696969;}#sk-container-id-1 label.sk-toggleable__label-arrow:hover:before {color: black;}#sk-container-id-1 div.sk-estimator:hover label.sk-toggleable__label-arrow:before {color: black;}#sk-container-id-1 div.sk-toggleable__content {max-height: 0;max-width: 0;overflow: hidden;text-align: left;background-color: #f0f8ff;}#sk-container-id-1 div.sk-toggleable__content pre {margin: 0.2em;color: black;border-radius: 0.25em;background-color: #f0f8ff;}#sk-container-id-1 input.sk-toggleable__control:checked~div.sk-toggleable__content {max-height: 200px;max-width: 100%;overflow: auto;}#sk-container-id-1 input.sk-toggleable__control:checked~label.sk-toggleable__label-arrow:before {content: \"▾\";}#sk-container-id-1 div.sk-estimator input.sk-toggleable__control:checked~label.sk-toggleable__label {background-color: #d4ebff;}#sk-container-id-1 div.sk-label input.sk-toggleable__control:checked~label.sk-toggleable__label {background-color: #d4ebff;}#sk-container-id-1 input.sk-hidden--visually {border: 0;clip: rect(1px 1px 1px 1px);clip: rect(1px, 1px, 1px, 1px);height: 1px;margin: -1px;overflow: hidden;padding: 0;position: absolute;width: 1px;}#sk-container-id-1 div.sk-estimator {font-family: monospace;background-color: #f0f8ff;border: 1px dotted black;border-radius: 0.25em;box-sizing: border-box;margin-bottom: 0.5em;}#sk-container-id-1 div.sk-estimator:hover {background-color: #d4ebff;}#sk-container-id-1 div.sk-parallel-item::after {content: \"\";width: 100%;border-bottom: 1px solid gray;flex-grow: 1;}#sk-container-id-1 div.sk-label:hover label.sk-toggleable__label {background-color: #d4ebff;}#sk-container-id-1 div.sk-serial::before {content: \"\";position: absolute;border-left: 1px solid gray;box-sizing: border-box;top: 0;bottom: 0;left: 50%;z-index: 0;}#sk-container-id-1 div.sk-serial {display: flex;flex-direction: column;align-items: center;background-color: white;padding-right: 0.2em;padding-left: 0.2em;position: relative;}#sk-container-id-1 div.sk-item {position: relative;z-index: 1;}#sk-container-id-1 div.sk-parallel {display: flex;align-items: stretch;justify-content: center;background-color: white;position: relative;}#sk-container-id-1 div.sk-item::before, #sk-container-id-1 div.sk-parallel-item::before {content: \"\";position: absolute;border-left: 1px solid gray;box-sizing: border-box;top: 0;bottom: 0;left: 50%;z-index: -1;}#sk-container-id-1 div.sk-parallel-item {display: flex;flex-direction: column;z-index: 1;position: relative;background-color: white;}#sk-container-id-1 div.sk-parallel-item:first-child::after {align-self: flex-end;width: 50%;}#sk-container-id-1 div.sk-parallel-item:last-child::after {align-self: flex-start;width: 50%;}#sk-container-id-1 div.sk-parallel-item:only-child::after {width: 0;}#sk-container-id-1 div.sk-dashed-wrapped {border: 1px dashed gray;margin: 0 0.4em 0.5em 0.4em;box-sizing: border-box;padding-bottom: 0.4em;background-color: white;}#sk-container-id-1 div.sk-label label {font-family: monospace;font-weight: bold;display: inline-block;line-height: 1.2em;}#sk-container-id-1 div.sk-label-container {text-align: center;}#sk-container-id-1 div.sk-container {/* jupyter's `normalize.less` sets `[hidden] { display: none; }` but bootstrap.min.css set `[hidden] { display: none !important; }` so we also need the `!important` here to be able to override the default hidden behavior on the sphinx rendered scikit-learn.org. See: https://github.com/scikit-learn/scikit-learn/issues/21755 */display: inline-block !important;position: relative;}#sk-container-id-1 div.sk-text-repr-fallback {display: none;}</style><div id=\"sk-container-id-1\" class=\"sk-top-container\"><div class=\"sk-text-repr-fallback\"><pre>SVC()</pre><b>In a Jupyter environment, please rerun this cell to show the HTML representation or trust the notebook. <br />On GitHub, the HTML representation is unable to render, please try loading this page with nbviewer.org.</b></div><div class=\"sk-container\" hidden><div class=\"sk-item\"><div class=\"sk-estimator sk-toggleable\"><input class=\"sk-toggleable__control sk-hidden--visually\" id=\"sk-estimator-id-1\" type=\"checkbox\" checked><label for=\"sk-estimator-id-1\" class=\"sk-toggleable__label sk-toggleable__label-arrow\">SVC</label><div class=\"sk-toggleable__content\"><pre>SVC()</pre></div></div></div></div></div>"
            ]
          },
          "metadata": {},
          "execution_count": 13
        }
      ],
      "source": [
        "model.fit(X_train, y_train.values.ravel())"
      ],
      "execution_count": 13
    },
    {
      "cell_type": "markdown",
      "metadata": {
        "id": "d412ad05-7087-452f-b478-c2123f6dd41d"
      },
      "source": [
        "and make predictions\n"
      ]
    },
    {
      "cell_type": "code",
      "metadata": {
        "id": "560d9db5-64db-4741-8c35-25465ab2898e"
      },
      "outputs": [],
      "source": [
        "preds = model.predict(X_test)"
      ],
      "execution_count": 14
    },
    {
      "cell_type": "markdown",
      "metadata": {
        "id": "662992cf-17b5-4d70-ac62-b9ea196714e2"
      },
      "source": [
        "Here we defined a utility method to evaluate the model performance.\n"
      ]
    },
    {
      "cell_type": "code",
      "metadata": {
        "id": "ab0caedd-54fe-4cfc-8bc1-4bc6b5a5bfa2"
      },
      "outputs": [],
      "source": [
        "def evaluate_metrics(yt, yp):\n",
        "    results_pos = {}\n",
        "    results_pos['accuracy'] = accuracy_score(yt, yp)\n",
        "    precision, recall, f_beta, _ = precision_recall_fscore_support(yt, yp, average='binary')\n",
        "    results_pos['recall'] = recall\n",
        "    results_pos['precision'] = precision\n",
        "    results_pos['f1score'] = f_beta\n",
        "    return results_pos"
      ],
      "execution_count": 15
    },
    {
      "cell_type": "code",
      "metadata": {
        "colab": {
          "base_uri": "https://localhost:8080/"
        },
        "id": "fccf1a30-1c25-4cc6-91fc-39f769e33fd7",
        "outputId": "59b4bace-d5e3-49d9-d272-30ca54a1a219"
      },
      "outputs": [
        {
          "output_type": "execute_result",
          "data": {
            "text/plain": [
              "{'accuracy': 0.9568062827225131,\n",
              " 'recall': 0.7727272727272727,\n",
              " 'precision': 0.8793103448275862,\n",
              " 'f1score': 0.8225806451612904}"
            ]
          },
          "metadata": {},
          "execution_count": 16
        }
      ],
      "source": [
        "evaluate_metrics(y_test, preds)"
      ],
      "execution_count": 16
    },
    {
      "cell_type": "markdown",
      "metadata": {
        "id": "9a60a9d2-dc3c-42a3-a392-ad9bf0f79e8c"
      },
      "source": [
        "As we can see from the evaluation results above, the default SVM model achieves relatively good performance on this binary classification task. The overall accuracy is around `0.95` and the f1score is around `0.82`.\n"
      ]
    },
    {
      "cell_type": "markdown",
      "metadata": {
        "id": "e8cfce09-5c28-4bda-a980-1a2553128f70"
      },
      "source": [
        "Now, you have easily built a SVM model with relatively good performance. Can we achieve better classification performance by customizing the model?\n"
      ]
    },
    {
      "cell_type": "markdown",
      "metadata": {
        "id": "30d9142c-312a-4739-8a70-f1f4a68bb5ca"
      },
      "source": [
        "## Train SVM with different regularization parameters and kernels\n"
      ]
    },
    {
      "cell_type": "markdown",
      "metadata": {
        "id": "c4725a45-0403-4793-ad78-aa3bdfb4b0ac"
      },
      "source": [
        "The `SVC` model provided by sklearn has two important arguments to be tuned: regularization parameter `C` and `kernel`.\n"
      ]
    },
    {
      "cell_type": "markdown",
      "metadata": {
        "id": "a74ddaef-85bc-4c85-b750-2182ccecaac1"
      },
      "source": [
        "The `C` argument is a regularization parameter that controls the trade-off between achieving a low training error and keeping the decision boundary as simple as possible.\n",
        "\n",
        "*   For large values of C, the optimization will choose a smaller-margin hyperplane if that hyperplane does a better job of getting all the training points classified correctly, which may cause the model to overfit.\n",
        "*   Conversely, a very small value of C will cause the optimizer to look for a larger-margin separating hyperplane, even if that hyperplane misclassifies more points, but potentially better generalization to unseen data.\n"
      ]
    },
    {
      "cell_type": "markdown",
      "metadata": {
        "id": "2da8ca64-9a35-4487-852c-c040d28f8a5e"
      },
      "source": [
        "The `kernel` argument specifies the kernel to be used for transforming features to higher-dimensional spaces, some commonly used non-linear kernels are:\n",
        "\n",
        "*   `rbf`: Gaussian Radial Basis Function (RBF)\n",
        "*   `poly`: Polynomial Kernel\n",
        "*   `sigmoid`: Sigmoid Kernel\n"
      ]
    },
    {
      "cell_type": "markdown",
      "metadata": {
        "id": "254a8743-fca1-42aa-91e8-9642e18abbf4"
      },
      "source": [
        "Let's first try `C = 10` and ` kernel = 'rbf'  `\n"
      ]
    },
    {
      "cell_type": "code",
      "metadata": {
        "colab": {
          "base_uri": "https://localhost:8080/"
        },
        "id": "84f4c425-5402-4e1a-81e5-7a90da5a7a18",
        "outputId": "0faa8aa7-cd56-43f6-91c7-ddbb21189e6f"
      },
      "outputs": [
        {
          "output_type": "execute_result",
          "data": {
            "text/plain": [
              "{'accuracy': 0.9679319371727748,\n",
              " 'recall': 0.8333333333333334,\n",
              " 'precision': 0.9116022099447514,\n",
              " 'f1score': 0.870712401055409}"
            ]
          },
          "metadata": {},
          "execution_count": 17
        }
      ],
      "source": [
        "model = SVC(C=10, kernel='rbf')\n",
        "model.fit(X_train, y_train.values.ravel())\n",
        "preds = model.predict(X_test)\n",
        "evaluate_metrics(y_test, preds)"
      ],
      "execution_count": 17
    },
    {
      "cell_type": "markdown",
      "metadata": {
        "id": "7df8ef95-2cb9-4e4f-a2a2-216819046d36"
      },
      "source": [
        "You should see that we have better performance than the default SVM model trained in the previous step. Now, it's your turn to try different parameters yourself.\n"
      ]
    },
    {
      "cell_type": "markdown",
      "metadata": {
        "id": "1c130d10-0a9b-4606-8736-566cbe22f533"
      },
      "source": [
        "### Coding Exercise: Try different `C` values and `kernels` to see which combination produces SVM models with better classification performance.\n"
      ]
    },
    {
      "cell_type": "code",
      "metadata": {
        "id": "9fc1f078-6761-4357-bc18-964dbed38d82"
      },
      "outputs": [],
      "source": [
        "# Type your code here"
      ],
      "execution_count": null
    },
    {
      "cell_type": "markdown",
      "metadata": {
        "id": "b72992ba-9ded-4af6-a17a-a8b4f2cf925c"
      },
      "source": [
        "## Tune regularization parameter C and Kernels via GridSearch\n"
      ]
    },
    {
      "cell_type": "markdown",
      "metadata": {
        "id": "26cb50e3-bb28-443b-8d4a-7af9402a9ddb"
      },
      "source": [
        "Exhaustively trying different hyperparameters by hands is infeasible. Thus, `sklearn` provides users with many automatic hyperparameter tuning methods. A popular one is grid search cross-validation `GridSearchCV`\n"
      ]
    },
    {
      "cell_type": "markdown",
      "metadata": {
        "id": "008b8953-8867-406d-8e8f-ed4398ad5220"
      },
      "source": [
        "Next, let's quickly try `GridSearchCV` to find the optimized `C` and `kernel` combination:\n"
      ]
    },
    {
      "cell_type": "markdown",
      "metadata": {
        "id": "6f7b665c-34b6-4bb0-938f-3e68dd43f5e9"
      },
      "source": [
        "We first define some candidate parameter values we want to search in a `dict` object, like the following setting:\n"
      ]
    },
    {
      "cell_type": "code",
      "metadata": {
        "id": "a16fc961-aff4-4ade-8aad-cc1d4035e118"
      },
      "outputs": [],
      "source": [
        "params_grid = {\n",
        "    'C': [1, 10, 100],\n",
        "    'kernel': ['poly', 'rbf', 'sigmoid']\n",
        "}"
      ],
      "execution_count": 18
    },
    {
      "cell_type": "markdown",
      "metadata": {
        "id": "030a29ce-e839-4393-9e89-07e73d56234a"
      },
      "source": [
        "Then, we define a  SVM model\n"
      ]
    },
    {
      "cell_type": "code",
      "metadata": {
        "id": "9296da9e-944d-4f59-80b2-0a329cadee7d"
      },
      "outputs": [],
      "source": [
        "model = SVC()"
      ],
      "execution_count": 19
    },
    {
      "cell_type": "markdown",
      "metadata": {
        "id": "753984f8-3ced-48b8-9a05-4c5b155f647c"
      },
      "source": [
        "and use create a `GridSearchCV` method to grid search `params_grid` and find the optimized combination with best `f1` score. The searching process may take several minutes to complete.\n"
      ]
    },
    {
      "cell_type": "code",
      "metadata": {
        "colab": {
          "base_uri": "https://localhost:8080/"
        },
        "id": "7a69e5ed-adce-42ff-a238-3d9e2a8c0b43",
        "outputId": "b8ce8b79-1d25-44e3-9eb4-fd57b7e595f6"
      },
      "outputs": [
        {
          "output_type": "stream",
          "name": "stdout",
          "text": [
            "Fitting 5 folds for each of 9 candidates, totalling 45 fits\n"
          ]
        }
      ],
      "source": [
        "# Define a GridSearchCV to search the best parameters\n",
        "grid_search = GridSearchCV(estimator = model,\n",
        "                           param_grid = params_grid,\n",
        "                           scoring='f1',\n",
        "                           cv = 5, verbose = 1)\n",
        "# Search the best parameters with training data\n",
        "grid_search.fit(X_train, y_train.values.ravel())\n",
        "best_params = grid_search.best_params_"
      ],
      "execution_count": 20
    },
    {
      "cell_type": "code",
      "metadata": {
        "colab": {
          "base_uri": "https://localhost:8080/"
        },
        "id": "d7488196-3134-4aed-bc2b-4df2f99e4f1a",
        "outputId": "48465627-f487-4d16-d8c1-8205b8590f27"
      },
      "outputs": [
        {
          "output_type": "execute_result",
          "data": {
            "text/plain": [
              "{'C': 100, 'kernel': 'rbf'}"
            ]
          },
          "metadata": {},
          "execution_count": 21
        }
      ],
      "source": [
        "best_params"
      ],
      "execution_count": 21
    },
    {
      "cell_type": "markdown",
      "metadata": {
        "id": "23fb58df-e92a-4078-b1ed-1492b8f2cd82"
      },
      "source": [
        "Okay, we can see `C=100` and `kernel=`rbf\\`\\` seems to produce the highest f1score. Let's quickly try this combination to see the model performance.\n"
      ]
    },
    {
      "cell_type": "code",
      "metadata": {
        "colab": {
          "base_uri": "https://localhost:8080/"
        },
        "id": "8a6da4c2-4a05-4c47-be71-a4df32ca51f5",
        "outputId": "71da70c1-e2be-4f11-9e87-58a037f0874b"
      },
      "outputs": [
        {
          "output_type": "execute_result",
          "data": {
            "text/plain": [
              "{'accuracy': 0.9698952879581152,\n",
              " 'recall': 0.8787878787878788,\n",
              " 'precision': 0.8877551020408163,\n",
              " 'f1score': 0.8832487309644671}"
            ]
          },
          "metadata": {},
          "execution_count": 22
        }
      ],
      "source": [
        "model = SVC(C=100, kernel='rbf')\n",
        "model.fit(X_train, y_train.values.ravel())\n",
        "preds = model.predict(X_test)\n",
        "evaluate_metrics(y_test, preds)"
      ],
      "execution_count": 22
    },
    {
      "cell_type": "markdown",
      "metadata": {
        "id": "26240a07-159e-400c-827f-ed35aba6e1b2"
      },
      "source": [
        "The best f1score now becomes `0.88` after hyperparameter tuning.\n"
      ]
    },
    {
      "cell_type": "markdown",
      "metadata": {
        "id": "44d435f0-1f8a-45fc-8c49-9bbf665dacf1"
      },
      "source": [
        "## Plot SVM hyperplane and margin\n"
      ]
    },
    {
      "cell_type": "markdown",
      "metadata": {
        "id": "a20114f2-9565-43be-9474-9ad69278a0ba"
      },
      "source": [
        "Okay, you have learned how to define, train, evaluate, and fine-tune a SVM model with `sklearn`. However, so far we only obtained plain evaluation metrics and they are not intuitive to help us understand and interpret an SVM model. It would be great to visualize the see actual hyperplains and margins learned in an SVM model.\n"
      ]
    },
    {
      "cell_type": "markdown",
      "metadata": {
        "id": "fb09f428-1701-49f6-b677-d9d74d161f15"
      },
      "source": [
        "Since it is challenging to visualize a hyperplane higher than 3 dimensions. To illustrate the idea, we will focus on a 2-dimensional feature space.\n"
      ]
    },
    {
      "cell_type": "markdown",
      "metadata": {
        "id": "add4fca9-ccb0-4b98-a5ba-94960e191d6c"
      },
      "source": [
        "We first simplify the dataset with only two features `Calories` and `Dietary Fiber`, and include only 1000 instances:\n"
      ]
    },
    {
      "cell_type": "code",
      "metadata": {
        "id": "d54e7d54-3457-405b-a107-1b47c01356a1"
      },
      "outputs": [],
      "source": [
        "simplified_food_df = food_df[['Calories', 'Dietary Fiber', 'class']]"
      ],
      "execution_count": 23
    },
    {
      "cell_type": "code",
      "metadata": {
        "id": "884fc9ff-a80e-4979-b181-6247301a791b"
      },
      "outputs": [],
      "source": [
        "X = simplified_food_df.iloc[:1000, :-1].values\n",
        "y = simplified_food_df.iloc[:1000, -1:].values"
      ],
      "execution_count": 24
    },
    {
      "cell_type": "markdown",
      "metadata": {
        "id": "40ece18e-01c9-4ecd-84ec-158420286dc9"
      },
      "source": [
        "and we undersample the majority class `Class = 0` to balance the class distribution so we will produce a clearer visualization.\n"
      ]
    },
    {
      "cell_type": "code",
      "metadata": {
        "id": "4a319f7f-a44b-400c-9c08-ac87bae7bdbf"
      },
      "outputs": [],
      "source": [
        "under_sampler = RandomUnderSampler(random_state=rs)\n",
        "X_under, y_under = under_sampler.fit_resample(X, y)"
      ],
      "execution_count": 25
    },
    {
      "cell_type": "code",
      "metadata": {
        "colab": {
          "base_uri": "https://localhost:8080/"
        },
        "id": "cbced6bc-989c-45a7-a6c4-374d99db35ca",
        "outputId": "2aa8d8ac-3840-478c-a20c-1bf52dfa1c6d"
      },
      "outputs": [
        {
          "output_type": "stream",
          "name": "stdout",
          "text": [
            "Dataset resampled shape, X: (62, 2), y: (62,)\n"
          ]
        }
      ],
      "source": [
        "print(f\"Dataset resampled shape, X: {X_under.shape}, y: {y_under.shape}\")"
      ],
      "execution_count": 26
    },
    {
      "cell_type": "markdown",
      "metadata": {
        "id": "a2c2b032-9c11-41c6-97f9-48667643bbdf"
      },
      "source": [
        "To better show the hyperplane and margins, we normalize the features with a `MinMaxScaler`.\n"
      ]
    },
    {
      "cell_type": "code",
      "metadata": {
        "id": "b09bac5f-d2c6-462c-a4c4-462013b579ce"
      },
      "outputs": [],
      "source": [
        "scaler = MinMaxScaler()\n",
        "X_under = scaler.fit_transform(X_under)"
      ],
      "execution_count": 27
    },
    {
      "cell_type": "markdown",
      "metadata": {
        "id": "53212c2c-19d7-4aff-a759-47fd40a2daf7"
      },
      "source": [
        "Okay, let's first train a linear SVM model with `kernel=linear` so that we can get a linear hyperplane and margins.\n"
      ]
    },
    {
      "cell_type": "code",
      "metadata": {
        "colab": {
          "base_uri": "https://localhost:8080/",
          "height": 75
        },
        "id": "18157b41-4bdc-4089-b898-18bba649ad9a",
        "outputId": "323665fc-8044-4146-9872-b45c53c291ac"
      },
      "outputs": [
        {
          "output_type": "execute_result",
          "data": {
            "text/plain": [
              "SVC(C=1000, kernel='linear')"
            ],
            "text/html": [
              "<style>#sk-container-id-2 {color: black;background-color: white;}#sk-container-id-2 pre{padding: 0;}#sk-container-id-2 div.sk-toggleable {background-color: white;}#sk-container-id-2 label.sk-toggleable__label {cursor: pointer;display: block;width: 100%;margin-bottom: 0;padding: 0.3em;box-sizing: border-box;text-align: center;}#sk-container-id-2 label.sk-toggleable__label-arrow:before {content: \"▸\";float: left;margin-right: 0.25em;color: #696969;}#sk-container-id-2 label.sk-toggleable__label-arrow:hover:before {color: black;}#sk-container-id-2 div.sk-estimator:hover label.sk-toggleable__label-arrow:before {color: black;}#sk-container-id-2 div.sk-toggleable__content {max-height: 0;max-width: 0;overflow: hidden;text-align: left;background-color: #f0f8ff;}#sk-container-id-2 div.sk-toggleable__content pre {margin: 0.2em;color: black;border-radius: 0.25em;background-color: #f0f8ff;}#sk-container-id-2 input.sk-toggleable__control:checked~div.sk-toggleable__content {max-height: 200px;max-width: 100%;overflow: auto;}#sk-container-id-2 input.sk-toggleable__control:checked~label.sk-toggleable__label-arrow:before {content: \"▾\";}#sk-container-id-2 div.sk-estimator input.sk-toggleable__control:checked~label.sk-toggleable__label {background-color: #d4ebff;}#sk-container-id-2 div.sk-label input.sk-toggleable__control:checked~label.sk-toggleable__label {background-color: #d4ebff;}#sk-container-id-2 input.sk-hidden--visually {border: 0;clip: rect(1px 1px 1px 1px);clip: rect(1px, 1px, 1px, 1px);height: 1px;margin: -1px;overflow: hidden;padding: 0;position: absolute;width: 1px;}#sk-container-id-2 div.sk-estimator {font-family: monospace;background-color: #f0f8ff;border: 1px dotted black;border-radius: 0.25em;box-sizing: border-box;margin-bottom: 0.5em;}#sk-container-id-2 div.sk-estimator:hover {background-color: #d4ebff;}#sk-container-id-2 div.sk-parallel-item::after {content: \"\";width: 100%;border-bottom: 1px solid gray;flex-grow: 1;}#sk-container-id-2 div.sk-label:hover label.sk-toggleable__label {background-color: #d4ebff;}#sk-container-id-2 div.sk-serial::before {content: \"\";position: absolute;border-left: 1px solid gray;box-sizing: border-box;top: 0;bottom: 0;left: 50%;z-index: 0;}#sk-container-id-2 div.sk-serial {display: flex;flex-direction: column;align-items: center;background-color: white;padding-right: 0.2em;padding-left: 0.2em;position: relative;}#sk-container-id-2 div.sk-item {position: relative;z-index: 1;}#sk-container-id-2 div.sk-parallel {display: flex;align-items: stretch;justify-content: center;background-color: white;position: relative;}#sk-container-id-2 div.sk-item::before, #sk-container-id-2 div.sk-parallel-item::before {content: \"\";position: absolute;border-left: 1px solid gray;box-sizing: border-box;top: 0;bottom: 0;left: 50%;z-index: -1;}#sk-container-id-2 div.sk-parallel-item {display: flex;flex-direction: column;z-index: 1;position: relative;background-color: white;}#sk-container-id-2 div.sk-parallel-item:first-child::after {align-self: flex-end;width: 50%;}#sk-container-id-2 div.sk-parallel-item:last-child::after {align-self: flex-start;width: 50%;}#sk-container-id-2 div.sk-parallel-item:only-child::after {width: 0;}#sk-container-id-2 div.sk-dashed-wrapped {border: 1px dashed gray;margin: 0 0.4em 0.5em 0.4em;box-sizing: border-box;padding-bottom: 0.4em;background-color: white;}#sk-container-id-2 div.sk-label label {font-family: monospace;font-weight: bold;display: inline-block;line-height: 1.2em;}#sk-container-id-2 div.sk-label-container {text-align: center;}#sk-container-id-2 div.sk-container {/* jupyter's `normalize.less` sets `[hidden] { display: none; }` but bootstrap.min.css set `[hidden] { display: none !important; }` so we also need the `!important` here to be able to override the default hidden behavior on the sphinx rendered scikit-learn.org. See: https://github.com/scikit-learn/scikit-learn/issues/21755 */display: inline-block !important;position: relative;}#sk-container-id-2 div.sk-text-repr-fallback {display: none;}</style><div id=\"sk-container-id-2\" class=\"sk-top-container\"><div class=\"sk-text-repr-fallback\"><pre>SVC(C=1000, kernel=&#x27;linear&#x27;)</pre><b>In a Jupyter environment, please rerun this cell to show the HTML representation or trust the notebook. <br />On GitHub, the HTML representation is unable to render, please try loading this page with nbviewer.org.</b></div><div class=\"sk-container\" hidden><div class=\"sk-item\"><div class=\"sk-estimator sk-toggleable\"><input class=\"sk-toggleable__control sk-hidden--visually\" id=\"sk-estimator-id-2\" type=\"checkbox\" checked><label for=\"sk-estimator-id-2\" class=\"sk-toggleable__label sk-toggleable__label-arrow\">SVC</label><div class=\"sk-toggleable__content\"><pre>SVC(C=1000, kernel=&#x27;linear&#x27;)</pre></div></div></div></div></div>"
            ]
          },
          "metadata": {},
          "execution_count": 28
        }
      ],
      "source": [
        "linear_svm = SVC(C=1000, kernel='linear')\n",
        "linear_svm.fit(X_under, y_under)"
      ],
      "execution_count": 28
    },
    {
      "cell_type": "markdown",
      "metadata": {
        "id": "fcb7c8f4-0c6c-4f50-a9db-f5d5a145223d"
      },
      "source": [
        "Here we also provided an utility method to plot the decision boundary (hyperplane), support vectors, and margins. You may write your own visualization method if you are interested.\n"
      ]
    },
    {
      "cell_type": "code",
      "metadata": {
        "id": "f2b7fd10-27d3-4703-858d-b82b56b211b4"
      },
      "outputs": [],
      "source": [
        "def plot_decision_boundry(X, y, model):\n",
        "    plt.figure(figsize=(16, 12))\n",
        "    plt.scatter(X[:, 0], X[:, 1], c=y, cmap=plt.cm.Paired)\n",
        "\n",
        "    # plot the decision function\n",
        "    ax = plt.gca()\n",
        "    xlim = ax.get_xlim()\n",
        "    ylim = ax.get_ylim()\n",
        "\n",
        "    # create grid to evaluate model\n",
        "    xx = np.linspace(xlim[0], xlim[1], 30)\n",
        "    yy = np.linspace(ylim[0], ylim[1], 30)\n",
        "    YY, XX = np.meshgrid(yy, xx)\n",
        "    xy = np.vstack([XX.ravel(), YY.ravel()]).T\n",
        "    Z = model.decision_function(xy).reshape(XX.shape)\n",
        "\n",
        "    # plot decision boundary and margins\n",
        "    ax.contour(\n",
        "        XX, YY, Z, colors=\"k\", levels=[-1, 0, 1], alpha=0.5, linestyles=[\"--\", \"-\", \"--\"]\n",
        "    )\n",
        "\n",
        "    # plot support vectors\n",
        "    ax.scatter(\n",
        "        model.support_vectors_[:, 0],\n",
        "        model.support_vectors_[:, 1],\n",
        "        s=100,\n",
        "        linewidth=1,\n",
        "        facecolors=\"none\",\n",
        "        edgecolors=\"k\",\n",
        "    )\n",
        "    plt.show()"
      ],
      "execution_count": 29
    },
    {
      "cell_type": "code",
      "metadata": {
        "colab": {
          "base_uri": "https://localhost:8080/",
          "height": 984
        },
        "id": "035051b3-bec5-497f-a11f-cd7c21ae1d1b",
        "outputId": "f42e6767-b37d-4846-edd1-5c29eda8a9c1"
      },
      "outputs": [
        {
          "output_type": "display_data",
          "data": {
            "text/plain": [
              "<Figure size 1600x1200 with 1 Axes>"
            ],
            "image/png": "[encoded data removed]"
          },
          "metadata": {}
        }
      ],
      "source": [
        "plot_decision_boundry(X_under, y_under, linear_svm)"
      ],
      "execution_count": 30
    },
    {
      "cell_type": "markdown",
      "metadata": {
        "id": "aba1112e-405c-4bf4-a9f2-c185a96782c9"
      },
      "source": [
        "Okay, we can see a clear linear hyperplane seperates the two classes (Blue dots vs Orange dots). The highlighted dots are the support vectors determining the hyperplain.\n"
      ]
    },
    {
      "cell_type": "markdown",
      "metadata": {
        "id": "9cfca041-6fef-4fd2-9b40-bb2fbdca8418"
      },
      "source": [
        "If we want to include non-linear kernels, we should get a non-linear decision boundary in the 2-d space (maybe linear in higher feature space). So here we use a `rbf` kernel:\n"
      ]
    },
    {
      "cell_type": "code",
      "metadata": {
        "colab": {
          "base_uri": "https://localhost:8080/",
          "height": 75
        },
        "id": "92819c9c-6041-4fca-b266-efed539015db",
        "outputId": "2c5144f3-9ec9-4f88-88d9-ae71bba313cb"
      },
      "outputs": [
        {
          "output_type": "execute_result",
          "data": {
            "text/plain": [
              "SVC(C=100)"
            ],
            "text/html": [
              "<style>#sk-container-id-3 {color: black;background-color: white;}#sk-container-id-3 pre{padding: 0;}#sk-container-id-3 div.sk-toggleable {background-color: white;}#sk-container-id-3 label.sk-toggleable__label {cursor: pointer;display: block;width: 100%;margin-bottom: 0;padding: 0.3em;box-sizing: border-box;text-align: center;}#sk-container-id-3 label.sk-toggleable__label-arrow:before {content: \"▸\";float: left;margin-right: 0.25em;color: #696969;}#sk-container-id-3 label.sk-toggleable__label-arrow:hover:before {color: black;}#sk-container-id-3 div.sk-estimator:hover label.sk-toggleable__label-arrow:before {color: black;}#sk-container-id-3 div.sk-toggleable__content {max-height: 0;max-width: 0;overflow: hidden;text-align: left;background-color: #f0f8ff;}#sk-container-id-3 div.sk-toggleable__content pre {margin: 0.2em;color: black;border-radius: 0.25em;background-color: #f0f8ff;}#sk-container-id-3 input.sk-toggleable__control:checked~div.sk-toggleable__content {max-height: 200px;max-width: 100%;overflow: auto;}#sk-container-id-3 input.sk-toggleable__control:checked~label.sk-toggleable__label-arrow:before {content: \"▾\";}#sk-container-id-3 div.sk-estimator input.sk-toggleable__control:checked~label.sk-toggleable__label {background-color: #d4ebff;}#sk-container-id-3 div.sk-label input.sk-toggleable__control:checked~label.sk-toggleable__label {background-color: #d4ebff;}#sk-container-id-3 input.sk-hidden--visually {border: 0;clip: rect(1px 1px 1px 1px);clip: rect(1px, 1px, 1px, 1px);height: 1px;margin: -1px;overflow: hidden;padding: 0;position: absolute;width: 1px;}#sk-container-id-3 div.sk-estimator {font-family: monospace;background-color: #f0f8ff;border: 1px dotted black;border-radius: 0.25em;box-sizing: border-box;margin-bottom: 0.5em;}#sk-container-id-3 div.sk-estimator:hover {background-color: #d4ebff;}#sk-container-id-3 div.sk-parallel-item::after {content: \"\";width: 100%;border-bottom: 1px solid gray;flex-grow: 1;}#sk-container-id-3 div.sk-label:hover label.sk-toggleable__label {background-color: #d4ebff;}#sk-container-id-3 div.sk-serial::before {content: \"\";position: absolute;border-left: 1px solid gray;box-sizing: border-box;top: 0;bottom: 0;left: 50%;z-index: 0;}#sk-container-id-3 div.sk-serial {display: flex;flex-direction: column;align-items: center;background-color: white;padding-right: 0.2em;padding-left: 0.2em;position: relative;}#sk-container-id-3 div.sk-item {position: relative;z-index: 1;}#sk-container-id-3 div.sk-parallel {display: flex;align-items: stretch;justify-content: center;background-color: white;position: relative;}#sk-container-id-3 div.sk-item::before, #sk-container-id-3 div.sk-parallel-item::before {content: \"\";position: absolute;border-left: 1px solid gray;box-sizing: border-box;top: 0;bottom: 0;left: 50%;z-index: -1;}#sk-container-id-3 div.sk-parallel-item {display: flex;flex-direction: column;z-index: 1;position: relative;background-color: white;}#sk-container-id-3 div.sk-parallel-item:first-child::after {align-self: flex-end;width: 50%;}#sk-container-id-3 div.sk-parallel-item:last-child::after {align-self: flex-start;width: 50%;}#sk-container-id-3 div.sk-parallel-item:only-child::after {width: 0;}#sk-container-id-3 div.sk-dashed-wrapped {border: 1px dashed gray;margin: 0 0.4em 0.5em 0.4em;box-sizing: border-box;padding-bottom: 0.4em;background-color: white;}#sk-container-id-3 div.sk-label label {font-family: monospace;font-weight: bold;display: inline-block;line-height: 1.2em;}#sk-container-id-3 div.sk-label-container {text-align: center;}#sk-container-id-3 div.sk-container {/* jupyter's `normalize.less` sets `[hidden] { display: none; }` but bootstrap.min.css set `[hidden] { display: none !important; }` so we also need the `!important` here to be able to override the default hidden behavior on the sphinx rendered scikit-learn.org. See: https://github.com/scikit-learn/scikit-learn/issues/21755 */display: inline-block !important;position: relative;}#sk-container-id-3 div.sk-text-repr-fallback {display: none;}</style><div id=\"sk-container-id-3\" class=\"sk-top-container\"><div class=\"sk-text-repr-fallback\"><pre>SVC(C=100)</pre><b>In a Jupyter environment, please rerun this cell to show the HTML representation or trust the notebook. <br />On GitHub, the HTML representation is unable to render, please try loading this page with nbviewer.org.</b></div><div class=\"sk-container\" hidden><div class=\"sk-item\"><div class=\"sk-estimator sk-toggleable\"><input class=\"sk-toggleable__control sk-hidden--visually\" id=\"sk-estimator-id-3\" type=\"checkbox\" checked><label for=\"sk-estimator-id-3\" class=\"sk-toggleable__label sk-toggleable__label-arrow\">SVC</label><div class=\"sk-toggleable__content\"><pre>SVC(C=100)</pre></div></div></div></div></div>"
            ]
          },
          "metadata": {},
          "execution_count": 31
        }
      ],
      "source": [
        "svm_rbf_kernel = SVC(C=100, kernel='rbf')\n",
        "svm_rbf_kernel.fit(X_under, y_under)"
      ],
      "execution_count": 31
    },
    {
      "cell_type": "code",
      "metadata": {
        "id": "ec3c21c7-5b7a-4bdb-8c5d-8259919e32c6"
      },
      "outputs": [],
      "source": [
        "plot_decision_boundry(X_under, y_under, svm_rbf_kernel)"
      ],
      "execution_count": null
    },
    {
      "cell_type": "markdown",
      "metadata": {
        "id": "2907bb97-d99a-46ff-bf15-f857cdf9b52b"
      },
      "source": [
        "We now see a non-linear hyperplane and margins separating the two classes.\n"
      ]
    },
    {
      "cell_type": "markdown",
      "metadata": {
        "id": "aff264f6-ed19-4e41-a2c6-c6601093bfad"
      },
      "source": [
        "### Coding Exercise: Try different `C` values and `kernels` to see the how they affect the hyperplanes and margins.\n"
      ]
    },
    {
      "cell_type": "code",
      "metadata": {
        "colab": {
          "base_uri": "https://localhost:8080/",
          "height": 984
        },
        "id": "ae4bcc7a-89e7-4c77-affc-efa190f4762a",
        "outputId": "e431d3df-be1c-4e4b-f874-b9327278bd85"
      },
      "outputs": [
        {
          "output_type": "display_data",
          "data": {
            "text/plain": [
              "<Figure size 1600x1200 with 1 Axes>"
            ],
            "image/png": "[encoded data removed]"
          },
          "metadata": {}
        }
      ],
      "source": [
        "## Type your code here\n",
        "svm_rbf_kernel = SVC(C=100, kernel='poly')\n",
        "svm_rbf_kernel.fit(X_under, y_under)\n",
        "plot_decision_boundry(X_under, y_under, svm_rbf_kernel)"
      ],
      "execution_count": 33
    },
    {
      "cell_type": "markdown",
      "metadata": {
        "id": "a2f13ade-0bef-40ed-8c9d-0145bffb70b0"
      },
      "source": [
        "<details><summary>Click here for a sample solution</summary>\n",
        "\n",
        "```python\n",
        "svm_rbf_kernel = SVC(C=100, kernel='poly')\n",
        "svm_rbf_kernel.fit(X_under, y_under)\n",
        "plot_decision_boundry(X_under, y_under, svm_rbf_kernel)\n",
        "```\n",
        "\n",
        "</details>\n"
      ]
    },
    {
      "cell_type": "markdown",
      "metadata": {
        "id": "d5522a10-8fa1-4400-b573-6bb3429ac5d1"
      },
      "source": [
        "## Next Steps\n"
      ]
    },
    {
      "cell_type": "markdown",
      "metadata": {
        "id": "c370d65e-541a-42ec-a5f8-578288848cfa"
      },
      "source": [
        "Great! Now you have learned and practiced SVM model and applied it to solve a real-world food classification problem for diabetic patients. You also learned how to visualize the hyperplanes and margins generated by the SVM models.\n"
      ]
    },
    {
      "cell_type": "markdown",
      "metadata": {
        "id": "75a2f9a9-2354-4af0-8906-6288ab357fbc"
      },
      "source": [
        "Next, you will be learning other popular classification models with different structures, assumptions, cost functions, and application scenarios.\n"
      ]
    },
    {
      "cell_type": "markdown",
      "metadata": {
        "id": "3866c948-f62c-411d-8887-04b736580029"
      },
      "source": [
        "## Authors\n"
      ]
    },
    {
      "cell_type": "markdown",
      "metadata": {
        "id": "86c42232-5932-42a7-858b-f962e49ca0e5"
      },
      "source": [
        "[Yan Luo](https://www.linkedin.com/in/yan-luo-96288783/?utm_medium=Exinfluencer&utm_source=Exinfluencer&utm_content=000026UJ&utm_term=10006555&utm_id=NA-SkillsNetwork-Channel-SkillsNetworkCoursesIBMML241ENSkillsNetwork31576874-2021-01-01)\n"
      ]
    },
    {
      "cell_type": "markdown",
      "metadata": {
        "id": "a30bb25f-7ae0-48c1-9008-2942d7e7e293"
      },
      "source": [
        "### Other Contributors\n"
      ]
    },
    {
      "cell_type": "markdown",
      "metadata": {
        "id": "7eadf8b6-4ce9-4c1c-bcd6-6f193852f213"
      },
      "source": [
        "## Change Log\n"
      ]
    },
    {
      "cell_type": "markdown",
      "metadata": {
        "id": "251594ae-a8f7-4ccc-9641-9dcf89272b4c"
      },
      "source": [
        "| Date (YYYY-MM-DD) | Version | Changed By | Change Description          |\n",
        "| ----------------- | ------- | ---------- | --------------------------- |\n",
        "| 2021-9-23         | 1.0     | Yan        | Created the initial version |\n",
        "| 2022-2-9          | 1.1     | Steve Hord | QA pass                     |\n"
      ]
    },
    {
      "cell_type": "markdown",
      "metadata": {
        "id": "1038175c-c1f9-44ad-81e0-8d466b155851"
      },
      "source": [
        "Copyright © 2021 IBM Corporation. All rights reserved.\n"
      ]
    }
  ],
  "metadata": {
    "kernelspec": {
      "display_name": "Python",
      "language": "python",
      "name": "conda-env-python-py"
    },
    "language_info": {
      "name": ""
    },
    "colab": {
      "provenance": [],
      "include_colab_link": true
    }
  },
  "nbformat": 4,
  "nbformat_minor": 0
}