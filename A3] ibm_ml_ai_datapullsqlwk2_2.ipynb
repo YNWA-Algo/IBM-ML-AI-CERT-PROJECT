{
  "cells": [
    {
      "cell_type": "markdown",
      "metadata": {
        "id": "view-in-github",
        "colab_type": "text"
      },
      "source": [
        "<a href=\"https://colab.research.google.com/github/YNWA-Algo/IBM-ML-AI-CERT-PROJECT/blob/main/ibm_ml_ai_datapullsqlwk2_2.ipynb\" target=\"_parent\"><img src=\"https://colab.research.google.com/assets/colab-badge.svg\" alt=\"Open In Colab\"/></a>"
      ]
    },
    {
      "cell_type": "markdown",
      "metadata": {
        "id": "BNZzL4ZeKX9e"
      },
      "source": [
        "# Machine Learning Foundation\n",
        "\n",
        "## Section 1, Part b: Reading Data Lab"
      ]
    },
    {
      "cell_type": "code",
      "execution_count": null,
      "metadata": {
        "id": "eymhwLYBKX9g"
      },
      "outputs": [],
      "source": [
        "# Imports\n",
        "import sqlite3 as sq3\n",
        "import pandas.io.sql as pds\n",
        "import pandas as pd"
      ]
    },
    {
      "cell_type": "markdown",
      "metadata": {
        "id": "kYkPUmqEKX9h"
      },
      "source": [
        "## Lab Exercise: Reading in database files\n",
        "\n",
        " - Create a variable, `path`, containing the path to the `baseball.db` contained in `resources/`\n",
        " - Create a connection, `con`, that is connected to database at `path`\n",
        " - Create a variable, `query`, containing a SQL query which reads in all data from the `allstarfull` table\n",
        " - Create a variable, `observations`, by using pandas' [read_sql](https://pandas.pydata.org/pandas-docs/stable/reference/api/pandas.read_sql.html)\n",
        "\n",
        "### Optional\n",
        " - Create a variable, `tables`, which reads in all data from the table `sqlite_master`\n",
        " - Pretend that you were interesting in creating a new baseball hall of fame. Join and analyze the tables to evaluate the top 3 all time best baseball players."
      ]
    },
    {
      "cell_type": "code",
      "source": [
        "#Downlaod the database\n",
        "!wget -P data https://cf-courses-data.s3.us.cloud-object-storage.appdomain.cloud/IBM-ML0232EN-SkillsNetwork/asset/baseball.db"
      ],
      "metadata": {
        "colab": {
          "base_uri": "https://localhost:8080/"
        },
        "id": "1Cz8IIFzPDRD",
        "outputId": "8bdc9b11-57b2-4761-ace6-a5e445925238"
      },
      "execution_count": null,
      "outputs": [
        {
          "output_type": "stream",
          "name": "stdout",
          "text": [
            "--2024-02-03 18:34:24--  https://cf-courses-data.s3.us.cloud-object-storage.appdomain.cloud/IBM-ML0232EN-SkillsNetwork/asset/baseball.db\n",
            "Resolving cf-courses-data.s3.us.cloud-object-storage.appdomain.cloud (cf-courses-data.s3.us.cloud-object-storage.appdomain.cloud)... 169.63.118.104\n",
            "Connecting to cf-courses-data.s3.us.cloud-object-storage.appdomain.cloud (cf-courses-data.s3.us.cloud-object-storage.appdomain.cloud)|169.63.118.104|:443... connected.\n",
            "HTTP request sent, awaiting response... 200 OK\n",
            "Length: 7626752 (7.3M) [binary/octet-stream]\n",
            "Saving to: ‘data/baseball.db’\n",
            "\n",
            "baseball.db         100%[===================>]   7.27M   174KB/s    in 29s     \n",
            "\n",
            "2024-02-03 18:34:55 (256 KB/s) - ‘data/baseball.db’ saved [7626752/7626752]\n",
            "\n"
          ]
        }
      ]
    },
    {
      "cell_type": "code",
      "execution_count": null,
      "metadata": {
        "colab": {
          "base_uri": "https://localhost:8080/"
        },
        "id": "1cFZ9nLCKX9h",
        "outputId": "e293d19a-ffdd-43fd-85f9-b9c580b18f82"
      },
      "outputs": [
        {
          "output_type": "stream",
          "name": "stdout",
          "text": [
            "    type                  name     tbl_name  rootpage  \\\n",
            "0  table           allstarfull  allstarfull         2   \n",
            "1  index  ix_allstarfull_index  allstarfull         3   \n",
            "2  table               schools      schools        26   \n",
            "3  index      ix_schools_index      schools        31   \n",
            "4  table               batting      batting        99   \n",
            "5  index      ix_batting_index      batting       100   \n",
            "\n",
            "                                                 sql  \n",
            "0  CREATE TABLE \"allstarfull\" (\\n\"index\" INTEGER,...  \n",
            "1  CREATE INDEX \"ix_allstarfull_index\"ON \"allstar...  \n",
            "2  CREATE TABLE \"schools\" (\\n\"index\" INTEGER,\\n  ...  \n",
            "3  CREATE INDEX \"ix_schools_index\"ON \"schools\" (\"...  \n",
            "4  CREATE TABLE \"batting\" (\\n\"index\" INTEGER,\\n  ...  \n",
            "5  CREATE INDEX \"ix_batting_index\"ON \"batting\" (\"...  \n",
            "    playerID  num_games_played  avg_starting_position\n",
            "0  musiast01              24.0               6.357143\n",
            "1   mayswi01              24.0               8.000000\n",
            "2  aaronha01              24.0               8.470588\n"
          ]
        }
      ],
      "source": [
        "### BEGIN SOLUTION\n",
        "# Create a variable, `path`, containing the path to the `baseball.db` contained in `resources/`\n",
        "path = 'data/baseball.db'\n",
        "\n",
        "# Create a connection, `con`, that is connected to database at `path`\n",
        "con = sq3.Connection(path)\n",
        "\n",
        "# Create a variable, `query`, containing a SQL query which reads in all data from the `` table\n",
        "\n",
        "query = \"\"\"\n",
        "SELECT *\n",
        "    FROM allstarfull\n",
        "    ;\n",
        "\"\"\"\n",
        "\n",
        "allstar_observations = pd.read_sql(query, con)\n",
        "\n",
        "# print(allstar_observations)\n",
        "\n",
        "# Create a variable, tables, which reads in all data from the table sqlite_master\n",
        "all_tables = pd.read_sql('SELECT * FROM sqlite_master', con)\n",
        "print(all_tables)\n",
        "\n",
        "# Pretend that you were interesting in creating a new baseball hall of fame. Join and analyze the tables to evaluate the top 3 all time best baseball players\n",
        "best_query = \"\"\"\n",
        "SELECT playerID, sum(GP) AS num_games_played, AVG(startingPos) AS avg_starting_position\n",
        "    FROM allstarfull\n",
        "    GROUP BY playerID\n",
        "    ORDER BY num_games_played DESC, avg_starting_position ASC\n",
        "    LIMIT 3\n",
        "\"\"\"\n",
        "best = pd.read_sql(best_query, con)\n",
        "print(best.head())\n",
        "### END SOLUTION"
      ]
    },
    {
      "cell_type": "markdown",
      "metadata": {
        "id": "uLYfIFTzKX9i"
      },
      "source": [
        "---\n",
        "### Machine Learning Foundation (C) 2020 IBM Corporation"
      ]
    }
  ],
  "metadata": {
    "kernelspec": {
      "display_name": "Python 3",
      "language": "python",
      "name": "python3"
    },
    "language_info": {
      "codemirror_mode": {
        "name": "ipython",
        "version": 3
      },
      "file_extension": ".py",
      "mimetype": "text/x-python",
      "name": "python",
      "nbconvert_exporter": "python",
      "pygments_lexer": "ipython3",
      "version": "3.7.5"
    },
    "colab": {
      "provenance": [],
      "include_colab_link": true
    }
  },
  "nbformat": 4,
  "nbformat_minor": 0
}
