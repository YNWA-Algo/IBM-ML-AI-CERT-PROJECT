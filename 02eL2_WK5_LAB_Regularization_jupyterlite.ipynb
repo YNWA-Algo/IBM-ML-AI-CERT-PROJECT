{
  "cells": [
    {
      "cell_type": "markdown",
      "metadata": {
        "id": "view-in-github",
        "colab_type": "text"
      },
      "source": [
        "<a href=\"https://colab.research.google.com/github/YNWA-Algo/IBM-ML-AI-CERT-PROJECT/blob/main/02eL2_WK5_LAB_Regularization_jupyterlite.ipynb\" target=\"_parent\"><img src=\"https://colab.research.google.com/assets/colab-badge.svg\" alt=\"Open In Colab\"/></a>"
      ]
    },
    {
      "cell_type": "markdown",
      "metadata": {
        "id": "2afcb720-60f8-4a53-b3e7-c983607da8c2"
      },
      "source": [
        "# Machine Learning Foundation\n",
        "\n",
        "## Section 2, Part e: Regularization LAB\n"
      ]
    },
    {
      "cell_type": "markdown",
      "metadata": {
        "id": "80b94468-13f0-4bdd-9ffc-c5de0127638e"
      },
      "source": [
        "## Learning objectives\n",
        "\n",
        "By the end of this lesson, you will be able to:\n",
        "\n",
        "*   Implement data standardization\n",
        "*   Implement variants of regularized regression\n",
        "*   Combine data standardization with the train-test split procedure\n",
        "*   Implement regularization to prevent overfitting in regression problems\n"
      ]
    },
    {
      "cell_type": "code",
      "source": [
        "!pip install tqdm seaborn pandas numpy"
      ],
      "metadata": {
        "colab": {
          "base_uri": "https://localhost:8080/"
        },
        "id": "dBReZjD0a5Tt",
        "outputId": "fcd8848c-3451-4a9d-df81-4335477f63f3"
      },
      "execution_count": 1,
      "outputs": [
        {
          "output_type": "stream",
          "name": "stdout",
          "text": [
            "Requirement already satisfied: tqdm in /usr/local/lib/python3.10/dist-packages (4.66.4)\n",
            "Requirement already satisfied: seaborn in /usr/local/lib/python3.10/dist-packages (0.13.1)\n",
            "Requirement already satisfied: pandas in /usr/local/lib/python3.10/dist-packages (2.0.3)\n",
            "Requirement already satisfied: numpy in /usr/local/lib/python3.10/dist-packages (1.25.2)\n",
            "Requirement already satisfied: matplotlib!=3.6.1,>=3.4 in /usr/local/lib/python3.10/dist-packages (from seaborn) (3.7.1)\n",
            "Requirement already satisfied: python-dateutil>=2.8.2 in /usr/local/lib/python3.10/dist-packages (from pandas) (2.8.2)\n",
            "Requirement already satisfied: pytz>=2020.1 in /usr/local/lib/python3.10/dist-packages (from pandas) (2023.4)\n",
            "Requirement already satisfied: tzdata>=2022.1 in /usr/local/lib/python3.10/dist-packages (from pandas) (2024.1)\n",
            "Requirement already satisfied: contourpy>=1.0.1 in /usr/local/lib/python3.10/dist-packages (from matplotlib!=3.6.1,>=3.4->seaborn) (1.2.1)\n",
            "Requirement already satisfied: cycler>=0.10 in /usr/local/lib/python3.10/dist-packages (from matplotlib!=3.6.1,>=3.4->seaborn) (0.12.1)\n",
            "Requirement already satisfied: fonttools>=4.22.0 in /usr/local/lib/python3.10/dist-packages (from matplotlib!=3.6.1,>=3.4->seaborn) (4.51.0)\n",
            "Requirement already satisfied: kiwisolver>=1.0.1 in /usr/local/lib/python3.10/dist-packages (from matplotlib!=3.6.1,>=3.4->seaborn) (1.4.5)\n",
            "Requirement already satisfied: packaging>=20.0 in /usr/local/lib/python3.10/dist-packages (from matplotlib!=3.6.1,>=3.4->seaborn) (24.0)\n",
            "Requirement already satisfied: pillow>=6.2.0 in /usr/local/lib/python3.10/dist-packages (from matplotlib!=3.6.1,>=3.4->seaborn) (9.4.0)\n",
            "Requirement already satisfied: pyparsing>=2.3.1 in /usr/local/lib/python3.10/dist-packages (from matplotlib!=3.6.1,>=3.4->seaborn) (3.1.2)\n",
            "Requirement already satisfied: six>=1.5 in /usr/local/lib/python3.10/dist-packages (from python-dateutil>=2.8.2->pandas) (1.16.0)\n"
          ]
        }
      ]
    },
    {
      "cell_type": "code",
      "metadata": {
        "id": "93ec8a84-72a6-400b-b8cc-ece76154039d"
      },
      "outputs": [],
      "source": [
        "import numpy as np\n",
        "import pandas as pd\n",
        "import matplotlib.pyplot as plt\n",
        "%matplotlib inline\n",
        "\n",
        "\n",
        "# Surpress warnings:\n",
        "def warn(*args, **kwargs):\n",
        "    pass\n",
        "import warnings\n",
        "warnings.warn = warn\n",
        "\n",
        "np.set_printoptions(precision=3, suppress=True)"
      ],
      "execution_count": 2
    },
    {
      "cell_type": "markdown",
      "metadata": {
        "id": "893d876d-29fe-461c-be02-5883ec7bb3fd"
      },
      "source": [
        "In the following cell we load the data and define some useful plotting functions.\n"
      ]
    },
    {
      "cell_type": "code",
      "source": [
        "  data_url = \"http://lib.stat.cmu.edu/datasets/boston\"\n",
        "  raw_df = pd.read_csv(data_url, sep=\"\\s+\", skiprows=22, header=None)\n",
        "  data = np.hstack([raw_df.values[::2, :], raw_df.values[1::2, :2]])\n",
        "  target = raw_df.values[1::2, 2]"
      ],
      "metadata": {
        "id": "mxk66t52fJOq"
      },
      "execution_count": 3,
      "outputs": []
    },
    {
      "cell_type": "code",
      "source": [
        "raw_df.head(10)"
      ],
      "metadata": {
        "colab": {
          "base_uri": "https://localhost:8080/",
          "height": 363
        },
        "id": "0xJp1LJcnmK9",
        "outputId": "8a0ebbe8-dc05-4872-d925-cbf0cd20c19d"
      },
      "execution_count": 4,
      "outputs": [
        {
          "output_type": "execute_result",
          "data": {
            "text/plain": [
              "          0      1      2    3      4      5     6       7    8      9     10\n",
              "0    0.00632  18.00   2.31  0.0  0.538  6.575  65.2  4.0900  1.0  296.0  15.3\n",
              "1  396.90000   4.98  24.00  NaN    NaN    NaN   NaN     NaN  NaN    NaN   NaN\n",
              "2    0.02731   0.00   7.07  0.0  0.469  6.421  78.9  4.9671  2.0  242.0  17.8\n",
              "3  396.90000   9.14  21.60  NaN    NaN    NaN   NaN     NaN  NaN    NaN   NaN\n",
              "4    0.02729   0.00   7.07  0.0  0.469  7.185  61.1  4.9671  2.0  242.0  17.8\n",
              "5  392.83000   4.03  34.70  NaN    NaN    NaN   NaN     NaN  NaN    NaN   NaN\n",
              "6    0.03237   0.00   2.18  0.0  0.458  6.998  45.8  6.0622  3.0  222.0  18.7\n",
              "7  394.63000   2.94  33.40  NaN    NaN    NaN   NaN     NaN  NaN    NaN   NaN\n",
              "8    0.06905   0.00   2.18  0.0  0.458  7.147  54.2  6.0622  3.0  222.0  18.7\n",
              "9  396.90000   5.33  36.20  NaN    NaN    NaN   NaN     NaN  NaN    NaN   NaN"
            ],
            "text/html": [
              "\n",
              "  <div id=\"df-f62f6b9e-97fe-43bc-9ee0-ec310faeeaa6\" class=\"colab-df-container\">\n",
              "    <div>\n",
              "<style scoped>\n",
              "    .dataframe tbody tr th:only-of-type {\n",
              "        vertical-align: middle;\n",
              "    }\n",
              "\n",
              "    .dataframe tbody tr th {\n",
              "        vertical-align: top;\n",
              "    }\n",
              "\n",
              "    .dataframe thead th {\n",
              "        text-align: right;\n",
              "    }\n",
              "</style>\n",
              "<table border=\"1\" class=\"dataframe\">\n",
              "  <thead>\n",
              "    <tr style=\"text-align: right;\">\n",
              "      <th></th>\n",
              "      <th>0</th>\n",
              "      <th>1</th>\n",
              "      <th>2</th>\n",
              "      <th>3</th>\n",
              "      <th>4</th>\n",
              "      <th>5</th>\n",
              "      <th>6</th>\n",
              "      <th>7</th>\n",
              "      <th>8</th>\n",
              "      <th>9</th>\n",
              "      <th>10</th>\n",
              "    </tr>\n",
              "  </thead>\n",
              "  <tbody>\n",
              "    <tr>\n",
              "      <th>0</th>\n",
              "      <td>0.00632</td>\n",
              "      <td>18.00</td>\n",
              "      <td>2.31</td>\n",
              "      <td>0.0</td>\n",
              "      <td>0.538</td>\n",
              "      <td>6.575</td>\n",
              "      <td>65.2</td>\n",
              "      <td>4.0900</td>\n",
              "      <td>1.0</td>\n",
              "      <td>296.0</td>\n",
              "      <td>15.3</td>\n",
              "    </tr>\n",
              "    <tr>\n",
              "      <th>1</th>\n",
              "      <td>396.90000</td>\n",
              "      <td>4.98</td>\n",
              "      <td>24.00</td>\n",
              "      <td>NaN</td>\n",
              "      <td>NaN</td>\n",
              "      <td>NaN</td>\n",
              "      <td>NaN</td>\n",
              "      <td>NaN</td>\n",
              "      <td>NaN</td>\n",
              "      <td>NaN</td>\n",
              "      <td>NaN</td>\n",
              "    </tr>\n",
              "    <tr>\n",
              "      <th>2</th>\n",
              "      <td>0.02731</td>\n",
              "      <td>0.00</td>\n",
              "      <td>7.07</td>\n",
              "      <td>0.0</td>\n",
              "      <td>0.469</td>\n",
              "      <td>6.421</td>\n",
              "      <td>78.9</td>\n",
              "      <td>4.9671</td>\n",
              "      <td>2.0</td>\n",
              "      <td>242.0</td>\n",
              "      <td>17.8</td>\n",
              "    </tr>\n",
              "    <tr>\n",
              "      <th>3</th>\n",
              "      <td>396.90000</td>\n",
              "      <td>9.14</td>\n",
              "      <td>21.60</td>\n",
              "      <td>NaN</td>\n",
              "      <td>NaN</td>\n",
              "      <td>NaN</td>\n",
              "      <td>NaN</td>\n",
              "      <td>NaN</td>\n",
              "      <td>NaN</td>\n",
              "      <td>NaN</td>\n",
              "      <td>NaN</td>\n",
              "    </tr>\n",
              "    <tr>\n",
              "      <th>4</th>\n",
              "      <td>0.02729</td>\n",
              "      <td>0.00</td>\n",
              "      <td>7.07</td>\n",
              "      <td>0.0</td>\n",
              "      <td>0.469</td>\n",
              "      <td>7.185</td>\n",
              "      <td>61.1</td>\n",
              "      <td>4.9671</td>\n",
              "      <td>2.0</td>\n",
              "      <td>242.0</td>\n",
              "      <td>17.8</td>\n",
              "    </tr>\n",
              "    <tr>\n",
              "      <th>5</th>\n",
              "      <td>392.83000</td>\n",
              "      <td>4.03</td>\n",
              "      <td>34.70</td>\n",
              "      <td>NaN</td>\n",
              "      <td>NaN</td>\n",
              "      <td>NaN</td>\n",
              "      <td>NaN</td>\n",
              "      <td>NaN</td>\n",
              "      <td>NaN</td>\n",
              "      <td>NaN</td>\n",
              "      <td>NaN</td>\n",
              "    </tr>\n",
              "    <tr>\n",
              "      <th>6</th>\n",
              "      <td>0.03237</td>\n",
              "      <td>0.00</td>\n",
              "      <td>2.18</td>\n",
              "      <td>0.0</td>\n",
              "      <td>0.458</td>\n",
              "      <td>6.998</td>\n",
              "      <td>45.8</td>\n",
              "      <td>6.0622</td>\n",
              "      <td>3.0</td>\n",
              "      <td>222.0</td>\n",
              "      <td>18.7</td>\n",
              "    </tr>\n",
              "    <tr>\n",
              "      <th>7</th>\n",
              "      <td>394.63000</td>\n",
              "      <td>2.94</td>\n",
              "      <td>33.40</td>\n",
              "      <td>NaN</td>\n",
              "      <td>NaN</td>\n",
              "      <td>NaN</td>\n",
              "      <td>NaN</td>\n",
              "      <td>NaN</td>\n",
              "      <td>NaN</td>\n",
              "      <td>NaN</td>\n",
              "      <td>NaN</td>\n",
              "    </tr>\n",
              "    <tr>\n",
              "      <th>8</th>\n",
              "      <td>0.06905</td>\n",
              "      <td>0.00</td>\n",
              "      <td>2.18</td>\n",
              "      <td>0.0</td>\n",
              "      <td>0.458</td>\n",
              "      <td>7.147</td>\n",
              "      <td>54.2</td>\n",
              "      <td>6.0622</td>\n",
              "      <td>3.0</td>\n",
              "      <td>222.0</td>\n",
              "      <td>18.7</td>\n",
              "    </tr>\n",
              "    <tr>\n",
              "      <th>9</th>\n",
              "      <td>396.90000</td>\n",
              "      <td>5.33</td>\n",
              "      <td>36.20</td>\n",
              "      <td>NaN</td>\n",
              "      <td>NaN</td>\n",
              "      <td>NaN</td>\n",
              "      <td>NaN</td>\n",
              "      <td>NaN</td>\n",
              "      <td>NaN</td>\n",
              "      <td>NaN</td>\n",
              "      <td>NaN</td>\n",
              "    </tr>\n",
              "  </tbody>\n",
              "</table>\n",
              "</div>\n",
              "    <div class=\"colab-df-buttons\">\n",
              "\n",
              "  <div class=\"colab-df-container\">\n",
              "    <button class=\"colab-df-convert\" onclick=\"convertToInteractive('df-f62f6b9e-97fe-43bc-9ee0-ec310faeeaa6')\"\n",
              "            title=\"Convert this dataframe to an interactive table.\"\n",
              "            style=\"display:none;\">\n",
              "\n",
              "  <svg xmlns=\"http://www.w3.org/2000/svg\" height=\"24px\" viewBox=\"0 -960 960 960\">\n",
              "    <path d=\"M120-120v-720h720v720H120Zm60-500h600v-160H180v160Zm220 220h160v-160H400v160Zm0 220h160v-160H400v160ZM180-400h160v-160H180v160Zm440 0h160v-160H620v160ZM180-180h160v-160H180v160Zm440 0h160v-160H620v160Z\"/>\n",
              "  </svg>\n",
              "    </button>\n",
              "\n",
              "  <style>\n",
              "    .colab-df-container {\n",
              "      display:flex;\n",
              "      gap: 12px;\n",
              "    }\n",
              "\n",
              "    .colab-df-convert {\n",
              "      background-color: #E8F0FE;\n",
              "      border: none;\n",
              "      border-radius: 50%;\n",
              "      cursor: pointer;\n",
              "      display: none;\n",
              "      fill: #1967D2;\n",
              "      height: 32px;\n",
              "      padding: 0 0 0 0;\n",
              "      width: 32px;\n",
              "    }\n",
              "\n",
              "    .colab-df-convert:hover {\n",
              "      background-color: #E2EBFA;\n",
              "      box-shadow: 0px 1px 2px rgba(60, 64, 67, 0.3), 0px 1px 3px 1px rgba(60, 64, 67, 0.15);\n",
              "      fill: #174EA6;\n",
              "    }\n",
              "\n",
              "    .colab-df-buttons div {\n",
              "      margin-bottom: 4px;\n",
              "    }\n",
              "\n",
              "    [theme=dark] .colab-df-convert {\n",
              "      background-color: #3B4455;\n",
              "      fill: #D2E3FC;\n",
              "    }\n",
              "\n",
              "    [theme=dark] .colab-df-convert:hover {\n",
              "      background-color: #434B5C;\n",
              "      box-shadow: 0px 1px 3px 1px rgba(0, 0, 0, 0.15);\n",
              "      filter: drop-shadow(0px 1px 2px rgba(0, 0, 0, 0.3));\n",
              "      fill: #FFFFFF;\n",
              "    }\n",
              "  </style>\n",
              "\n",
              "    <script>\n",
              "      const buttonEl =\n",
              "        document.querySelector('#df-f62f6b9e-97fe-43bc-9ee0-ec310faeeaa6 button.colab-df-convert');\n",
              "      buttonEl.style.display =\n",
              "        google.colab.kernel.accessAllowed ? 'block' : 'none';\n",
              "\n",
              "      async function convertToInteractive(key) {\n",
              "        const element = document.querySelector('#df-f62f6b9e-97fe-43bc-9ee0-ec310faeeaa6');\n",
              "        const dataTable =\n",
              "          await google.colab.kernel.invokeFunction('convertToInteractive',\n",
              "                                                    [key], {});\n",
              "        if (!dataTable) return;\n",
              "\n",
              "        const docLinkHtml = 'Like what you see? Visit the ' +\n",
              "          '<a target=\"_blank\" href=https://colab.research.google.com/notebooks/data_table.ipynb>data table notebook</a>'\n",
              "          + ' to learn more about interactive tables.';\n",
              "        element.innerHTML = '';\n",
              "        dataTable['output_type'] = 'display_data';\n",
              "        await google.colab.output.renderOutput(dataTable, element);\n",
              "        const docLink = document.createElement('div');\n",
              "        docLink.innerHTML = docLinkHtml;\n",
              "        element.appendChild(docLink);\n",
              "      }\n",
              "    </script>\n",
              "  </div>\n",
              "\n",
              "\n",
              "<div id=\"df-b711df15-168c-45ae-bfa8-1b579153e626\">\n",
              "  <button class=\"colab-df-quickchart\" onclick=\"quickchart('df-b711df15-168c-45ae-bfa8-1b579153e626')\"\n",
              "            title=\"Suggest charts\"\n",
              "            style=\"display:none;\">\n",
              "\n",
              "<svg xmlns=\"http://www.w3.org/2000/svg\" height=\"24px\"viewBox=\"0 0 24 24\"\n",
              "     width=\"24px\">\n",
              "    <g>\n",
              "        <path d=\"M19 3H5c-1.1 0-2 .9-2 2v14c0 1.1.9 2 2 2h14c1.1 0 2-.9 2-2V5c0-1.1-.9-2-2-2zM9 17H7v-7h2v7zm4 0h-2V7h2v10zm4 0h-2v-4h2v4z\"/>\n",
              "    </g>\n",
              "</svg>\n",
              "  </button>\n",
              "\n",
              "<style>\n",
              "  .colab-df-quickchart {\n",
              "      --bg-color: #E8F0FE;\n",
              "      --fill-color: #1967D2;\n",
              "      --hover-bg-color: #E2EBFA;\n",
              "      --hover-fill-color: #174EA6;\n",
              "      --disabled-fill-color: #AAA;\n",
              "      --disabled-bg-color: #DDD;\n",
              "  }\n",
              "\n",
              "  [theme=dark] .colab-df-quickchart {\n",
              "      --bg-color: #3B4455;\n",
              "      --fill-color: #D2E3FC;\n",
              "      --hover-bg-color: #434B5C;\n",
              "      --hover-fill-color: #FFFFFF;\n",
              "      --disabled-bg-color: #3B4455;\n",
              "      --disabled-fill-color: #666;\n",
              "  }\n",
              "\n",
              "  .colab-df-quickchart {\n",
              "    background-color: var(--bg-color);\n",
              "    border: none;\n",
              "    border-radius: 50%;\n",
              "    cursor: pointer;\n",
              "    display: none;\n",
              "    fill: var(--fill-color);\n",
              "    height: 32px;\n",
              "    padding: 0;\n",
              "    width: 32px;\n",
              "  }\n",
              "\n",
              "  .colab-df-quickchart:hover {\n",
              "    background-color: var(--hover-bg-color);\n",
              "    box-shadow: 0 1px 2px rgba(60, 64, 67, 0.3), 0 1px 3px 1px rgba(60, 64, 67, 0.15);\n",
              "    fill: var(--button-hover-fill-color);\n",
              "  }\n",
              "\n",
              "  .colab-df-quickchart-complete:disabled,\n",
              "  .colab-df-quickchart-complete:disabled:hover {\n",
              "    background-color: var(--disabled-bg-color);\n",
              "    fill: var(--disabled-fill-color);\n",
              "    box-shadow: none;\n",
              "  }\n",
              "\n",
              "  .colab-df-spinner {\n",
              "    border: 2px solid var(--fill-color);\n",
              "    border-color: transparent;\n",
              "    border-bottom-color: var(--fill-color);\n",
              "    animation:\n",
              "      spin 1s steps(1) infinite;\n",
              "  }\n",
              "\n",
              "  @keyframes spin {\n",
              "    0% {\n",
              "      border-color: transparent;\n",
              "      border-bottom-color: var(--fill-color);\n",
              "      border-left-color: var(--fill-color);\n",
              "    }\n",
              "    20% {\n",
              "      border-color: transparent;\n",
              "      border-left-color: var(--fill-color);\n",
              "      border-top-color: var(--fill-color);\n",
              "    }\n",
              "    30% {\n",
              "      border-color: transparent;\n",
              "      border-left-color: var(--fill-color);\n",
              "      border-top-color: var(--fill-color);\n",
              "      border-right-color: var(--fill-color);\n",
              "    }\n",
              "    40% {\n",
              "      border-color: transparent;\n",
              "      border-right-color: var(--fill-color);\n",
              "      border-top-color: var(--fill-color);\n",
              "    }\n",
              "    60% {\n",
              "      border-color: transparent;\n",
              "      border-right-color: var(--fill-color);\n",
              "    }\n",
              "    80% {\n",
              "      border-color: transparent;\n",
              "      border-right-color: var(--fill-color);\n",
              "      border-bottom-color: var(--fill-color);\n",
              "    }\n",
              "    90% {\n",
              "      border-color: transparent;\n",
              "      border-bottom-color: var(--fill-color);\n",
              "    }\n",
              "  }\n",
              "</style>\n",
              "\n",
              "  <script>\n",
              "    async function quickchart(key) {\n",
              "      const quickchartButtonEl =\n",
              "        document.querySelector('#' + key + ' button');\n",
              "      quickchartButtonEl.disabled = true;  // To prevent multiple clicks.\n",
              "      quickchartButtonEl.classList.add('colab-df-spinner');\n",
              "      try {\n",
              "        const charts = await google.colab.kernel.invokeFunction(\n",
              "            'suggestCharts', [key], {});\n",
              "      } catch (error) {\n",
              "        console.error('Error during call to suggestCharts:', error);\n",
              "      }\n",
              "      quickchartButtonEl.classList.remove('colab-df-spinner');\n",
              "      quickchartButtonEl.classList.add('colab-df-quickchart-complete');\n",
              "    }\n",
              "    (() => {\n",
              "      let quickchartButtonEl =\n",
              "        document.querySelector('#df-b711df15-168c-45ae-bfa8-1b579153e626 button');\n",
              "      quickchartButtonEl.style.display =\n",
              "        google.colab.kernel.accessAllowed ? 'block' : 'none';\n",
              "    })();\n",
              "  </script>\n",
              "</div>\n",
              "    </div>\n",
              "  </div>\n"
            ],
            "application/vnd.google.colaboratory.intrinsic+json": {
              "type": "dataframe",
              "variable_name": "raw_df",
              "summary": "{\n  \"name\": \"raw_df\",\n  \"rows\": 1012,\n  \"fields\": [\n    {\n      \"column\": 0,\n      \"properties\": {\n        \"dtype\": \"number\",\n        \"std\": 188.13283937823942,\n        \"min\": 0.00632,\n        \"max\": 396.9,\n        \"num_unique_values\": 861,\n        \"samples\": [\n          7.02259,\n          0.10659,\n          376.94\n        ],\n        \"semantic_type\": \"\",\n        \"description\": \"\"\n      }\n    },\n    {\n      \"column\": 1,\n      \"properties\": {\n        \"dtype\": \"number\",\n        \"std\": 17.250728213077664,\n        \"min\": 0.0,\n        \"max\": 100.0,\n        \"num_unique_values\": 480,\n        \"samples\": [\n          17.5,\n          17.64,\n          12.13\n        ],\n        \"semantic_type\": \"\",\n        \"description\": \"\"\n      }\n    },\n    {\n      \"column\": 2,\n      \"properties\": {\n        \"dtype\": \"number\",\n        \"std\": 9.912615669583948,\n        \"min\": 0.46,\n        \"max\": 50.0,\n        \"num_unique_values\": 304,\n        \"samples\": [\n          30.1,\n          29.8,\n          17.3\n        ],\n        \"semantic_type\": \"\",\n        \"description\": \"\"\n      }\n    },\n    {\n      \"column\": 3,\n      \"properties\": {\n        \"dtype\": \"number\",\n        \"std\": 0.25399404134041037,\n        \"min\": 0.0,\n        \"max\": 1.0,\n        \"num_unique_values\": 2,\n        \"samples\": [\n          1.0,\n          0.0\n        ],\n        \"semantic_type\": \"\",\n        \"description\": \"\"\n      }\n    },\n    {\n      \"column\": 4,\n      \"properties\": {\n        \"dtype\": \"number\",\n        \"std\": 0.11587767566755595,\n        \"min\": 0.385,\n        \"max\": 0.871,\n        \"num_unique_values\": 81,\n        \"samples\": [\n          0.401,\n          0.538\n        ],\n        \"semantic_type\": \"\",\n        \"description\": \"\"\n      }\n    },\n    {\n      \"column\": 5,\n      \"properties\": {\n        \"dtype\": \"number\",\n        \"std\": 0.7026171434153233,\n        \"min\": 3.561,\n        \"max\": 8.78,\n        \"num_unique_values\": 446,\n        \"samples\": [\n          6.849,\n          4.88\n        ],\n        \"semantic_type\": \"\",\n        \"description\": \"\"\n      }\n    },\n    {\n      \"column\": 6,\n      \"properties\": {\n        \"dtype\": \"number\",\n        \"std\": 28.148861406903617,\n        \"min\": 2.9,\n        \"max\": 100.0,\n        \"num_unique_values\": 356,\n        \"samples\": [\n          51.8,\n          33.8\n        ],\n        \"semantic_type\": \"\",\n        \"description\": \"\"\n      }\n    },\n    {\n      \"column\": 7,\n      \"properties\": {\n        \"dtype\": \"number\",\n        \"std\": 2.105710126627611,\n        \"min\": 1.1296,\n        \"max\": 12.1265,\n        \"num_unique_values\": 412,\n        \"samples\": [\n          2.2955,\n          4.2515\n        ],\n        \"semantic_type\": \"\",\n        \"description\": \"\"\n      }\n    },\n    {\n      \"column\": 8,\n      \"properties\": {\n        \"dtype\": \"number\",\n        \"std\": 8.707259384239366,\n        \"min\": 1.0,\n        \"max\": 24.0,\n        \"num_unique_values\": 9,\n        \"samples\": [\n          7.0,\n          2.0\n        ],\n        \"semantic_type\": \"\",\n        \"description\": \"\"\n      }\n    },\n    {\n      \"column\": 9,\n      \"properties\": {\n        \"dtype\": \"number\",\n        \"std\": 168.53711605495903,\n        \"min\": 187.0,\n        \"max\": 711.0,\n        \"num_unique_values\": 66,\n        \"samples\": [\n          370.0,\n          666.0\n        ],\n        \"semantic_type\": \"\",\n        \"description\": \"\"\n      }\n    },\n    {\n      \"column\": 10,\n      \"properties\": {\n        \"dtype\": \"number\",\n        \"std\": 2.1649455237144406,\n        \"min\": 12.6,\n        \"max\": 22.0,\n        \"num_unique_values\": 46,\n        \"samples\": [\n          19.6,\n          15.6\n        ],\n        \"semantic_type\": \"\",\n        \"description\": \"\"\n      }\n    }\n  ]\n}"
            }
          },
          "metadata": {},
          "execution_count": 4
        }
      ]
    },
    {
      "cell_type": "code",
      "metadata": {
        "id": "30f1bf96-9331-4348-9c62-e4ba53ce62d6"
      },
      "outputs": [],
      "source": [
        "np.random.seed(72018)\n",
        "\n",
        "\n",
        "\n",
        "def to_2d(array):\n",
        "    return array.reshape(array.shape[0], -1)\n",
        "\n",
        "\n",
        "\n",
        "def plot_exponential_data():\n",
        "    data = np.exp(np.random.normal(size=1000))\n",
        "    plt.hist(data)\n",
        "    plt.show()\n",
        "    return data\n",
        "\n",
        "def plot_square_normal_data():\n",
        "    data = np.square(np.random.normal(loc=5, size=1000))\n",
        "    plt.hist(data)\n",
        "    plt.show()\n",
        "    return data"
      ],
      "execution_count": 5
    },
    {
      "cell_type": "markdown",
      "metadata": {
        "id": "4f196e15-f14b-49f1-88fb-94cb9548838b"
      },
      "source": [
        "### Loading in Boston Data\n"
      ]
    },
    {
      "cell_type": "markdown",
      "metadata": {
        "id": "e19cb6fe-fbfe-4c10-b495-0eb16d5acdbc"
      },
      "source": [
        "## Data standardization\n"
      ]
    },
    {
      "cell_type": "markdown",
      "metadata": {
        "id": "496d0e94-7cca-4fd2-9000-e84feb37098b"
      },
      "source": [
        "**Standardizing** data refers to transforming each variable so that it more closely follows a **standard** normal distribution, with mean 0 and standard deviation 1.\n",
        "\n",
        "The [`StandardScaler`](http://scikit-learn.org/dev/modules/generated/sklearn.preprocessing.StandardScaler.html?utm_medium=Exinfluencer&utm_source=Exinfluencer&utm_content=000026UJ&utm_term=10006555&utm_id=NA-SkillsNetwork-Channel-SkillsNetworkCoursesIBMML240ENSkillsNetwork34171862-2022-01-01#sklearn.preprocessing.StandardScaler) object in SciKit Learn can do this.\n"
      ]
    },
    {
      "cell_type": "markdown",
      "metadata": {
        "id": "f6a42c6a-d69c-44fc-be96-04e5519eb31e"
      },
      "source": [
        "**Generate X and y**:\n"
      ]
    },
    {
      "cell_type": "code",
      "metadata": {
        "colab": {
          "base_uri": "https://localhost:8080/",
          "height": 193
        },
        "id": "0598d5c4-4a3d-4dfb-979f-2f7097b44a90",
        "outputId": "0da1ed98-899b-4a81-c08c-6f045799761b"
      },
      "outputs": [
        {
          "output_type": "error",
          "ename": "AttributeError",
          "evalue": "'numpy.ndarray' object has no attribute 'drop'",
          "traceback": [
            "\u001b[0;31m---------------------------------------------------------------------------\u001b[0m",
            "\u001b[0;31mAttributeError\u001b[0m                            Traceback (most recent call last)",
            "\u001b[0;32m<ipython-input-8-ffe0ca1a1bab>\u001b[0m in \u001b[0;36m<cell line: 3>\u001b[0;34m()\u001b[0m\n\u001b[1;32m      1\u001b[0m \u001b[0my_col\u001b[0m \u001b[0;34m=\u001b[0m \u001b[0;34m\"MEDV\"\u001b[0m\u001b[0;34m\u001b[0m\u001b[0;34m\u001b[0m\u001b[0m\n\u001b[1;32m      2\u001b[0m \u001b[0;34m\u001b[0m\u001b[0m\n\u001b[0;32m----> 3\u001b[0;31m \u001b[0mX\u001b[0m \u001b[0;34m=\u001b[0m \u001b[0mdata\u001b[0m\u001b[0;34m.\u001b[0m\u001b[0mdrop\u001b[0m\u001b[0;34m(\u001b[0m\u001b[0my_col\u001b[0m\u001b[0;34m,\u001b[0m \u001b[0maxis\u001b[0m\u001b[0;34m=\u001b[0m\u001b[0;36m1\u001b[0m\u001b[0;34m)\u001b[0m\u001b[0;34m\u001b[0m\u001b[0;34m\u001b[0m\u001b[0m\n\u001b[0m\u001b[1;32m      4\u001b[0m \u001b[0my\u001b[0m \u001b[0;34m=\u001b[0m \u001b[0mdata\u001b[0m\u001b[0;34m[\u001b[0m\u001b[0my_col\u001b[0m\u001b[0;34m]\u001b[0m\u001b[0;34m\u001b[0m\u001b[0;34m\u001b[0m\u001b[0m\n",
            "\u001b[0;31mAttributeError\u001b[0m: 'numpy.ndarray' object has no attribute 'drop'"
          ]
        }
      ],
      "source": [
        "y_col = \"MEDV\"\n",
        "\n",
        "X = data.drop(y_col, axis=1)\n",
        "y = data[y_col]"
      ],
      "execution_count": 8
    },
    {
      "cell_type": "markdown",
      "metadata": {
        "id": "aefa6886-907d-4a70-8178-c840447a28c6"
      },
      "source": [
        "**Import, fit, and transform using `StandardScaler`**\n"
      ]
    },
    {
      "cell_type": "code",
      "metadata": {
        "id": "d73ac272-c7df-4a0c-9d4d-7e9fcf2d1368"
      },
      "outputs": [],
      "source": [
        "from sklearn.preprocessing import StandardScaler\n",
        "\n",
        "s = StandardScaler()\n",
        "X_ss = s.fit_transform(X)"
      ],
      "execution_count": null
    },
    {
      "cell_type": "markdown",
      "metadata": {
        "id": "c1604dce-b1ff-4b77-a9c9-dc70b11b9a05"
      },
      "source": [
        "### Exercise:\n",
        "\n",
        "Confirm standard scaling\n"
      ]
    },
    {
      "cell_type": "code",
      "metadata": {
        "id": "f841a0b6-839a-4127-ac55-8d0811dc67fd"
      },
      "outputs": [],
      "source": [
        "#Hint:\n",
        "\n",
        "a = np.array([[1, 2, 3],\n",
        "              [4, 5, 6]])\n",
        "print(a) # 2 rows, 3 columns"
      ],
      "execution_count": null
    },
    {
      "cell_type": "code",
      "metadata": {
        "id": "b9fd9f79-b58d-48f7-966f-64f552107f9f"
      },
      "outputs": [],
      "source": [
        "a.mean(axis=0) # mean along the *columns*"
      ],
      "execution_count": null
    },
    {
      "cell_type": "code",
      "metadata": {
        "id": "6fe8c8a5-55c9-432c-878b-bc17234cdade"
      },
      "outputs": [],
      "source": [
        "a.mean(axis=1) # mean along the *rows*"
      ],
      "execution_count": null
    },
    {
      "cell_type": "code",
      "metadata": {
        "id": "9f8e93b8-482a-4db8-ac60-31f2776014f5"
      },
      "outputs": [],
      "source": [
        "### BEGIN SOLUTION\n",
        "X2 = np.array(X)\n",
        "man_transform = (X2-X2.mean(axis=0))/X2.std(axis=0)\n",
        "np.allclose(man_transform, X_ss)\n",
        "### END SOLUTION"
      ],
      "execution_count": null
    },
    {
      "cell_type": "markdown",
      "metadata": {
        "id": "fa4a12f7-1947-4bb5-a3df-483b50faa40a"
      },
      "source": [
        "### Coefficients with and without scaling\n"
      ]
    },
    {
      "cell_type": "code",
      "metadata": {
        "id": "84451738-9ed6-46ad-84da-8786ab46d5b3"
      },
      "outputs": [],
      "source": [
        "from sklearn.linear_model import LinearRegression"
      ],
      "execution_count": null
    },
    {
      "cell_type": "code",
      "metadata": {
        "id": "5736bf30-9f01-4e99-9692-83ce4ff621ad"
      },
      "outputs": [],
      "source": [
        "lr = LinearRegression()\n",
        "\n",
        "y_col = \"MEDV\"\n",
        "\n",
        "X = boston_data.drop(y_col, axis=1)\n",
        "y = boston_data[y_col]"
      ],
      "execution_count": null
    },
    {
      "cell_type": "code",
      "metadata": {
        "id": "182d4ce6-2aa7-4783-b184-3fa160e8899b"
      },
      "outputs": [],
      "source": [
        "lr.fit(X, y)\n",
        "print(lr.coef_) # min = -18"
      ],
      "execution_count": null
    },
    {
      "cell_type": "markdown",
      "metadata": {
        "id": "5ccc896b-5da8-443a-b91d-2a26c54f2b52"
      },
      "source": [
        "#### Discussion (together):\n",
        "\n",
        "The coefficients are on widely different scales. Is this \"bad\"?\n"
      ]
    },
    {
      "cell_type": "code",
      "metadata": {
        "id": "07a98b21-7da8-4021-a794-9f74f9f7af42"
      },
      "outputs": [],
      "source": [
        "from sklearn.preprocessing import StandardScaler"
      ],
      "execution_count": null
    },
    {
      "cell_type": "code",
      "metadata": {
        "id": "a1dc2bfb-944f-454b-9b4a-3832b48a8d8c"
      },
      "outputs": [],
      "source": [
        "s = StandardScaler()\n",
        "X_ss = s.fit_transform(X)"
      ],
      "execution_count": null
    },
    {
      "cell_type": "code",
      "metadata": {
        "id": "8c4b82a5-4ddf-435e-837e-f8e263b37e13"
      },
      "outputs": [],
      "source": [
        "lr2 = LinearRegression()\n",
        "lr2.fit(X_ss, y)\n",
        "print(lr2.coef_) # coefficients now \"on the same scale\""
      ],
      "execution_count": null
    },
    {
      "cell_type": "markdown",
      "metadata": {
        "id": "55b721c5-009b-44d4-a7f7-148588317202"
      },
      "source": [
        "### Exercise:\n",
        "\n",
        "Based on these results, what is the most \"impactful\" feature (this is intended to be slightly ambiguous)? \"In what direction\" does it affect \"y\"?\n",
        "\n",
        "**Hint:** Recall from last week that we can \"zip up\" the names of the features of a DataFrame `df` with a model `model` fitted on that DataFrame using:\n",
        "\n",
        "```python\n",
        "dict(zip(df.columns.values, model.coef_))\n",
        "```\n"
      ]
    },
    {
      "cell_type": "code",
      "metadata": {
        "id": "2d20f650-ecde-40d7-a6fd-66b408912205"
      },
      "outputs": [],
      "source": [
        "### BEGIN SOLUTION\n",
        "pd.DataFrame(zip(X.columns, lr2.coef_)).sort_values(by=1)\n",
        "### END SOLUTION"
      ],
      "execution_count": null
    },
    {
      "cell_type": "markdown",
      "metadata": {
        "id": "ea8c5df3-9898-4e84-9cce-9cfbc8f2c1ec"
      },
      "source": [
        "Looking just at the strength of the standardized coefficients LSTAT, DIS, RM and RAD are all the 'most impactful'. Sklearn does not have built in statistical signifigance of each of these variables which would aid in making this claim stronger/weaker\n"
      ]
    },
    {
      "cell_type": "markdown",
      "metadata": {
        "id": "fb31ed81-5ba3-4df3-9f12-ae0e6e997573"
      },
      "source": [
        "### Lasso with and without scaling\n"
      ]
    },
    {
      "cell_type": "markdown",
      "metadata": {
        "id": "dd186738-765c-4dec-b194-5b5e8568ee91"
      },
      "source": [
        "We discussed Lasso in lecture.\n",
        "\n",
        "Let's review together:\n",
        "\n",
        "1.  What is different about Lasso vs. regular Linear Regression?\n",
        "2.  Is standardization more or less important with Lasso vs. Linear Regression? Why?\n"
      ]
    },
    {
      "cell_type": "code",
      "metadata": {
        "id": "bad0a938-b39d-4f98-a6a6-0c0e6b6f87a2"
      },
      "outputs": [],
      "source": [
        "from sklearn.linear_model import Lasso\n",
        "from sklearn.preprocessing import PolynomialFeatures"
      ],
      "execution_count": null
    },
    {
      "cell_type": "markdown",
      "metadata": {
        "id": "d9593e64-ec57-4f68-9b0a-d7f71340fd5d"
      },
      "source": [
        "#### Create polynomial features\n"
      ]
    },
    {
      "cell_type": "markdown",
      "metadata": {
        "id": "3d763b0b-6dac-44fc-b7fd-78595278fa9d"
      },
      "source": [
        "[`PolynomialFeatures`](http://scikit-learn.org/stable/modules/generated/sklearn.preprocessing.PolynomialFeatures.html?utm_medium=Exinfluencer&utm_source=Exinfluencer&utm_content=000026UJ&utm_term=10006555&utm_id=NA-SkillsNetwork-Channel-SkillsNetworkCoursesIBMML240ENSkillsNetwork34171862-2022-01-01)\n"
      ]
    },
    {
      "cell_type": "code",
      "metadata": {
        "id": "8250cb65-1fc3-4c37-a14a-29764ef3fbe3"
      },
      "outputs": [],
      "source": [
        "pf = PolynomialFeatures(degree=2, include_bias=False,)\n",
        "X_pf = pf.fit_transform(X)"
      ],
      "execution_count": null
    },
    {
      "cell_type": "markdown",
      "metadata": {
        "id": "8182776b-911a-4566-b4b9-3181ef6962db"
      },
      "source": [
        "**Note:** We use `include_bias=False` since `Lasso` includes a bias by default.\n"
      ]
    },
    {
      "cell_type": "code",
      "metadata": {
        "id": "c6997cfd-29f0-4eb2-ac6d-87c133f016e3"
      },
      "outputs": [],
      "source": [
        "X_pf_ss = s.fit_transform(X_pf)"
      ],
      "execution_count": null
    },
    {
      "cell_type": "markdown",
      "metadata": {
        "id": "71cba6c1-37b8-4017-9fda-7f6ba41bf7f9"
      },
      "source": [
        "### Lasso\n"
      ]
    },
    {
      "cell_type": "markdown",
      "metadata": {
        "id": "67bb1672-c500-454f-a97c-b4a02ae6e4ac"
      },
      "source": [
        "[`Lasso` documentation](http://scikit-learn.org/stable/modules/generated/sklearn.linear_model.Lasso.html?utm_medium=Exinfluencer&utm_source=Exinfluencer&utm_content=000026UJ&utm_term=10006555&utm_id=NA-SkillsNetwork-Channel-SkillsNetworkCoursesIBMML240ENSkillsNetwork34171862-2022-01-01)\n"
      ]
    },
    {
      "cell_type": "code",
      "metadata": {
        "id": "de2316f5-5263-4fac-919b-b3c4cfac685d"
      },
      "outputs": [],
      "source": [
        "las = Lasso()\n",
        "las.fit(X_pf_ss, y)\n",
        "las.coef_"
      ],
      "execution_count": null
    },
    {
      "cell_type": "markdown",
      "metadata": {
        "id": "b5de8662-72c0-483b-83b3-9bbae4da4c32"
      },
      "source": [
        "### Exercise\n",
        "\n",
        "Compare\n",
        "\n",
        "*   Sum of magnitudes of the coefficients\n",
        "*   Number of coefficients that are zero\n",
        "\n",
        "for Lasso with alpha 0.1 vs. 1.\n",
        "\n",
        "Before doing the exercise, answer the following questions in one sentence each:\n",
        "\n",
        "*   Which do you expect to have greater magnitude?\n",
        "*   Which do you expect to have more zeros?\n"
      ]
    },
    {
      "cell_type": "code",
      "metadata": {
        "id": "0343e18f-cde6-4a08-ba9d-45fdad3b1cd3"
      },
      "outputs": [],
      "source": [
        "### BEGIN SOLUTION\n",
        "las01 = Lasso(alpha = 0.1)\n",
        "las01.fit(X_pf_ss, y)\n",
        "print('sum of coefficients:', abs(las01.coef_).sum() )\n",
        "print('number of coefficients not equal to 0:', (las01.coef_!=0).sum())"
      ],
      "execution_count": null
    },
    {
      "cell_type": "code",
      "metadata": {
        "id": "051aa288-38b5-47ff-8db9-ae292f428378"
      },
      "outputs": [],
      "source": [
        "las1 = Lasso(alpha = 1)\n",
        "las1.fit(X_pf_ss, y)\n",
        "print('sum of coefficients:',abs(las1.coef_).sum() )\n",
        "print('number of coefficients not equal to 0:',(las1.coef_!=0).sum())\n",
        "### END SOLUTION"
      ],
      "execution_count": null
    },
    {
      "cell_type": "markdown",
      "metadata": {
        "id": "aed2fc5d-3f1e-4afa-ae12-93cdb044ef57"
      },
      "source": [
        "With more regularization (higher alpha) we will expect the penalty for higher weights to be greater and thus the coefficients to be pushed down. Thus a higher alpha means lower magnitude with more coefficients pushed down to 0.\n"
      ]
    },
    {
      "cell_type": "markdown",
      "metadata": {
        "id": "8b002987-b19a-410a-9afb-da53809fdef1"
      },
      "source": [
        "### Exercise: $R^2$\n"
      ]
    },
    {
      "cell_type": "markdown",
      "metadata": {
        "id": "5052d5b4-667c-48f6-b7bc-ebfef615eda2"
      },
      "source": [
        "Calculate the $R^2$ of each model without train/test split.\n",
        "\n",
        "Recall that we import $R^2$ using:\n",
        "\n",
        "```python\n",
        "from sklearn.metrics import r2_score\n",
        "```\n"
      ]
    },
    {
      "cell_type": "code",
      "metadata": {
        "id": "9febef84-1cff-4996-a21d-a7e6cfa023ca"
      },
      "outputs": [],
      "source": [
        "### BEGIN SOLUTION\n",
        "from sklearn.metrics import r2_score\n",
        "r2_score(y,las.predict(X_pf_ss))\n",
        "### END SOLUTION"
      ],
      "execution_count": null
    },
    {
      "cell_type": "markdown",
      "metadata": {
        "id": "9010c8a3-3a6e-4af3-982e-1cd2c7ad79a1"
      },
      "source": [
        "#### Discuss:\n",
        "\n",
        "Will regularization ever increase model performance if we evaluate on the same dataset that we trained on?\n"
      ]
    },
    {
      "cell_type": "markdown",
      "metadata": {
        "id": "8c12e3cd-6723-4ba9-92fc-7f3a4617bd89"
      },
      "source": [
        "## With train/test split\n"
      ]
    },
    {
      "cell_type": "markdown",
      "metadata": {
        "id": "5205c1ea-6d1a-4722-9a3a-ffab3ddfe7ae"
      },
      "source": [
        "#### Discuss\n",
        "\n",
        "Are there any issues with what we've done so far?\n",
        "\n",
        "**Hint:** Think about the way we have done feature scaling.\n",
        "\n",
        "Discuss in groups of two or three.\n"
      ]
    },
    {
      "cell_type": "code",
      "metadata": {
        "id": "ee16b049-66a3-422d-899a-ec8cea964bc0"
      },
      "outputs": [],
      "source": [
        "from sklearn.model_selection import train_test_split"
      ],
      "execution_count": null
    },
    {
      "cell_type": "code",
      "metadata": {
        "id": "8200d758-9d84-4ee8-95e6-830067b2e750"
      },
      "outputs": [],
      "source": [
        "X_train, X_test, y_train, y_test = train_test_split(X_pf, y, test_size=0.3,\n",
        "                                                    random_state=72018)"
      ],
      "execution_count": null
    },
    {
      "cell_type": "code",
      "metadata": {
        "id": "c6d1c461-74e3-438c-84f3-b3ff487bf82e"
      },
      "outputs": [],
      "source": [
        "X_train_s = s.fit_transform(X_train)\n",
        "las.fit(X_train_s, y_train)\n",
        "X_test_s = s.transform(X_test)\n",
        "y_pred = las.predict(X_test_s)\n",
        "r2_score(y_test, y_pred)"
      ],
      "execution_count": null
    },
    {
      "cell_type": "code",
      "metadata": {
        "id": "aa64bb3b-d4d9-487a-a7bb-83803de97375"
      },
      "outputs": [],
      "source": [
        "X_train_s = s.fit_transform(X_train)\n",
        "las01.fit(X_train_s, y_train)\n",
        "X_test_s = s.transform(X_test)\n",
        "y_pred = las01.predict(X_test_s)\n",
        "r2_score(y_test, y_pred)"
      ],
      "execution_count": null
    },
    {
      "cell_type": "markdown",
      "metadata": {
        "id": "7aae48a6-db27-4545-bfba-6f54364d8070"
      },
      "source": [
        "### Exercise\n",
        "\n",
        "#### Part 1:\n",
        "\n",
        "Do the same thing with Lasso of:\n",
        "\n",
        "*   `alpha` of 0.001\n",
        "*   Increase `max_iter` to 100000 to ensure convergence.\n",
        "\n",
        "Calculate the $R^2$ of the model.\n",
        "\n",
        "Feel free to copy-paste code from above, but write a one sentence comment above each line of code explaining why you're doing what you're doing.\n",
        "\n",
        "#### Part 2:\n",
        "\n",
        "Do the same procedure as before, but with Linear Regression.\n",
        "\n",
        "Calculate the $R^2$ of this model.\n",
        "\n",
        "#### Part 3:\n",
        "\n",
        "Compare the sums of the absolute values of the coefficients for both models, as well as the number of coefficients that are zero. Based on these measures, which model is a \"simpler\" description of the relationship between the features and the target?\n"
      ]
    },
    {
      "cell_type": "code",
      "metadata": {
        "id": "1ddb7c90-72ef-40a3-96ec-9277b8206f9d"
      },
      "outputs": [],
      "source": [
        "### BEGIN SOLUTION\n",
        "\n",
        "# Part 1\n",
        "\n",
        "# Decreasing regularization and ensuring convergence\n",
        "las001 = Lasso(alpha = 0.001, max_iter=100000)\n",
        "\n",
        "# Transforming training set to get standardized units\n",
        "X_train_s = s.fit_transform(X_train)\n",
        "\n",
        "# Fitting model to training set\n",
        "las001.fit(X_train_s, y_train)\n",
        "\n",
        "# Transforming test set using the parameters defined from training set\n",
        "X_test_s = s.transform(X_test)\n",
        "\n",
        "# Finding prediction on test set\n",
        "y_pred = las001.predict(X_test_s)\n",
        "\n",
        "# Calculating r2 score\n",
        "print(\"r2 score for alpha = 0.001:\", r2_score(y_test, y_pred))\n",
        "\n",
        "\n",
        "# Part 2\n",
        "\n",
        "# Using vanilla Linear Regression\n",
        "lr = LinearRegression()\n",
        "\n",
        "# Fitting model to training set\n",
        "lr.fit(X_train_s, y_train)\n",
        "\n",
        "# predicting on test set\n",
        "y_pred_lr = lr.predict(X_test_s)\n",
        "\n",
        "# Calculating r2 score\n",
        "print(\"r2 score for Linear Regression:\", r2_score(y_test,y_pred_lr))\n",
        "\n",
        "\n",
        "# Part 3\n",
        "print('Magnitude of Lasso coefficients:', abs(las001.coef_).sum())\n",
        "print('Number of coeffients not equal to 0 for Lasso:', (las001.coef_!=0).sum())\n",
        "\n",
        "print('Magnitude of Linear Regression coefficients:', abs(lr.coef_).sum())\n",
        "print('Number of coeffients not equal to 0 for Linear Regression:', (lr.coef_!=0).sum())\n",
        "### END SOLUTION"
      ],
      "execution_count": null
    },
    {
      "cell_type": "markdown",
      "metadata": {
        "id": "6e69e542-8e4c-4945-9e55-476110fc3b77"
      },
      "source": [
        "## L1 vs. L2 Regularization\n"
      ]
    },
    {
      "cell_type": "markdown",
      "metadata": {
        "id": "c35df3ef-5d70-4444-af7c-8f67a91fd7fa"
      },
      "source": [
        "As mentioned in the deck: `Lasso` and `Ridge` regression have the same syntax in SciKit Learn.\n",
        "\n",
        "Now we're going to compare the results from Ridge vs. Lasso regression:\n"
      ]
    },
    {
      "cell_type": "markdown",
      "metadata": {
        "id": "90a8d2be-f652-4e57-9e03-bbbbd150410c"
      },
      "source": [
        "[`Ridge`](http://scikit-learn.org/stable/modules/generated/sklearn.linear_model.Ridge.html?utm_medium=Exinfluencer&utm_source=Exinfluencer&utm_content=000026UJ&utm_term=10006555&utm_id=NA-SkillsNetwork-Channel-SkillsNetworkCoursesIBMML240ENSkillsNetwork34171862-2022-01-01)\n"
      ]
    },
    {
      "cell_type": "code",
      "metadata": {
        "id": "afa68832-c870-4773-96a4-9b087e482642"
      },
      "outputs": [],
      "source": [
        "from sklearn.linear_model import Ridge"
      ],
      "execution_count": null
    },
    {
      "cell_type": "markdown",
      "metadata": {
        "id": "8ef1eb8f-4311-4c99-ac12-357ab6685d26"
      },
      "source": [
        "### Exercise\n",
        "\n",
        "Following the Ridge documentation from above:\n",
        "\n",
        "1.  Define a Ridge object `r` with the same `alpha` as `las001`.\n",
        "2.  Fit that object on `X` and `y` and print out the resulting coefficients.\n"
      ]
    },
    {
      "cell_type": "code",
      "metadata": {
        "id": "8941bf06-f81e-44c5-97db-ae1032cafc3d"
      },
      "outputs": [],
      "source": [
        "### BEGIN SOLUTION\n",
        "# Decreasing regularization and ensuring convergence\n",
        "r = Ridge(alpha = 0.001)\n",
        "X_train_s = s.fit_transform(X_train)\n",
        "r.fit(X_train_s, y_train)\n",
        "X_test_s = s.transform(X_test)\n",
        "y_pred_r = r.predict(X_test_s)\n",
        "\n",
        "# Calculating r2 score\n",
        "r.coef_\n",
        "### END SOLUTION"
      ],
      "execution_count": null
    },
    {
      "cell_type": "code",
      "metadata": {
        "id": "3143b67c-b12a-4c7e-8e91-455466f9bc9c"
      },
      "outputs": [],
      "source": [
        "las001 # same alpha as Ridge above"
      ],
      "execution_count": null
    },
    {
      "cell_type": "code",
      "metadata": {
        "id": "f646ace2-9f62-4fcb-b758-930552376fe4"
      },
      "outputs": [],
      "source": [
        "las001.coef_"
      ],
      "execution_count": null
    },
    {
      "cell_type": "code",
      "metadata": {
        "id": "08992b1a-a09a-4022-a560-cb0df31445d1"
      },
      "outputs": [],
      "source": [
        "print(np.sum(np.abs(r.coef_)))\n",
        "print(np.sum(np.abs(las001.coef_)))\n",
        "\n",
        "print(np.sum(r.coef_ != 0))\n",
        "print(np.sum(las001.coef_ != 0))"
      ],
      "execution_count": null
    },
    {
      "cell_type": "markdown",
      "metadata": {
        "id": "c781f553-a018-42cf-967b-985f256686cf"
      },
      "source": [
        "**Conclusion:** Ridge does not make any coefficients 0. In addition, on this particular dataset, Lasso provides stronger overall regularization than Ridge for this value of `alpha` (not necessarily true in general).\n"
      ]
    },
    {
      "cell_type": "code",
      "metadata": {
        "id": "65b725b9-b4ae-43d2-9963-30bd8fa95fd5"
      },
      "outputs": [],
      "source": [
        "y_pred = r.predict(X_pf_ss)\n",
        "print(r2_score(y, y_pred))\n",
        "\n",
        "y_pred = las001.predict(X_pf_ss)\n",
        "print(r2_score(y, y_pred))"
      ],
      "execution_count": null
    },
    {
      "cell_type": "markdown",
      "metadata": {
        "id": "61aeddad-f174-4ec2-bde0-b30eee6059e1"
      },
      "source": [
        "**Conclusion**: Ignoring issues of overfitting, Ridge does slightly better than Lasso when `alpha` is set to 0.001 for each (not necessarily true in general).\n"
      ]
    },
    {
      "cell_type": "markdown",
      "metadata": {
        "id": "1077238d-ab0e-4cf2-a667-139622264381"
      },
      "source": [
        "# Example: Does it matter when you scale?\n"
      ]
    },
    {
      "cell_type": "code",
      "metadata": {
        "id": "2e0dcd01-bf57-4b94-9ce2-ff296bcf5d98"
      },
      "outputs": [],
      "source": [
        "X_train, X_test, y_train, y_test = train_test_split(X_ss, y, test_size=0.3,\n",
        "                                                    random_state=72018)"
      ],
      "execution_count": null
    },
    {
      "cell_type": "code",
      "metadata": {
        "id": "94f69880-043f-43ec-8e5b-560bbf3b620c"
      },
      "outputs": [],
      "source": [
        "lr = LinearRegression()\n",
        "lr.fit(X_train, y_train)\n",
        "y_pred = lr.predict(X_test)\n",
        "r2_score(y_test, y_pred)"
      ],
      "execution_count": null
    },
    {
      "cell_type": "code",
      "metadata": {
        "id": "68912466-5131-49da-bc9d-7d6e281be1f9"
      },
      "outputs": [],
      "source": [
        "X_train, X_test, y_train, y_test = train_test_split(X, y, test_size=0.3,\n",
        "                                                    random_state=72018)"
      ],
      "execution_count": null
    },
    {
      "cell_type": "code",
      "metadata": {
        "id": "2a7f5a20-15e5-473c-afed-35db318630c0"
      },
      "outputs": [],
      "source": [
        "s = StandardScaler()\n",
        "lr_s = LinearRegression()\n",
        "X_train_s = s.fit_transform(X_train)\n",
        "lr_s.fit(X_train_s, y_train)\n",
        "X_test_s = s.transform(X_test)\n",
        "y_pred_s = lr_s.predict(X_test_s)\n",
        "r2_score(y_test, y_pred)"
      ],
      "execution_count": null
    },
    {
      "cell_type": "markdown",
      "metadata": {
        "id": "cedb9ac1-1dbe-4bd4-a8fb-9b464fa1dea2"
      },
      "source": [
        "**Conclusion:** It doesn't matter whether you scale before or afterwards, in terms of the raw predictions, for Linear Regression. However, it matters for other algorithms. Plus, as we'll see later, we can make scaling part of a `Pipeline`.\n"
      ]
    },
    {
      "cell_type": "markdown",
      "metadata": {
        "id": "19c1985e-27b1-446b-9e21-fb69db8d4af5"
      },
      "source": [
        "***\n",
        "\n",
        "### Machine Learning Foundation (C) 2020 IBM Corporation\n"
      ]
    }
  ],
  "metadata": {
    "kernelspec": {
      "name": "python",
      "display_name": "Python (Pyodide)",
      "language": "python"
    },
    "language_info": {
      "codemirror_mode": {
        "name": "python",
        "version": 3
      },
      "file_extension": ".py",
      "mimetype": "text/x-python",
      "name": "python",
      "nbconvert_exporter": "python",
      "pygments_lexer": "ipython3",
      "version": "3.8"
    },
    "prev_pub_hash": "4a699689ee3af23b03232f8daf921575c4299c1174ad5e79bf87b846e12818cf",
    "colab": {
      "provenance": [],
      "include_colab_link": true
    }
  },
  "nbformat": 4,
  "nbformat_minor": 0
}